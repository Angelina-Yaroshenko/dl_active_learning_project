{
 "cells": [
  {
   "cell_type": "code",
   "execution_count": 2,
   "metadata": {},
   "outputs": [],
   "source": [
    "# TODO:\n",
    "# 1. Update bert\n",
    "# 2. add crf on the top\n",
    "# +3. calculate probability of a sequence\n",
    "# 4. Try CRF with features from ACL paper\n",
    "# 5. Try other dataset (CONLL-2003, OntonNotes 5.0)\n",
    "# 6. Try poked BERT\n",
    "# 7. Draw plots for CAD, HYP, DIABETES\n",
    "# 8. Try document-level annotations\n",
    "# 9. Create Bi-LSTM CRF baseline using Flair\n",
    "# 10. Разобраться с тем как оценивали участники результаты на проверочном корпусе \n",
    "\n",
    "# 11. Take small amount of unannotated data, build dictionary and try to outperform the dictionary baseline\n",
    "# 12. Show that language models are super cool for active learning since you can use just a shallow architecture for training (faster)\n",
    "# 13. Just show that bert kills old baselines.\n",
    "# 14. Unlexicalized BERT for active learning\n",
    "# 15. Propose an self-attention network for tagging and show it is better than LSTM\n",
    "# 16. New variants of ranking procedure. Most uncertain among those that get positive labels. Most uncertain among tokens that have positive labels.\n",
    "\n",
    "# Calculate % of data by using number of tokens."
   ]
  },
  {
   "cell_type": "code",
   "execution_count": null,
   "metadata": {},
   "outputs": [],
   "source": [
    "!pip install git+https://github.com/IINemo/libact.git@seq"
   ]
  },
  {
   "cell_type": "code",
   "execution_count": null,
   "metadata": {},
   "outputs": [],
   "source": [
    "#!pip install -e ./packages/libact/\n",
    "\n",
    "!pip install git+https://github.com/IINemo/active_learning_toolbox.git@seq"
   ]
  },
  {
   "cell_type": "markdown",
   "metadata": {},
   "source": [
    "# Initialization"
   ]
  },
  {
   "cell_type": "code",
   "execution_count": 1,
   "metadata": {},
   "outputs": [],
   "source": [
    "%load_ext autoreload\n",
    "%autoreload 2\n",
    "\n",
    "import os\n",
    "os.environ['CUDA_VISIBLE_DEVICES'] = '1'\n",
    "\n",
    "import sys\n",
    "\n",
    "#sys.path += ['./active_learning_toolbox/']"
   ]
  },
  {
   "cell_type": "code",
   "execution_count": 2,
   "metadata": {},
   "outputs": [
    {
     "name": "stdout",
     "output_type": "stream",
     "text": [
      "Tesla V100-DGXS-16GB\n"
     ]
    }
   ],
   "source": [
    "import torch\n",
    "\n",
    "device = torch.device(\"cuda\" if torch.cuda.is_available() else \"cpu\")\n",
    "n_gpu = torch.cuda.device_count()\n",
    "\n",
    "for i in range(n_gpu):\n",
    "    print(torch.cuda.get_device_name(i))"
   ]
  },
  {
   "cell_type": "code",
   "execution_count": 3,
   "metadata": {},
   "outputs": [],
   "source": [
    "import logging\n",
    "logger = logging.getLogger('active_learning')\n",
    "\n",
    "formatter = logging.Formatter('%(asctime)s - %(name)s - %(levelname)s - %(message)s')\n",
    "\n",
    "fhandler = logging.FileHandler(filename='../workdir/i2b2_active_learning.log', mode='a')\n",
    "fhandler.setFormatter(formatter)\n",
    "logger.addHandler(fhandler)\n",
    "\n",
    "handler = logging.StreamHandler(sys.stdout)\n",
    "handler.setFormatter(formatter)\n",
    "logger.addHandler(handler)\n",
    "\n",
    "logger.setLevel(logging.DEBUG)"
   ]
  },
  {
   "cell_type": "code",
   "execution_count": 4,
   "metadata": {},
   "outputs": [],
   "source": [
    "import pandas as pd\n",
    "import numpy as np\n",
    "from tqdm import tqdm_notebook as tqdm"
   ]
  },
  {
   "cell_type": "markdown",
   "metadata": {},
   "source": [
    "# Global parameters"
   ]
  },
  {
   "cell_type": "code",
   "execution_count": 5,
   "metadata": {},
   "outputs": [],
   "source": [
    "CACHE_DIR = '../workdir/models/0.4.0'\n",
    "\n",
    "MAX_LEN = 150\n",
    "BATCH_SIZE = 32\n",
    "random_state = 2019"
   ]
  },
  {
   "cell_type": "markdown",
   "metadata": {},
   "source": [
    "# Load dataset"
   ]
  },
  {
   "cell_type": "code",
   "execution_count": 6,
   "metadata": {},
   "outputs": [],
   "source": [
    "from i2b2_utils import drop_noise_samples, tokenize_and_generate_labels, split_train_test_by_document, create_tensors, train\n",
    "\n",
    "import torch\n",
    "from torch.optim import Adam\n",
    "from torch.utils.data import TensorDataset, DataLoader, RandomSampler, SequentialSampler\n",
    "\n",
    "from pytorch_pretrained_bert import BertTokenizer, BertConfig\n",
    "from pytorch_pretrained_bert import BertForTokenClassification, BertAdam\n",
    "\n",
    "from tensorflow.keras.preprocessing.sequence import pad_sequences\n",
    "from sklearn.model_selection import train_test_split"
   ]
  },
  {
   "cell_type": "code",
   "execution_count": 7,
   "metadata": {},
   "outputs": [
    {
     "name": "stdout",
     "output_type": "stream",
     "text": [
      "(46635, 5)\n"
     ]
    },
    {
     "data": {
      "text/html": [
       "<div>\n",
       "<style scoped>\n",
       "    .dataframe tbody tr th:only-of-type {\n",
       "        vertical-align: middle;\n",
       "    }\n",
       "\n",
       "    .dataframe tbody tr th {\n",
       "        vertical-align: top;\n",
       "    }\n",
       "\n",
       "    .dataframe thead th {\n",
       "        text-align: right;\n",
       "    }\n",
       "</style>\n",
       "<table border=\"1\" class=\"dataframe\">\n",
       "  <thead>\n",
       "    <tr style=\"text-align: right;\">\n",
       "      <th></th>\n",
       "      <th>HYPERTENSION</th>\n",
       "      <th>CAD</th>\n",
       "      <th>DIABETES</th>\n",
       "      <th>texts</th>\n",
       "      <th>doc_ids</th>\n",
       "    </tr>\n",
       "  </thead>\n",
       "  <tbody>\n",
       "    <tr>\n",
       "      <th>0</th>\n",
       "      <td>[]</td>\n",
       "      <td>[]</td>\n",
       "      <td>[]</td>\n",
       "      <td>Record date: 2154-07-21\\n\\n\\n\\tCARDIOLOGY\\n\\t\\...</td>\n",
       "      <td>0</td>\n",
       "    </tr>\n",
       "    <tr>\n",
       "      <th>1</th>\n",
       "      <td>[]</td>\n",
       "      <td>[]</td>\n",
       "      <td>[]</td>\n",
       "      <td>D.</td>\n",
       "      <td>0</td>\n",
       "    </tr>\n",
       "    <tr>\n",
       "      <th>10</th>\n",
       "      <td>[[24, 36]]</td>\n",
       "      <td>[]</td>\n",
       "      <td>[]</td>\n",
       "      <td>She has well-controlled hypertension on stable...</td>\n",
       "      <td>0</td>\n",
       "    </tr>\n",
       "    <tr>\n",
       "      <th>100</th>\n",
       "      <td>[]</td>\n",
       "      <td>[]</td>\n",
       "      <td>[]</td>\n",
       "      <td>a.</td>\n",
       "      <td>1</td>\n",
       "    </tr>\n",
       "    <tr>\n",
       "      <th>1000</th>\n",
       "      <td>[]</td>\n",
       "      <td>[]</td>\n",
       "      <td>[]</td>\n",
       "      <td>SOCIAL HISTORY, FAMILY HISTORY, AND REVIEW OF ...</td>\n",
       "      <td>18</td>\n",
       "    </tr>\n",
       "  </tbody>\n",
       "</table>\n",
       "</div>"
      ],
      "text/plain": [
       "     HYPERTENSION CAD DIABETES  \\\n",
       "0              []  []       []   \n",
       "1              []  []       []   \n",
       "10     [[24, 36]]  []       []   \n",
       "100            []  []       []   \n",
       "1000           []  []       []   \n",
       "\n",
       "                                                  texts  doc_ids  \n",
       "0     Record date: 2154-07-21\\n\\n\\n\\tCARDIOLOGY\\n\\t\\...        0  \n",
       "1                                                    D.        0  \n",
       "10    She has well-controlled hypertension on stable...        0  \n",
       "100                                                  a.        1  \n",
       "1000  SOCIAL HISTORY, FAMILY HISTORY, AND REVIEW OF ...       18  "
      ]
     },
     "execution_count": 7,
     "metadata": {},
     "output_type": "execute_result"
    }
   ],
   "source": [
    "dataset_path = '../workdir/all_attributes.json'\n",
    "dataset = pd.read_json(dataset_path)\n",
    "print(dataset.shape)\n",
    "dataset.head()"
   ]
  },
  {
   "cell_type": "code",
   "execution_count": 8,
   "metadata": {},
   "outputs": [
    {
     "data": {
      "text/plain": [
       "(14183, 5)"
      ]
     },
     "execution_count": 8,
     "metadata": {},
     "output_type": "execute_result"
    }
   ],
   "source": [
    "#attr_name = 'HYPERTENSION'\n",
    "#attr_name = 'CAD'\n",
    "attr_name = 'DIABETES'\n",
    "\n",
    "selected_dataset = drop_noise_samples(dataset, attr_name)\n",
    "selected_dataset.shape"
   ]
  },
  {
   "cell_type": "code",
   "execution_count": 9,
   "metadata": {},
   "outputs": [],
   "source": [
    "train_selected_dataset, test_selected_dataset = split_train_test_by_document(selected_dataset, test_ratio=0.2)"
   ]
  },
  {
   "cell_type": "markdown",
   "metadata": {},
   "source": [
    "# Prepare model and preprocessing"
   ]
  },
  {
   "cell_type": "code",
   "execution_count": 10,
   "metadata": {},
   "outputs": [
    {
     "name": "stdout",
     "output_type": "stream",
     "text": [
      "2019-06-18 16:10:45,334 - urllib3.connectionpool - DEBUG - Starting new HTTPS connection (1): s3.amazonaws.com:443\n",
      "2019-06-18 16:10:46,553 - urllib3.connectionpool - DEBUG - https://s3.amazonaws.com:443 \"HEAD /models.huggingface.co/bert/bert-base-cased-vocab.txt HTTP/1.1\" 200 0\n",
      "2019-06-18 16:10:46,559 - pytorch_pretrained_bert.tokenization - INFO - loading vocabulary file https://s3.amazonaws.com/models.huggingface.co/bert/bert-base-cased-vocab.txt from cache at ../workdir/models/0.4.0/5e8a2b4893d13790ed4150ca1906be5f7a03d6c4ddf62296c383f6db42814db2.e13dbb970cb325137104fb2e5f36fe865f27746c6b526f6352861b1980eb80b1\n"
     ]
    }
   ],
   "source": [
    "from isanlp.en.processor_tokenizer_nltk_en import ProcessorTokenizerNltkEn\n",
    "\n",
    "word_tokenizer = ProcessorTokenizerNltkEn()\n",
    "bpe_tokenizer = BertTokenizer.from_pretrained('bert-base-cased', cache_dir=CACHE_DIR, do_lower_case=False)\n",
    "train_sents, train_labels = tokenize_and_generate_labels(word_tokenizer, bpe_tokenizer, train_selected_dataset, attr_name, MAX_LEN)\n",
    "test_sents, test_labels = tokenize_and_generate_labels(word_tokenizer, bpe_tokenizer, test_selected_dataset, attr_name, MAX_LEN)"
   ]
  },
  {
   "cell_type": "code",
   "execution_count": 11,
   "metadata": {},
   "outputs": [],
   "source": [
    "tags_vals = ['B', 'I', 'O', 'X', '[CLS]', '[SEP]']\n",
    "tag2idx = {t : i for i, t in enumerate(tags_vals)}"
   ]
  },
  {
   "cell_type": "code",
   "execution_count": 12,
   "metadata": {},
   "outputs": [],
   "source": [
    "train_input_ids, train_tags, train_attention_masks = create_tensors(bpe_tokenizer, tag2idx, \n",
    "                                                                    train_sents, train_labels, MAX_LEN)\n",
    "test_input_ids, test_tags, test_attention_masks = create_tensors(bpe_tokenizer, tag2idx, \n",
    "                                                                 test_sents, test_labels, MAX_LEN)"
   ]
  },
  {
   "cell_type": "code",
   "execution_count": 8,
   "metadata": {},
   "outputs": [],
   "source": [
    "def create_model_optimizer(tag2idx):\n",
    "    model = BertForTokenClassification.from_pretrained('bert-base-cased', \n",
    "                                                       cache_dir=CACHE_DIR, \n",
    "                                                       num_labels=len(tag2idx))\n",
    "    model.cuda()\n",
    "    \n",
    "    lr_head = 5e-4\n",
    "    lr_body = 5e-5\n",
    "    weight_decay = 0.01\n",
    "\n",
    "    FULL_FINETUNING = True\n",
    "    if FULL_FINETUNING:\n",
    "        param_optimizer = list(model.bert.named_parameters())\n",
    "        no_decay = ['bias', 'gamma', 'beta']\n",
    "        optimizer_grouped_parameters = [\n",
    "            {'params': [p for n, p in param_optimizer \n",
    "                        if not any(nd in n for nd in no_decay)],\n",
    "             'weight_decay': weight_decay},\n",
    "            {'params': [p for n, p in param_optimizer \n",
    "                        if any(nd in n for nd in no_decay)],\n",
    "             'weight_decay': 0.0},\n",
    "            {'params' : [p for n, p in model.classifier.named_parameters()\n",
    "                         if not any(nd in n for nd in no_decay)],\n",
    "             'lr' : lr_head,\n",
    "             'weight_decay': weight_decay},\n",
    "            {'params' : [p for n, p in model.classifier.named_parameters()\n",
    "                        if any(nd in n for nd in no_decay)],\n",
    "             'lr' : lr_head,\n",
    "             'weight_decay' : 0.0\n",
    "            }\n",
    "        ]\n",
    "    else:\n",
    "        param_optimizer = list(model.classifier.named_parameters()) \n",
    "        optimizer_grouped_parameters = [{\"params\": [p for n, p in param_optimizer]}]\n",
    "\n",
    "\n",
    "    optimizer = BertAdam(optimizer_grouped_parameters, lr=lr_body)\n",
    "    lr_scheduler = torch.optim.lr_scheduler.ExponentialLR(optimizer, gamma=0.95)\n",
    "    \n",
    "    return model, optimizer, lr_scheduler"
   ]
  },
  {
   "cell_type": "markdown",
   "metadata": {},
   "source": [
    "# Training"
   ]
  },
  {
   "cell_type": "code",
   "execution_count": null,
   "metadata": {},
   "outputs": [],
   "source": [
    "model, optimizer, lr_scheduler = create_model_optimizer()\n",
    "\n",
    "t_tr_inputs = torch.tensor(train_input_ids)\n",
    "t_tr_tags = torch.tensor(train_tags)\n",
    "t_tr_masks = torch.tensor(train_attention_masks)\n",
    "\n",
    "t_val_inputs = torch.tensor(test_input_ids)\n",
    "t_val_tags = torch.tensor(test_tags)\n",
    "t_val_masks = torch.tensor(test_attention_masks)\n",
    "\n",
    "train_data = TensorDataset(t_tr_inputs, t_tr_masks, t_tr_tags)\n",
    "train_sampler = RandomSampler(train_data)\n",
    "train_dataloader = DataLoader(train_data, sampler=train_sampler, batch_size=bs)\n",
    "\n",
    "valid_data = TensorDataset(t_val_inputs, t_val_masks, t_val_tags)\n",
    "valid_sampler = SequentialSampler(valid_data)\n",
    "valid_dataloader = DataLoader(valid_data, sampler=valid_sampler, batch_size=bs, shuffle=False)\n",
    "\n",
    "train(model, optimizer, lr_scheduler, train_dataloader, valid_dataloader, \n",
    "      epochs=10, device=device, tags_vals=tags_vals)"
   ]
  },
  {
   "cell_type": "code",
   "execution_count": null,
   "metadata": {},
   "outputs": [],
   "source": [
    "model.eval()\n",
    "predictions = []\n",
    "true_labels = []\n",
    "eval_loss, eval_accuracy = 0, 0\n",
    "nb_eval_steps, nb_eval_examples = 0, 0\n",
    "for batch in valid_dataloader:\n",
    "    batch = tuple(t.to(device) for t in batch)\n",
    "    b_input_ids, b_input_mask, b_labels = batch\n",
    "\n",
    "    with torch.no_grad():\n",
    "        tmp_eval_loss = model(b_input_ids, token_type_ids=None,\n",
    "                              attention_mask=b_input_mask, labels=b_labels)\n",
    "        logits = model(b_input_ids, token_type_ids=None,\n",
    "                       attention_mask=b_input_mask)\n",
    "        \n",
    "    logits = logits.detach().cpu().numpy()\n",
    "    predictions.extend([list(p) for p in np.argmax(logits, axis=2)])\n",
    "    label_ids = b_labels.to('cpu').numpy()\n",
    "    true_labels.append(label_ids)\n",
    "    tmp_eval_accuracy = flat_accuracy(logits, label_ids)\n",
    "\n",
    "    eval_loss += tmp_eval_loss.mean().item()\n",
    "    eval_accuracy += tmp_eval_accuracy\n",
    "\n",
    "    nb_eval_examples += b_input_ids.size(0)\n",
    "    nb_eval_steps += 1\n",
    "\n",
    "pred_tags = [[tags_vals[p_i] for p_i in p] for p in predictions]\n",
    "valid_tags = [[tags_vals[l_ii] for l_ii in l_i] for l in true_labels for l_i in l ]\n",
    "print(\"Validation loss: {}\".format(eval_loss/nb_eval_steps))\n",
    "print(\"Validation Accuracy: {}\".format(eval_accuracy/nb_eval_steps))\n",
    "print(\"Validation F1-Score: {}\".format(f1_score(pred_tags, valid_tags)))"
   ]
  },
  {
   "cell_type": "markdown",
   "metadata": {},
   "source": [
    "# Active learning"
   ]
  },
  {
   "cell_type": "code",
   "execution_count": 9,
   "metadata": {},
   "outputs": [],
   "source": [
    "from actleto import ActiveLearner, make_libact_strategy_ctor\n",
    "from libact.query_strategies import UncertaintySampling, RandomSampling\n",
    "from active_learning_seq import LibActNN, f1_score_wrapper, RandomSamplingWithRetraining\n",
    "\n",
    "\n",
    "def initialize_seeds(train_input_ids, train_tags, tags_vals, n_seeds_per_class=10):\n",
    "    indexes = np.array(range(train_tags.shape[0]))\n",
    "    known_indexes = []\n",
    "    for label in range(len(tags_vals)):\n",
    "        selected_indices = indexes[(train_tags == label).astype('float').sum(axis=1) != 0]\n",
    "        known_indexes += list(np.random.choice(selected_indices, size=n_seeds_per_class))\n",
    "\n",
    "    known_indexes = list(set(known_indexes))\n",
    "    print(len(known_indexes))\n",
    "    tags_seed = [None for _ in range(train_tags.shape[0])]\n",
    "\n",
    "    for i in known_indexes:\n",
    "        tags_seed[i] = train_tags[i]\n",
    "\n",
    "    Y_seed = tags_seed\n",
    "    X_train = train_input_ids\n",
    "    \n",
    "    return X_train, Y_seed\n",
    "    \n",
    "\n",
    "def create_active_learner(X_train, Y_seed, \n",
    "                          X_test, y_test, \n",
    "                          tags_vals,\n",
    "                          libact_model, \n",
    "                          ranking_strategy,\n",
    "                          rnd_steps=0):\n",
    "    max_samples_number = 20\n",
    "    random_state = 42\n",
    "\n",
    "    active_learn_alg_ctor = make_libact_strategy_ctor(lambda tr_ds: ranking_strategy(tr_ds, libact_model), \n",
    "                                                      max_samples_number=max_samples_number)\n",
    "    \n",
    "    def _f1_score(a,b):\n",
    "        return f1_score_wrapper(tags_vals, a,b)\n",
    "\n",
    "    # Creating ActiveLearning object that implements AL logic.\n",
    "    active_learner = ActiveLearner(active_learn_alg_ctor = active_learn_alg_ctor,\n",
    "                                   y_dtype = 'int',\n",
    "                                   X_full_dataset = X_train, \n",
    "                                   y_full_dataset = Y_seed,\n",
    "                                   X_test_dataset = X_test,\n",
    "                                   y_test_dataset = y_test,\n",
    "                                   model_evaluate=libact_model,\n",
    "                                   eval_metrics=[_f1_score],\n",
    "                                   rnd_start_steps=rnd_steps, \n",
    "                                   rnd_start_samples=max_samples_number)\n",
    "    \n",
    "    return active_learner\n",
    "\n",
    "\n",
    "def emulate_active_learning(train_tags, active_learner, \n",
    "                            max_iterations=12, n_annotations_per_iter=20, \n",
    "                           fit_model=False):\n",
    "    logger.info('Start emulating active learning.')\n",
    "    active_learner.start()\n",
    "    logger.info('Evaluation:', active_learner.evaluate(fit_model=False))\n",
    "\n",
    "    statistics = []\n",
    "    for i in range(max_iterations):\n",
    "        logger.info('Active learning iteration: #{}'.format(i))\n",
    "        samples_to_annotate = active_learner.choose_samples_for_annotation()\n",
    "        active_learner.make_iteration(samples_to_annotate, train_tags[samples_to_annotate])\n",
    "        perf = active_learner.evaluate(fit_model=fit_model)\n",
    "        statistics.append(perf)\n",
    "        logger.info('Performance:', perf)\n",
    "    \n",
    "    return statistics"
   ]
  },
  {
   "cell_type": "markdown",
   "metadata": {},
   "source": [
    "## Perform single emulation of AL"
   ]
  },
  {
   "cell_type": "code",
   "execution_count": 15,
   "metadata": {},
   "outputs": [
    {
     "name": "stdout",
     "output_type": "stream",
     "text": [
      "2019-06-18 16:10:55,560 - urllib3.connectionpool - DEBUG - Starting new HTTPS connection (1): s3.amazonaws.com:443\n",
      "2019-06-18 16:10:58,010 - urllib3.connectionpool - DEBUG - https://s3.amazonaws.com:443 \"HEAD /models.huggingface.co/bert/bert-base-cased.tar.gz HTTP/1.1\" 200 0\n",
      "2019-06-18 16:10:58,016 - pytorch_pretrained_bert.modeling - INFO - loading archive file https://s3.amazonaws.com/models.huggingface.co/bert/bert-base-cased.tar.gz from cache at ../workdir/models/0.4.0/a803ce83ca27fecf74c355673c434e51c265fb8a3e0e57ac62a80e38ba98d384.681017f415dfb33ec8d0e04fe51a619f3f01532ecea04edbfd48c5d160550d9c\n",
      "2019-06-18 16:10:58,020 - pytorch_pretrained_bert.modeling - INFO - extracting archive file ../workdir/models/0.4.0/a803ce83ca27fecf74c355673c434e51c265fb8a3e0e57ac62a80e38ba98d384.681017f415dfb33ec8d0e04fe51a619f3f01532ecea04edbfd48c5d160550d9c to temp dir /tmp/tmp0a1a46hf\n",
      "2019-06-18 16:11:05,066 - pytorch_pretrained_bert.modeling - INFO - Model config {\n",
      "  \"attention_probs_dropout_prob\": 0.1,\n",
      "  \"hidden_act\": \"gelu\",\n",
      "  \"hidden_dropout_prob\": 0.1,\n",
      "  \"hidden_size\": 768,\n",
      "  \"initializer_range\": 0.02,\n",
      "  \"intermediate_size\": 3072,\n",
      "  \"max_position_embeddings\": 512,\n",
      "  \"num_attention_heads\": 12,\n",
      "  \"num_hidden_layers\": 12,\n",
      "  \"type_vocab_size\": 2,\n",
      "  \"vocab_size\": 28996\n",
      "}\n",
      "\n",
      "2019-06-18 16:11:10,020 - pytorch_pretrained_bert.modeling - INFO - Weights of BertForTokenClassification not initialized from pretrained model: ['classifier.weight', 'classifier.bias']\n",
      "2019-06-18 16:11:10,021 - pytorch_pretrained_bert.modeling - INFO - Weights from pretrained model not used in BertForTokenClassification: ['cls.predictions.bias', 'cls.predictions.transform.dense.weight', 'cls.predictions.transform.dense.bias', 'cls.predictions.decoder.weight', 'cls.seq_relationship.weight', 'cls.seq_relationship.bias', 'cls.predictions.transform.LayerNorm.weight', 'cls.predictions.transform.LayerNorm.bias']\n"
     ]
    }
   ],
   "source": [
    "model, optimizer, lr_scheduler = create_model_optimizer(tag2idx)\n",
    "libact_model = LibActNN(model, optimizer, lr_scheduler, device=device, batch_size=BATCH_SIZE)"
   ]
  },
  {
   "cell_type": "code",
   "execution_count": 16,
   "metadata": {},
   "outputs": [],
   "source": [
    "np.random.seed(42)"
   ]
  },
  {
   "cell_type": "code",
   "execution_count": 17,
   "metadata": {},
   "outputs": [
    {
     "name": "stdout",
     "output_type": "stream",
     "text": [
      "60\n"
     ]
    }
   ],
   "source": [
    "X_train, Y_seed = initialize_seeds(train_input_ids, train_tags, tags_vals)"
   ]
  },
  {
   "cell_type": "code",
   "execution_count": 20,
   "metadata": {},
   "outputs": [
    {
     "ename": "NameError",
     "evalue": "name 'X_train' is not defined",
     "output_type": "error",
     "traceback": [
      "\u001b[0;31m\u001b[0m",
      "\u001b[0;31mNameError\u001b[0mTraceback (most recent call last)",
      "\u001b[0;32m<ipython-input-20-93b084b816d5>\u001b[0m in \u001b[0;36m<module>\u001b[0;34m\u001b[0m\n\u001b[1;32m      2\u001b[0m \u001b[0;31m#ranking_strategy = lambda trn_ds, libact_model: RandomSamplingWithRetraining(trn_ds, libact_model)\u001b[0m\u001b[0;34m\u001b[0m\u001b[0;34m\u001b[0m\u001b[0;34m\u001b[0m\u001b[0m\n\u001b[1;32m      3\u001b[0m \u001b[0;34m\u001b[0m\u001b[0m\n\u001b[0;32m----> 4\u001b[0;31m active_learner = create_active_learner(X_train, Y_seed, test_input_ids, test_tags, tags_vals, \n\u001b[0m\u001b[1;32m      5\u001b[0m                                        libact_model=libact_model, ranking_strategy=ranking_strategy, rnd_steps=1)\n",
      "\u001b[0;31mNameError\u001b[0m: name 'X_train' is not defined"
     ]
    }
   ],
   "source": [
    "ranking_strategy = lambda trn_ds, libact_model: UncertaintySampling(trn_ds, model=libact_model, method='lc')\n",
    "#ranking_strategy = lambda trn_ds, libact_model: RandomSamplingWithRetraining(trn_ds, libact_model)\n",
    "\n",
    "active_learner = create_active_learner(X_train, Y_seed, test_input_ids, test_tags, tags_vals, \n",
    "                                       libact_model=libact_model, ranking_strategy=ranking_strategy, rnd_steps=1)"
   ]
  },
  {
   "cell_type": "code",
   "execution_count": 19,
   "metadata": {},
   "outputs": [
    {
     "name": "stderr",
     "output_type": "stream",
     "text": [
      "Epoch:   0%|          | 0/3 [00:00<?, ?it/s]"
     ]
    },
    {
     "name": "stdout",
     "output_type": "stream",
     "text": [
      "Start\n"
     ]
    },
    {
     "name": "stderr",
     "output_type": "stream",
     "text": [
      "Epoch:  33%|███▎      | 1/3 [00:00<00:01,  1.32it/s]"
     ]
    },
    {
     "name": "stdout",
     "output_type": "stream",
     "text": [
      "Train loss: 1.218969076871872\n"
     ]
    },
    {
     "name": "stderr",
     "output_type": "stream",
     "text": [
      "Epoch:  67%|██████▋   | 2/3 [00:01<00:00,  1.35it/s]"
     ]
    },
    {
     "name": "stdout",
     "output_type": "stream",
     "text": [
      "Train loss: 0.36274728924036026\n"
     ]
    },
    {
     "name": "stderr",
     "output_type": "stream",
     "text": [
      "Epoch: 100%|██████████| 3/3 [00:02<00:00,  1.37it/s]"
     ]
    },
    {
     "name": "stdout",
     "output_type": "stream",
     "text": [
      "Train loss: 0.12889960780739784\n"
     ]
    },
    {
     "name": "stderr",
     "output_type": "stream",
     "text": [
      "\n"
     ]
    },
    {
     "ename": "KeyboardInterrupt",
     "evalue": "",
     "output_type": "error",
     "traceback": [
      "\u001b[0;31m\u001b[0m",
      "\u001b[0;31mKeyboardInterrupt\u001b[0mTraceback (most recent call last)",
      "\u001b[0;32m<ipython-input-19-7eaae24c6232>\u001b[0m in \u001b[0;36m<module>\u001b[0;34m\u001b[0m\n\u001b[0;32m----> 1\u001b[0;31m \u001b[0mstatistics\u001b[0m \u001b[0;34m=\u001b[0m \u001b[0memulate_active_learning\u001b[0m\u001b[0;34m(\u001b[0m\u001b[0mactive_learner\u001b[0m\u001b[0;34m)\u001b[0m\u001b[0;34m\u001b[0m\u001b[0;34m\u001b[0m\u001b[0m\n\u001b[0m",
      "\u001b[0;32m<ipython-input-14-03d594575654>\u001b[0m in \u001b[0;36memulate_active_learning\u001b[0;34m(active_learner, max_iterations, n_annotations_per_iter)\u001b[0m\n\u001b[1;32m     56\u001b[0m     \u001b[0mprint\u001b[0m\u001b[0;34m(\u001b[0m\u001b[0;34m'Start'\u001b[0m\u001b[0;34m)\u001b[0m\u001b[0;34m\u001b[0m\u001b[0;34m\u001b[0m\u001b[0m\n\u001b[1;32m     57\u001b[0m     \u001b[0mactive_learner\u001b[0m\u001b[0;34m.\u001b[0m\u001b[0mstart\u001b[0m\u001b[0;34m(\u001b[0m\u001b[0;34m)\u001b[0m\u001b[0;34m\u001b[0m\u001b[0;34m\u001b[0m\u001b[0m\n\u001b[0;32m---> 58\u001b[0;31m     \u001b[0mprint\u001b[0m\u001b[0;34m(\u001b[0m\u001b[0mactive_learner\u001b[0m\u001b[0;34m.\u001b[0m\u001b[0mevaluate\u001b[0m\u001b[0;34m(\u001b[0m\u001b[0mfit_model\u001b[0m\u001b[0;34m=\u001b[0m\u001b[0;32mFalse\u001b[0m\u001b[0;34m)\u001b[0m\u001b[0;34m)\u001b[0m\u001b[0;34m\u001b[0m\u001b[0;34m\u001b[0m\u001b[0m\n\u001b[0m\u001b[1;32m     59\u001b[0m     \u001b[0mprint\u001b[0m\u001b[0;34m(\u001b[0m\u001b[0;34m'Evaluated'\u001b[0m\u001b[0;34m)\u001b[0m\u001b[0;34m\u001b[0m\u001b[0;34m\u001b[0m\u001b[0m\n\u001b[1;32m     60\u001b[0m \u001b[0;34m\u001b[0m\u001b[0m\n",
      "\u001b[0;32m~/.pyenv/versions/3.6.7/lib/python3.6/site-packages/actleto/annotator/active_learner.py\u001b[0m in \u001b[0;36mevaluate\u001b[0;34m(self, fit_model)\u001b[0m\n\u001b[1;32m     93\u001b[0m             \u001b[0mself\u001b[0m\u001b[0;34m.\u001b[0m\u001b[0m_model_evaluate\u001b[0m\u001b[0;34m.\u001b[0m\u001b[0mfit\u001b[0m\u001b[0;34m(\u001b[0m\u001b[0mself\u001b[0m\u001b[0;34m.\u001b[0m\u001b[0m_X_full_dataset\u001b[0m\u001b[0;34m[\u001b[0m\u001b[0mselector\u001b[0m\u001b[0;34m]\u001b[0m\u001b[0;34m,\u001b[0m \u001b[0my_fit\u001b[0m\u001b[0;34m)\u001b[0m\u001b[0;34m\u001b[0m\u001b[0;34m\u001b[0m\u001b[0m\n\u001b[1;32m     94\u001b[0m \u001b[0;34m\u001b[0m\u001b[0m\n\u001b[0;32m---> 95\u001b[0;31m         \u001b[0mpreds\u001b[0m \u001b[0;34m=\u001b[0m \u001b[0mself\u001b[0m\u001b[0;34m.\u001b[0m\u001b[0m_model_evaluate\u001b[0m\u001b[0;34m.\u001b[0m\u001b[0mpredict\u001b[0m\u001b[0;34m(\u001b[0m\u001b[0mself\u001b[0m\u001b[0;34m.\u001b[0m\u001b[0m_X_test_dataset\u001b[0m\u001b[0;34m)\u001b[0m\u001b[0;34m\u001b[0m\u001b[0;34m\u001b[0m\u001b[0m\n\u001b[0m\u001b[1;32m     96\u001b[0m         return {metric.__name__ : metric(preds, self._y_test_dataset) \n\u001b[1;32m     97\u001b[0m                 for metric in self._eval_metrics}\n",
      "\u001b[0;32m/notebook/projects/biomed_ie/src/active_learning_seq.py\u001b[0m in \u001b[0;36mpredict\u001b[0;34m(self, X)\u001b[0m\n\u001b[1;32m     47\u001b[0m \u001b[0;34m\u001b[0m\u001b[0m\n\u001b[1;32m     48\u001b[0m     \u001b[0;32mdef\u001b[0m \u001b[0mpredict\u001b[0m\u001b[0;34m(\u001b[0m\u001b[0mself\u001b[0m\u001b[0;34m,\u001b[0m \u001b[0mX\u001b[0m\u001b[0;34m)\u001b[0m\u001b[0;34m:\u001b[0m\u001b[0;34m\u001b[0m\u001b[0;34m\u001b[0m\u001b[0m\n\u001b[0;32m---> 49\u001b[0;31m         \u001b[0mlogits\u001b[0m \u001b[0;34m=\u001b[0m \u001b[0mself\u001b[0m\u001b[0;34m.\u001b[0m\u001b[0m_predict_real_proba\u001b[0m\u001b[0;34m(\u001b[0m\u001b[0mX\u001b[0m\u001b[0;34m)\u001b[0m\u001b[0;34m\u001b[0m\u001b[0;34m\u001b[0m\u001b[0m\n\u001b[0m\u001b[1;32m     50\u001b[0m         \u001b[0mtmp\u001b[0m \u001b[0;34m=\u001b[0m \u001b[0mnp\u001b[0m\u001b[0;34m.\u001b[0m\u001b[0margmax\u001b[0m\u001b[0;34m(\u001b[0m\u001b[0mlogits\u001b[0m\u001b[0;34m,\u001b[0m \u001b[0maxis\u001b[0m\u001b[0;34m=\u001b[0m\u001b[0;36m2\u001b[0m\u001b[0;34m)\u001b[0m\u001b[0;34m.\u001b[0m\u001b[0mastype\u001b[0m\u001b[0;34m(\u001b[0m\u001b[0;34m'int'\u001b[0m\u001b[0;34m)\u001b[0m\u001b[0;34m\u001b[0m\u001b[0;34m\u001b[0m\u001b[0m\n\u001b[1;32m     51\u001b[0m         \u001b[0;32mreturn\u001b[0m \u001b[0mtmp\u001b[0m\u001b[0;34m\u001b[0m\u001b[0;34m\u001b[0m\u001b[0m\n",
      "\u001b[0;32m/notebook/projects/biomed_ie/src/active_learning_seq.py\u001b[0m in \u001b[0;36m_predict_real_proba\u001b[0;34m(self, X)\u001b[0m\n\u001b[1;32m     35\u001b[0m                 results.append(self._model(b_input_ids.cuda(), \n\u001b[1;32m     36\u001b[0m                                            \u001b[0mtoken_type_ids\u001b[0m\u001b[0;34m=\u001b[0m\u001b[0;32mNone\u001b[0m\u001b[0;34m,\u001b[0m\u001b[0;34m\u001b[0m\u001b[0;34m\u001b[0m\u001b[0m\n\u001b[0;32m---> 37\u001b[0;31m                                            attention_mask=b_input_mask.cuda()).detach().cpu().numpy())\n\u001b[0m\u001b[1;32m     38\u001b[0m \u001b[0;34m\u001b[0m\u001b[0m\n\u001b[1;32m     39\u001b[0m         \u001b[0;32mreturn\u001b[0m \u001b[0mnp\u001b[0m\u001b[0;34m.\u001b[0m\u001b[0mconcatenate\u001b[0m\u001b[0;34m(\u001b[0m\u001b[0mresults\u001b[0m\u001b[0;34m)\u001b[0m\u001b[0;34m\u001b[0m\u001b[0;34m\u001b[0m\u001b[0m\n",
      "\u001b[0;31mKeyboardInterrupt\u001b[0m: "
     ]
    }
   ],
   "source": [
    "statistics = emulate_active_learning(active_learner)"
   ]
  },
  {
   "cell_type": "code",
   "execution_count": 96,
   "metadata": {},
   "outputs": [],
   "source": [
    "import json\n",
    "\n",
    "statistics_path = '../workdir/statistics_us.json'\n",
    "#statistics_path = '../workdir/statistics_random.json'\n",
    "\n",
    "with open(statistics_path, 'w') as f:\n",
    "    json.dump(statistics, f)"
   ]
  },
  {
   "cell_type": "code",
   "execution_count": 97,
   "metadata": {},
   "outputs": [],
   "source": [
    "with open('../workdir/statistics_us.json', 'r') as f:\n",
    "    statistics_us = json.load(f)\n",
    "    \n",
    "with open('../workdir/statistics_random.json', 'r') as f:\n",
    "    statistics_random = json.load(f)"
   ]
  },
  {
   "cell_type": "code",
   "execution_count": 98,
   "metadata": {},
   "outputs": [
    {
     "data": {
      "image/png": "[encoded data removed]",
      "text/plain": [
       "<matplotlib.figure.Figure at 0x7f3a23a02a20>"
      ]
     },
     "metadata": {},
     "output_type": "display_data"
    }
   ],
   "source": [
    "import matplotlib.pyplot as plt\n",
    "%matplotlib inline \n",
    "\n",
    "from matplotlib.pyplot import figure\n",
    "figure(num=None, figsize=(8, 6), dpi=80, facecolor='w', edgecolor='k')\n",
    "\n",
    "plt1, = plt.plot(list(range(len(statistics))), [e['_f1_score'] for e in statistics_random], label='random')\n",
    "plt2, = plt.plot(list(range(len(statistics_us))), [e['_f1_score'] for e in statistics_us], label='us')\n",
    "plt.legend(handles=[plt1, plt2])\n",
    "plt.title('Performance')\n",
    "plt.show()"
   ]
  },
  {
   "cell_type": "markdown",
   "metadata": {},
   "source": [
    "## Multiple AL evaluations"
   ]
  },
  {
   "cell_type": "code",
   "execution_count": 10,
   "metadata": {},
   "outputs": [],
   "source": [
    "def perform_several_al_passes(train_input_ids, train_tags, \n",
    "                              test_input_ids, test_tags, \n",
    "                              tags_vals, tag2index, \n",
    "                              ranking_strategy, fit_model, \n",
    "                              n_passes):\n",
    "    stats = []\n",
    "    for i in range(n_passes):\n",
    "        logger.info('=============== Pass: {} ============='.format(i))\n",
    "        \n",
    "        np.random.seed(42 + i*3)\n",
    "        \n",
    "        model, optimizer, lr_scheduler = create_model_optimizer(tag2index)\n",
    "        libact_model = LibActNN(model, optimizer, lr_scheduler, device=device, batch_size=BATCH_SIZE)\n",
    "\n",
    "        X_train, Y_seed = initialize_seeds(train_input_ids, train_tags, tags_vals)\n",
    "        active_learner = create_active_learner(X_train, Y_seed, test_input_ids, test_tags, \n",
    "                                               tags_vals, libact_model, ranking_strategy=ranking_strategy)\n",
    "        \n",
    "        statistics = emulate_active_learning(train_tags, active_learner, fit_model=fit_model)\n",
    "        stats.append(statistics)\n",
    "    \n",
    "    return stats"
   ]
  },
  {
   "cell_type": "code",
   "execution_count": 39,
   "metadata": {},
   "outputs": [
    {
     "ename": "TypeError",
     "evalue": "perform_several_al_passes() missing 6 required positional arguments: 'train_tags', 'test_input_ids', 'test_tags', 'tags_vals', 'tag2index', and 'ranking_strategy'",
     "output_type": "error",
     "traceback": [
      "\u001b[0;31m\u001b[0m",
      "\u001b[0;31mTypeError\u001b[0mTraceback (most recent call last)",
      "\u001b[0;32m<ipython-input-39-a31bd5fe4f2a>\u001b[0m in \u001b[0;36m<module>\u001b[0;34m\u001b[0m\n\u001b[1;32m      1\u001b[0m \u001b[0;31m#ranking_strategy = lambda trn_ds, libact_model: RandomSamplingWithRetraining(trn_ds, model=libact_model)\u001b[0m\u001b[0;34m\u001b[0m\u001b[0;34m\u001b[0m\u001b[0;34m\u001b[0m\u001b[0m\n\u001b[1;32m      2\u001b[0m \u001b[0mranking_strategy\u001b[0m \u001b[0;34m=\u001b[0m \u001b[0;32mlambda\u001b[0m \u001b[0mtrn_ds\u001b[0m\u001b[0;34m,\u001b[0m \u001b[0mlibact_model\u001b[0m\u001b[0;34m:\u001b[0m \u001b[0mUncertaintySampling\u001b[0m\u001b[0;34m(\u001b[0m\u001b[0mtrn_ds\u001b[0m\u001b[0;34m,\u001b[0m \u001b[0mmodel\u001b[0m\u001b[0;34m=\u001b[0m\u001b[0mlibact_model\u001b[0m\u001b[0;34m,\u001b[0m \u001b[0mmethod\u001b[0m\u001b[0;34m=\u001b[0m\u001b[0;34m'lc'\u001b[0m\u001b[0;34m)\u001b[0m\u001b[0;34m\u001b[0m\u001b[0;34m\u001b[0m\u001b[0m\n\u001b[0;32m----> 3\u001b[0;31m \u001b[0mstats\u001b[0m \u001b[0;34m=\u001b[0m \u001b[0mperform_several_al_passes\u001b[0m\u001b[0;34m(\u001b[0m\u001b[0mranking_strategy\u001b[0m\u001b[0;34m)\u001b[0m\u001b[0;34m\u001b[0m\u001b[0;34m\u001b[0m\u001b[0m\n\u001b[0m",
      "\u001b[0;31mTypeError\u001b[0m: perform_several_al_passes() missing 6 required positional arguments: 'train_tags', 'test_input_ids', 'test_tags', 'tags_vals', 'tag2index', and 'ranking_strategy'"
     ]
    }
   ],
   "source": [
    "#ranking_strategy = lambda trn_ds, libact_model: RandomSamplingWithRetraining(trn_ds, model=libact_model)\n",
    "ranking_strategy = lambda trn_ds, libact_model: UncertaintySampling(trn_ds, model=libact_model, method='lc')\n",
    "stats = perform_several_al_passes(ranking_strategy)"
   ]
  },
  {
   "cell_type": "code",
   "execution_count": 102,
   "metadata": {},
   "outputs": [],
   "source": [
    "np_stats = np.array([[e['_f1_score'] for e in series] for series in stats ])"
   ]
  },
  {
   "cell_type": "code",
   "execution_count": 103,
   "metadata": {},
   "outputs": [],
   "source": [
    "np.save('../workdir/us_stats1.npy', np_stats)"
   ]
  },
  {
   "cell_type": "code",
   "execution_count": 46,
   "metadata": {},
   "outputs": [],
   "source": [
    "np.save('../workdir/random_stats.npy', np_stats)"
   ]
  },
  {
   "cell_type": "code",
   "execution_count": 11,
   "metadata": {},
   "outputs": [],
   "source": [
    "us_stats = np.load('../workdir/experiments/hypertension_us.npy')\n",
    "us_stats = np.array([[e['_f1_score'] for e in series] for series in us_stats ])\n",
    "random_stats = np.load('../workdir/experiments/hypertension_random.npy')"
   ]
  },
  {
   "cell_type": "code",
   "execution_count": 14,
   "metadata": {},
   "outputs": [
    {
     "name": "stdout",
     "output_type": "stream",
     "text": [
      "2019-06-20 17:16:56,245 - matplotlib - DEBUG - CACHEDIR=/root/.cache/matplotlib\n",
      "2019-06-20 17:16:56,247 - matplotlib.font_manager - DEBUG - font search path ['/root/.pyenv/versions/3.6.7/lib/python3.6/site-packages/matplotlib/mpl-data/fonts/ttf', '/root/.pyenv/versions/3.6.7/lib/python3.6/site-packages/matplotlib/mpl-data/fonts/afm', '/root/.pyenv/versions/3.6.7/lib/python3.6/site-packages/matplotlib/mpl-data/fonts/pdfcorefonts']\n",
      "2019-06-20 17:16:56,278 - matplotlib.font_manager - DEBUG - createFontDict: /root/.pyenv/versions/3.6.7/lib/python3.6/site-packages/matplotlib/mpl-data/fonts/ttf/STIXGeneral.ttf\n",
      "2019-06-20 17:16:56,280 - matplotlib.font_manager - DEBUG - createFontDict: /root/.pyenv/versions/3.6.7/lib/python3.6/site-packages/matplotlib/mpl-data/fonts/ttf/STIXSizTwoSymReg.ttf\n",
      "2019-06-20 17:16:56,281 - matplotlib.font_manager - DEBUG - createFontDict: /root/.pyenv/versions/3.6.7/lib/python3.6/site-packages/matplotlib/mpl-data/fonts/ttf/cmr10.ttf\n",
      "2019-06-20 17:16:56,282 - matplotlib.font_manager - DEBUG - createFontDict: /root/.pyenv/versions/3.6.7/lib/python3.6/site-packages/matplotlib/mpl-data/fonts/ttf/DejaVuSerif-Bold.ttf\n",
      "2019-06-20 17:16:56,284 - matplotlib.font_manager - DEBUG - createFontDict: /root/.pyenv/versions/3.6.7/lib/python3.6/site-packages/matplotlib/mpl-data/fonts/ttf/STIXSizOneSymBol.ttf\n",
      "2019-06-20 17:16:56,285 - matplotlib.font_manager - DEBUG - createFontDict: /root/.pyenv/versions/3.6.7/lib/python3.6/site-packages/matplotlib/mpl-data/fonts/ttf/DejaVuSerif.ttf\n",
      "2019-06-20 17:16:56,287 - matplotlib.font_manager - DEBUG - createFontDict: /root/.pyenv/versions/3.6.7/lib/python3.6/site-packages/matplotlib/mpl-data/fonts/ttf/STIXSizFourSymBol.ttf\n",
      "2019-06-20 17:16:56,288 - matplotlib.font_manager - DEBUG - createFontDict: /root/.pyenv/versions/3.6.7/lib/python3.6/site-packages/matplotlib/mpl-data/fonts/ttf/cmsy10.ttf\n",
      "2019-06-20 17:16:56,289 - matplotlib.font_manager - DEBUG - createFontDict: /root/.pyenv/versions/3.6.7/lib/python3.6/site-packages/matplotlib/mpl-data/fonts/ttf/STIXNonUni.ttf\n",
      "2019-06-20 17:16:56,290 - matplotlib.font_manager - DEBUG - createFontDict: /root/.pyenv/versions/3.6.7/lib/python3.6/site-packages/matplotlib/mpl-data/fonts/ttf/cmex10.ttf\n",
      "2019-06-20 17:16:56,291 - matplotlib.font_manager - DEBUG - createFontDict: /root/.pyenv/versions/3.6.7/lib/python3.6/site-packages/matplotlib/mpl-data/fonts/ttf/cmss10.ttf\n",
      "2019-06-20 17:16:56,293 - matplotlib.font_manager - DEBUG - createFontDict: /root/.pyenv/versions/3.6.7/lib/python3.6/site-packages/matplotlib/mpl-data/fonts/ttf/DejaVuSansMono-Bold.ttf\n",
      "2019-06-20 17:16:56,294 - matplotlib.font_manager - DEBUG - createFontDict: /root/.pyenv/versions/3.6.7/lib/python3.6/site-packages/matplotlib/mpl-data/fonts/ttf/DejaVuSerif-Italic.ttf\n",
      "2019-06-20 17:16:56,295 - matplotlib.font_manager - DEBUG - createFontDict: /root/.pyenv/versions/3.6.7/lib/python3.6/site-packages/matplotlib/mpl-data/fonts/ttf/STIXSizFiveSymReg.ttf\n",
      "2019-06-20 17:16:56,297 - matplotlib.font_manager - DEBUG - createFontDict: /root/.pyenv/versions/3.6.7/lib/python3.6/site-packages/matplotlib/mpl-data/fonts/ttf/DejaVuSansDisplay.ttf\n",
      "2019-06-20 17:16:56,298 - matplotlib.font_manager - DEBUG - createFontDict: /root/.pyenv/versions/3.6.7/lib/python3.6/site-packages/matplotlib/mpl-data/fonts/ttf/STIXGeneralBolIta.ttf\n",
      "2019-06-20 17:16:56,299 - matplotlib.font_manager - DEBUG - createFontDict: /root/.pyenv/versions/3.6.7/lib/python3.6/site-packages/matplotlib/mpl-data/fonts/ttf/cmmi10.ttf\n",
      "2019-06-20 17:16:56,300 - matplotlib.font_manager - DEBUG - createFontDict: /root/.pyenv/versions/3.6.7/lib/python3.6/site-packages/matplotlib/mpl-data/fonts/ttf/DejaVuSans-BoldOblique.ttf\n",
      "2019-06-20 17:16:56,302 - matplotlib.font_manager - DEBUG - createFontDict: /root/.pyenv/versions/3.6.7/lib/python3.6/site-packages/matplotlib/mpl-data/fonts/ttf/STIXSizOneSymReg.ttf\n",
      "2019-06-20 17:16:56,303 - matplotlib.font_manager - DEBUG - createFontDict: /root/.pyenv/versions/3.6.7/lib/python3.6/site-packages/matplotlib/mpl-data/fonts/ttf/DejaVuSans-Bold.ttf\n",
      "2019-06-20 17:16:56,304 - matplotlib.font_manager - DEBUG - createFontDict: /root/.pyenv/versions/3.6.7/lib/python3.6/site-packages/matplotlib/mpl-data/fonts/ttf/DejaVuSansMono-Oblique.ttf\n",
      "2019-06-20 17:16:56,306 - matplotlib.font_manager - DEBUG - createFontDict: /root/.pyenv/versions/3.6.7/lib/python3.6/site-packages/matplotlib/mpl-data/fonts/ttf/DejaVuSerifDisplay.ttf\n",
      "2019-06-20 17:16:56,307 - matplotlib.font_manager - DEBUG - createFontDict: /root/.pyenv/versions/3.6.7/lib/python3.6/site-packages/matplotlib/mpl-data/fonts/ttf/DejaVuSerif-BoldItalic.ttf\n",
      "2019-06-20 17:16:56,308 - matplotlib.font_manager - DEBUG - createFontDict: /root/.pyenv/versions/3.6.7/lib/python3.6/site-packages/matplotlib/mpl-data/fonts/ttf/STIXSizThreeSymBol.ttf\n",
      "2019-06-20 17:16:56,310 - matplotlib.font_manager - DEBUG - createFontDict: /root/.pyenv/versions/3.6.7/lib/python3.6/site-packages/matplotlib/mpl-data/fonts/ttf/STIXGeneralBol.ttf\n",
      "2019-06-20 17:16:56,311 - matplotlib.font_manager - DEBUG - createFontDict: /root/.pyenv/versions/3.6.7/lib/python3.6/site-packages/matplotlib/mpl-data/fonts/ttf/STIXNonUniBolIta.ttf\n",
      "2019-06-20 17:16:56,312 - matplotlib.font_manager - DEBUG - createFontDict: /root/.pyenv/versions/3.6.7/lib/python3.6/site-packages/matplotlib/mpl-data/fonts/ttf/STIXNonUniIta.ttf\n",
      "2019-06-20 17:16:56,314 - matplotlib.font_manager - DEBUG - createFontDict: /root/.pyenv/versions/3.6.7/lib/python3.6/site-packages/matplotlib/mpl-data/fonts/ttf/DejaVuSans.ttf\n",
      "2019-06-20 17:16:56,315 - matplotlib.font_manager - DEBUG - createFontDict: /root/.pyenv/versions/3.6.7/lib/python3.6/site-packages/matplotlib/mpl-data/fonts/ttf/DejaVuSansMono-BoldOblique.ttf\n",
      "2019-06-20 17:16:56,316 - matplotlib.font_manager - DEBUG - createFontDict: /root/.pyenv/versions/3.6.7/lib/python3.6/site-packages/matplotlib/mpl-data/fonts/ttf/STIXSizThreeSymReg.ttf\n",
      "2019-06-20 17:16:56,317 - matplotlib.font_manager - DEBUG - createFontDict: /root/.pyenv/versions/3.6.7/lib/python3.6/site-packages/matplotlib/mpl-data/fonts/ttf/STIXSizTwoSymBol.ttf\n",
      "2019-06-20 17:16:56,318 - matplotlib.font_manager - DEBUG - createFontDict: /root/.pyenv/versions/3.6.7/lib/python3.6/site-packages/matplotlib/mpl-data/fonts/ttf/STIXSizFourSymReg.ttf\n",
      "2019-06-20 17:16:56,320 - matplotlib.font_manager - DEBUG - createFontDict: /root/.pyenv/versions/3.6.7/lib/python3.6/site-packages/matplotlib/mpl-data/fonts/ttf/DejaVuSans-Oblique.ttf\n",
      "2019-06-20 17:16:56,321 - matplotlib.font_manager - DEBUG - createFontDict: /root/.pyenv/versions/3.6.7/lib/python3.6/site-packages/matplotlib/mpl-data/fonts/ttf/DejaVuSansMono.ttf\n",
      "2019-06-20 17:16:56,322 - matplotlib.font_manager - DEBUG - createFontDict: /root/.pyenv/versions/3.6.7/lib/python3.6/site-packages/matplotlib/mpl-data/fonts/ttf/cmtt10.ttf\n",
      "2019-06-20 17:16:56,323 - matplotlib.font_manager - DEBUG - createFontDict: /root/.pyenv/versions/3.6.7/lib/python3.6/site-packages/matplotlib/mpl-data/fonts/ttf/STIXGeneralItalic.ttf\n",
      "2019-06-20 17:16:56,324 - matplotlib.font_manager - DEBUG - createFontDict: /root/.pyenv/versions/3.6.7/lib/python3.6/site-packages/matplotlib/mpl-data/fonts/ttf/cmb10.ttf\n",
      "2019-06-20 17:16:56,325 - matplotlib.font_manager - DEBUG - createFontDict: /root/.pyenv/versions/3.6.7/lib/python3.6/site-packages/matplotlib/mpl-data/fonts/ttf/STIXNonUniBol.ttf\n",
      "2019-06-20 17:16:56,326 - matplotlib.font_manager - DEBUG - createFontDict: /usr/share/fonts/truetype/liberation/LiberationSansNarrow-Bold.ttf\n",
      "2019-06-20 17:16:56,328 - matplotlib.font_manager - DEBUG - createFontDict: /usr/share/fonts/truetype/liberation/LiberationSerif-Italic.ttf\n",
      "2019-06-20 17:16:56,342 - matplotlib.font_manager - DEBUG - createFontDict: /usr/share/fonts/truetype/dejavu/DejaVuSerif.ttf\n",
      "2019-06-20 17:16:56,343 - matplotlib.font_manager - DEBUG - createFontDict: /usr/share/fonts/truetype/liberation/LiberationSansNarrow-Italic.ttf\n",
      "2019-06-20 17:16:56,346 - matplotlib.font_manager - DEBUG - createFontDict: /usr/share/fonts/truetype/dejavu/DejaVuSerif-Bold.ttf\n",
      "2019-06-20 17:16:56,347 - matplotlib.font_manager - DEBUG - createFontDict: /usr/share/fonts/truetype/liberation/LiberationSans-BoldItalic.ttf\n",
      "2019-06-20 17:16:56,349 - matplotlib.font_manager - DEBUG - createFontDict: /usr/share/fonts/truetype/liberation/LiberationSerif-BoldItalic.ttf\n",
      "2019-06-20 17:16:56,352 - matplotlib.font_manager - DEBUG - createFontDict: /usr/share/fonts/truetype/liberation/LiberationMono-Regular.ttf\n",
      "2019-06-20 17:16:56,355 - matplotlib.font_manager - DEBUG - createFontDict: /usr/share/fonts/truetype/liberation/LiberationMono-Bold.ttf\n",
      "2019-06-20 17:16:56,357 - matplotlib.font_manager - DEBUG - createFontDict: /usr/share/fonts/truetype/liberation/LiberationSerif-Bold.ttf\n",
      "2019-06-20 17:16:56,359 - matplotlib.font_manager - DEBUG - createFontDict: /usr/share/fonts/truetype/liberation/LiberationSans-Regular.ttf\n",
      "2019-06-20 17:16:56,362 - matplotlib.font_manager - DEBUG - createFontDict: /usr/share/fonts/truetype/liberation/LiberationMono-BoldItalic.ttf\n",
      "2019-06-20 17:16:56,364 - matplotlib.font_manager - DEBUG - createFontDict: /usr/share/fonts/truetype/liberation/LiberationSansNarrow-Regular.ttf\n",
      "2019-06-20 17:16:56,366 - matplotlib.font_manager - DEBUG - createFontDict: /usr/share/fonts/truetype/dejavu/DejaVuSansMono.ttf\n",
      "2019-06-20 17:16:56,367 - matplotlib.font_manager - DEBUG - createFontDict: /usr/share/fonts/truetype/liberation/LiberationSans-Italic.ttf\n",
      "2019-06-20 17:16:56,370 - matplotlib.font_manager - DEBUG - createFontDict: /usr/share/fonts/truetype/liberation/LiberationMono-Italic.ttf\n",
      "2019-06-20 17:16:56,373 - matplotlib.font_manager - DEBUG - createFontDict: /usr/share/fonts/truetype/liberation/LiberationSans-Bold.ttf\n",
      "2019-06-20 17:16:56,375 - matplotlib.font_manager - DEBUG - createFontDict: /usr/share/fonts/truetype/dejavu/DejaVuSans-Bold.ttf\n",
      "2019-06-20 17:16:56,376 - matplotlib.font_manager - DEBUG - createFontDict: /usr/share/fonts/truetype/dejavu/DejaVuSansMono-Bold.ttf\n",
      "2019-06-20 17:16:56,377 - matplotlib.font_manager - DEBUG - createFontDict: /usr/share/fonts/truetype/liberation/LiberationSerif-Regular.ttf\n",
      "2019-06-20 17:16:56,380 - matplotlib.font_manager - DEBUG - createFontDict: /usr/share/fonts/truetype/dejavu/DejaVuSans.ttf\n",
      "2019-06-20 17:16:56,381 - matplotlib.font_manager - DEBUG - createFontDict: /usr/share/fonts/truetype/liberation/LiberationSansNarrow-BoldItalic.ttf\n",
      "2019-06-20 17:16:56,388 - matplotlib.font_manager - DEBUG - createFontDict: /root/.pyenv/versions/3.6.7/lib/python3.6/site-packages/matplotlib/mpl-data/fonts/afm/phvro8a.afm\n",
      "2019-06-20 17:16:56,398 - matplotlib.font_manager - DEBUG - createFontDict: /root/.pyenv/versions/3.6.7/lib/python3.6/site-packages/matplotlib/mpl-data/fonts/afm/pzdr.afm\n",
      "2019-06-20 17:16:56,405 - matplotlib.font_manager - DEBUG - createFontDict: /root/.pyenv/versions/3.6.7/lib/python3.6/site-packages/matplotlib/mpl-data/fonts/afm/pbkl8a.afm\n",
      "2019-06-20 17:16:56,413 - matplotlib.font_manager - DEBUG - createFontDict: /root/.pyenv/versions/3.6.7/lib/python3.6/site-packages/matplotlib/mpl-data/fonts/afm/phvbo8a.afm\n",
      "2019-06-20 17:16:56,424 - matplotlib.font_manager - DEBUG - createFontDict: /root/.pyenv/versions/3.6.7/lib/python3.6/site-packages/matplotlib/mpl-data/fonts/afm/cmsy10.afm\n",
      "2019-06-20 17:16:56,430 - matplotlib.font_manager - DEBUG - createFontDict: /root/.pyenv/versions/3.6.7/lib/python3.6/site-packages/matplotlib/mpl-data/fonts/afm/phvbo8an.afm\n",
      "2019-06-20 17:16:56,440 - matplotlib.font_manager - DEBUG - createFontDict: /root/.pyenv/versions/3.6.7/lib/python3.6/site-packages/matplotlib/mpl-data/fonts/pdfcorefonts/Helvetica.afm\n",
      "2019-06-20 17:16:56,465 - matplotlib.font_manager - DEBUG - createFontDict: /root/.pyenv/versions/3.6.7/lib/python3.6/site-packages/matplotlib/mpl-data/fonts/afm/pzcmi8a.afm\n",
      "2019-06-20 17:16:56,473 - matplotlib.font_manager - DEBUG - createFontDict: /root/.pyenv/versions/3.6.7/lib/python3.6/site-packages/matplotlib/mpl-data/fonts/afm/phvlo8a.afm\n",
      "2019-06-20 17:16:56,481 - matplotlib.font_manager - DEBUG - createFontDict: /root/.pyenv/versions/3.6.7/lib/python3.6/site-packages/matplotlib/mpl-data/fonts/afm/pbkli8a.afm\n",
      "2019-06-20 17:16:56,489 - matplotlib.font_manager - DEBUG - createFontDict: /root/.pyenv/versions/3.6.7/lib/python3.6/site-packages/matplotlib/mpl-data/fonts/afm/pplbi8a.afm\n",
      "2019-06-20 17:16:56,496 - matplotlib.font_manager - DEBUG - createFontDict: /root/.pyenv/versions/3.6.7/lib/python3.6/site-packages/matplotlib/mpl-data/fonts/pdfcorefonts/Times-Bold.afm\n",
      "2019-06-20 17:16:56,514 - matplotlib.font_manager - DEBUG - createFontDict: /root/.pyenv/versions/3.6.7/lib/python3.6/site-packages/matplotlib/mpl-data/fonts/afm/phvr8an.afm\n",
      "2019-06-20 17:16:56,521 - matplotlib.font_manager - DEBUG - createFontDict: /root/.pyenv/versions/3.6.7/lib/python3.6/site-packages/matplotlib/mpl-data/fonts/afm/cmr10.afm\n",
      "2019-06-20 17:16:56,526 - matplotlib.font_manager - DEBUG - createFontDict: /root/.pyenv/versions/3.6.7/lib/python3.6/site-packages/matplotlib/mpl-data/fonts/pdfcorefonts/ZapfDingbats.afm\n",
      "2019-06-20 17:16:56,531 - matplotlib.font_manager - DEBUG - createFontDict: /root/.pyenv/versions/3.6.7/lib/python3.6/site-packages/matplotlib/mpl-data/fonts/afm/pagdo8a.afm\n",
      "2019-06-20 17:16:56,537 - matplotlib.font_manager - DEBUG - createFontDict: /root/.pyenv/versions/3.6.7/lib/python3.6/site-packages/matplotlib/mpl-data/fonts/afm/ptmbi8a.afm\n",
      "2019-06-20 17:16:56,544 - matplotlib.font_manager - DEBUG - createFontDict: /root/.pyenv/versions/3.6.7/lib/python3.6/site-packages/matplotlib/mpl-data/fonts/afm/pagd8a.afm\n",
      "2019-06-20 17:16:56,551 - matplotlib.font_manager - DEBUG - createFontDict: /root/.pyenv/versions/3.6.7/lib/python3.6/site-packages/matplotlib/mpl-data/fonts/afm/pcrbo8a.afm\n",
      "2019-06-20 17:16:56,557 - matplotlib.font_manager - DEBUG - createFontDict: /root/.pyenv/versions/3.6.7/lib/python3.6/site-packages/matplotlib/mpl-data/fonts/afm/pcrb8a.afm\n",
      "2019-06-20 17:16:56,564 - matplotlib.font_manager - DEBUG - createFontDict: /root/.pyenv/versions/3.6.7/lib/python3.6/site-packages/matplotlib/mpl-data/fonts/afm/pplb8a.afm\n",
      "2019-06-20 17:16:56,570 - matplotlib.font_manager - DEBUG - createFontDict: /root/.pyenv/versions/3.6.7/lib/python3.6/site-packages/matplotlib/mpl-data/fonts/pdfcorefonts/Times-Italic.afm\n",
      "2019-06-20 17:16:56,586 - matplotlib.font_manager - DEBUG - createFontDict: /root/.pyenv/versions/3.6.7/lib/python3.6/site-packages/matplotlib/mpl-data/fonts/pdfcorefonts/Helvetica-BoldOblique.afm\n",
      "2019-06-20 17:16:56,602 - matplotlib.font_manager - DEBUG - createFontDict: /root/.pyenv/versions/3.6.7/lib/python3.6/site-packages/matplotlib/mpl-data/fonts/afm/pagk8a.afm\n",
      "2019-06-20 17:16:56,609 - matplotlib.font_manager - DEBUG - createFontDict: /root/.pyenv/versions/3.6.7/lib/python3.6/site-packages/matplotlib/mpl-data/fonts/afm/pncb8a.afm\n",
      "2019-06-20 17:16:56,615 - matplotlib.font_manager - DEBUG - createFontDict: /root/.pyenv/versions/3.6.7/lib/python3.6/site-packages/matplotlib/mpl-data/fonts/afm/phvro8an.afm\n",
      "2019-06-20 17:16:56,622 - matplotlib.font_manager - DEBUG - createFontDict: /root/.pyenv/versions/3.6.7/lib/python3.6/site-packages/matplotlib/mpl-data/fonts/afm/pplri8a.afm\n",
      "2019-06-20 17:16:56,628 - matplotlib.font_manager - DEBUG - createFontDict: /root/.pyenv/versions/3.6.7/lib/python3.6/site-packages/matplotlib/mpl-data/fonts/afm/phvb8an.afm\n",
      "2019-06-20 17:16:56,635 - matplotlib.font_manager - DEBUG - createFontDict: /root/.pyenv/versions/3.6.7/lib/python3.6/site-packages/matplotlib/mpl-data/fonts/pdfcorefonts/Courier-Oblique.afm\n",
      "2019-06-20 17:16:56,641 - matplotlib.font_manager - DEBUG - createFontDict: /root/.pyenv/versions/3.6.7/lib/python3.6/site-packages/matplotlib/mpl-data/fonts/pdfcorefonts/Helvetica-Bold.afm\n",
      "2019-06-20 17:16:56,657 - matplotlib.font_manager - DEBUG - createFontDict: /root/.pyenv/versions/3.6.7/lib/python3.6/site-packages/matplotlib/mpl-data/fonts/afm/pcrr8a.afm\n",
      "2019-06-20 17:16:56,664 - matplotlib.font_manager - DEBUG - createFontDict: /root/.pyenv/versions/3.6.7/lib/python3.6/site-packages/matplotlib/mpl-data/fonts/afm/pplr8a.afm\n",
      "2019-06-20 17:16:56,670 - matplotlib.font_manager - DEBUG - createFontDict: /root/.pyenv/versions/3.6.7/lib/python3.6/site-packages/matplotlib/mpl-data/fonts/afm/pncri8a.afm\n",
      "2019-06-20 17:16:56,677 - matplotlib.font_manager - DEBUG - createFontDict: /root/.pyenv/versions/3.6.7/lib/python3.6/site-packages/matplotlib/mpl-data/fonts/afm/ptmri8a.afm\n",
      "2019-06-20 17:16:56,684 - matplotlib.font_manager - DEBUG - createFontDict: /root/.pyenv/versions/3.6.7/lib/python3.6/site-packages/matplotlib/mpl-data/fonts/pdfcorefonts/Times-BoldItalic.afm\n",
      "2019-06-20 17:16:56,698 - matplotlib.font_manager - DEBUG - createFontDict: /root/.pyenv/versions/3.6.7/lib/python3.6/site-packages/matplotlib/mpl-data/fonts/pdfcorefonts/Symbol.afm\n",
      "2019-06-20 17:16:56,703 - matplotlib.font_manager - DEBUG - createFontDict: /root/.pyenv/versions/3.6.7/lib/python3.6/site-packages/matplotlib/mpl-data/fonts/afm/cmmi10.afm\n",
      "2019-06-20 17:16:56,707 - matplotlib.font_manager - DEBUG - createFontDict: /root/.pyenv/versions/3.6.7/lib/python3.6/site-packages/matplotlib/mpl-data/fonts/afm/cmex10.afm\n",
      "2019-06-20 17:16:56,711 - matplotlib.font_manager - DEBUG - createFontDict: /root/.pyenv/versions/3.6.7/lib/python3.6/site-packages/matplotlib/mpl-data/fonts/pdfcorefonts/Courier.afm\n",
      "2019-06-20 17:16:56,718 - matplotlib.font_manager - DEBUG - createFontDict: /root/.pyenv/versions/3.6.7/lib/python3.6/site-packages/matplotlib/mpl-data/fonts/afm/pbkd8a.afm\n",
      "2019-06-20 17:16:56,724 - matplotlib.font_manager - DEBUG - createFontDict: /root/.pyenv/versions/3.6.7/lib/python3.6/site-packages/matplotlib/mpl-data/fonts/afm/phvl8a.afm\n",
      "2019-06-20 17:16:56,730 - matplotlib.font_manager - DEBUG - createFontDict: /root/.pyenv/versions/3.6.7/lib/python3.6/site-packages/matplotlib/mpl-data/fonts/pdfcorefonts/Times-Roman.afm\n",
      "2019-06-20 17:16:56,745 - matplotlib.font_manager - DEBUG - createFontDict: /root/.pyenv/versions/3.6.7/lib/python3.6/site-packages/matplotlib/mpl-data/fonts/pdfcorefonts/Courier-Bold.afm\n",
      "2019-06-20 17:16:56,751 - matplotlib.font_manager - DEBUG - createFontDict: /root/.pyenv/versions/3.6.7/lib/python3.6/site-packages/matplotlib/mpl-data/fonts/afm/pncbi8a.afm\n",
      "2019-06-20 17:16:56,758 - matplotlib.font_manager - DEBUG - createFontDict: /root/.pyenv/versions/3.6.7/lib/python3.6/site-packages/matplotlib/mpl-data/fonts/afm/phvr8a.afm\n",
      "2019-06-20 17:16:56,765 - matplotlib.font_manager - DEBUG - createFontDict: /root/.pyenv/versions/3.6.7/lib/python3.6/site-packages/matplotlib/mpl-data/fonts/afm/cmtt10.afm\n",
      "2019-06-20 17:16:56,768 - matplotlib.font_manager - DEBUG - createFontDict: /root/.pyenv/versions/3.6.7/lib/python3.6/site-packages/matplotlib/mpl-data/fonts/afm/psyr.afm\n",
      "2019-06-20 17:16:56,776 - matplotlib.font_manager - DEBUG - createFontDict: /root/.pyenv/versions/3.6.7/lib/python3.6/site-packages/matplotlib/mpl-data/fonts/afm/pcrro8a.afm\n",
      "2019-06-20 17:16:56,786 - matplotlib.font_manager - DEBUG - createFontDict: /root/.pyenv/versions/3.6.7/lib/python3.6/site-packages/matplotlib/mpl-data/fonts/afm/ptmr8a.afm\n",
      "2019-06-20 17:16:56,795 - matplotlib.font_manager - DEBUG - createFontDict: /root/.pyenv/versions/3.6.7/lib/python3.6/site-packages/matplotlib/mpl-data/fonts/afm/putri8a.afm\n",
      "2019-06-20 17:16:56,806 - matplotlib.font_manager - DEBUG - createFontDict: /root/.pyenv/versions/3.6.7/lib/python3.6/site-packages/matplotlib/mpl-data/fonts/afm/pagko8a.afm\n",
      "2019-06-20 17:16:56,814 - matplotlib.font_manager - DEBUG - createFontDict: /root/.pyenv/versions/3.6.7/lib/python3.6/site-packages/matplotlib/mpl-data/fonts/afm/ptmb8a.afm\n",
      "2019-06-20 17:16:56,823 - matplotlib.font_manager - DEBUG - createFontDict: /root/.pyenv/versions/3.6.7/lib/python3.6/site-packages/matplotlib/mpl-data/fonts/afm/putb8a.afm\n",
      "2019-06-20 17:16:56,832 - matplotlib.font_manager - DEBUG - createFontDict: /root/.pyenv/versions/3.6.7/lib/python3.6/site-packages/matplotlib/mpl-data/fonts/pdfcorefonts/Helvetica-Oblique.afm\n",
      "2019-06-20 17:16:56,851 - matplotlib.font_manager - DEBUG - createFontDict: /root/.pyenv/versions/3.6.7/lib/python3.6/site-packages/matplotlib/mpl-data/fonts/afm/phvb8a.afm\n",
      "2019-06-20 17:16:56,932 - matplotlib.font_manager - DEBUG - createFontDict: /root/.pyenv/versions/3.6.7/lib/python3.6/site-packages/matplotlib/mpl-data/fonts/afm/putbi8a.afm\n",
      "2019-06-20 17:16:56,940 - matplotlib.font_manager - DEBUG - createFontDict: /root/.pyenv/versions/3.6.7/lib/python3.6/site-packages/matplotlib/mpl-data/fonts/afm/putr8a.afm\n",
      "2019-06-20 17:16:56,947 - matplotlib.font_manager - DEBUG - createFontDict: /root/.pyenv/versions/3.6.7/lib/python3.6/site-packages/matplotlib/mpl-data/fonts/pdfcorefonts/Courier-BoldOblique.afm\n",
      "2019-06-20 17:16:56,954 - matplotlib.font_manager - DEBUG - createFontDict: /root/.pyenv/versions/3.6.7/lib/python3.6/site-packages/matplotlib/mpl-data/fonts/afm/pncr8a.afm\n",
      "2019-06-20 17:16:56,960 - matplotlib.font_manager - DEBUG - createFontDict: /root/.pyenv/versions/3.6.7/lib/python3.6/site-packages/matplotlib/mpl-data/fonts/afm/pbkdi8a.afm\n",
      "2019-06-20 17:16:56,977 - matplotlib.font_manager - INFO - generated new fontManager\n",
      "2019-06-20 17:16:57,129 - matplotlib.pyplot - DEBUG - Loaded backend module://ipykernel.pylab.backend_inline version unknown.\n",
      "2019-06-20 17:16:57,133 - matplotlib.pyplot - DEBUG - Loaded backend module://ipykernel.pylab.backend_inline version unknown.\n",
      "2019-06-20 17:16:57,189 - matplotlib.font_manager - DEBUG - findfont: Matching :family=sans-serif:style=normal:variant=normal:weight=normal:stretch=normal:size=10.0.\n",
      "2019-06-20 17:16:57,191 - matplotlib.font_manager - DEBUG - findfont: score(<Font 'STIXGeneral' (STIXGeneral.ttf) normal normal regular normal>) = 10.05\n",
      "2019-06-20 17:16:57,192 - matplotlib.font_manager - DEBUG - findfont: score(<Font 'STIXSizeTwoSym' (STIXSizTwoSymReg.ttf) normal normal regular normal>) = 10.05\n",
      "2019-06-20 17:16:57,193 - matplotlib.font_manager - DEBUG - findfont: score(<Font 'cmr10' (cmr10.ttf) normal normal 400 normal>) = 10.05\n",
      "2019-06-20 17:16:57,194 - matplotlib.font_manager - DEBUG - findfont: score(<Font 'DejaVu Serif' (DejaVuSerif-Bold.ttf) normal normal bold normal>) = 10.335\n",
      "2019-06-20 17:16:57,195 - matplotlib.font_manager - DEBUG - findfont: score(<Font 'STIXSizeOneSym' (STIXSizOneSymBol.ttf) normal normal bold normal>) = 10.335\n",
      "2019-06-20 17:16:57,196 - matplotlib.font_manager - DEBUG - findfont: score(<Font 'DejaVu Serif' (DejaVuSerif.ttf) normal normal 400 normal>) = 10.05\n",
      "2019-06-20 17:16:57,197 - matplotlib.font_manager - DEBUG - findfont: score(<Font 'STIXSizeFourSym' (STIXSizFourSymBol.ttf) normal normal bold normal>) = 10.335\n",
      "2019-06-20 17:16:57,198 - matplotlib.font_manager - DEBUG - findfont: score(<Font 'cmsy10' (cmsy10.ttf) normal normal 400 normal>) = 10.05\n",
      "2019-06-20 17:16:57,199 - matplotlib.font_manager - DEBUG - findfont: score(<Font 'STIXNonUnicode' (STIXNonUni.ttf) normal normal regular normal>) = 10.05\n",
      "2019-06-20 17:16:57,200 - matplotlib.font_manager - DEBUG - findfont: score(<Font 'cmex10' (cmex10.ttf) normal normal 400 normal>) = 10.05\n",
      "2019-06-20 17:16:57,201 - matplotlib.font_manager - DEBUG - findfont: score(<Font 'cmss10' (cmss10.ttf) normal normal 400 normal>) = 10.05\n",
      "2019-06-20 17:16:57,201 - matplotlib.font_manager - DEBUG - findfont: score(<Font 'DejaVu Sans Mono' (DejaVuSansMono-Bold.ttf) normal normal bold normal>) = 10.335\n",
      "2019-06-20 17:16:57,202 - matplotlib.font_manager - DEBUG - findfont: score(<Font 'DejaVu Serif' (DejaVuSerif-Italic.ttf) italic normal 400 normal>) = 11.05\n",
      "2019-06-20 17:16:57,203 - matplotlib.font_manager - DEBUG - findfont: score(<Font 'STIXSizeFiveSym' (STIXSizFiveSymReg.ttf) normal normal regular normal>) = 10.05\n",
      "2019-06-20 17:16:57,204 - matplotlib.font_manager - DEBUG - findfont: score(<Font 'DejaVu Sans Display' (DejaVuSansDisplay.ttf) normal normal 400 normal>) = 10.05\n",
      "2019-06-20 17:16:57,205 - matplotlib.font_manager - DEBUG - findfont: score(<Font 'STIXGeneral' (STIXGeneralBolIta.ttf) italic normal bold normal>) = 11.335\n",
      "2019-06-20 17:16:57,206 - matplotlib.font_manager - DEBUG - findfont: score(<Font 'cmmi10' (cmmi10.ttf) normal normal 400 normal>) = 10.05\n",
      "2019-06-20 17:16:57,207 - matplotlib.font_manager - DEBUG - findfont: score(<Font 'DejaVu Sans' (DejaVuSans-BoldOblique.ttf) oblique normal bold normal>) = 1.335\n",
      "2019-06-20 17:16:57,208 - matplotlib.font_manager - DEBUG - findfont: score(<Font 'STIXSizeOneSym' (STIXSizOneSymReg.ttf) normal normal regular normal>) = 10.05\n",
      "2019-06-20 17:16:57,209 - matplotlib.font_manager - DEBUG - findfont: score(<Font 'DejaVu Sans' (DejaVuSans-Bold.ttf) normal normal bold normal>) = 0.33499999999999996\n",
      "2019-06-20 17:16:57,209 - matplotlib.font_manager - DEBUG - findfont: score(<Font 'DejaVu Sans Mono' (DejaVuSansMono-Oblique.ttf) oblique normal 400 normal>) = 11.05\n",
      "2019-06-20 17:16:57,210 - matplotlib.font_manager - DEBUG - findfont: score(<Font 'DejaVu Serif Display' (DejaVuSerifDisplay.ttf) normal normal 400 normal>) = 10.05\n",
      "2019-06-20 17:16:57,211 - matplotlib.font_manager - DEBUG - findfont: score(<Font 'DejaVu Serif' (DejaVuSerif-BoldItalic.ttf) italic normal bold normal>) = 11.335\n",
      "2019-06-20 17:16:57,212 - matplotlib.font_manager - DEBUG - findfont: score(<Font 'STIXSizeThreeSym' (STIXSizThreeSymBol.ttf) normal normal bold normal>) = 10.335\n",
      "2019-06-20 17:16:57,213 - matplotlib.font_manager - DEBUG - findfont: score(<Font 'STIXGeneral' (STIXGeneralBol.ttf) normal normal bold normal>) = 10.335\n",
      "2019-06-20 17:16:57,214 - matplotlib.font_manager - DEBUG - findfont: score(<Font 'STIXNonUnicode' (STIXNonUniBolIta.ttf) italic normal bold normal>) = 11.335\n",
      "2019-06-20 17:16:57,215 - matplotlib.font_manager - DEBUG - findfont: score(<Font 'STIXNonUnicode' (STIXNonUniIta.ttf) italic normal 400 normal>) = 11.05\n",
      "2019-06-20 17:16:57,216 - matplotlib.font_manager - DEBUG - findfont: score(<Font 'DejaVu Sans' (DejaVuSans.ttf) normal normal 400 normal>) = 0.05\n",
      "2019-06-20 17:16:57,217 - matplotlib.font_manager - DEBUG - findfont: score(<Font 'DejaVu Sans Mono' (DejaVuSansMono-BoldOblique.ttf) oblique normal bold normal>) = 11.335\n",
      "2019-06-20 17:16:57,217 - matplotlib.font_manager - DEBUG - findfont: score(<Font 'STIXSizeThreeSym' (STIXSizThreeSymReg.ttf) normal normal regular normal>) = 10.05\n",
      "2019-06-20 17:16:57,218 - matplotlib.font_manager - DEBUG - findfont: score(<Font 'STIXSizeTwoSym' (STIXSizTwoSymBol.ttf) normal normal bold normal>) = 10.335\n",
      "2019-06-20 17:16:57,219 - matplotlib.font_manager - DEBUG - findfont: score(<Font 'STIXSizeFourSym' (STIXSizFourSymReg.ttf) normal normal regular normal>) = 10.05\n",
      "2019-06-20 17:16:57,220 - matplotlib.font_manager - DEBUG - findfont: score(<Font 'DejaVu Sans' (DejaVuSans-Oblique.ttf) oblique normal 400 normal>) = 1.05\n",
      "2019-06-20 17:16:57,221 - matplotlib.font_manager - DEBUG - findfont: score(<Font 'DejaVu Sans Mono' (DejaVuSansMono.ttf) normal normal 400 normal>) = 10.05\n",
      "2019-06-20 17:16:57,222 - matplotlib.font_manager - DEBUG - findfont: score(<Font 'cmtt10' (cmtt10.ttf) normal normal 400 normal>) = 10.05\n",
      "2019-06-20 17:16:57,223 - matplotlib.font_manager - DEBUG - findfont: score(<Font 'STIXGeneral' (STIXGeneralItalic.ttf) italic normal 400 normal>) = 11.05\n",
      "2019-06-20 17:16:57,224 - matplotlib.font_manager - DEBUG - findfont: score(<Font 'cmb10' (cmb10.ttf) normal normal 400 normal>) = 10.05\n",
      "2019-06-20 17:16:57,225 - matplotlib.font_manager - DEBUG - findfont: score(<Font 'STIXNonUnicode' (STIXNonUniBol.ttf) normal normal bold normal>) = 10.335\n",
      "2019-06-20 17:16:57,225 - matplotlib.font_manager - DEBUG - findfont: score(<Font 'Liberation Sans Narrow' (LiberationSansNarrow-Bold.ttf) normal normal bold condensed>) = 10.535\n",
      "2019-06-20 17:16:57,226 - matplotlib.font_manager - DEBUG - findfont: score(<Font 'Liberation Serif' (LiberationSerif-Italic.ttf) italic normal 400 normal>) = 11.05\n",
      "2019-06-20 17:16:57,227 - matplotlib.font_manager - DEBUG - findfont: score(<Font 'Liberation Sans Narrow' (LiberationSansNarrow-Italic.ttf) italic normal 400 condensed>) = 11.25\n",
      "2019-06-20 17:16:57,228 - matplotlib.font_manager - DEBUG - findfont: score(<Font 'Liberation Sans' (LiberationSans-BoldItalic.ttf) italic normal bold normal>) = 11.335\n",
      "2019-06-20 17:16:57,229 - matplotlib.font_manager - DEBUG - findfont: score(<Font 'Liberation Serif' (LiberationSerif-BoldItalic.ttf) italic normal bold normal>) = 11.335\n",
      "2019-06-20 17:16:57,230 - matplotlib.font_manager - DEBUG - findfont: score(<Font 'Liberation Mono' (LiberationMono-Regular.ttf) normal normal 400 normal>) = 10.05\n",
      "2019-06-20 17:16:57,231 - matplotlib.font_manager - DEBUG - findfont: score(<Font 'Liberation Mono' (LiberationMono-Bold.ttf) normal normal bold normal>) = 10.335\n",
      "2019-06-20 17:16:57,231 - matplotlib.font_manager - DEBUG - findfont: score(<Font 'Liberation Serif' (LiberationSerif-Bold.ttf) normal normal bold normal>) = 10.335\n",
      "2019-06-20 17:16:57,232 - matplotlib.font_manager - DEBUG - findfont: score(<Font 'Liberation Sans' (LiberationSans-Regular.ttf) normal normal 400 normal>) = 10.05\n",
      "2019-06-20 17:16:57,233 - matplotlib.font_manager - DEBUG - findfont: score(<Font 'Liberation Mono' (LiberationMono-BoldItalic.ttf) italic normal bold normal>) = 11.335\n",
      "2019-06-20 17:16:57,234 - matplotlib.font_manager - DEBUG - findfont: score(<Font 'Liberation Sans Narrow' (LiberationSansNarrow-Regular.ttf) normal normal 400 condensed>) = 10.25\n",
      "2019-06-20 17:16:57,235 - matplotlib.font_manager - DEBUG - findfont: score(<Font 'Liberation Sans' (LiberationSans-Italic.ttf) italic normal 400 normal>) = 11.05\n",
      "2019-06-20 17:16:57,236 - matplotlib.font_manager - DEBUG - findfont: score(<Font 'Liberation Mono' (LiberationMono-Italic.ttf) italic normal 400 normal>) = 11.05\n",
      "2019-06-20 17:16:57,237 - matplotlib.font_manager - DEBUG - findfont: score(<Font 'Liberation Sans' (LiberationSans-Bold.ttf) normal normal bold normal>) = 10.335\n",
      "2019-06-20 17:16:57,238 - matplotlib.font_manager - DEBUG - findfont: score(<Font 'Liberation Serif' (LiberationSerif-Regular.ttf) normal normal 400 normal>) = 10.05\n",
      "2019-06-20 17:16:57,239 - matplotlib.font_manager - DEBUG - findfont: score(<Font 'Liberation Sans Narrow' (LiberationSansNarrow-BoldItalic.ttf) italic normal bold condensed>) = 11.535\n",
      "2019-06-20 17:16:57,240 - matplotlib.font_manager - DEBUG - findfont: Matching :family=sans-serif:style=normal:variant=normal:weight=normal:stretch=normal:size=10.0 to DejaVu Sans ('/root/.pyenv/versions/3.6.7/lib/python3.6/site-packages/matplotlib/mpl-data/fonts/ttf/DejaVuSans.ttf') with score of 0.050000.\n"
     ]
    },
    {
     "data": {
      "image/png": "[encoded data removed]",
      "text/plain": [
       "<Figure size 640x480 with 1 Axes>"
      ]
     },
     "metadata": {},
     "output_type": "display_data"
    },
    {
     "name": "stdout",
     "output_type": "stream",
     "text": [
      "2019-06-20 17:16:57,547 - matplotlib.pyplot - DEBUG - Loaded backend module://ipykernel.pylab.backend_inline version unknown.\n"
     ]
    }
   ],
   "source": [
    "from matplotlib import pyplot as plt\n",
    "from matplotlib.pyplot import figure\n",
    "%matplotlib inline \n",
    "\n",
    "\n",
    "def generate_plot(np_stats, color_bg, color_line, label):\n",
    "    disp = np_stats.std(axis=0)\n",
    "    means = np_stats.mean(axis=0)\n",
    "\n",
    "    x = list(range(means.shape[0]))\n",
    "\n",
    "    plt.fill_between(x, means - disp, means + disp, color=color_bg, alpha=0.5)\n",
    "    return plt.plot(x, means, color=color_line, label=label)\n",
    "\n",
    "    \n",
    "figure(num=None, figsize=(8, 6), dpi=80, facecolor='w', edgecolor='k')\n",
    "\n",
    "plt1, = generate_plot(random_stats, color_bg='skyblue', color_line='midnightblue', label='random')\n",
    "plt2, = generate_plot(us_stats, color_bg='darksalmon', color_line='red', label='US')\n",
    "\n",
    "plt.legend(handles=[plt1, plt2])\n",
    "plt.ylabel('Performance, F1')\n",
    "plt.xlabel('AL iteration, #')\n",
    "plt.show()"
   ]
  },
  {
   "cell_type": "code",
   "execution_count": 21,
   "metadata": {},
   "outputs": [
    {
     "data": {
      "text/plain": [
       "<matplotlib.figure.Figure at 0x7f3930a2dba8>"
      ]
     },
     "metadata": {},
     "output_type": "display_data"
    }
   ],
   "source": [
    "plt.draw()\n",
    "plt.savefig('../data/hypertension.png')"
   ]
  },
  {
   "cell_type": "code",
   "execution_count": 11,
   "metadata": {},
   "outputs": [],
   "source": [
    "def run_experiment_al(dataset, \n",
    "                      attr_name, \n",
    "                      word_tokenizer, \n",
    "                      bpe_tokenizer,\n",
    "                      output_file_path,\n",
    "                      n_passes=10):\n",
    "    logger.info('Preparing data...')\n",
    "    \n",
    "    selected_dataset = drop_noise_samples(dataset, attr_name)\n",
    "    train_selected_dataset, test_selected_dataset = split_train_test_by_document(selected_dataset, test_ratio=0.2)\n",
    "    train_sents, train_labels = tokenize_and_generate_labels(word_tokenizer, bpe_tokenizer, \n",
    "                                                             train_selected_dataset, attr_name, MAX_LEN)\n",
    "    test_sents, test_labels = tokenize_and_generate_labels(word_tokenizer, bpe_tokenizer, \n",
    "                                                           test_selected_dataset, attr_name, MAX_LEN)\n",
    "    \n",
    "    tags_vals = ['B', 'I', 'O', 'X', '[CLS]', '[SEP]']\n",
    "    tag2idx = {t : i for i, t in enumerate(tags_vals)}\n",
    "    \n",
    "    train_input_ids, train_tags, train_attention_masks = create_tensors(bpe_tokenizer, tag2idx, \n",
    "                                                                        train_sents, train_labels, MAX_LEN)\n",
    "    test_input_ids, test_tags, test_attention_masks = create_tensors(bpe_tokenizer, tag2idx, \n",
    "                                                                     test_sents, test_labels, MAX_LEN)\n",
    "    \n",
    "    logger.info('Done.')\n",
    "    \n",
    "    logger.info('Initializing model...')\n",
    "    \n",
    "    model, optimizer, lr_scheduler = create_model_optimizer(tag2idx)\n",
    "    \n",
    "    logger.info('Done.')\n",
    "    \n",
    "    logger.info('Preparing active learning...')\n",
    "    \n",
    "    logger.info('Done.')\n",
    "    \n",
    "    logger.info('=======================Active learning with uncertainty sampling ======================')\n",
    "    \n",
    "    ranking_strategy = lambda trn_ds, _libact_model: UncertaintySampling(trn_ds, model=_libact_model, method='lc')\n",
    "    stats = perform_several_al_passes(train_input_ids, train_tags, test_input_ids, \n",
    "                                      test_tags, tags_vals, tag2idx, \n",
    "                                      ranking_strategy=ranking_strategy, fit_model=False, \n",
    "                                      n_passes=n_passes)\n",
    "    np.save(os.path.join(output_file_path, '{}_us.npy'.format(attr_name.lower())), stats)\n",
    "    \n",
    "    logger.info('Done with uncertainty sampling.')\n",
    "    \n",
    "    logger.info('=======================Active learning with random sampling ============================')\n",
    "    \n",
    "    ranking_strategy = lambda trn_ds, _libact_model: RandomSamplingWithRetraining(trn_ds, model=_libact_model, method='lc')\n",
    "    stats = perform_several_al_passes(train_input_ids, train_tags, \n",
    "                                      test_input_ids, test_tags, \n",
    "                                      tags_vals, tag2idx, \n",
    "                                      ranking_strategy=ranking_strategy, \n",
    "                                      fit_model=False,\n",
    "                                      n_passes=n_passes)\n",
    "    stats = np.array([[e['_f1_score'] for e in series] for series in stats ])\n",
    "    np.save(os.path.join(output_file_path, '{}_random.npy'.format(attr_name.lower())), stats)\n",
    "    \n",
    "    logger.info('Done.')"
   ]
  },
  {
   "cell_type": "code",
   "execution_count": 12,
   "metadata": {},
   "outputs": [
    {
     "name": "stdout",
     "output_type": "stream",
     "text": [
      "2019-06-21 09:09:36,409 - active_learning - INFO - Preparing data...\n",
      "2019-06-21 09:09:46,488 - active_learning - INFO - Done.\n",
      "2019-06-21 09:09:46,489 - active_learning - INFO - Initializing model...\n"
     ]
    },
    {
     "name": "stderr",
     "output_type": "stream",
     "text": [
      "t_total value of -1 results in schedule not being applied\n"
     ]
    },
    {
     "name": "stdout",
     "output_type": "stream",
     "text": [
      "2019-06-21 09:10:04,343 - active_learning - INFO - Done.\n",
      "2019-06-21 09:10:04,344 - active_learning - INFO - Preparing active learning...\n",
      "2019-06-21 09:10:04,345 - active_learning - INFO - Done.\n",
      "2019-06-21 09:10:04,346 - active_learning - INFO - =======================Active learning with uncertainty sampling ======================\n"
     ]
    },
    {
     "ename": "TypeError",
     "evalue": "perform_several_al_passes() missing 1 required positional argument: 'n_passes'",
     "output_type": "error",
     "traceback": [
      "\u001b[0;31m\u001b[0m",
      "\u001b[0;31mTypeError\u001b[0mTraceback (most recent call last)",
      "\u001b[0;32m<ipython-input-12-18239e14c8d4>\u001b[0m in \u001b[0;36m<module>\u001b[0;34m\u001b[0m\n\u001b[1;32m      3\u001b[0m \u001b[0mword_tokenizer\u001b[0m \u001b[0;34m=\u001b[0m \u001b[0mProcessorTokenizerNltkEn\u001b[0m\u001b[0;34m(\u001b[0m\u001b[0;34m)\u001b[0m\u001b[0;34m\u001b[0m\u001b[0;34m\u001b[0m\u001b[0m\n\u001b[1;32m      4\u001b[0m \u001b[0mbpe_tokenizer\u001b[0m \u001b[0;34m=\u001b[0m \u001b[0mBertTokenizer\u001b[0m\u001b[0;34m.\u001b[0m\u001b[0mfrom_pretrained\u001b[0m\u001b[0;34m(\u001b[0m\u001b[0;34m'bert-base-cased'\u001b[0m\u001b[0;34m,\u001b[0m \u001b[0mcache_dir\u001b[0m\u001b[0;34m=\u001b[0m\u001b[0mCACHE_DIR\u001b[0m\u001b[0;34m,\u001b[0m \u001b[0mdo_lower_case\u001b[0m\u001b[0;34m=\u001b[0m\u001b[0;32mFalse\u001b[0m\u001b[0;34m)\u001b[0m\u001b[0;34m\u001b[0m\u001b[0;34m\u001b[0m\u001b[0m\n\u001b[0;32m----> 5\u001b[0;31m \u001b[0mrun_experiment_al\u001b[0m\u001b[0;34m(\u001b[0m\u001b[0mdataset\u001b[0m\u001b[0;34m,\u001b[0m \u001b[0;34m'DIABETES'\u001b[0m\u001b[0;34m,\u001b[0m \u001b[0mword_tokenizer\u001b[0m\u001b[0;34m,\u001b[0m \u001b[0mbpe_tokenizer\u001b[0m\u001b[0;34m,\u001b[0m \u001b[0;34m'../workdir/experiments/'\u001b[0m\u001b[0;34m)\u001b[0m\u001b[0;34m\u001b[0m\u001b[0;34m\u001b[0m\u001b[0m\n\u001b[0m",
      "\u001b[0;32m<ipython-input-11-735adc3ae044>\u001b[0m in \u001b[0;36mrun_experiment_al\u001b[0;34m(dataset, attr_name, word_tokenizer, bpe_tokenizer, output_file_path)\u001b[0m\n\u001b[1;32m     38\u001b[0m     stats = perform_several_al_passes(train_input_ids, train_tags, test_input_ids, \n\u001b[1;32m     39\u001b[0m                                       \u001b[0mtest_tags\u001b[0m\u001b[0;34m,\u001b[0m \u001b[0mtags_vals\u001b[0m\u001b[0;34m,\u001b[0m \u001b[0mtag2idx\u001b[0m\u001b[0;34m,\u001b[0m\u001b[0;34m\u001b[0m\u001b[0;34m\u001b[0m\u001b[0m\n\u001b[0;32m---> 40\u001b[0;31m                                       ranking_strategy=ranking_strategy, fit_model=False)\n\u001b[0m\u001b[1;32m     41\u001b[0m     \u001b[0mnp\u001b[0m\u001b[0;34m.\u001b[0m\u001b[0msave\u001b[0m\u001b[0;34m(\u001b[0m\u001b[0mos\u001b[0m\u001b[0;34m.\u001b[0m\u001b[0mpath\u001b[0m\u001b[0;34m.\u001b[0m\u001b[0mjoin\u001b[0m\u001b[0;34m(\u001b[0m\u001b[0moutput_file_path\u001b[0m\u001b[0;34m,\u001b[0m \u001b[0;34m'{}_us.npy'\u001b[0m\u001b[0;34m.\u001b[0m\u001b[0mformat\u001b[0m\u001b[0;34m(\u001b[0m\u001b[0mattr_name\u001b[0m\u001b[0;34m.\u001b[0m\u001b[0mlower\u001b[0m\u001b[0;34m(\u001b[0m\u001b[0;34m)\u001b[0m\u001b[0;34m)\u001b[0m\u001b[0;34m)\u001b[0m\u001b[0;34m,\u001b[0m \u001b[0mstats\u001b[0m\u001b[0;34m)\u001b[0m\u001b[0;34m\u001b[0m\u001b[0;34m\u001b[0m\u001b[0m\n\u001b[1;32m     42\u001b[0m \u001b[0;34m\u001b[0m\u001b[0m\n",
      "\u001b[0;31mTypeError\u001b[0m: perform_several_al_passes() missing 1 required positional argument: 'n_passes'"
     ]
    }
   ],
   "source": [
    "from isanlp.en.processor_tokenizer_nltk_en import ProcessorTokenizerNltkEn\n",
    "\n",
    "word_tokenizer = ProcessorTokenizerNltkEn()\n",
    "bpe_tokenizer = BertTokenizer.from_pretrained('bert-base-cased', cache_dir=CACHE_DIR, do_lower_case=False)\n",
    "run_experiment_al(dataset, 'DIABETES', word_tokenizer, bpe_tokenizer, '../workdir/experiments/')"
   ]
  }
 ],
 "metadata": {
  "kernelspec": {
   "display_name": "Python 3",
   "language": "python",
   "name": "python3"
  },
  "language_info": {
   "codemirror_mode": {
    "name": "ipython",
    "version": 3
   },
   "file_extension": ".py",
   "mimetype": "text/x-python",
   "name": "python",
   "nbconvert_exporter": "python",
   "pygments_lexer": "ipython3",
   "version": "3.6.7"
  }
 },
 "nbformat": 4,
 "nbformat_minor": 2
}
