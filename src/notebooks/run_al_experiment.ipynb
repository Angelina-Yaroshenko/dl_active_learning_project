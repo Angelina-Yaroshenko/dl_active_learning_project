{
 "cells": [
  {
   "cell_type": "markdown",
   "metadata": {},
   "source": [
    "# Initialization"
   ]
  },
  {
   "cell_type": "code",
   "execution_count": 5,
   "metadata": {},
   "outputs": [
    {
     "name": "stdout",
     "output_type": "stream",
     "text": [
      "The autoreload extension is already loaded. To reload it, use:\n",
      "  %reload_ext autoreload\n"
     ]
    }
   ],
   "source": [
    "%load_ext autoreload\n",
    "%autoreload 2\n",
    "\n",
    "import os\n",
    "os.environ['CUDA_VISIBLE_DEVICES'] = '3'\n",
    "\n",
    "import sys"
   ]
  },
  {
   "cell_type": "code",
   "execution_count": 6,
   "metadata": {},
   "outputs": [
    {
     "name": "stdout",
     "output_type": "stream",
     "text": [
      "Tesla V100-DGXS-16GB\n"
     ]
    }
   ],
   "source": [
    "import torch\n",
    "\n",
    "device = torch.device('cuda')\n",
    "for i in range(torch.cuda.device_count()):\n",
    "    print(torch.cuda.get_device_name(i))"
   ]
  },
  {
   "cell_type": "code",
   "execution_count": 7,
   "metadata": {},
   "outputs": [],
   "source": [
    "from logger import initialize_logger\n",
    "logger = initialize_logger('../workdir/logs/biomed_ie.log', 'biomed_ie')\n",
    "#initialize_logger('../workdir/logs/sequence_tagger_bert.log', 'sequence_tagger_bert')"
   ]
  },
  {
   "cell_type": "code",
   "execution_count": 8,
   "metadata": {},
   "outputs": [],
   "source": [
    "import pandas as pd\n",
    "import numpy as np\n",
    "from tqdm import tqdm_notebook as tqdm\n",
    "import json"
   ]
  },
  {
   "cell_type": "markdown",
   "metadata": {},
   "source": [
    "# Global parameters"
   ]
  },
  {
   "cell_type": "code",
   "execution_count": 9,
   "metadata": {},
   "outputs": [],
   "source": [
    "CACHE_DIR = '../workdir/cache'\n",
    "\n",
    "# MAX_LEN = 150\n",
    "BATCH_SIZE = 32\n",
    "#BATCH_SIZE = 16\n",
    "MAX_LEN = 100\n",
    "#BATCH_SIZE = 100\n",
    "#BATCH_SIZE_PRED = 1200 # 1600\n",
    "#BATCH_SIZE_PRED = 1200 # 1600\n",
    "BATCH_SIZE_PRED = 1500\n",
    "PRED_BATCH_SIZE = BATCH_SIZE_PRED\n",
    "random_state = 2019\n",
    "\n",
    "EARLY_STOPPING = 1\n",
    "MAX_RETRAIN_EPOCHS = 30\n",
    "#MAX_RETRAIN_EPOCHS = 15\n",
    "MAX_N_EPOCHS = MAX_RETRAIN_EPOCHS\n",
    "\n",
    "N_SAMPLES_PER_AL_ITER = 30\n",
    "N_AL_PASSES = 5\n",
    "N_AL_ITERATIONS = 25\n",
    "# N_AL_PASSES = 1\n",
    "# N_AL_ITERATIONS = 1\n",
    "\n",
    "BASE_LR = 5e-5\n",
    "LEARNING_RATE = BASE_LR\n",
    "\n",
    "VALIDATION_RATIO = 0.25\n",
    "\n",
    "MAX_TO_ANNEAL = 3\n",
    "ANNEAL_FACTOR = 0.5\n",
    "PATIENCE = 2\n",
    "WEIGHT_DECAY = 0.01\n",
    "\n",
    "SEED_POSITIVE = 10\n",
    "SEED_RANDOM = 40\n",
    "\n",
    "BIO_BERT = '../workdir/bio_bert/torch2/'\n",
    "OUTPUT_FILE_PATH = '../workdir/experiments/17_biobert/'\n",
    "#OUTPUT_FILE_PATH = '../workdir/experiments/debug'"
   ]
  },
  {
   "cell_type": "markdown",
   "metadata": {},
   "source": [
    "# Load dataset"
   ]
  },
  {
   "cell_type": "code",
   "execution_count": 12,
   "metadata": {},
   "outputs": [
    {
     "name": "stdout",
     "output_type": "stream",
     "text": [
      "2020-02-18 22:46:10,959 Reading data from ../workdir/i2b2/conll\n",
      "2020-02-18 22:46:10,960 Train: ../workdir/i2b2/conll/i2b2_training_hypertension.conll\n",
      "2020-02-18 22:46:10,960 Dev: ../workdir/i2b2/conll/i2b2_testing_hypertension.conll\n",
      "2020-02-18 22:46:10,961 Test: ../workdir/i2b2/conll/i2b2_testing_hypertension.conll\n",
      "2020-02-18 22:46:17,866 Reading data from ../workdir/i2b2/conll\n",
      "2020-02-18 22:46:17,867 Train: ../workdir/i2b2/conll/i2b2_training_cad.conll\n",
      "2020-02-18 22:46:17,868 Dev: ../workdir/i2b2/conll/i2b2_testing_cad.conll\n",
      "2020-02-18 22:46:17,869 Test: ../workdir/i2b2/conll/i2b2_testing_cad.conll\n",
      "2020-02-18 22:46:34,645 Reading data from ../workdir/i2b2/conll\n",
      "2020-02-18 22:46:34,646 Train: ../workdir/i2b2/conll/i2b2_training_diabetes.conll\n",
      "2020-02-18 22:46:34,647 Dev: ../workdir/i2b2/conll/i2b2_testing_diabetes.conll\n",
      "2020-02-18 22:46:34,647 Test: ../workdir/i2b2/conll/i2b2_testing_diabetes.conll\n",
      "2020-02-18 22:46:43,005 Reading data from ../workdir/genia/conll\n",
      "2020-02-18 22:46:43,006 Train: ../workdir/genia/conll/Genia4ERtask1.iob2\n",
      "2020-02-18 22:46:43,006 Dev: ../workdir/genia/conll/Genia4EReval1.iob2\n",
      "2020-02-18 22:46:43,007 Test: ../workdir/genia/conll/Genia4EReval1.iob2\n"
     ]
    }
   ],
   "source": [
    "from flair.datasets import ColumnCorpus\n",
    "\n",
    "corpora = {}\n",
    "\n",
    "data_folder = '../workdir/i2b2/conll/'\n",
    "for attr in ['hypertension', 'cad', 'diabetes']:\n",
    "    corpora[attr] = ColumnCorpus(data_folder, {0 : 'text', 1 : 'ner'},\n",
    "                                 train_file=f'i2b2_training_{attr}.conll',\n",
    "                                 test_file=f'i2b2_testing_{attr}.conll',\n",
    "                                 dev_file=f'i2b2_testing_{attr}.conll')\n",
    "\n",
    "data_folder = '../workdir/genia/conll/'\n",
    "corpora['genia'] = ColumnCorpus(data_folder, {0 : 'text', 1 : 'ner'},\n",
    "                                train_file='Genia4ERtask1.iob2',\n",
    "                                test_file='Genia4EReval1.iob2',\n",
    "                                dev_file='Genia4EReval1.iob2')    "
   ]
  },
  {
   "cell_type": "markdown",
   "metadata": {},
   "source": [
    "# Run experiments"
   ]
  },
  {
   "cell_type": "code",
   "execution_count": 18,
   "metadata": {},
   "outputs": [],
   "source": [
    "from bert_active_learning_exp import run_experiment_al\n",
    "from active_learning_seq import LibActNN, LibActNNPositiveLessCertain, RandomSamplingWithRetraining\n",
    "from libact.query_strategies import UncertaintySampling, RandomSampling\n",
    "\n",
    "from bert_sequence_tagger import SequenceTaggerBert, BertForTokenClassificationCustom, ModelTrainerBert\n",
    "from bert_sequence_tagger.bert_utils import get_parameters_without_decay\n",
    "\n",
    "from pytorch_transformers import BertTokenizer, AdamW, WarmupLinearSchedule, WarmupConstantSchedule\n",
    "from torch.optim.lr_scheduler import ReduceLROnPlateau\n",
    "\n",
    "from bert_sequence_tagger.metrics import f1_entity_level, f1_token_level\n",
    "\n",
    "\n",
    "BERT_TOKENIZER = BertTokenizer.from_pretrained('bert-base-cased', \n",
    "                                               cache_dir=CACHE_DIR, \n",
    "                                               do_lower_case=False)\n",
    "\n",
    "def create_libact_adaptor(tag2index, index2tag, adaptor_type, *args):\n",
    "    def model_ctor():\n",
    "        model = BertForTokenClassificationCustom.from_pretrained(BIO_BERT,\n",
    "                                                                 cache_dir=CACHE_DIR, \n",
    "                                                                 num_labels=len(tag2index)).cuda()\n",
    "\n",
    "        seq_tagger = SequenceTaggerBert(model, BERT_TOKENIZER, idx2tag=index2tag, tag2idx=tag2index)\n",
    "        \n",
    "        return seq_tagger\n",
    "    \n",
    "    def trainer_ctor(seq_tagger, corpus_len, train_dataloader, val_dataloader):\n",
    "        optimizer = AdamW(get_parameters_without_decay(seq_tagger._bert_model),\n",
    "                          lr=LEARNING_RATE, betas=(0.9, 0.999), \n",
    "                          eps=1e-6, weight_decay=0.01, correct_bias=True)\n",
    "\n",
    "        lr_scheduler = ReduceLROnPlateau(optimizer, mode='min', factor=ANNEAL_FACTOR, patience=PATIENCE)\n",
    "        \n",
    "        trainer = ModelTrainerBert(seq_tagger, \n",
    "                                   optimizer, \n",
    "                                   lr_scheduler,\n",
    "                                   train_dataloader, \n",
    "                                   val_dataloader,\n",
    "                                   update_scheduler='ee',\n",
    "                                   keep_best_model=True,\n",
    "                                   restore_bm_on_lr_change=True,\n",
    "                                   max_grad_norm=1.,\n",
    "                                   validation_metrics=[f1_entity_level],\n",
    "                                   decision_metric=lambda metrics: metrics[0],\n",
    "                                   smallest_lr=LEARNING_RATE / (MAX_TO_ANNEAL**(1./ANNEAL_FACTOR) + 0.1))\n",
    "        \n",
    "        return trainer\n",
    "    \n",
    "    return adaptor_type(*args, \n",
    "                        model_ctor=model_ctor,\n",
    "                        trainer_ctor=trainer_ctor,\n",
    "                        batch_size=BATCH_SIZE,\n",
    "                        bs_pred=BATCH_SIZE_PRED,\n",
    "                        train_from_scratch=True,\n",
    "                        retrain_epochs=MAX_RETRAIN_EPOCHS,\n",
    "                        valid_ratio=VALIDATION_RATIO,\n",
    "                        string_input=False)"
   ]
  },
  {
   "cell_type": "code",
   "execution_count": 20,
   "metadata": {},
   "outputs": [
    {
     "data": {
      "text/plain": [
       "[{'corpus': <flair.datasets.ColumnCorpus at 0x7f2f7e84d350>,\n",
       "  'output_file_path': '../workdir/experiments/17_biobert/',\n",
       "  'ranking_strategy': <function __main__.create_i2b2_experiment_pack.<locals>.<lambda>(trn_ds, _libact_model)>,\n",
       "  'libact_adaptor_ctor': <function __main__.create_i2b2_experiment_pack.<locals>.<lambda>(tag2index, index2tag)>,\n",
       "  'name': 'hypertension_MNLP',\n",
       "  'n_passes': 5,\n",
       "  'n_al_iterations': 25,\n",
       "  'max_len': 100,\n",
       "  'max_samples_number': 30,\n",
       "  'seed_elems_per_class': 10,\n",
       "  'n_seeds_random': 40},\n",
       " {'corpus': <flair.datasets.ColumnCorpus at 0x7f2d0b6ff650>,\n",
       "  'output_file_path': '../workdir/experiments/17_biobert/',\n",
       "  'ranking_strategy': <function __main__.create_i2b2_experiment_pack.<locals>.<lambda>(trn_ds, _libact_model)>,\n",
       "  'libact_adaptor_ctor': <function __main__.create_i2b2_experiment_pack.<locals>.<lambda>(tag2index, index2tag)>,\n",
       "  'name': 'cad_MNLP',\n",
       "  'n_passes': 5,\n",
       "  'n_al_iterations': 25,\n",
       "  'max_len': 100,\n",
       "  'max_samples_number': 30,\n",
       "  'seed_elems_per_class': 10,\n",
       "  'n_seeds_random': 40},\n",
       " {'corpus': <flair.datasets.ColumnCorpus at 0x7f2cd04cf510>,\n",
       "  'output_file_path': '../workdir/experiments/17_biobert/',\n",
       "  'ranking_strategy': <function __main__.create_i2b2_experiment_pack.<locals>.<lambda>(trn_ds, _libact_model)>,\n",
       "  'libact_adaptor_ctor': <function __main__.create_i2b2_experiment_pack.<locals>.<lambda>(tag2index, index2tag)>,\n",
       "  'name': 'diabetes_MNLP',\n",
       "  'n_passes': 5,\n",
       "  'n_al_iterations': 25,\n",
       "  'max_len': 100,\n",
       "  'max_samples_number': 30,\n",
       "  'seed_elems_per_class': 10,\n",
       "  'n_seeds_random': 40},\n",
       " {'corpus': <flair.datasets.ColumnCorpus at 0x7f2f7209a490>,\n",
       "  'output_file_path': '../workdir/experiments/17_biobert/',\n",
       "  'ranking_strategy': <function __main__.create_i2b2_experiment_pack.<locals>.<lambda>(trn_ds, _libact_model)>,\n",
       "  'libact_adaptor_ctor': <function __main__.create_i2b2_experiment_pack.<locals>.<lambda>(tag2index, index2tag)>,\n",
       "  'name': 'genia_MNLP',\n",
       "  'n_passes': 5,\n",
       "  'n_al_iterations': 25,\n",
       "  'max_len': 100,\n",
       "  'max_samples_number': 30,\n",
       "  'seed_elems_per_class': 10,\n",
       "  'n_seeds_random': 40}]"
      ]
     },
     "execution_count": 20,
     "metadata": {},
     "output_type": "execute_result"
    }
   ],
   "source": [
    "def create_i2b2_experiment_pack(corpus, attr):\n",
    "     return [\n",
    "    {\n",
    "        'corpus' : corpus,\n",
    "        'output_file_path' : OUTPUT_FILE_PATH,\n",
    "        'ranking_strategy' : lambda trn_ds, _libact_model: UncertaintySampling(trn_ds, model=_libact_model, method='lc'),\n",
    "        'libact_adaptor_ctor' : lambda tag2index, index2tag: create_libact_adaptor(tag2index, index2tag, LibActNN),\n",
    "        'name' : f'{attr}_MNLP',\n",
    "        'n_passes' : N_AL_PASSES,\n",
    "        'n_al_iterations' : N_AL_ITERATIONS,\n",
    "        'max_len' : MAX_LEN,\n",
    "        'max_samples_number' : N_SAMPLES_PER_AL_ITER,\n",
    "        'seed_elems_per_class' : SEED_POSITIVE,\n",
    "        'n_seeds_random' : SEED_RANDOM\n",
    "    }\n",
    "]\n",
    "\n",
    "experiments = []\n",
    "for attr, corpus in corpora.items():\n",
    "    experiments += create_i2b2_experiment_pack(corpus, attr)\n",
    "\n",
    "experiments"
   ]
  },
  {
   "cell_type": "code",
   "execution_count": null,
   "metadata": {},
   "outputs": [
    {
     "name": "stdout",
     "output_type": "stream",
     "text": [
      "2020-02-18 23:03:38,842 - biomed_ie - INFO - #################### Experiment ######################\n",
      "2020-02-18 23:03:38,843 - biomed_ie - INFO - {'corpus': <flair.datasets.ColumnCorpus object at 0x7f2cd04cf510>, 'output_file_path': '../workdir/experiments/17_biobert/', 'ranking_strategy': <function create_i2b2_experiment_pack.<locals>.<lambda> at 0x7f2c5fe7e560>, 'libact_adaptor_ctor': <function create_i2b2_experiment_pack.<locals>.<lambda> at 0x7f2c5fe7e5f0>, 'name': 'diabetes_MNLP', 'n_passes': 5, 'n_al_iterations': 25, 'max_len': 100, 'max_samples_number': 30, 'seed_elems_per_class': 10, 'n_seeds_random': 40}\n",
      "2020-02-18 23:03:39,825 - biomed_ie - INFO - Active learning...\n",
      "2020-02-18 23:03:39,826 - biomed_ie - INFO - =============== Pass: 0 =============\n",
      "2020-02-18 23:03:39,895 - biomed_ie - INFO - Number of seeding examples: 59\n",
      "2020-02-18 23:03:39,899 - biomed_ie - INFO - Start emulating active learning.\n"
     ]
    },
    {
     "name": "stderr",
     "output_type": "stream",
     "text": [
      "Epoch: 100%|██████████| 30/30 [00:23<00:00,  1.26it/s]\n"
     ]
    },
    {
     "name": "stdout",
     "output_type": "stream",
     "text": [
      "2020-02-18 23:04:33,044 - biomed_ie - INFO - Performance on seed examples: {'f1_entity_level': 0.6100536847242557}\n",
      "2020-02-18 23:04:33,046 - biomed_ie - INFO - Active learning iteration: #0\n"
     ]
    },
    {
     "name": "stderr",
     "output_type": "stream",
     "text": [
      "Epoch:  63%|██████▎   | 19/30 [00:20<00:11,  1.07s/it]\n"
     ]
    },
    {
     "name": "stdout",
     "output_type": "stream",
     "text": [
      "2020-02-18 23:05:49,384 - biomed_ie - INFO - Performance: {'f1_entity_level': 0.505664877757901}\n",
      "2020-02-18 23:05:49,386 - biomed_ie - INFO - Active learning iteration: #1\n"
     ]
    },
    {
     "name": "stderr",
     "output_type": "stream",
     "text": [
      "Epoch:  77%|███████▋  | 23/30 [00:26<00:08,  1.15s/it]\n"
     ]
    },
    {
     "name": "stdout",
     "output_type": "stream",
     "text": [
      "2020-02-18 23:07:11,744 - biomed_ie - INFO - Performance: {'f1_entity_level': 0.6040892193308551}\n",
      "2020-02-18 23:07:11,745 - biomed_ie - INFO - Active learning iteration: #2\n"
     ]
    },
    {
     "name": "stderr",
     "output_type": "stream",
     "text": [
      "Epoch:  70%|███████   | 21/30 [00:28<00:12,  1.34s/it]\n"
     ]
    },
    {
     "name": "stdout",
     "output_type": "stream",
     "text": [
      "2020-02-18 23:08:36,048 - biomed_ie - INFO - Performance: {'f1_entity_level': 0.6171835282155567}\n",
      "2020-02-18 23:08:36,050 - biomed_ie - INFO - Active learning iteration: #3\n"
     ]
    },
    {
     "name": "stderr",
     "output_type": "stream",
     "text": [
      "Epoch:  60%|██████    | 18/30 [00:28<00:19,  1.61s/it]\n"
     ]
    },
    {
     "name": "stdout",
     "output_type": "stream",
     "text": [
      "2020-02-18 23:10:01,022 - biomed_ie - INFO - Performance: {'f1_entity_level': 0.6252446183953033}\n",
      "2020-02-18 23:10:01,023 - biomed_ie - INFO - Active learning iteration: #4\n"
     ]
    },
    {
     "name": "stderr",
     "output_type": "stream",
     "text": [
      "Epoch:  60%|██████    | 18/30 [00:30<00:20,  1.71s/it]\n"
     ]
    },
    {
     "name": "stdout",
     "output_type": "stream",
     "text": [
      "2020-02-18 23:11:27,932 - biomed_ie - INFO - Performance: {'f1_entity_level': 0.6142241379310344}\n",
      "2020-02-18 23:11:27,934 - biomed_ie - INFO - Active learning iteration: #5\n"
     ]
    },
    {
     "name": "stderr",
     "output_type": "stream",
     "text": [
      "Epoch:  60%|██████    | 18/30 [00:33<00:22,  1.88s/it]\n"
     ]
    },
    {
     "name": "stdout",
     "output_type": "stream",
     "text": [
      "2020-02-18 23:12:57,663 - biomed_ie - INFO - Performance: {'f1_entity_level': 0.6378155589902113}\n",
      "2020-02-18 23:12:57,665 - biomed_ie - INFO - Active learning iteration: #6\n"
     ]
    },
    {
     "name": "stderr",
     "output_type": "stream",
     "text": [
      "Epoch:  63%|██████▎   | 19/30 [00:38<00:22,  2.02s/it]\n"
     ]
    },
    {
     "name": "stdout",
     "output_type": "stream",
     "text": [
      "2020-02-18 23:14:31,754 - biomed_ie - INFO - Performance: {'f1_entity_level': 0.624332977588047}\n",
      "2020-02-18 23:14:31,756 - biomed_ie - INFO - Active learning iteration: #7\n"
     ]
    },
    {
     "name": "stderr",
     "output_type": "stream",
     "text": [
      "Epoch:  53%|█████▎    | 16/30 [00:33<00:29,  2.10s/it]\n"
     ]
    },
    {
     "name": "stdout",
     "output_type": "stream",
     "text": [
      "2020-02-18 23:16:01,036 - biomed_ie - INFO - Performance: {'f1_entity_level': 0.5791549295774648}\n",
      "2020-02-18 23:16:01,037 - biomed_ie - INFO - Active learning iteration: #8\n"
     ]
    },
    {
     "name": "stderr",
     "output_type": "stream",
     "text": [
      "Epoch:  50%|█████     | 15/30 [00:35<00:35,  2.38s/it]\n"
     ]
    },
    {
     "name": "stdout",
     "output_type": "stream",
     "text": [
      "2020-02-18 23:17:32,928 - biomed_ie - INFO - Performance: {'f1_entity_level': 0.6044980800877674}\n",
      "2020-02-18 23:17:32,930 - biomed_ie - INFO - Active learning iteration: #9\n"
     ]
    },
    {
     "name": "stderr",
     "output_type": "stream",
     "text": [
      "Epoch:  53%|█████▎    | 16/30 [00:41<00:36,  2.58s/it]\n"
     ]
    },
    {
     "name": "stdout",
     "output_type": "stream",
     "text": [
      "2020-02-18 23:19:10,172 - biomed_ie - INFO - Performance: {'f1_entity_level': 0.6454013822434875}\n",
      "2020-02-18 23:19:10,173 - biomed_ie - INFO - Active learning iteration: #10\n"
     ]
    },
    {
     "name": "stderr",
     "output_type": "stream",
     "text": [
      "Epoch:  50%|█████     | 15/30 [00:43<00:43,  2.88s/it]\n"
     ]
    },
    {
     "name": "stdout",
     "output_type": "stream",
     "text": [
      "2020-02-18 23:20:49,190 - biomed_ie - INFO - Performance: {'f1_entity_level': 0.68259385665529}\n",
      "2020-02-18 23:20:49,192 - biomed_ie - INFO - Active learning iteration: #11\n"
     ]
    },
    {
     "name": "stderr",
     "output_type": "stream",
     "text": [
      "Epoch:  47%|████▋     | 14/30 [00:42<00:48,  3.05s/it]\n"
     ]
    },
    {
     "name": "stdout",
     "output_type": "stream",
     "text": [
      "2020-02-18 23:22:27,591 - biomed_ie - INFO - Performance: {'f1_entity_level': 0.5769020251778872}\n",
      "2020-02-18 23:22:27,592 - biomed_ie - INFO - Active learning iteration: #12\n"
     ]
    },
    {
     "name": "stderr",
     "output_type": "stream",
     "text": [
      "Epoch:  57%|█████▋    | 17/30 [00:54<00:41,  3.19s/it]\n"
     ]
    },
    {
     "name": "stdout",
     "output_type": "stream",
     "text": [
      "2020-02-18 23:24:17,342 - biomed_ie - INFO - Performance: {'f1_entity_level': 0.6882793017456359}\n",
      "2020-02-18 23:24:17,344 - biomed_ie - INFO - Active learning iteration: #13\n"
     ]
    },
    {
     "name": "stderr",
     "output_type": "stream",
     "text": [
      "Epoch:  50%|█████     | 15/30 [00:50<00:50,  3.38s/it]\n"
     ]
    },
    {
     "name": "stdout",
     "output_type": "stream",
     "text": [
      "2020-02-18 23:26:03,519 - biomed_ie - INFO - Performance: {'f1_entity_level': 0.6840148698884757}\n",
      "2020-02-18 23:26:03,521 - biomed_ie - INFO - Active learning iteration: #14\n"
     ]
    },
    {
     "name": "stderr",
     "output_type": "stream",
     "text": [
      "Epoch:  60%|██████    | 18/30 [01:01<00:41,  3.42s/it]\n"
     ]
    },
    {
     "name": "stdout",
     "output_type": "stream",
     "text": [
      "2020-02-18 23:28:00,454 - biomed_ie - INFO - Performance: {'f1_entity_level': 0.6886051080550097}\n",
      "2020-02-18 23:28:00,455 - biomed_ie - INFO - Active learning iteration: #15\n"
     ]
    },
    {
     "name": "stderr",
     "output_type": "stream",
     "text": [
      "Epoch:  53%|█████▎    | 16/30 [00:57<00:50,  3.60s/it]\n"
     ]
    },
    {
     "name": "stdout",
     "output_type": "stream",
     "text": [
      "2020-02-18 23:29:53,333 - biomed_ie - INFO - Performance: {'f1_entity_level': 0.7101449275362318}\n",
      "2020-02-18 23:29:53,335 - biomed_ie - INFO - Active learning iteration: #16\n"
     ]
    },
    {
     "name": "stderr",
     "output_type": "stream",
     "text": [
      "Epoch:  47%|████▋     | 14/30 [00:54<01:02,  3.88s/it]\n"
     ]
    },
    {
     "name": "stdout",
     "output_type": "stream",
     "text": [
      "2020-02-18 23:31:43,017 - biomed_ie - INFO - Performance: {'f1_entity_level': 0.6009070294784581}\n",
      "2020-02-18 23:31:43,019 - biomed_ie - INFO - Active learning iteration: #17\n"
     ]
    },
    {
     "name": "stderr",
     "output_type": "stream",
     "text": [
      "Epoch:  60%|██████    | 18/30 [01:12<00:48,  4.05s/it]\n"
     ]
    },
    {
     "name": "stdout",
     "output_type": "stream",
     "text": [
      "2020-02-18 23:33:51,016 - biomed_ie - INFO - Performance: {'f1_entity_level': 0.6681342872867364}\n",
      "2020-02-18 23:33:51,018 - biomed_ie - INFO - Active learning iteration: #18\n"
     ]
    },
    {
     "name": "stderr",
     "output_type": "stream",
     "text": [
      "Epoch:  57%|█████▋    | 17/30 [01:09<00:53,  4.11s/it]\n"
     ]
    },
    {
     "name": "stdout",
     "output_type": "stream",
     "text": [
      "2020-02-18 23:35:55,904 - biomed_ie - INFO - Performance: {'f1_entity_level': 0.6240913811007269}\n",
      "2020-02-18 23:35:55,905 - biomed_ie - INFO - Active learning iteration: #19\n"
     ]
    },
    {
     "name": "stderr",
     "output_type": "stream",
     "text": [
      "Epoch:  50%|█████     | 15/30 [01:04<01:04,  4.32s/it]\n"
     ]
    },
    {
     "name": "stdout",
     "output_type": "stream",
     "text": [
      "2020-02-18 23:37:55,767 - biomed_ie - INFO - Performance: {'f1_entity_level': 0.7196779063915452}\n",
      "2020-02-18 23:37:55,768 - biomed_ie - INFO - Active learning iteration: #20\n"
     ]
    },
    {
     "name": "stderr",
     "output_type": "stream",
     "text": [
      "Epoch:  50%|█████     | 15/30 [01:07<01:07,  4.51s/it]\n"
     ]
    },
    {
     "name": "stdout",
     "output_type": "stream",
     "text": [
      "2020-02-18 23:39:58,770 - biomed_ie - INFO - Performance: {'f1_entity_level': 0.6871165644171778}\n",
      "2020-02-18 23:39:58,771 - biomed_ie - INFO - Active learning iteration: #21\n"
     ]
    },
    {
     "name": "stderr",
     "output_type": "stream",
     "text": [
      "Epoch:  47%|████▋     | 14/30 [01:06<01:15,  4.75s/it]\n"
     ]
    },
    {
     "name": "stdout",
     "output_type": "stream",
     "text": [
      "2020-02-18 23:42:00,580 - biomed_ie - INFO - Performance: {'f1_entity_level': 0.6819338422391857}\n",
      "2020-02-18 23:42:00,582 - biomed_ie - INFO - Active learning iteration: #22\n"
     ]
    },
    {
     "name": "stderr",
     "output_type": "stream",
     "text": [
      "Epoch:   7%|▋         | 2/30 [00:09<02:13,  4.76s/it]"
     ]
    }
   ],
   "source": [
    "for exp in experiments[2:4]:\n",
    "    logger.info('#################### Experiment ######################')\n",
    "    logger.info(exp)\n",
    "    \n",
    "    run_experiment_al(**exp)\n",
    "    \n",
    "    logger.info('################### Experiment finished ##############')"
   ]
  }
 ],
 "metadata": {
  "kernelspec": {
   "display_name": "Python 3",
   "language": "python",
   "name": "python3"
  },
  "language_info": {
   "codemirror_mode": {
    "name": "ipython",
    "version": 3
   },
   "file_extension": ".py",
   "mimetype": "text/x-python",
   "name": "python",
   "nbconvert_exporter": "python",
   "pygments_lexer": "ipython3",
   "version": "3.7.4"
  }
 },
 "nbformat": 4,
 "nbformat_minor": 4
}
