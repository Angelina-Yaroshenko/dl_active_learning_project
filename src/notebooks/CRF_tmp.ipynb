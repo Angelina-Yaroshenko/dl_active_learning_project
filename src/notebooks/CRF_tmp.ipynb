{
  "nbformat": 4,
  "nbformat_minor": 0,
  "metadata": {
    "kernelspec": {
      "name": "python3",
      "display_name": "Python 3"
    },
    "language_info": {
      "codemirror_mode": {
        "name": "ipython",
        "version": 3
      },
      "file_extension": ".py",
      "mimetype": "text/x-python",
      "name": "python",
      "nbconvert_exporter": "python",
      "pygments_lexer": "ipython3",
      "version": "3.7.4"
    },
    "colab": {
      "name": "crf_tmp-Copy3.ipynb",
      "provenance": [],
      "collapsed_sections": []
    },
    "accelerator": "GPU",
    "widgets": {
      "application/vnd.jupyter.widget-state+json": {
        "aa0b557d17824678957586b87e84fecc": {
          "model_module": "@jupyter-widgets/controls",
          "model_name": "HBoxModel",
          "state": {
            "_view_name": "HBoxView",
            "_dom_classes": [],
            "_model_name": "HBoxModel",
            "_view_module": "@jupyter-widgets/controls",
            "_model_module_version": "1.5.0",
            "_view_count": null,
            "_view_module_version": "1.5.0",
            "box_style": "",
            "layout": "IPY_MODEL_e6fc59c5813847c4a83fd149687bfec7",
            "_model_module": "@jupyter-widgets/controls",
            "children": [
              "IPY_MODEL_e3f0094fc637459f982f5a01c2f99b4d",
              "IPY_MODEL_2f27f2b7fa324af6b3ae680832e7393e"
            ]
          }
        },
        "e6fc59c5813847c4a83fd149687bfec7": {
          "model_module": "@jupyter-widgets/base",
          "model_name": "LayoutModel",
          "state": {
            "_view_name": "LayoutView",
            "grid_template_rows": null,
            "right": null,
            "justify_content": null,
            "_view_module": "@jupyter-widgets/base",
            "overflow": null,
            "_model_module_version": "1.2.0",
            "_view_count": null,
            "flex_flow": null,
            "width": null,
            "min_width": null,
            "border": null,
            "align_items": null,
            "bottom": null,
            "_model_module": "@jupyter-widgets/base",
            "top": null,
            "grid_column": null,
            "overflow_y": null,
            "overflow_x": null,
            "grid_auto_flow": null,
            "grid_area": null,
            "grid_template_columns": null,
            "flex": null,
            "_model_name": "LayoutModel",
            "justify_items": null,
            "grid_row": null,
            "max_height": null,
            "align_content": null,
            "visibility": null,
            "align_self": null,
            "height": null,
            "min_height": null,
            "padding": null,
            "grid_auto_rows": null,
            "grid_gap": null,
            "max_width": null,
            "order": null,
            "_view_module_version": "1.2.0",
            "grid_template_areas": null,
            "object_position": null,
            "object_fit": null,
            "grid_auto_columns": null,
            "margin": null,
            "display": null,
            "left": null
          }
        },
        "e3f0094fc637459f982f5a01c2f99b4d": {
          "model_module": "@jupyter-widgets/controls",
          "model_name": "IntProgressModel",
          "state": {
            "_view_name": "ProgressView",
            "style": "IPY_MODEL_7aaea775cf4f4b8ab8838484c00dde9e",
            "_dom_classes": [],
            "description": "",
            "_model_name": "IntProgressModel",
            "bar_style": "success",
            "max": 352,
            "_view_module": "@jupyter-widgets/controls",
            "_model_module_version": "1.5.0",
            "value": 352,
            "_view_count": null,
            "_view_module_version": "1.5.0",
            "orientation": "horizontal",
            "min": 0,
            "description_tooltip": null,
            "_model_module": "@jupyter-widgets/controls",
            "layout": "IPY_MODEL_e4a9a3e3a0ac450e856d9f1644afe159"
          }
        },
        "2f27f2b7fa324af6b3ae680832e7393e": {
          "model_module": "@jupyter-widgets/controls",
          "model_name": "HTMLModel",
          "state": {
            "_view_name": "HTMLView",
            "style": "IPY_MODEL_0f831716c5d34483b7f0b9c888797fea",
            "_dom_classes": [],
            "description": "",
            "_model_name": "HTMLModel",
            "placeholder": "​",
            "_view_module": "@jupyter-widgets/controls",
            "_model_module_version": "1.5.0",
            "value": "100% 352/352 [47:33&lt;00:00,  6.56s/it]",
            "_view_count": null,
            "_view_module_version": "1.5.0",
            "description_tooltip": null,
            "_model_module": "@jupyter-widgets/controls",
            "layout": "IPY_MODEL_4860efbc06a54302b7f7e364789a816d"
          }
        },
        "7aaea775cf4f4b8ab8838484c00dde9e": {
          "model_module": "@jupyter-widgets/controls",
          "model_name": "ProgressStyleModel",
          "state": {
            "_view_name": "StyleView",
            "_model_name": "ProgressStyleModel",
            "description_width": "",
            "_view_module": "@jupyter-widgets/base",
            "_model_module_version": "1.5.0",
            "_view_count": null,
            "_view_module_version": "1.2.0",
            "bar_color": null,
            "_model_module": "@jupyter-widgets/controls"
          }
        },
        "e4a9a3e3a0ac450e856d9f1644afe159": {
          "model_module": "@jupyter-widgets/base",
          "model_name": "LayoutModel",
          "state": {
            "_view_name": "LayoutView",
            "grid_template_rows": null,
            "right": null,
            "justify_content": null,
            "_view_module": "@jupyter-widgets/base",
            "overflow": null,
            "_model_module_version": "1.2.0",
            "_view_count": null,
            "flex_flow": null,
            "width": null,
            "min_width": null,
            "border": null,
            "align_items": null,
            "bottom": null,
            "_model_module": "@jupyter-widgets/base",
            "top": null,
            "grid_column": null,
            "overflow_y": null,
            "overflow_x": null,
            "grid_auto_flow": null,
            "grid_area": null,
            "grid_template_columns": null,
            "flex": null,
            "_model_name": "LayoutModel",
            "justify_items": null,
            "grid_row": null,
            "max_height": null,
            "align_content": null,
            "visibility": null,
            "align_self": null,
            "height": null,
            "min_height": null,
            "padding": null,
            "grid_auto_rows": null,
            "grid_gap": null,
            "max_width": null,
            "order": null,
            "_view_module_version": "1.2.0",
            "grid_template_areas": null,
            "object_position": null,
            "object_fit": null,
            "grid_auto_columns": null,
            "margin": null,
            "display": null,
            "left": null
          }
        },
        "0f831716c5d34483b7f0b9c888797fea": {
          "model_module": "@jupyter-widgets/controls",
          "model_name": "DescriptionStyleModel",
          "state": {
            "_view_name": "StyleView",
            "_model_name": "DescriptionStyleModel",
            "description_width": "",
            "_view_module": "@jupyter-widgets/base",
            "_model_module_version": "1.5.0",
            "_view_count": null,
            "_view_module_version": "1.2.0",
            "_model_module": "@jupyter-widgets/controls"
          }
        },
        "4860efbc06a54302b7f7e364789a816d": {
          "model_module": "@jupyter-widgets/base",
          "model_name": "LayoutModel",
          "state": {
            "_view_name": "LayoutView",
            "grid_template_rows": null,
            "right": null,
            "justify_content": null,
            "_view_module": "@jupyter-widgets/base",
            "overflow": null,
            "_model_module_version": "1.2.0",
            "_view_count": null,
            "flex_flow": null,
            "width": null,
            "min_width": null,
            "border": null,
            "align_items": null,
            "bottom": null,
            "_model_module": "@jupyter-widgets/base",
            "top": null,
            "grid_column": null,
            "overflow_y": null,
            "overflow_x": null,
            "grid_auto_flow": null,
            "grid_area": null,
            "grid_template_columns": null,
            "flex": null,
            "_model_name": "LayoutModel",
            "justify_items": null,
            "grid_row": null,
            "max_height": null,
            "align_content": null,
            "visibility": null,
            "align_self": null,
            "height": null,
            "min_height": null,
            "padding": null,
            "grid_auto_rows": null,
            "grid_gap": null,
            "max_width": null,
            "order": null,
            "_view_module_version": "1.2.0",
            "grid_template_areas": null,
            "object_position": null,
            "object_fit": null,
            "grid_auto_columns": null,
            "margin": null,
            "display": null,
            "left": null
          }
        },
        "ee8ef77c8f1345a8b015a5ab5476a0cf": {
          "model_module": "@jupyter-widgets/controls",
          "model_name": "HBoxModel",
          "state": {
            "_view_name": "HBoxView",
            "_dom_classes": [],
            "_model_name": "HBoxModel",
            "_view_module": "@jupyter-widgets/controls",
            "_model_module_version": "1.5.0",
            "_view_count": null,
            "_view_module_version": "1.5.0",
            "box_style": "",
            "layout": "IPY_MODEL_578c8633770e4236a6119238ec21b171",
            "_model_module": "@jupyter-widgets/controls",
            "children": [
              "IPY_MODEL_77039ca3be5f4139aab6fc6fba0393ce",
              "IPY_MODEL_f9638bd2723c410499bd7ca4fcf7b0ed"
            ]
          }
        },
        "578c8633770e4236a6119238ec21b171": {
          "model_module": "@jupyter-widgets/base",
          "model_name": "LayoutModel",
          "state": {
            "_view_name": "LayoutView",
            "grid_template_rows": null,
            "right": null,
            "justify_content": null,
            "_view_module": "@jupyter-widgets/base",
            "overflow": null,
            "_model_module_version": "1.2.0",
            "_view_count": null,
            "flex_flow": null,
            "width": null,
            "min_width": null,
            "border": null,
            "align_items": null,
            "bottom": null,
            "_model_module": "@jupyter-widgets/base",
            "top": null,
            "grid_column": null,
            "overflow_y": null,
            "overflow_x": null,
            "grid_auto_flow": null,
            "grid_area": null,
            "grid_template_columns": null,
            "flex": null,
            "_model_name": "LayoutModel",
            "justify_items": null,
            "grid_row": null,
            "max_height": null,
            "align_content": null,
            "visibility": null,
            "align_self": null,
            "height": null,
            "min_height": null,
            "padding": null,
            "grid_auto_rows": null,
            "grid_gap": null,
            "max_width": null,
            "order": null,
            "_view_module_version": "1.2.0",
            "grid_template_areas": null,
            "object_position": null,
            "object_fit": null,
            "grid_auto_columns": null,
            "margin": null,
            "display": null,
            "left": null
          }
        },
        "77039ca3be5f4139aab6fc6fba0393ce": {
          "model_module": "@jupyter-widgets/controls",
          "model_name": "IntProgressModel",
          "state": {
            "_view_name": "ProgressView",
            "style": "IPY_MODEL_5e4b712bb4304d729b72541de8b3ae1e",
            "_dom_classes": [],
            "description": "",
            "_model_name": "IntProgressModel",
            "bar_style": "success",
            "max": 352,
            "_view_module": "@jupyter-widgets/controls",
            "_model_module_version": "1.5.0",
            "value": 352,
            "_view_count": null,
            "_view_module_version": "1.5.0",
            "orientation": "horizontal",
            "min": 0,
            "description_tooltip": null,
            "_model_module": "@jupyter-widgets/controls",
            "layout": "IPY_MODEL_a0ae4c324647468b9af7049eb7d8dea5"
          }
        },
        "f9638bd2723c410499bd7ca4fcf7b0ed": {
          "model_module": "@jupyter-widgets/controls",
          "model_name": "HTMLModel",
          "state": {
            "_view_name": "HTMLView",
            "style": "IPY_MODEL_5713d762f833406dad5aafc48163bdbc",
            "_dom_classes": [],
            "description": "",
            "_model_name": "HTMLModel",
            "placeholder": "​",
            "_view_module": "@jupyter-widgets/controls",
            "_model_module_version": "1.5.0",
            "value": "100% 352/352 [48:23&lt;00:00,  8.25s/it]",
            "_view_count": null,
            "_view_module_version": "1.5.0",
            "description_tooltip": null,
            "_model_module": "@jupyter-widgets/controls",
            "layout": "IPY_MODEL_e742efa1b1544ff99c28061791e0dcc0"
          }
        },
        "5e4b712bb4304d729b72541de8b3ae1e": {
          "model_module": "@jupyter-widgets/controls",
          "model_name": "ProgressStyleModel",
          "state": {
            "_view_name": "StyleView",
            "_model_name": "ProgressStyleModel",
            "description_width": "",
            "_view_module": "@jupyter-widgets/base",
            "_model_module_version": "1.5.0",
            "_view_count": null,
            "_view_module_version": "1.2.0",
            "bar_color": null,
            "_model_module": "@jupyter-widgets/controls"
          }
        },
        "a0ae4c324647468b9af7049eb7d8dea5": {
          "model_module": "@jupyter-widgets/base",
          "model_name": "LayoutModel",
          "state": {
            "_view_name": "LayoutView",
            "grid_template_rows": null,
            "right": null,
            "justify_content": null,
            "_view_module": "@jupyter-widgets/base",
            "overflow": null,
            "_model_module_version": "1.2.0",
            "_view_count": null,
            "flex_flow": null,
            "width": null,
            "min_width": null,
            "border": null,
            "align_items": null,
            "bottom": null,
            "_model_module": "@jupyter-widgets/base",
            "top": null,
            "grid_column": null,
            "overflow_y": null,
            "overflow_x": null,
            "grid_auto_flow": null,
            "grid_area": null,
            "grid_template_columns": null,
            "flex": null,
            "_model_name": "LayoutModel",
            "justify_items": null,
            "grid_row": null,
            "max_height": null,
            "align_content": null,
            "visibility": null,
            "align_self": null,
            "height": null,
            "min_height": null,
            "padding": null,
            "grid_auto_rows": null,
            "grid_gap": null,
            "max_width": null,
            "order": null,
            "_view_module_version": "1.2.0",
            "grid_template_areas": null,
            "object_position": null,
            "object_fit": null,
            "grid_auto_columns": null,
            "margin": null,
            "display": null,
            "left": null
          }
        },
        "5713d762f833406dad5aafc48163bdbc": {
          "model_module": "@jupyter-widgets/controls",
          "model_name": "DescriptionStyleModel",
          "state": {
            "_view_name": "StyleView",
            "_model_name": "DescriptionStyleModel",
            "description_width": "",
            "_view_module": "@jupyter-widgets/base",
            "_model_module_version": "1.5.0",
            "_view_count": null,
            "_view_module_version": "1.2.0",
            "_model_module": "@jupyter-widgets/controls"
          }
        },
        "e742efa1b1544ff99c28061791e0dcc0": {
          "model_module": "@jupyter-widgets/base",
          "model_name": "LayoutModel",
          "state": {
            "_view_name": "LayoutView",
            "grid_template_rows": null,
            "right": null,
            "justify_content": null,
            "_view_module": "@jupyter-widgets/base",
            "overflow": null,
            "_model_module_version": "1.2.0",
            "_view_count": null,
            "flex_flow": null,
            "width": null,
            "min_width": null,
            "border": null,
            "align_items": null,
            "bottom": null,
            "_model_module": "@jupyter-widgets/base",
            "top": null,
            "grid_column": null,
            "overflow_y": null,
            "overflow_x": null,
            "grid_auto_flow": null,
            "grid_area": null,
            "grid_template_columns": null,
            "flex": null,
            "_model_name": "LayoutModel",
            "justify_items": null,
            "grid_row": null,
            "max_height": null,
            "align_content": null,
            "visibility": null,
            "align_self": null,
            "height": null,
            "min_height": null,
            "padding": null,
            "grid_auto_rows": null,
            "grid_gap": null,
            "max_width": null,
            "order": null,
            "_view_module_version": "1.2.0",
            "grid_template_areas": null,
            "object_position": null,
            "object_fit": null,
            "grid_auto_columns": null,
            "margin": null,
            "display": null,
            "left": null
          }
        },
        "acc3a223492f4c8386d177d19e5133fc": {
          "model_module": "@jupyter-widgets/controls",
          "model_name": "HBoxModel",
          "state": {
            "_view_name": "HBoxView",
            "_dom_classes": [],
            "_model_name": "HBoxModel",
            "_view_module": "@jupyter-widgets/controls",
            "_model_module_version": "1.5.0",
            "_view_count": null,
            "_view_module_version": "1.5.0",
            "box_style": "",
            "layout": "IPY_MODEL_1d104854a11e4ad0829480f3375a4822",
            "_model_module": "@jupyter-widgets/controls",
            "children": [
              "IPY_MODEL_ac41295ecb31430aaf1737c1a641267d",
              "IPY_MODEL_f5a1db24f07f4a53bc9f29c99352d292"
            ]
          }
        },
        "1d104854a11e4ad0829480f3375a4822": {
          "model_module": "@jupyter-widgets/base",
          "model_name": "LayoutModel",
          "state": {
            "_view_name": "LayoutView",
            "grid_template_rows": null,
            "right": null,
            "justify_content": null,
            "_view_module": "@jupyter-widgets/base",
            "overflow": null,
            "_model_module_version": "1.2.0",
            "_view_count": null,
            "flex_flow": null,
            "width": null,
            "min_width": null,
            "border": null,
            "align_items": null,
            "bottom": null,
            "_model_module": "@jupyter-widgets/base",
            "top": null,
            "grid_column": null,
            "overflow_y": null,
            "overflow_x": null,
            "grid_auto_flow": null,
            "grid_area": null,
            "grid_template_columns": null,
            "flex": null,
            "_model_name": "LayoutModel",
            "justify_items": null,
            "grid_row": null,
            "max_height": null,
            "align_content": null,
            "visibility": null,
            "align_self": null,
            "height": null,
            "min_height": null,
            "padding": null,
            "grid_auto_rows": null,
            "grid_gap": null,
            "max_width": null,
            "order": null,
            "_view_module_version": "1.2.0",
            "grid_template_areas": null,
            "object_position": null,
            "object_fit": null,
            "grid_auto_columns": null,
            "margin": null,
            "display": null,
            "left": null
          }
        },
        "ac41295ecb31430aaf1737c1a641267d": {
          "model_module": "@jupyter-widgets/controls",
          "model_name": "IntProgressModel",
          "state": {
            "_view_name": "ProgressView",
            "style": "IPY_MODEL_1507dd0279024097ad873a920e64b18d",
            "_dom_classes": [],
            "description": "",
            "_model_name": "IntProgressModel",
            "bar_style": "success",
            "max": 352,
            "_view_module": "@jupyter-widgets/controls",
            "_model_module_version": "1.5.0",
            "value": 352,
            "_view_count": null,
            "_view_module_version": "1.5.0",
            "orientation": "horizontal",
            "min": 0,
            "description_tooltip": null,
            "_model_module": "@jupyter-widgets/controls",
            "layout": "IPY_MODEL_de87ca929d7641dba5e95a293fcad287"
          }
        },
        "f5a1db24f07f4a53bc9f29c99352d292": {
          "model_module": "@jupyter-widgets/controls",
          "model_name": "HTMLModel",
          "state": {
            "_view_name": "HTMLView",
            "style": "IPY_MODEL_c080eed7c2b34a64afad93e94d2ba17e",
            "_dom_classes": [],
            "description": "",
            "_model_name": "HTMLModel",
            "placeholder": "​",
            "_view_module": "@jupyter-widgets/controls",
            "_model_module_version": "1.5.0",
            "value": "100% 352/352 [48:24&lt;00:00,  6.07s/it]",
            "_view_count": null,
            "_view_module_version": "1.5.0",
            "description_tooltip": null,
            "_model_module": "@jupyter-widgets/controls",
            "layout": "IPY_MODEL_ec204515e2d04ee79142f774166956cf"
          }
        },
        "1507dd0279024097ad873a920e64b18d": {
          "model_module": "@jupyter-widgets/controls",
          "model_name": "ProgressStyleModel",
          "state": {
            "_view_name": "StyleView",
            "_model_name": "ProgressStyleModel",
            "description_width": "",
            "_view_module": "@jupyter-widgets/base",
            "_model_module_version": "1.5.0",
            "_view_count": null,
            "_view_module_version": "1.2.0",
            "bar_color": null,
            "_model_module": "@jupyter-widgets/controls"
          }
        },
        "de87ca929d7641dba5e95a293fcad287": {
          "model_module": "@jupyter-widgets/base",
          "model_name": "LayoutModel",
          "state": {
            "_view_name": "LayoutView",
            "grid_template_rows": null,
            "right": null,
            "justify_content": null,
            "_view_module": "@jupyter-widgets/base",
            "overflow": null,
            "_model_module_version": "1.2.0",
            "_view_count": null,
            "flex_flow": null,
            "width": null,
            "min_width": null,
            "border": null,
            "align_items": null,
            "bottom": null,
            "_model_module": "@jupyter-widgets/base",
            "top": null,
            "grid_column": null,
            "overflow_y": null,
            "overflow_x": null,
            "grid_auto_flow": null,
            "grid_area": null,
            "grid_template_columns": null,
            "flex": null,
            "_model_name": "LayoutModel",
            "justify_items": null,
            "grid_row": null,
            "max_height": null,
            "align_content": null,
            "visibility": null,
            "align_self": null,
            "height": null,
            "min_height": null,
            "padding": null,
            "grid_auto_rows": null,
            "grid_gap": null,
            "max_width": null,
            "order": null,
            "_view_module_version": "1.2.0",
            "grid_template_areas": null,
            "object_position": null,
            "object_fit": null,
            "grid_auto_columns": null,
            "margin": null,
            "display": null,
            "left": null
          }
        },
        "c080eed7c2b34a64afad93e94d2ba17e": {
          "model_module": "@jupyter-widgets/controls",
          "model_name": "DescriptionStyleModel",
          "state": {
            "_view_name": "StyleView",
            "_model_name": "DescriptionStyleModel",
            "description_width": "",
            "_view_module": "@jupyter-widgets/base",
            "_model_module_version": "1.5.0",
            "_view_count": null,
            "_view_module_version": "1.2.0",
            "_model_module": "@jupyter-widgets/controls"
          }
        },
        "ec204515e2d04ee79142f774166956cf": {
          "model_module": "@jupyter-widgets/base",
          "model_name": "LayoutModel",
          "state": {
            "_view_name": "LayoutView",
            "grid_template_rows": null,
            "right": null,
            "justify_content": null,
            "_view_module": "@jupyter-widgets/base",
            "overflow": null,
            "_model_module_version": "1.2.0",
            "_view_count": null,
            "flex_flow": null,
            "width": null,
            "min_width": null,
            "border": null,
            "align_items": null,
            "bottom": null,
            "_model_module": "@jupyter-widgets/base",
            "top": null,
            "grid_column": null,
            "overflow_y": null,
            "overflow_x": null,
            "grid_auto_flow": null,
            "grid_area": null,
            "grid_template_columns": null,
            "flex": null,
            "_model_name": "LayoutModel",
            "justify_items": null,
            "grid_row": null,
            "max_height": null,
            "align_content": null,
            "visibility": null,
            "align_self": null,
            "height": null,
            "min_height": null,
            "padding": null,
            "grid_auto_rows": null,
            "grid_gap": null,
            "max_width": null,
            "order": null,
            "_view_module_version": "1.2.0",
            "grid_template_areas": null,
            "object_position": null,
            "object_fit": null,
            "grid_auto_columns": null,
            "margin": null,
            "display": null,
            "left": null
          }
        },
        "411d5f36b9d94934ab5591f4283fbb54": {
          "model_module": "@jupyter-widgets/controls",
          "model_name": "HBoxModel",
          "state": {
            "_view_name": "HBoxView",
            "_dom_classes": [],
            "_model_name": "HBoxModel",
            "_view_module": "@jupyter-widgets/controls",
            "_model_module_version": "1.5.0",
            "_view_count": null,
            "_view_module_version": "1.5.0",
            "box_style": "",
            "layout": "IPY_MODEL_e5f3afddb05d416fa2ba9aef8bb1f906",
            "_model_module": "@jupyter-widgets/controls",
            "children": [
              "IPY_MODEL_53766b42a4db4e83a44483ef241a5895",
              "IPY_MODEL_c4f329e45419487b82fec79c312f5cde"
            ]
          }
        },
        "e5f3afddb05d416fa2ba9aef8bb1f906": {
          "model_module": "@jupyter-widgets/base",
          "model_name": "LayoutModel",
          "state": {
            "_view_name": "LayoutView",
            "grid_template_rows": null,
            "right": null,
            "justify_content": null,
            "_view_module": "@jupyter-widgets/base",
            "overflow": null,
            "_model_module_version": "1.2.0",
            "_view_count": null,
            "flex_flow": null,
            "width": null,
            "min_width": null,
            "border": null,
            "align_items": null,
            "bottom": null,
            "_model_module": "@jupyter-widgets/base",
            "top": null,
            "grid_column": null,
            "overflow_y": null,
            "overflow_x": null,
            "grid_auto_flow": null,
            "grid_area": null,
            "grid_template_columns": null,
            "flex": null,
            "_model_name": "LayoutModel",
            "justify_items": null,
            "grid_row": null,
            "max_height": null,
            "align_content": null,
            "visibility": null,
            "align_self": null,
            "height": null,
            "min_height": null,
            "padding": null,
            "grid_auto_rows": null,
            "grid_gap": null,
            "max_width": null,
            "order": null,
            "_view_module_version": "1.2.0",
            "grid_template_areas": null,
            "object_position": null,
            "object_fit": null,
            "grid_auto_columns": null,
            "margin": null,
            "display": null,
            "left": null
          }
        },
        "53766b42a4db4e83a44483ef241a5895": {
          "model_module": "@jupyter-widgets/controls",
          "model_name": "IntProgressModel",
          "state": {
            "_view_name": "ProgressView",
            "style": "IPY_MODEL_4517b9640b0944bfbb77223edd8ca013",
            "_dom_classes": [],
            "description": "",
            "_model_name": "IntProgressModel",
            "bar_style": "",
            "max": 352,
            "_view_module": "@jupyter-widgets/controls",
            "_model_module_version": "1.5.0",
            "value": 249,
            "_view_count": null,
            "_view_module_version": "1.5.0",
            "orientation": "horizontal",
            "min": 0,
            "description_tooltip": null,
            "_model_module": "@jupyter-widgets/controls",
            "layout": "IPY_MODEL_bb910f60c3134b3dad199624ffe5befd"
          }
        },
        "c4f329e45419487b82fec79c312f5cde": {
          "model_module": "@jupyter-widgets/controls",
          "model_name": "HTMLModel",
          "state": {
            "_view_name": "HTMLView",
            "style": "IPY_MODEL_181134118c8848bbbc56363b96708ebb",
            "_dom_classes": [],
            "description": "",
            "_model_name": "HTMLModel",
            "placeholder": "​",
            "_view_module": "@jupyter-widgets/controls",
            "_model_module_version": "1.5.0",
            "value": " 71% 249/352 [34:15&lt;15:47,  9.20s/it]",
            "_view_count": null,
            "_view_module_version": "1.5.0",
            "description_tooltip": null,
            "_model_module": "@jupyter-widgets/controls",
            "layout": "IPY_MODEL_7b1a13673815433da3453a7167d2c24f"
          }
        },
        "4517b9640b0944bfbb77223edd8ca013": {
          "model_module": "@jupyter-widgets/controls",
          "model_name": "ProgressStyleModel",
          "state": {
            "_view_name": "StyleView",
            "_model_name": "ProgressStyleModel",
            "description_width": "",
            "_view_module": "@jupyter-widgets/base",
            "_model_module_version": "1.5.0",
            "_view_count": null,
            "_view_module_version": "1.2.0",
            "bar_color": null,
            "_model_module": "@jupyter-widgets/controls"
          }
        },
        "bb910f60c3134b3dad199624ffe5befd": {
          "model_module": "@jupyter-widgets/base",
          "model_name": "LayoutModel",
          "state": {
            "_view_name": "LayoutView",
            "grid_template_rows": null,
            "right": null,
            "justify_content": null,
            "_view_module": "@jupyter-widgets/base",
            "overflow": null,
            "_model_module_version": "1.2.0",
            "_view_count": null,
            "flex_flow": null,
            "width": null,
            "min_width": null,
            "border": null,
            "align_items": null,
            "bottom": null,
            "_model_module": "@jupyter-widgets/base",
            "top": null,
            "grid_column": null,
            "overflow_y": null,
            "overflow_x": null,
            "grid_auto_flow": null,
            "grid_area": null,
            "grid_template_columns": null,
            "flex": null,
            "_model_name": "LayoutModel",
            "justify_items": null,
            "grid_row": null,
            "max_height": null,
            "align_content": null,
            "visibility": null,
            "align_self": null,
            "height": null,
            "min_height": null,
            "padding": null,
            "grid_auto_rows": null,
            "grid_gap": null,
            "max_width": null,
            "order": null,
            "_view_module_version": "1.2.0",
            "grid_template_areas": null,
            "object_position": null,
            "object_fit": null,
            "grid_auto_columns": null,
            "margin": null,
            "display": null,
            "left": null
          }
        },
        "181134118c8848bbbc56363b96708ebb": {
          "model_module": "@jupyter-widgets/controls",
          "model_name": "DescriptionStyleModel",
          "state": {
            "_view_name": "StyleView",
            "_model_name": "DescriptionStyleModel",
            "description_width": "",
            "_view_module": "@jupyter-widgets/base",
            "_model_module_version": "1.5.0",
            "_view_count": null,
            "_view_module_version": "1.2.0",
            "_model_module": "@jupyter-widgets/controls"
          }
        },
        "7b1a13673815433da3453a7167d2c24f": {
          "model_module": "@jupyter-widgets/base",
          "model_name": "LayoutModel",
          "state": {
            "_view_name": "LayoutView",
            "grid_template_rows": null,
            "right": null,
            "justify_content": null,
            "_view_module": "@jupyter-widgets/base",
            "overflow": null,
            "_model_module_version": "1.2.0",
            "_view_count": null,
            "flex_flow": null,
            "width": null,
            "min_width": null,
            "border": null,
            "align_items": null,
            "bottom": null,
            "_model_module": "@jupyter-widgets/base",
            "top": null,
            "grid_column": null,
            "overflow_y": null,
            "overflow_x": null,
            "grid_auto_flow": null,
            "grid_area": null,
            "grid_template_columns": null,
            "flex": null,
            "_model_name": "LayoutModel",
            "justify_items": null,
            "grid_row": null,
            "max_height": null,
            "align_content": null,
            "visibility": null,
            "align_self": null,
            "height": null,
            "min_height": null,
            "padding": null,
            "grid_auto_rows": null,
            "grid_gap": null,
            "max_width": null,
            "order": null,
            "_view_module_version": "1.2.0",
            "grid_template_areas": null,
            "object_position": null,
            "object_fit": null,
            "grid_auto_columns": null,
            "margin": null,
            "display": null,
            "left": null
          }
        }
      }
    }
  },
  "cells": [
    {
      "cell_type": "code",
      "metadata": {
        "id": "VmkK5L365es8",
        "colab_type": "code",
        "colab": {}
      },
      "source": [
        "%matplotlib inline\n",
        "import matplotlib.pyplot as plt\n",
        "plt.style.use('ggplot')"
      ],
      "execution_count": 0,
      "outputs": []
    },
    {
      "cell_type": "code",
      "metadata": {
        "id": "zyZBj4JP6AOp",
        "colab_type": "code",
        "outputId": "fa5b78ec-792c-414e-d8d1-8c8dc6844e4f",
        "colab": {
          "base_uri": "https://localhost:8080/",
          "height": 181
        }
      },
      "source": [
        "!pip install sklearn_crfsuite"
      ],
      "execution_count": 2,
      "outputs": [
        {
          "output_type": "stream",
          "text": [
            "Collecting sklearn_crfsuite\n",
            "  Downloading https://files.pythonhosted.org/packages/25/74/5b7befa513482e6dee1f3dd68171a6c9dfc14c0eaa00f885ffeba54fe9b0/sklearn_crfsuite-0.3.6-py2.py3-none-any.whl\n",
            "Requirement already satisfied: tabulate in /usr/local/lib/python3.6/dist-packages (from sklearn_crfsuite) (0.8.6)\n",
            "Requirement already satisfied: tqdm>=2.0 in /usr/local/lib/python3.6/dist-packages (from sklearn_crfsuite) (4.28.1)\n",
            "Collecting python-crfsuite>=0.8.3\n",
            "\u001b[?25l  Downloading https://files.pythonhosted.org/packages/2f/86/cfcd71edca9d25d3d331209a20f6314b6f3f134c29478f90559cee9ce091/python_crfsuite-0.9.6-cp36-cp36m-manylinux1_x86_64.whl (754kB)\n",
            "\u001b[K     |████████████████████████████████| 757kB 3.9MB/s \n",
            "\u001b[?25hRequirement already satisfied: six in /usr/local/lib/python3.6/dist-packages (from sklearn_crfsuite) (1.12.0)\n",
            "Installing collected packages: python-crfsuite, sklearn-crfsuite\n",
            "Successfully installed python-crfsuite-0.9.6 sklearn-crfsuite-0.3.6\n"
          ],
          "name": "stdout"
        }
      ]
    },
    {
      "cell_type": "code",
      "metadata": {
        "id": "Z93wUrbQ6Ucp",
        "colab_type": "code",
        "outputId": "f6dca6cc-e4e5-4592-8645-45e49ccd2198",
        "colab": {
          "base_uri": "https://localhost:8080/",
          "height": 577
        }
      },
      "source": [
        "!pip install pytorch_transformers"
      ],
      "execution_count": 3,
      "outputs": [
        {
          "output_type": "stream",
          "text": [
            "Collecting pytorch_transformers\n",
            "\u001b[?25l  Downloading https://files.pythonhosted.org/packages/a3/b7/d3d18008a67e0b968d1ab93ad444fc05699403fa662f634b2f2c318a508b/pytorch_transformers-1.2.0-py3-none-any.whl (176kB)\n",
            "\r\u001b[K     |█▉                              | 10kB 26.1MB/s eta 0:00:01\r\u001b[K     |███▊                            | 20kB 1.7MB/s eta 0:00:01\r\u001b[K     |█████▋                          | 30kB 2.6MB/s eta 0:00:01\r\u001b[K     |███████▍                        | 40kB 3.4MB/s eta 0:00:01\r\u001b[K     |█████████▎                      | 51kB 2.1MB/s eta 0:00:01\r\u001b[K     |███████████▏                    | 61kB 2.5MB/s eta 0:00:01\r\u001b[K     |█████████████                   | 71kB 2.9MB/s eta 0:00:01\r\u001b[K     |██████████████▉                 | 81kB 3.3MB/s eta 0:00:01\r\u001b[K     |████████████████▊               | 92kB 3.7MB/s eta 0:00:01\r\u001b[K     |██████████████████▋             | 102kB 2.8MB/s eta 0:00:01\r\u001b[K     |████████████████████▍           | 112kB 2.8MB/s eta 0:00:01\r\u001b[K     |██████████████████████▎         | 122kB 2.8MB/s eta 0:00:01\r\u001b[K     |████████████████████████▏       | 133kB 2.8MB/s eta 0:00:01\r\u001b[K     |██████████████████████████      | 143kB 2.8MB/s eta 0:00:01\r\u001b[K     |███████████████████████████▉    | 153kB 2.8MB/s eta 0:00:01\r\u001b[K     |█████████████████████████████▊  | 163kB 2.8MB/s eta 0:00:01\r\u001b[K     |███████████████████████████████▋| 174kB 2.8MB/s eta 0:00:01\r\u001b[K     |████████████████████████████████| 184kB 2.8MB/s \n",
            "\u001b[?25hRequirement already satisfied: tqdm in /usr/local/lib/python3.6/dist-packages (from pytorch_transformers) (4.28.1)\n",
            "Requirement already satisfied: numpy in /usr/local/lib/python3.6/dist-packages (from pytorch_transformers) (1.17.5)\n",
            "Collecting sacremoses\n",
            "\u001b[?25l  Downloading https://files.pythonhosted.org/packages/a6/b4/7a41d630547a4afd58143597d5a49e07bfd4c42914d8335b2a5657efc14b/sacremoses-0.0.38.tar.gz (860kB)\n",
            "\r\u001b[K     |▍                               | 10kB 24.6MB/s eta 0:00:01\r\u001b[K     |▊                               | 20kB 33.1MB/s eta 0:00:01\r\u001b[K     |█▏                              | 30kB 39.0MB/s eta 0:00:01\r\u001b[K     |█▌                              | 40kB 40.5MB/s eta 0:00:01\r\u001b[K     |██                              | 51kB 41.3MB/s eta 0:00:01\r\u001b[K     |██▎                             | 61kB 42.8MB/s eta 0:00:01\r\u001b[K     |██▋                             | 71kB 43.4MB/s eta 0:00:01\r\u001b[K     |███                             | 81kB 45.0MB/s eta 0:00:01\r\u001b[K     |███▍                            | 92kB 45.7MB/s eta 0:00:01\r\u001b[K     |███▉                            | 102kB 46.4MB/s eta 0:00:01\r\u001b[K     |████▏                           | 112kB 46.4MB/s eta 0:00:01\r\u001b[K     |████▋                           | 122kB 46.4MB/s eta 0:00:01\r\u001b[K     |█████                           | 133kB 46.4MB/s eta 0:00:01\r\u001b[K     |█████▎                          | 143kB 46.4MB/s eta 0:00:01\r\u001b[K     |█████▊                          | 153kB 46.4MB/s eta 0:00:01\r\u001b[K     |██████                          | 163kB 46.4MB/s eta 0:00:01\r\u001b[K     |██████▌                         | 174kB 46.4MB/s eta 0:00:01\r\u001b[K     |██████▉                         | 184kB 46.4MB/s eta 0:00:01\r\u001b[K     |███████▎                        | 194kB 46.4MB/s eta 0:00:01\r\u001b[K     |███████▋                        | 204kB 46.4MB/s eta 0:00:01\r\u001b[K     |████████                        | 215kB 46.4MB/s eta 0:00:01\r\u001b[K     |████████▍                       | 225kB 46.4MB/s eta 0:00:01\r\u001b[K     |████████▊                       | 235kB 46.4MB/s eta 0:00:01\r\u001b[K     |█████████▏                      | 245kB 46.4MB/s eta 0:00:01\r\u001b[K     |█████████▌                      | 256kB 46.4MB/s eta 0:00:01\r\u001b[K     |██████████                      | 266kB 46.4MB/s eta 0:00:01\r\u001b[K     |██████████▎                     | 276kB 46.4MB/s eta 0:00:01\r\u001b[K     |██████████▋                     | 286kB 46.4MB/s eta 0:00:01\r\u001b[K     |███████████                     | 296kB 46.4MB/s eta 0:00:01\r\u001b[K     |███████████▍                    | 307kB 46.4MB/s eta 0:00:01\r\u001b[K     |███████████▉                    | 317kB 46.4MB/s eta 0:00:01\r\u001b[K     |████████████▏                   | 327kB 46.4MB/s eta 0:00:01\r\u001b[K     |████████████▋                   | 337kB 46.4MB/s eta 0:00:01\r\u001b[K     |█████████████                   | 348kB 46.4MB/s eta 0:00:01\r\u001b[K     |█████████████▎                  | 358kB 46.4MB/s eta 0:00:01\r\u001b[K     |█████████████▊                  | 368kB 46.4MB/s eta 0:00:01\r\u001b[K     |██████████████                  | 378kB 46.4MB/s eta 0:00:01\r\u001b[K     |██████████████▌                 | 389kB 46.4MB/s eta 0:00:01\r\u001b[K     |██████████████▉                 | 399kB 46.4MB/s eta 0:00:01\r\u001b[K     |███████████████▎                | 409kB 46.4MB/s eta 0:00:01\r\u001b[K     |███████████████▋                | 419kB 46.4MB/s eta 0:00:01\r\u001b[K     |████████████████                | 430kB 46.4MB/s eta 0:00:01\r\u001b[K     |████████████████▍               | 440kB 46.4MB/s eta 0:00:01\r\u001b[K     |████████████████▊               | 450kB 46.4MB/s eta 0:00:01\r\u001b[K     |█████████████████▏              | 460kB 46.4MB/s eta 0:00:01\r\u001b[K     |█████████████████▌              | 471kB 46.4MB/s eta 0:00:01\r\u001b[K     |██████████████████              | 481kB 46.4MB/s eta 0:00:01\r\u001b[K     |██████████████████▎             | 491kB 46.4MB/s eta 0:00:01\r\u001b[K     |██████████████████▋             | 501kB 46.4MB/s eta 0:00:01\r\u001b[K     |███████████████████             | 512kB 46.4MB/s eta 0:00:01\r\u001b[K     |███████████████████▍            | 522kB 46.4MB/s eta 0:00:01\r\u001b[K     |███████████████████▉            | 532kB 46.4MB/s eta 0:00:01\r\u001b[K     |████████████████████▏           | 542kB 46.4MB/s eta 0:00:01\r\u001b[K     |████████████████████▋           | 552kB 46.4MB/s eta 0:00:01\r\u001b[K     |█████████████████████           | 563kB 46.4MB/s eta 0:00:01\r\u001b[K     |█████████████████████▎          | 573kB 46.4MB/s eta 0:00:01\r\u001b[K     |█████████████████████▊          | 583kB 46.4MB/s eta 0:00:01\r\u001b[K     |██████████████████████          | 593kB 46.4MB/s eta 0:00:01\r\u001b[K     |██████████████████████▌         | 604kB 46.4MB/s eta 0:00:01\r\u001b[K     |██████████████████████▉         | 614kB 46.4MB/s eta 0:00:01\r\u001b[K     |███████████████████████▏        | 624kB 46.4MB/s eta 0:00:01\r\u001b[K     |███████████████████████▋        | 634kB 46.4MB/s eta 0:00:01\r\u001b[K     |████████████████████████        | 645kB 46.4MB/s eta 0:00:01\r\u001b[K     |████████████████████████▍       | 655kB 46.4MB/s eta 0:00:01\r\u001b[K     |████████████████████████▊       | 665kB 46.4MB/s eta 0:00:01\r\u001b[K     |█████████████████████████▏      | 675kB 46.4MB/s eta 0:00:01\r\u001b[K     |█████████████████████████▌      | 686kB 46.4MB/s eta 0:00:01\r\u001b[K     |█████████████████████████▉      | 696kB 46.4MB/s eta 0:00:01\r\u001b[K     |██████████████████████████▎     | 706kB 46.4MB/s eta 0:00:01\r\u001b[K     |██████████████████████████▋     | 716kB 46.4MB/s eta 0:00:01\r\u001b[K     |███████████████████████████     | 727kB 46.4MB/s eta 0:00:01\r\u001b[K     |███████████████████████████▍    | 737kB 46.4MB/s eta 0:00:01\r\u001b[K     |███████████████████████████▉    | 747kB 46.4MB/s eta 0:00:01\r\u001b[K     |████████████████████████████▏   | 757kB 46.4MB/s eta 0:00:01\r\u001b[K     |████████████████████████████▌   | 768kB 46.4MB/s eta 0:00:01\r\u001b[K     |█████████████████████████████   | 778kB 46.4MB/s eta 0:00:01\r\u001b[K     |█████████████████████████████▎  | 788kB 46.4MB/s eta 0:00:01\r\u001b[K     |█████████████████████████████▊  | 798kB 46.4MB/s eta 0:00:01\r\u001b[K     |██████████████████████████████  | 808kB 46.4MB/s eta 0:00:01\r\u001b[K     |██████████████████████████████▌ | 819kB 46.4MB/s eta 0:00:01\r\u001b[K     |██████████████████████████████▉ | 829kB 46.4MB/s eta 0:00:01\r\u001b[K     |███████████████████████████████▏| 839kB 46.4MB/s eta 0:00:01\r\u001b[K     |███████████████████████████████▋| 849kB 46.4MB/s eta 0:00:01\r\u001b[K     |████████████████████████████████| 860kB 46.4MB/s eta 0:00:01\r\u001b[K     |████████████████████████████████| 870kB 46.4MB/s \n",
            "\u001b[?25hRequirement already satisfied: torch>=1.0.0 in /usr/local/lib/python3.6/dist-packages (from pytorch_transformers) (1.4.0)\n",
            "Requirement already satisfied: regex in /usr/local/lib/python3.6/dist-packages (from pytorch_transformers) (2019.12.20)\n",
            "Collecting sentencepiece\n",
            "\u001b[?25l  Downloading https://files.pythonhosted.org/packages/74/f4/2d5214cbf13d06e7cb2c20d84115ca25b53ea76fa1f0ade0e3c9749de214/sentencepiece-0.1.85-cp36-cp36m-manylinux1_x86_64.whl (1.0MB)\n",
            "\u001b[K     |████████████████████████████████| 1.0MB 56.5MB/s \n",
            "\u001b[?25hRequirement already satisfied: requests in /usr/local/lib/python3.6/dist-packages (from pytorch_transformers) (2.21.0)\n",
            "Requirement already satisfied: boto3 in /usr/local/lib/python3.6/dist-packages (from pytorch_transformers) (1.11.15)\n",
            "Requirement already satisfied: six in /usr/local/lib/python3.6/dist-packages (from sacremoses->pytorch_transformers) (1.12.0)\n",
            "Requirement already satisfied: click in /usr/local/lib/python3.6/dist-packages (from sacremoses->pytorch_transformers) (7.0)\n",
            "Requirement already satisfied: joblib in /usr/local/lib/python3.6/dist-packages (from sacremoses->pytorch_transformers) (0.14.1)\n",
            "Requirement already satisfied: idna<2.9,>=2.5 in /usr/local/lib/python3.6/dist-packages (from requests->pytorch_transformers) (2.8)\n",
            "Requirement already satisfied: chardet<3.1.0,>=3.0.2 in /usr/local/lib/python3.6/dist-packages (from requests->pytorch_transformers) (3.0.4)\n",
            "Requirement already satisfied: urllib3<1.25,>=1.21.1 in /usr/local/lib/python3.6/dist-packages (from requests->pytorch_transformers) (1.24.3)\n",
            "Requirement already satisfied: certifi>=2017.4.17 in /usr/local/lib/python3.6/dist-packages (from requests->pytorch_transformers) (2019.11.28)\n",
            "Requirement already satisfied: s3transfer<0.4.0,>=0.3.0 in /usr/local/lib/python3.6/dist-packages (from boto3->pytorch_transformers) (0.3.3)\n",
            "Requirement already satisfied: jmespath<1.0.0,>=0.7.1 in /usr/local/lib/python3.6/dist-packages (from boto3->pytorch_transformers) (0.9.4)\n",
            "Requirement already satisfied: botocore<1.15.0,>=1.14.15 in /usr/local/lib/python3.6/dist-packages (from boto3->pytorch_transformers) (1.14.15)\n",
            "Requirement already satisfied: python-dateutil<3.0.0,>=2.1 in /usr/local/lib/python3.6/dist-packages (from botocore<1.15.0,>=1.14.15->boto3->pytorch_transformers) (2.6.1)\n",
            "Requirement already satisfied: docutils<0.16,>=0.10 in /usr/local/lib/python3.6/dist-packages (from botocore<1.15.0,>=1.14.15->boto3->pytorch_transformers) (0.15.2)\n",
            "Building wheels for collected packages: sacremoses\n",
            "  Building wheel for sacremoses (setup.py) ... \u001b[?25l\u001b[?25hdone\n",
            "  Created wheel for sacremoses: filename=sacremoses-0.0.38-cp36-none-any.whl size=884628 sha256=067e9d522ad28b6d26e2d1dddb1891ee6fda4d6ac8bc60d56aa15d796b350189\n",
            "  Stored in directory: /root/.cache/pip/wheels/6d/ec/1a/21b8912e35e02741306f35f66c785f3afe94de754a0eaf1422\n",
            "Successfully built sacremoses\n",
            "Installing collected packages: sacremoses, sentencepiece, pytorch-transformers\n",
            "Successfully installed pytorch-transformers-1.2.0 sacremoses-0.0.38 sentencepiece-0.1.85\n"
          ],
          "name": "stdout"
        }
      ]
    },
    {
      "cell_type": "code",
      "metadata": {
        "id": "SKycXVS25etD",
        "colab_type": "code",
        "colab": {}
      },
      "source": [
        "from itertools import chain\n",
        "\n",
        "import nltk\n",
        "import sklearn\n",
        "import scipy.stats\n",
        "from sklearn.metrics import make_scorer\n",
        "from sklearn.model_selection import cross_val_score\n",
        "from sklearn.model_selection import RandomizedSearchCV\n",
        "\n",
        "import sklearn_crfsuite\n",
        "from sklearn_crfsuite import scorers\n",
        "from sklearn_crfsuite import metrics\n",
        "from pytorch_transformers import AdamW, WarmupLinearSchedule"
      ],
      "execution_count": 0,
      "outputs": []
    },
    {
      "cell_type": "code",
      "metadata": {
        "id": "u98mXPuh6ahc",
        "colab_type": "code",
        "outputId": "bb83ec55-0d4a-4072-b127-e0a1a58c4de3",
        "colab": {
          "base_uri": "https://localhost:8080/",
          "height": 82
        }
      },
      "source": [
        "!pip install pytorch-crf"
      ],
      "execution_count": 5,
      "outputs": [
        {
          "output_type": "stream",
          "text": [
            "Collecting pytorch-crf\n",
            "  Downloading https://files.pythonhosted.org/packages/96/7d/4c4688e26ea015fc118a0327e5726e6596836abce9182d3738be8ec2e32a/pytorch_crf-0.7.2-py3-none-any.whl\n",
            "Installing collected packages: pytorch-crf\n",
            "Successfully installed pytorch-crf-0.7.2\n"
          ],
          "name": "stdout"
        }
      ]
    },
    {
      "cell_type": "code",
      "metadata": {
        "id": "opMTyh2u5etG",
        "colab_type": "code",
        "colab": {}
      },
      "source": [
        "import torch\n",
        "import pandas as pd\n",
        "import numpy as np\n",
        "from torchcrf import CRF"
      ],
      "execution_count": 0,
      "outputs": []
    },
    {
      "cell_type": "code",
      "metadata": {
        "id": "Jye4BhZ95sLY",
        "colab_type": "code",
        "colab": {}
      },
      "source": [
        "device = torch.device('cuda')"
      ],
      "execution_count": 0,
      "outputs": []
    },
    {
      "cell_type": "markdown",
      "metadata": {
        "id": "TaOJ9JSM5etI",
        "colab_type": "text"
      },
      "source": [
        "## CRF-suite"
      ]
    },
    {
      "cell_type": "code",
      "metadata": {
        "id": "mzyH1IIj9HFW",
        "colab_type": "code",
        "outputId": "db24a076-5eef-43bd-b116-4606f4e6b11f",
        "colab": {
          "base_uri": "https://localhost:8080/",
          "height": 82
        }
      },
      "source": [
        "!pip install pyprind"
      ],
      "execution_count": 8,
      "outputs": [
        {
          "output_type": "stream",
          "text": [
            "Collecting pyprind\n",
            "  Downloading https://files.pythonhosted.org/packages/1e/30/e76fb0c45da8aef49ea8d2a90d4e7a6877b45894c25f12fb961f009a891e/PyPrind-2.11.2-py3-none-any.whl\n",
            "Installing collected packages: pyprind\n",
            "Successfully installed pyprind-2.11.2\n"
          ],
          "name": "stdout"
        }
      ]
    },
    {
      "cell_type": "code",
      "metadata": {
        "id": "MhL1Vem55etJ",
        "colab_type": "code",
        "colab": {}
      },
      "source": [
        "import math\n",
        "import warnings\n",
        "import pyprind"
      ],
      "execution_count": 0,
      "outputs": []
    },
    {
      "cell_type": "code",
      "metadata": {
        "id": "OIn5www-5etQ",
        "colab_type": "code",
        "outputId": "03fdc585-4d01-4b2b-e92d-b0dad74df151",
        "colab": {
          "base_uri": "https://localhost:8080/",
          "height": 165
        }
      },
      "source": [
        "ner_data = pd.read_csv(\"eng.train.txt\", sep=\" \", header=None, skip_blank_lines=False, encoding=\"utf-8\")\n",
        "ner_data.columns = [\"token\", \"pos\", \"chunk\", \"ne\"]\n",
        "\n",
        "# Explore the distribution of NE tags in the dataset\n",
        "tag_distribution = ner_data.groupby(\"ne\").size().reset_index(name='counts')\n",
        "print(tag_distribution)"
      ],
      "execution_count": 10,
      "outputs": [
        {
          "output_type": "stream",
          "text": [
            "       ne  counts\n",
            "0   B-LOC      11\n",
            "1  B-MISC      37\n",
            "2   B-ORG      24\n",
            "3   I-LOC    8286\n",
            "4  I-MISC    4556\n",
            "5   I-ORG   10001\n",
            "6   I-PER   11128\n",
            "7       O  168346\n"
          ],
          "name": "stdout"
        }
      ]
    },
    {
      "cell_type": "code",
      "metadata": {
        "id": "eAcCE6GY5etT",
        "colab_type": "code",
        "outputId": "2d3192bd-a796-4a57-b91f-29c18b05a67b",
        "colab": {
          "base_uri": "https://localhost:8080/",
          "height": 189
        }
      },
      "source": [
        "ner_data.head()"
      ],
      "execution_count": 11,
      "outputs": [
        {
          "output_type": "execute_result",
          "data": {
            "text/html": [
              "<div>\n",
              "<style scoped>\n",
              "    .dataframe tbody tr th:only-of-type {\n",
              "        vertical-align: middle;\n",
              "    }\n",
              "\n",
              "    .dataframe tbody tr th {\n",
              "        vertical-align: top;\n",
              "    }\n",
              "\n",
              "    .dataframe thead th {\n",
              "        text-align: right;\n",
              "    }\n",
              "</style>\n",
              "<table border=\"1\" class=\"dataframe\">\n",
              "  <thead>\n",
              "    <tr style=\"text-align: right;\">\n",
              "      <th></th>\n",
              "      <th>token</th>\n",
              "      <th>pos</th>\n",
              "      <th>chunk</th>\n",
              "      <th>ne</th>\n",
              "    </tr>\n",
              "  </thead>\n",
              "  <tbody>\n",
              "    <tr>\n",
              "      <th>0</th>\n",
              "      <td>-DOCSTART-</td>\n",
              "      <td>-X-</td>\n",
              "      <td>O</td>\n",
              "      <td>O</td>\n",
              "    </tr>\n",
              "    <tr>\n",
              "      <th>1</th>\n",
              "      <td>NaN</td>\n",
              "      <td>NaN</td>\n",
              "      <td>NaN</td>\n",
              "      <td>NaN</td>\n",
              "    </tr>\n",
              "    <tr>\n",
              "      <th>2</th>\n",
              "      <td>EU</td>\n",
              "      <td>NNP</td>\n",
              "      <td>I-NP</td>\n",
              "      <td>I-ORG</td>\n",
              "    </tr>\n",
              "    <tr>\n",
              "      <th>3</th>\n",
              "      <td>rejects</td>\n",
              "      <td>VBZ</td>\n",
              "      <td>I-VP</td>\n",
              "      <td>O</td>\n",
              "    </tr>\n",
              "    <tr>\n",
              "      <th>4</th>\n",
              "      <td>German</td>\n",
              "      <td>JJ</td>\n",
              "      <td>I-NP</td>\n",
              "      <td>I-MISC</td>\n",
              "    </tr>\n",
              "  </tbody>\n",
              "</table>\n",
              "</div>"
            ],
            "text/plain": [
              "        token  pos chunk      ne\n",
              "0  -DOCSTART-  -X-     O       O\n",
              "1         NaN  NaN   NaN     NaN\n",
              "2          EU  NNP  I-NP   I-ORG\n",
              "3     rejects  VBZ  I-VP       O\n",
              "4      German   JJ  I-NP  I-MISC"
            ]
          },
          "metadata": {
            "tags": []
          },
          "execution_count": 11
        }
      ]
    },
    {
      "cell_type": "code",
      "metadata": {
        "id": "BIDaMIK25etW",
        "colab_type": "code",
        "outputId": "e5b2a6e1-f828-4c8b-d843-6f63831985cb",
        "colab": {
          "base_uri": "https://localhost:8080/",
          "height": 33
        }
      },
      "source": [
        "classes = list(filter(lambda x: x not in [\"O\", np.nan], list(ner_data[\"ne\"].unique())))\n",
        "\n",
        "print(classes)"
      ],
      "execution_count": 12,
      "outputs": [
        {
          "output_type": "stream",
          "text": [
            "['I-ORG', 'I-MISC', 'I-PER', 'I-LOC', 'B-LOC', 'B-MISC', 'B-ORG']\n"
          ],
          "name": "stdout"
        }
      ]
    },
    {
      "cell_type": "code",
      "metadata": {
        "id": "SeIBlKNo5etY",
        "colab_type": "code",
        "outputId": "0f0beef6-88fd-408a-e013-8444046c5ec5",
        "colab": {
          "base_uri": "https://localhost:8080/",
          "height": 49
        }
      },
      "source": [
        "sentences, sentence = [], []\n",
        "pbar = pyprind.ProgBar(len(ner_data))\n",
        "\n",
        "for index, row in ner_data.iterrows():\n",
        "    # If the row is empty (no string in the token column)\n",
        "    if type(row[\"token\"]) != str:\n",
        "        # If the current sentence is not empty, append it to the sentences and create a new sentence\n",
        "        if len(sentence) > 0:\n",
        "            sentences.append(sentence)\n",
        "            sentence = []\n",
        "    else:\n",
        "        # If the row does not indicate the start of a document, add the token to the current sentence\n",
        "        if type(row[\"token\"]) != float and type(row[\"pos\"]) != float and type(row[\"ne\"]) != float:\n",
        "            if not row[\"token\"].startswith(\"-DOCSTART-\"):\n",
        "                sentence.append([row[\"token\"], row[\"pos\"], row[\"chunk\"], row[\"ne\"]])\n",
        "    pbar.update()"
      ],
      "execution_count": 13,
      "outputs": [
        {
          "output_type": "stream",
          "text": [
            "0% [##############################] 100% | ETA: 00:00:00\n",
            "Total time elapsed: 00:00:32\n"
          ],
          "name": "stderr"
        }
      ]
    },
    {
      "cell_type": "code",
      "metadata": {
        "id": "GzstGb4z5etc",
        "colab_type": "code",
        "colab": {}
      },
      "source": [
        "def word_features(sentence, i, use_chunks=False):\n",
        "    # Get the current word and POS\n",
        "    word = sentence[i][0]\n",
        "    pos = sentence[i][1]\n",
        "    \n",
        "    features = { \"bias\": 1.0,\n",
        "                 \"word.lower()\": word.lower(),\n",
        "                 \"word[-3:]\": word[-3:],\n",
        "                 \"word[-2:]\": word[-2:],\n",
        "                 \"word.isupper()\": word.isupper(),\n",
        "                 \"word.istitle()\": word.istitle(),\n",
        "                 \"word.isdigit()\": word.isdigit(),\n",
        "                 \"pos\": pos,\n",
        "                 \"pos[:2]\": pos[:2],\n",
        "               }\n",
        "    # If chunks are being used, add the current chunk to the feature dictionary\n",
        "    if use_chunks:\n",
        "        chunk = sentence[i][2]\n",
        "        features.update({ \"chunk\": chunk })\n",
        "    # If this is not the first word in the sentence...\n",
        "    if i > 0:\n",
        "        # Get the sentence's previous word and POS\n",
        "        prev_word = sentence[i-1][0]\n",
        "        prev_pos = sentence[i-1][1]\n",
        "        # Add characteristics of the sentence's previous word and POS to the feature dictionary\n",
        "        features.update({ \"-1:word.lower()\": prev_word.lower(),\n",
        "                          \"-1:word.istitle()\": prev_word.istitle(),\n",
        "                          \"-1:word.isupper()\": prev_word.isupper(),\n",
        "                          \"-1:pos\": prev_pos,\n",
        "                          \"-1:pos[:2]\": prev_pos[:2],\n",
        "                        })\n",
        "        # If chunks are being used, add the previous chunk to the feature dictionary\n",
        "        if use_chunks:\n",
        "            prev_chunk = sentence[i-1][2]\n",
        "            features.update({ \"-1:chunk\": prev_chunk })\n",
        "    # Otherwise, add 'BOS' (beginning of sentence) to the feature dictionary\n",
        "    else:\n",
        "        features[\"BOS\"] = True\n",
        "    # If this is not the last word in the sentence...\n",
        "    if i < len(sentence)-1:\n",
        "        # Get the sentence's next word and POS\n",
        "        next_word = sentence[i+1][0]\n",
        "        next_pos = sentence[i+1][1]\n",
        "        # Add characteristics of the sentence's previous next and POS to the feature dictionary\n",
        "        features.update({ \"+1:word.lower()\": next_word.lower(),\n",
        "                          \"+1:word.istitle()\": next_word.istitle(),\n",
        "                          \"+1:word.isupper()\": next_word.isupper(),\n",
        "                          \"+1:pos\": next_pos,\n",
        "                          \"+1:pos[:2]\": next_pos[:2],\n",
        "                        })\n",
        "        # If chunks are being used, add the next chunk to the feature dictionary\n",
        "        if use_chunks:\n",
        "            next_chunk = sentence[i+1][2]\n",
        "            features.update({ \"+1:chunk\": next_chunk })\n",
        "    # Otherwise, add 'EOS' (end of sentence) to the feature dictionary\n",
        "    else:\n",
        "        features[\"EOS\"] = True\n",
        "    # Return the feature dictionary\n",
        "    return features"
      ],
      "execution_count": 0,
      "outputs": []
    },
    {
      "cell_type": "code",
      "metadata": {
        "id": "UlcJCgRf5ete",
        "colab_type": "code",
        "colab": {}
      },
      "source": [
        "def sentence_features(sentence, use_chunks=False):\n",
        "    return [word_features(sentence, i, use_chunks) for i in range(len(sentence))]\n",
        "\n",
        "# Return the label (NER tag) for each word in a given sentence\n",
        "def sentence_labels(sentence):\n",
        "    return [label for token, pos, chunk, label in sentence]"
      ],
      "execution_count": 0,
      "outputs": []
    },
    {
      "cell_type": "code",
      "metadata": {
        "id": "RX3lSosW5eth",
        "colab_type": "code",
        "outputId": "a53a1883-17f7-48d0-acf5-22c1cc090f7d",
        "colab": {
          "base_uri": "https://localhost:8080/",
          "height": 152
        }
      },
      "source": [
        "from sklearn.model_selection import train_test_split\n",
        "X = [sentence_features(sentence) for sentence in sentences]\n",
        "y = [sentence_labels(sentence) for sentence in sentences]\n",
        "\n",
        "# Split X and y into training (80%) and test (20%) sets\n",
        "X_train, X_test, y_train, y_test = train_test_split(X, y, test_size=0.2, random_state=0)\n",
        "\n",
        "print(\"First token features:\\n{}\\n{}\".format(\"-\"*21, X_train[0][0]))\n",
        "print(\"\\nFirst token label:\\n{}\\n{}\".format(\"-\"*18, y_train[0][0]))"
      ],
      "execution_count": 16,
      "outputs": [
        {
          "output_type": "stream",
          "text": [
            "First token features:\n",
            "---------------------\n",
            "{'bias': 1.0, 'word.lower()': 'the', 'word[-3:]': 'The', 'word[-2:]': 'he', 'word.isupper()': False, 'word.istitle()': True, 'word.isdigit()': False, 'pos': 'DT', 'pos[:2]': 'DT', 'BOS': True, '+1:word.lower()': 'entire', '+1:word.istitle()': False, '+1:word.isupper()': False, '+1:pos': 'JJ', '+1:pos[:2]': 'JJ'}\n",
            "\n",
            "First token label:\n",
            "------------------\n",
            "O\n"
          ],
          "name": "stdout"
        }
      ]
    },
    {
      "cell_type": "code",
      "metadata": {
        "id": "riAtd6jU5etj",
        "colab_type": "code",
        "outputId": "a00fa2f6-651b-45c0-9ed2-9f74697dda2f",
        "colab": {
          "base_uri": "https://localhost:8080/",
          "height": 185
        }
      },
      "source": [
        "crf = sklearn_crfsuite.CRF(algorithm=\"lbfgs\",\n",
        "          c1=0.1,\n",
        "          c2=0.1,\n",
        "          max_iterations=100,\n",
        "          all_possible_transitions=True)\n",
        "\n",
        "# Train the CRF model on the supplied training data\n",
        "crf.fit(X_train, y_train)"
      ],
      "execution_count": 17,
      "outputs": [
        {
          "output_type": "stream",
          "text": [
            "/usr/local/lib/python3.6/dist-packages/sklearn/base.py:197: FutureWarning: From version 0.24, get_params will raise an AttributeError if a parameter cannot be retrieved as an instance attribute. Previously it would return None.\n",
            "  FutureWarning)\n"
          ],
          "name": "stderr"
        },
        {
          "output_type": "execute_result",
          "data": {
            "text/plain": [
              "CRF(algorithm='lbfgs', all_possible_states=None, all_possible_transitions=True,\n",
              "    averaging=None, c=None, c1=0.1, c2=0.1, calibration_candidates=None,\n",
              "    calibration_eta=None, calibration_max_trials=None, calibration_rate=None,\n",
              "    calibration_samples=None, delta=None, epsilon=None, error_sensitive=None,\n",
              "    gamma=None, keep_tempfiles=None, linesearch=None, max_iterations=100,\n",
              "    max_linesearch=None, min_freq=None, model_filename=None, num_memories=None,\n",
              "    pa_type=None, period=None, trainer_cls=None, variance=None, verbose=False)"
            ]
          },
          "metadata": {
            "tags": []
          },
          "execution_count": 17
        }
      ]
    },
    {
      "cell_type": "code",
      "metadata": {
        "id": "26pP67KA5etl",
        "colab_type": "code",
        "outputId": "f41fc3f2-50ef-42a3-b507-2880a8cbf894",
        "colab": {}
      },
      "source": [
        "y_pred = crf.predict(X_test)\n",
        "print(metrics.flat_classification_report(y_test, y_pred, labels=classes))"
      ],
      "execution_count": 0,
      "outputs": [
        {
          "output_type": "stream",
          "text": [
            "             precision    recall  f1-score   support\n",
            "\n",
            "      I-ORG       0.90      0.88      0.89      2082\n",
            "     I-MISC       0.92      0.84      0.88       932\n",
            "      I-PER       0.93      0.94      0.94      2220\n",
            "      I-LOC       0.91      0.92      0.92      1614\n",
            "      B-LOC       1.00      1.00      1.00         2\n",
            "     B-MISC       0.00      0.00      0.00         5\n",
            "      B-ORG       1.00      1.00      1.00         8\n",
            "\n",
            "avg / total       0.92      0.90      0.91      6863\n",
            "\n"
          ],
          "name": "stdout"
        },
        {
          "output_type": "stream",
          "text": [
            "/Users/liubovkupriianova/opt/anaconda3/lib/python3.7/site-packages/sklearn/metrics/classification.py:1135: UndefinedMetricWarning: Precision and F-score are ill-defined and being set to 0.0 in labels with no predicted samples.\n",
            "  'precision', 'predicted', average, warn_for)\n"
          ],
          "name": "stderr"
        }
      ]
    },
    {
      "cell_type": "markdown",
      "metadata": {
        "id": "ioBgeyYi5eto",
        "colab_type": "text"
      },
      "source": [
        "## CRF-pytorch"
      ]
    },
    {
      "cell_type": "code",
      "metadata": {
        "id": "NmPgotnG5etp",
        "colab_type": "code",
        "colab": {}
      },
      "source": [
        "from sklearn.feature_extraction import DictVectorizer\n",
        "import torch\n",
        "import torch.nn as nn\n",
        "import torch.nn.functional as F\n",
        "import torch.optim as optim\n",
        "import os\n",
        "from tqdm import tqdm_notebook as tqdm\n",
        "from torch.utils.data import DataLoader\n",
        "import numpy as np\n",
        "from torch.optim import Adam\n",
        "from pytorch_transformers import WarmupLinearSchedule\n",
        "from tqdm import trange"
      ],
      "execution_count": 0,
      "outputs": []
    },
    {
      "cell_type": "code",
      "metadata": {
        "id": "_GqwhmOqrkJz",
        "colab_type": "code",
        "colab": {}
      },
      "source": [
        "for i in range(len(y_train)):\n",
        "    y_train[i] = np.where(y_train[i] == 'B-LOC', 'I-LOC', y_train[i])\n",
        "    y_train[i] = np.where(y_train[i] == 'B-LOC', 'I-LOC', y_train[i])\n",
        "    y_train[i] = np.where(y_train[i] == 'B-MISC', 'I-MISC', y_train[i])\n",
        "    y_train[i] = np.where(y_train[i] == 'B-ORG', 'I-ORG', y_train[i])"
      ],
      "execution_count": 0,
      "outputs": []
    },
    {
      "cell_type": "code",
      "metadata": {
        "id": "7BevEUkK5ets",
        "colab_type": "code",
        "colab": {}
      },
      "source": [
        "tags_vals = ['I-LOC', 'I-MISC', 'I-ORG', 'I-PER', 'O']\n",
        "tag2idx = {t : i for i, t in enumerate(tags_vals)}"
      ],
      "execution_count": 0,
      "outputs": []
    },
    {
      "cell_type": "code",
      "metadata": {
        "id": "trQOOr785etu",
        "colab_type": "code",
        "outputId": "0919d401-3e43-4c6b-eb58-4bdae875120a",
        "colab": {
          "base_uri": "https://localhost:8080/",
          "height": 33
        }
      },
      "source": [
        "tag2idx"
      ],
      "execution_count": 21,
      "outputs": [
        {
          "output_type": "execute_result",
          "data": {
            "text/plain": [
              "{'I-LOC': 0, 'I-MISC': 1, 'I-ORG': 2, 'I-PER': 3, 'O': 4}"
            ]
          },
          "metadata": {
            "tags": []
          },
          "execution_count": 21
        }
      ]
    },
    {
      "cell_type": "code",
      "metadata": {
        "id": "tOzFxUhL5etx",
        "colab_type": "code",
        "outputId": "a48119e3-ac2d-4433-e5d5-f482b61ab8be",
        "colab": {
          "base_uri": "https://localhost:8080/",
          "height": 49
        }
      },
      "source": [
        "concat_train = np.concatenate(X_train)\n",
        "vectorizer = DictVectorizer()                               \n",
        "vectorizer.fit(concat_train) "
      ],
      "execution_count": 22,
      "outputs": [
        {
          "output_type": "execute_result",
          "data": {
            "text/plain": [
              "DictVectorizer(dtype=<class 'numpy.float64'>, separator='=', sort=True,\n",
              "               sparse=True)"
            ]
          },
          "metadata": {
            "tags": []
          },
          "execution_count": 22
        }
      ]
    },
    {
      "cell_type": "code",
      "metadata": {
        "id": "wcRiYRXZ5etz",
        "colab_type": "code",
        "outputId": "eb2be8b1-4f4b-464c-f8fa-738a7d400001",
        "colab": {
          "base_uri": "https://localhost:8080/",
          "height": 33
        }
      },
      "source": [
        "vectorizer.transform(concat_train[:100]).toarray().shape"
      ],
      "execution_count": 23,
      "outputs": [
        {
          "output_type": "execute_result",
          "data": {
            "text/plain": [
              "(100, 61544)"
            ]
          },
          "metadata": {
            "tags": []
          },
          "execution_count": 23
        }
      ]
    },
    {
      "cell_type": "code",
      "metadata": {
        "id": "_yIeZRo35et3",
        "colab_type": "code",
        "outputId": "73ecda1f-6218-40b0-9d91-702fc0d43381",
        "colab": {
          "base_uri": "https://localhost:8080/",
          "height": 33
        }
      },
      "source": [
        "X_lens = [len(X_train[i]) for i in range(len(X_train))]\n",
        "y_lens = [len(y_train[i]) for i in range(len(y_train))]\n",
        "X_lens == y_lens"
      ],
      "execution_count": 24,
      "outputs": [
        {
          "output_type": "execute_result",
          "data": {
            "text/plain": [
              "True"
            ]
          },
          "metadata": {
            "tags": []
          },
          "execution_count": 24
        }
      ]
    },
    {
      "cell_type": "code",
      "metadata": {
        "id": "8LC31DqA5et6",
        "colab_type": "code",
        "colab": {}
      },
      "source": [
        "def vectorize_feats_tags(features, tag_seq, bs=32):\n",
        "              \n",
        "    seq_len = np.max([len(features[i]) for i in range(len(features))])\n",
        "    vectorized_features = [vectorizer.transform(f).toarray() for f in features]\n",
        "    tag_seq = [[tag2idx.get(t) for t in one_seq] for one_seq in tag_seq] \n",
        "    \n",
        "    for i in range(len(tag_seq)):\n",
        "        if seq_len - len(tag_seq[i]) > 0:\n",
        "            padding = [-1] * (seq_len - len(tag_seq[i]))\n",
        "            tag_seq[i] += padding \n",
        "    \n",
        "    vectorized_features_ = vectorized_features.copy()\n",
        "    for i in range(len(vectorized_features_)):\n",
        "        shape_0 = len(vectorized_features_[i])\n",
        "        if seq_len - shape_0 > 0:\n",
        "            vectorized_features_[i] = np.vstack((vectorized_features_[i], np.zeros(shape=(seq_len - shape_0, vectorized_features_[0].shape[1]))))\n",
        "            \n",
        "    \n",
        "    tag_seq_tens = torch.tensor(tag_seq, dtype=torch.long)\n",
        "    lab_mask = tag_seq_tens >= 0\n",
        "    out_features = torch.tensor(vectorized_features_)\n",
        "\n",
        "    tag_seq_tens = tag_seq_tens.to(device)\n",
        "    lab_mask = lab_mask.to(device)\n",
        "    out_features = out_features.to(device)\n",
        "    \n",
        "    return out_features, tag_seq_tens, lab_mask"
      ],
      "execution_count": 0,
      "outputs": []
    },
    {
      "cell_type": "code",
      "metadata": {
        "id": "zGW1qgNK5et8",
        "colab_type": "code",
        "colab": {}
      },
      "source": [
        "class LogReg(nn.Module):\n",
        "    def __init__(self, num_labels=5, bs=32, feature_dim=61544):\n",
        "        super().__init__()\n",
        "        self.linear = nn.Linear(feature_dim, num_labels)\n",
        "\n",
        "    def forward(self, inp_vec):\n",
        "        return F.log_softmax(self.linear(inp_vec), dim=1)"
      ],
      "execution_count": 0,
      "outputs": []
    },
    {
      "cell_type": "code",
      "metadata": {
        "id": "YuOgQgLW5et-",
        "colab_type": "code",
        "colab": {}
      },
      "source": [
        "class CRF_baseline(nn.Module):\n",
        "    def __init__(self, num_classes=5):\n",
        "        super().__init__()\n",
        "        self.lr_layer = LogReg()\n",
        "        self.crf_layer = CRF(num_classes, batch_first=True)\n",
        "    \n",
        "    def forward(self, features, tags, mask):\n",
        "        logits = self.lr_layer(features.float())\n",
        "        return -self.crf_layer(logits, tags, mask=mask)\n",
        "\n",
        "    def decode(self, features, tags, mask):\n",
        "        emissions = self.lr_layer(features.float())\n",
        "        return self.crf_layer.decode(emissions, mask=mask)"
      ],
      "execution_count": 0,
      "outputs": []
    },
    {
      "cell_type": "code",
      "metadata": {
        "id": "6Q5dVjZg5euA",
        "colab_type": "code",
        "colab": {}
      },
      "source": [
        "def batch_accuracy(preds, *true_lab):\n",
        "    accs_batch = []\n",
        "    for i in range(len(preds)):\n",
        "        preds_tens = torch.tensor(preds[i])\n",
        "        preds_tens = preds_tens.to(device)\n",
        "        accs_batch.append(sum(true_lab[1][i][true_lab[2][i]] == preds_tens).item() / len(preds[i]))\n",
        "    return np.mean(accs_batch)"
      ],
      "execution_count": 0,
      "outputs": []
    },
    {
      "cell_type": "code",
      "metadata": {
        "id": "Sx2GjayI5euC",
        "colab_type": "code",
        "colab": {}
      },
      "source": [
        "model = CRF_baseline()\n",
        "model = model.to(device)\n",
        "MAX_N_EPOCHS = 7\n",
        "BATCH_SIZE = 32\n",
        "LEARNING_RATE = 1e-3\n",
        "optimizer = Adam(model.parameters(), lr=LEARNING_RATE)\n",
        "lr_scheduler = WarmupLinearSchedule(optimizer, warmup_steps=0.1, t_total=(len(X_train)//BATCH_SIZE) * MAX_N_EPOCHS)\n",
        "\n",
        "def make_tensors(dataset_row):\n",
        "    tokens, labels = tuple(zip(*dataset_row))\n",
        "    return vectorize_feats_tags(tokens, labels)\n",
        "\n",
        "def train(model, optimizer, lr_scheduler, train_dataset, y):\n",
        "    train_dataloader = DataLoader(tuple(zip(train_dataset, y)), batch_size=BATCH_SIZE, shuffle=True, collate_fn=make_tensors)\n",
        "    train_loss = dev_loss = []\n",
        "    train_acc = dev_acc = []\n",
        "    \n",
        "    for epoch in trange(MAX_N_EPOCHS, desc='Epoch'):\n",
        "        model.train()\n",
        "        cur_loss = 0\n",
        "        cur_acc = 0 \n",
        "        for batch_tensors in tqdm(train_dataloader):\n",
        "            model.train()\n",
        "            model.zero_grad()\n",
        "            loss = model(*batch_tensors)\n",
        "            loss.backward()\n",
        "            optimizer.step()\n",
        "            lr_scheduler.step()\n",
        "\n",
        "            cur_loss += loss.item()\n",
        "\n",
        "            model.eval()\n",
        "            pred = model.decode(*batch_tensors)\n",
        "            cur_acc += batch_accuracy(pred, *batch_tensors)\n",
        "\n",
        "        train_loss.append(cur_loss / (len(train_dataset)/BATCH_SIZE))\n",
        "        train_acc.append(cur_acc / (len(train_dataset)/BATCH_SIZE))\n",
        "\n",
        "        print('Loss: %.4f' % np.mean(np.array(train_loss)))\n",
        "        print('Accuracy: %.4f' % np.mean(np.array(train_acc)))\n",
        "    return train_loss, train_acc"
      ],
      "execution_count": 0,
      "outputs": []
    },
    {
      "cell_type": "code",
      "metadata": {
        "id": "RA0N2vzKg8Ia",
        "colab_type": "code",
        "colab": {
          "base_uri": "https://localhost:8080/",
          "height": 310,
          "referenced_widgets": [
            "aa0b557d17824678957586b87e84fecc",
            "e6fc59c5813847c4a83fd149687bfec7",
            "e3f0094fc637459f982f5a01c2f99b4d",
            "2f27f2b7fa324af6b3ae680832e7393e",
            "7aaea775cf4f4b8ab8838484c00dde9e",
            "e4a9a3e3a0ac450e856d9f1644afe159",
            "0f831716c5d34483b7f0b9c888797fea",
            "4860efbc06a54302b7f7e364789a816d",
            "ee8ef77c8f1345a8b015a5ab5476a0cf",
            "578c8633770e4236a6119238ec21b171",
            "77039ca3be5f4139aab6fc6fba0393ce",
            "f9638bd2723c410499bd7ca4fcf7b0ed",
            "5e4b712bb4304d729b72541de8b3ae1e",
            "a0ae4c324647468b9af7049eb7d8dea5",
            "5713d762f833406dad5aafc48163bdbc",
            "e742efa1b1544ff99c28061791e0dcc0",
            "acc3a223492f4c8386d177d19e5133fc",
            "1d104854a11e4ad0829480f3375a4822",
            "ac41295ecb31430aaf1737c1a641267d",
            "f5a1db24f07f4a53bc9f29c99352d292",
            "1507dd0279024097ad873a920e64b18d",
            "de87ca929d7641dba5e95a293fcad287",
            "c080eed7c2b34a64afad93e94d2ba17e",
            "ec204515e2d04ee79142f774166956cf",
            "411d5f36b9d94934ab5591f4283fbb54",
            "e5f3afddb05d416fa2ba9aef8bb1f906",
            "53766b42a4db4e83a44483ef241a5895",
            "c4f329e45419487b82fec79c312f5cde",
            "4517b9640b0944bfbb77223edd8ca013",
            "bb910f60c3134b3dad199624ffe5befd",
            "181134118c8848bbbc56363b96708ebb",
            "7b1a13673815433da3453a7167d2c24f"
          ]
        },
        "outputId": "2d9d509e-dd09-4803-8a24-8fe8fbf2360f"
      },
      "source": [
        "train_loss_accs = train(model, optimizer, lr_scheduler, X_train, y_train)"
      ],
      "execution_count": 0,
      "outputs": [
        {
          "output_type": "stream",
          "text": [
            "\rEpoch:   0%|          | 0/7 [00:00<?, ?it/s]"
          ],
          "name": "stderr"
        },
        {
          "output_type": "display_data",
          "data": {
            "application/vnd.jupyter.widget-view+json": {
              "model_id": "aa0b557d17824678957586b87e84fecc",
              "version_minor": 0,
              "version_major": 2
            },
            "text/plain": [
              "HBox(children=(IntProgress(value=0, max=352), HTML(value='')))"
            ]
          },
          "metadata": {
            "tags": []
          }
        },
        {
          "output_type": "stream",
          "text": [
            "\rEpoch:  14%|█▍        | 1/7 [47:33<4:45:23, 2853.87s/it]"
          ],
          "name": "stderr"
        },
        {
          "output_type": "stream",
          "text": [
            "\n",
            "Loss: 414.7999\n",
            "Accuracy: 0.7866\n"
          ],
          "name": "stdout"
        },
        {
          "output_type": "display_data",
          "data": {
            "application/vnd.jupyter.widget-view+json": {
              "model_id": "ee8ef77c8f1345a8b015a5ab5476a0cf",
              "version_minor": 0,
              "version_major": 2
            },
            "text/plain": [
              "HBox(children=(IntProgress(value=0, max=352), HTML(value='')))"
            ]
          },
          "metadata": {
            "tags": []
          }
        },
        {
          "output_type": "stream",
          "text": [
            "\rEpoch:  29%|██▊       | 2/7 [1:35:56<3:59:03, 2868.64s/it]"
          ],
          "name": "stderr"
        },
        {
          "output_type": "stream",
          "text": [
            "\n",
            "Loss: 296.3996\n",
            "Accuracy: 0.8293\n"
          ],
          "name": "stdout"
        },
        {
          "output_type": "display_data",
          "data": {
            "application/vnd.jupyter.widget-view+json": {
              "model_id": "acc3a223492f4c8386d177d19e5133fc",
              "version_minor": 0,
              "version_major": 2
            },
            "text/plain": [
              "HBox(children=(IntProgress(value=0, max=352), HTML(value='')))"
            ]
          },
          "metadata": {
            "tags": []
          }
        },
        {
          "output_type": "stream",
          "text": [
            "\rEpoch:  43%|████▎     | 3/7 [2:24:21<3:11:57, 2879.27s/it]"
          ],
          "name": "stderr"
        },
        {
          "output_type": "stream",
          "text": [
            "\n",
            "Loss: 238.6805\n",
            "Accuracy: 0.8571\n"
          ],
          "name": "stdout"
        },
        {
          "output_type": "display_data",
          "data": {
            "application/vnd.jupyter.widget-view+json": {
              "model_id": "411d5f36b9d94934ab5591f4283fbb54",
              "version_minor": 0,
              "version_major": 2
            },
            "text/plain": [
              "HBox(children=(IntProgress(value=0, max=352), HTML(value='')))"
            ]
          },
          "metadata": {
            "tags": []
          }
        }
      ]
    },
    {
      "cell_type": "code",
      "metadata": {
        "id": "6JDWVM3f5euJ",
        "colab_type": "code",
        "outputId": "c89393b1-3ee8-4830-d8d3-c3cbe2065ad8",
        "colab": {}
      },
      "source": [
        "train_loss_accs"
      ],
      "execution_count": 0,
      "outputs": [
        {
          "output_type": "execute_result",
          "data": {
            "text/plain": [
              "[209.02602129806917,\n",
              " 71.94053528734001,\n",
              " 49.260082841545625,\n",
              " 41.81062358800847,\n",
              " 38.63594850648663]"
            ]
          },
          "metadata": {
            "tags": []
          },
          "execution_count": 28
        }
      ]
    }
  ]
}