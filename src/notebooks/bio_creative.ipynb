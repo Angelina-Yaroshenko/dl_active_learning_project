{
 "cells": [
  {
   "cell_type": "code",
   "execution_count": 2,
   "metadata": {},
   "outputs": [],
   "source": [
    "# TODO:\n",
    "# 1. Update bert 0.6.1 vs 0.4.0  See https://github.com/huggingface/pytorch-pretrained-BERT/issues/328\n",
    "# 2. add crf on the top bert\n",
    "# +3. calculate probability of a sequence\n",
    "# 4. Try CRF with features from ACL paper\n",
    "# 5. Try other dataset (CONLL-2003, OntoNotes 5.0)\n",
    "# +7. Draw plots for CAD, HYP, DIABETES\n",
    "# +8. Try document-level annotations\n",
    "# 9. Create Bi-LSTM CRF baseline using Flair       <================\n",
    "# 10. Разобраться с тем как оценивали участники результаты на проверочном корпусе What is evaluated in i2b2 ? \n",
    "\n",
    "# 11. Take small amount of unannotated data, build dictionary and try to outperform the dictionary baseline\n",
    "# 12. Show that language models are super cool for active learning since you can use just a shallow architecture for training (faster)\n",
    "# 13. Just show that bert kills old baselines.\n",
    "# 14. Unlexicalized BERT for active learning (Poked bert delex.py)\n",
    "# 15. Propose a self-attention network for tagging and show it is better than LSTM\n",
    "# + 16. New variants of ranking procedure. Most uncertain among those that get positive labels. Most uncertain among tokens that have positive labels. \n",
    "# (yeah it seems to work at some point)\n",
    "\n",
    "# Calculate % of data by using number of tokens.\n",
    "# Use dictionary-based procedure to generate first annotated dataset\n",
    "# + Token evaluation metrics\n",
    "# + Try BERT without fine tuning Работает так себе ~45% f1\n",
    "# + evaluate bert on test data\n",
    "# Посмотреть, как работают скрипты оценки качества в i2b2\n",
    "# Fix sentence splitting procedure <===================\n",
    "# Fine-tune bert model and train only classifier https://github.com/huggingface/pytorch-pretrained-BERT/tree/master/examples/lm_finetuning\n",
    "# Fix performance issue: generate batch with the length of the biggest sentence in batch\n",
    "# Implement early stopping on dev set <=====================\n",
    "# + Rerun all experiments with bert on new test data \n",
    "# Fix AL pipeline: retrain model from scratch, etc. <========================\n",
    "# Widget: implement updating of text field with selection in Javascript. Then activate text field and   catch callback in python\n",
    "# Check how we can deal with gpu memory allocation problem\n",
    "# Make charts to plot several strategies at once <========================"
   ]
  },
  {
   "cell_type": "code",
   "execution_count": 1,
   "metadata": {},
   "outputs": [
    {
     "name": "stdout",
     "output_type": "stream",
     "text": [
      "Name: pytorch-pretrained-bert\n",
      "Version: 0.4.0\n",
      "Summary: PyTorch version of Google AI BERT model with script to load Google pre-trained models\n",
      "Home-page: https://github.com/huggingface/pytorch-pretrained-BERT\n",
      "Author: Thomas Wolf, Victor Sanh, Tim Rault, Google AI Language Team Authors\n",
      "Author-email: thomas@huggingface.co\n",
      "License: Apache\n",
      "Location: /root/.pyenv/versions/3.6.7/lib/python3.6/site-packages\n",
      "Requires: numpy, requests, torch, tqdm, boto3\n",
      "Required-by: flair\n"
     ]
    }
   ],
   "source": [
    "!pip show pytorch-pretrained-bert"
   ]
  },
  {
   "cell_type": "code",
   "execution_count": 2,
   "metadata": {},
   "outputs": [
    {
     "name": "stdout",
     "output_type": "stream",
     "text": [
      "Requirement already satisfied: seqeval in /root/.pyenv/versions/3.6.7/lib/python3.6/site-packages (0.0.12)\n",
      "Requirement already satisfied: numpy>=1.14.0 in /root/.pyenv/versions/3.6.7/lib/python3.6/site-packages (from seqeval) (1.15.4)\n",
      "Requirement already satisfied: Keras>=2.2.4 in /root/.pyenv/versions/3.6.7/lib/python3.6/site-packages (from seqeval) (2.2.4)\n",
      "Requirement already satisfied: keras-applications>=1.0.6 in /root/.pyenv/versions/3.6.7/lib/python3.6/site-packages (from Keras>=2.2.4->seqeval) (1.0.6)\n",
      "Requirement already satisfied: scipy>=0.14 in /root/.pyenv/versions/3.6.7/lib/python3.6/site-packages (from Keras>=2.2.4->seqeval) (1.1.0)\n",
      "Requirement already satisfied: keras-preprocessing>=1.0.5 in /root/.pyenv/versions/3.6.7/lib/python3.6/site-packages (from Keras>=2.2.4->seqeval) (1.0.5)\n",
      "Requirement already satisfied: h5py in /root/.pyenv/versions/3.6.7/lib/python3.6/site-packages (from Keras>=2.2.4->seqeval) (2.8.0)\n",
      "Requirement already satisfied: six>=1.9.0 in /root/.pyenv/versions/3.6.7/lib/python3.6/site-packages (from Keras>=2.2.4->seqeval) (1.11.0)\n",
      "Requirement already satisfied: pyyaml in /root/.pyenv/versions/3.6.7/lib/python3.6/site-packages (from Keras>=2.2.4->seqeval) (3.13)\n"
     ]
    }
   ],
   "source": [
    "!pip install seqeval"
   ]
  },
  {
   "cell_type": "code",
   "execution_count": 3,
   "metadata": {},
   "outputs": [
    {
     "name": "stdout",
     "output_type": "stream",
     "text": [
      "Requirement already satisfied: pytorch-pretrained-bert==0.4.0 in /root/.pyenv/versions/3.6.7/lib/python3.6/site-packages (0.4.0)\n",
      "Requirement already satisfied: torch>=0.4.1 in /root/.pyenv/versions/3.6.7/lib/python3.6/site-packages (from pytorch-pretrained-bert==0.4.0) (1.1.0)\n",
      "Requirement already satisfied: boto3 in /root/.pyenv/versions/3.6.7/lib/python3.6/site-packages (from pytorch-pretrained-bert==0.4.0) (1.9.59)\n",
      "Requirement already satisfied: tqdm in /root/.pyenv/versions/3.6.7/lib/python3.6/site-packages (from pytorch-pretrained-bert==0.4.0) (4.28.1)\n",
      "Requirement already satisfied: requests in /root/.pyenv/versions/3.6.7/lib/python3.6/site-packages (from pytorch-pretrained-bert==0.4.0) (2.20.1)\n",
      "Requirement already satisfied: numpy in /root/.pyenv/versions/3.6.7/lib/python3.6/site-packages (from pytorch-pretrained-bert==0.4.0) (1.15.4)\n",
      "Requirement already satisfied: s3transfer<0.2.0,>=0.1.10 in /root/.pyenv/versions/3.6.7/lib/python3.6/site-packages (from boto3->pytorch-pretrained-bert==0.4.0) (0.1.13)\n",
      "Requirement already satisfied: botocore<1.13.0,>=1.12.59 in /root/.pyenv/versions/3.6.7/lib/python3.6/site-packages (from boto3->pytorch-pretrained-bert==0.4.0) (1.12.59)\n",
      "Requirement already satisfied: jmespath<1.0.0,>=0.7.1 in /root/.pyenv/versions/3.6.7/lib/python3.6/site-packages (from boto3->pytorch-pretrained-bert==0.4.0) (0.9.3)\n",
      "Requirement already satisfied: certifi>=2017.4.17 in /root/.pyenv/versions/3.6.7/lib/python3.6/site-packages (from requests->pytorch-pretrained-bert==0.4.0) (2018.11.29)\n",
      "Requirement already satisfied: urllib3<1.25,>=1.21.1 in /root/.pyenv/versions/3.6.7/lib/python3.6/site-packages (from requests->pytorch-pretrained-bert==0.4.0) (1.24.1)\n",
      "Requirement already satisfied: idna<2.8,>=2.5 in /root/.pyenv/versions/3.6.7/lib/python3.6/site-packages (from requests->pytorch-pretrained-bert==0.4.0) (2.7)\n",
      "Requirement already satisfied: chardet<3.1.0,>=3.0.2 in /root/.pyenv/versions/3.6.7/lib/python3.6/site-packages (from requests->pytorch-pretrained-bert==0.4.0) (3.0.4)\n",
      "Requirement already satisfied: python-dateutil<3.0.0,>=2.1; python_version >= \"2.7\" in /root/.pyenv/versions/3.6.7/lib/python3.6/site-packages (from botocore<1.13.0,>=1.12.59->boto3->pytorch-pretrained-bert==0.4.0) (2.7.5)\n",
      "Requirement already satisfied: docutils>=0.10 in /root/.pyenv/versions/3.6.7/lib/python3.6/site-packages (from botocore<1.13.0,>=1.12.59->boto3->pytorch-pretrained-bert==0.4.0) (0.14)\n",
      "Requirement already satisfied: six>=1.5 in /root/.pyenv/versions/3.6.7/lib/python3.6/site-packages (from python-dateutil<3.0.0,>=2.1; python_version >= \"2.7\"->botocore<1.13.0,>=1.12.59->boto3->pytorch-pretrained-bert==0.4.0) (1.11.0)\n"
     ]
    }
   ],
   "source": [
    "!pip install pytorch-pretrained-bert==0.4.0"
   ]
  },
  {
   "cell_type": "code",
   "execution_count": 4,
   "metadata": {},
   "outputs": [
    {
     "name": "stdout",
     "output_type": "stream",
     "text": [
      "Collecting git+https://github.com/IINemo/libact.git@seq\n",
      "  Cloning https://github.com/IINemo/libact.git (to revision seq) to /tmp/pip-req-build-ijlde1lk\n",
      "  Running command git clone -q https://github.com/IINemo/libact.git /tmp/pip-req-build-ijlde1lk\n",
      "  Running command git checkout -b seq --track origin/seq\n",
      "  Switched to a new branch 'seq'\n",
      "  Branch seq set up to track remote branch seq from origin.\n",
      "Requirement already satisfied (use --upgrade to upgrade): libact==0.1.3b0 from git+https://github.com/IINemo/libact.git@seq in /root/.pyenv/versions/3.6.7/lib/python3.6/site-packages\n",
      "Requirement already satisfied: numpy in /root/.pyenv/versions/3.6.7/lib/python3.6/site-packages (from libact==0.1.3b0) (1.15.4)\n",
      "Requirement already satisfied: scipy in /root/.pyenv/versions/3.6.7/lib/python3.6/site-packages (from libact==0.1.3b0) (1.1.0)\n",
      "Requirement already satisfied: scikit-learn in /root/.pyenv/versions/3.6.7/lib/python3.6/site-packages (from libact==0.1.3b0) (0.20.1)\n",
      "Requirement already satisfied: Cython in /root/.pyenv/versions/3.6.7/lib/python3.6/site-packages (from libact==0.1.3b0) (0.29.1)\n",
      "Requirement already satisfied: joblib in /root/.pyenv/versions/3.6.7/lib/python3.6/site-packages (from libact==0.1.3b0) (0.13.0)\n",
      "Requirement already satisfied: six in /root/.pyenv/versions/3.6.7/lib/python3.6/site-packages (from libact==0.1.3b0) (1.11.0)\n",
      "Building wheels for collected packages: libact\n",
      "  Building wheel for libact (setup.py) ... \u001b[?25ldone\n",
      "\u001b[?25h  Stored in directory: /tmp/pip-ephem-wheel-cache-taalp7eo/wheels/43/f8/6d/9e686dbc90eb0c3a91ceee9e382e6ab85954d9a83459bced85\n",
      "Successfully built libact\n"
     ]
    }
   ],
   "source": [
    "!pip install git+https://github.com/IINemo/libact.git@seq"
   ]
  },
  {
   "cell_type": "code",
   "execution_count": 5,
   "metadata": {},
   "outputs": [
    {
     "name": "stdout",
     "output_type": "stream",
     "text": [
      "Uninstalling actleto-0.1.0:\n",
      "  Successfully uninstalled actleto-0.1.0\n",
      "Collecting git+https://github.com/IINemo/active_learning_toolbox.git@seq\n",
      "  Cloning https://github.com/IINemo/active_learning_toolbox.git (to revision seq) to /tmp/pip-req-build-soz1ziql\n",
      "  Running command git clone -q https://github.com/IINemo/active_learning_toolbox.git /tmp/pip-req-build-soz1ziql\n",
      "  Running command git checkout -b seq --track origin/seq\n",
      "  Switched to a new branch 'seq'\n",
      "  Branch seq set up to track remote branch seq from origin.\n",
      "Requirement already satisfied: cython in /root/.pyenv/versions/3.6.7/lib/python3.6/site-packages (from actleto==0.1.0) (0.29.1)\n",
      "Requirement already satisfied: numpy>=1.12.1 in /root/.pyenv/versions/3.6.7/lib/python3.6/site-packages (from actleto==0.1.0) (1.15.4)\n",
      "Requirement already satisfied: pandas>=0.20.1 in /root/.pyenv/versions/3.6.7/lib/python3.6/site-packages (from actleto==0.1.0) (0.23.4)\n",
      "Requirement already satisfied: scikit-learn>=0.18 in /root/.pyenv/versions/3.6.7/lib/python3.6/site-packages (from actleto==0.1.0) (0.20.1)\n",
      "Requirement already satisfied: scipy>=0.19.0 in /root/.pyenv/versions/3.6.7/lib/python3.6/site-packages (from actleto==0.1.0) (1.1.0)\n",
      "Requirement already satisfied: Pillow>=4.2.1 in /root/.pyenv/versions/3.6.7/lib/python3.6/site-packages (from actleto==0.1.0) (5.3.0)\n",
      "Requirement already satisfied: ipywidgets>=4 in /root/.pyenv/versions/3.6.7/lib/python3.6/site-packages (from actleto==0.1.0) (7.4.2)\n",
      "Requirement already satisfied: annoy in /root/.pyenv/versions/3.6.7/lib/python3.6/site-packages (from actleto==0.1.0) (1.14.0)\n",
      "Requirement already satisfied: python-dateutil>=2.5.0 in /root/.pyenv/versions/3.6.7/lib/python3.6/site-packages (from pandas>=0.20.1->actleto==0.1.0) (2.7.5)\n",
      "Requirement already satisfied: pytz>=2011k in /root/.pyenv/versions/3.6.7/lib/python3.6/site-packages (from pandas>=0.20.1->actleto==0.1.0) (2018.7)\n",
      "Requirement already satisfied: nbformat>=4.2.0 in /root/.pyenv/versions/3.6.7/lib/python3.6/site-packages (from ipywidgets>=4->actleto==0.1.0) (4.4.0)\n",
      "Requirement already satisfied: traitlets>=4.3.1 in /root/.pyenv/versions/3.6.7/lib/python3.6/site-packages (from ipywidgets>=4->actleto==0.1.0) (4.3.2)\n",
      "Requirement already satisfied: ipython>=4.0.0; python_version >= \"3.3\" in /root/.pyenv/versions/3.6.7/lib/python3.6/site-packages (from ipywidgets>=4->actleto==0.1.0) (7.2.0)\n",
      "Requirement already satisfied: widgetsnbextension~=3.4.0 in /root/.pyenv/versions/3.6.7/lib/python3.6/site-packages (from ipywidgets>=4->actleto==0.1.0) (3.4.2)\n",
      "Requirement already satisfied: ipykernel>=4.5.1 in /root/.pyenv/versions/3.6.7/lib/python3.6/site-packages (from ipywidgets>=4->actleto==0.1.0) (5.1.0)\n",
      "Requirement already satisfied: six>=1.5 in /root/.pyenv/versions/3.6.7/lib/python3.6/site-packages (from python-dateutil>=2.5.0->pandas>=0.20.1->actleto==0.1.0) (1.11.0)\n",
      "Requirement already satisfied: jupyter-core in /root/.pyenv/versions/3.6.7/lib/python3.6/site-packages (from nbformat>=4.2.0->ipywidgets>=4->actleto==0.1.0) (4.4.0)\n",
      "Requirement already satisfied: jsonschema!=2.5.0,>=2.4 in /root/.pyenv/versions/3.6.7/lib/python3.6/site-packages (from nbformat>=4.2.0->ipywidgets>=4->actleto==0.1.0) (2.6.0)\n",
      "Requirement already satisfied: ipython-genutils in /root/.pyenv/versions/3.6.7/lib/python3.6/site-packages (from nbformat>=4.2.0->ipywidgets>=4->actleto==0.1.0) (0.2.0)\n",
      "Requirement already satisfied: decorator in /root/.pyenv/versions/3.6.7/lib/python3.6/site-packages (from traitlets>=4.3.1->ipywidgets>=4->actleto==0.1.0) (4.3.0)\n",
      "Requirement already satisfied: pygments in /root/.pyenv/versions/3.6.7/lib/python3.6/site-packages (from ipython>=4.0.0; python_version >= \"3.3\"->ipywidgets>=4->actleto==0.1.0) (2.3.0)\n",
      "Requirement already satisfied: jedi>=0.10 in /root/.pyenv/versions/3.6.7/lib/python3.6/site-packages (from ipython>=4.0.0; python_version >= \"3.3\"->ipywidgets>=4->actleto==0.1.0) (0.13.1)\n",
      "Requirement already satisfied: pickleshare in /root/.pyenv/versions/3.6.7/lib/python3.6/site-packages (from ipython>=4.0.0; python_version >= \"3.3\"->ipywidgets>=4->actleto==0.1.0) (0.7.5)\n",
      "Requirement already satisfied: prompt-toolkit<2.1.0,>=2.0.0 in /root/.pyenv/versions/3.6.7/lib/python3.6/site-packages (from ipython>=4.0.0; python_version >= \"3.3\"->ipywidgets>=4->actleto==0.1.0) (2.0.7)\n",
      "Requirement already satisfied: backcall in /root/.pyenv/versions/3.6.7/lib/python3.6/site-packages (from ipython>=4.0.0; python_version >= \"3.3\"->ipywidgets>=4->actleto==0.1.0) (0.1.0)\n",
      "Requirement already satisfied: setuptools>=18.5 in /root/.pyenv/versions/3.6.7/lib/python3.6/site-packages (from ipython>=4.0.0; python_version >= \"3.3\"->ipywidgets>=4->actleto==0.1.0) (39.0.1)\n",
      "Requirement already satisfied: pexpect; sys_platform != \"win32\" in /root/.pyenv/versions/3.6.7/lib/python3.6/site-packages (from ipython>=4.0.0; python_version >= \"3.3\"->ipywidgets>=4->actleto==0.1.0) (4.6.0)\n",
      "Requirement already satisfied: notebook>=4.4.1 in /root/.pyenv/versions/3.6.7/lib/python3.6/site-packages (from widgetsnbextension~=3.4.0->ipywidgets>=4->actleto==0.1.0) (5.7.2)\n",
      "Requirement already satisfied: jupyter-client in /root/.pyenv/versions/3.6.7/lib/python3.6/site-packages (from ipykernel>=4.5.1->ipywidgets>=4->actleto==0.1.0) (5.2.3)\n",
      "Requirement already satisfied: tornado>=4.2 in /root/.pyenv/versions/3.6.7/lib/python3.6/site-packages (from ipykernel>=4.5.1->ipywidgets>=4->actleto==0.1.0) (5.1.1)\n",
      "Requirement already satisfied: parso>=0.3.0 in /root/.pyenv/versions/3.6.7/lib/python3.6/site-packages (from jedi>=0.10->ipython>=4.0.0; python_version >= \"3.3\"->ipywidgets>=4->actleto==0.1.0) (0.3.1)\n",
      "Requirement already satisfied: wcwidth in /root/.pyenv/versions/3.6.7/lib/python3.6/site-packages (from prompt-toolkit<2.1.0,>=2.0.0->ipython>=4.0.0; python_version >= \"3.3\"->ipywidgets>=4->actleto==0.1.0) (0.1.7)\n",
      "Requirement already satisfied: ptyprocess>=0.5 in /root/.pyenv/versions/3.6.7/lib/python3.6/site-packages (from pexpect; sys_platform != \"win32\"->ipython>=4.0.0; python_version >= \"3.3\"->ipywidgets>=4->actleto==0.1.0) (0.6.0)\n",
      "Requirement already satisfied: terminado>=0.8.1 in /root/.pyenv/versions/3.6.7/lib/python3.6/site-packages (from notebook>=4.4.1->widgetsnbextension~=3.4.0->ipywidgets>=4->actleto==0.1.0) (0.8.1)\n",
      "Requirement already satisfied: prometheus-client in /root/.pyenv/versions/3.6.7/lib/python3.6/site-packages (from notebook>=4.4.1->widgetsnbextension~=3.4.0->ipywidgets>=4->actleto==0.1.0) (0.4.2)\n",
      "Requirement already satisfied: nbconvert in /root/.pyenv/versions/3.6.7/lib/python3.6/site-packages (from notebook>=4.4.1->widgetsnbextension~=3.4.0->ipywidgets>=4->actleto==0.1.0) (5.4.0)\n",
      "Requirement already satisfied: pyzmq>=17 in /root/.pyenv/versions/3.6.7/lib/python3.6/site-packages (from notebook>=4.4.1->widgetsnbextension~=3.4.0->ipywidgets>=4->actleto==0.1.0) (17.1.2)\n",
      "Requirement already satisfied: jinja2 in /root/.pyenv/versions/3.6.7/lib/python3.6/site-packages (from notebook>=4.4.1->widgetsnbextension~=3.4.0->ipywidgets>=4->actleto==0.1.0) (2.10)\n",
      "Requirement already satisfied: Send2Trash in /root/.pyenv/versions/3.6.7/lib/python3.6/site-packages (from notebook>=4.4.1->widgetsnbextension~=3.4.0->ipywidgets>=4->actleto==0.1.0) (1.5.0)\n",
      "Requirement already satisfied: mistune>=0.8.1 in /root/.pyenv/versions/3.6.7/lib/python3.6/site-packages (from nbconvert->notebook>=4.4.1->widgetsnbextension~=3.4.0->ipywidgets>=4->actleto==0.1.0) (0.8.4)\n",
      "Requirement already satisfied: pandocfilters>=1.4.1 in /root/.pyenv/versions/3.6.7/lib/python3.6/site-packages (from nbconvert->notebook>=4.4.1->widgetsnbextension~=3.4.0->ipywidgets>=4->actleto==0.1.0) (1.4.2)\n",
      "Requirement already satisfied: defusedxml in /root/.pyenv/versions/3.6.7/lib/python3.6/site-packages (from nbconvert->notebook>=4.4.1->widgetsnbextension~=3.4.0->ipywidgets>=4->actleto==0.1.0) (0.5.0)\n",
      "Requirement already satisfied: entrypoints>=0.2.2 in /root/.pyenv/versions/3.6.7/lib/python3.6/site-packages (from nbconvert->notebook>=4.4.1->widgetsnbextension~=3.4.0->ipywidgets>=4->actleto==0.1.0) (0.2.3)\n",
      "Requirement already satisfied: testpath in /root/.pyenv/versions/3.6.7/lib/python3.6/site-packages (from nbconvert->notebook>=4.4.1->widgetsnbextension~=3.4.0->ipywidgets>=4->actleto==0.1.0) (0.4.2)\n",
      "Requirement already satisfied: bleach in /root/.pyenv/versions/3.6.7/lib/python3.6/site-packages (from nbconvert->notebook>=4.4.1->widgetsnbextension~=3.4.0->ipywidgets>=4->actleto==0.1.0) (3.0.2)\n",
      "Requirement already satisfied: MarkupSafe>=0.23 in /root/.pyenv/versions/3.6.7/lib/python3.6/site-packages (from jinja2->notebook>=4.4.1->widgetsnbextension~=3.4.0->ipywidgets>=4->actleto==0.1.0) (1.1.0)\n",
      "Requirement already satisfied: webencodings in /root/.pyenv/versions/3.6.7/lib/python3.6/site-packages (from bleach->nbconvert->notebook>=4.4.1->widgetsnbextension~=3.4.0->ipywidgets>=4->actleto==0.1.0) (0.5.1)\n",
      "Building wheels for collected packages: actleto\n",
      "  Building wheel for actleto (setup.py) ... \u001b[?25ldone\n",
      "\u001b[?25h  Stored in directory: /tmp/pip-ephem-wheel-cache-xh742wf2/wheels/96/c0/0a/e37cee1f7228329c68c9185d15c632f7837f1ef5a863116bd8\n",
      "Successfully built actleto\n",
      "Installing collected packages: actleto\n",
      "Successfully installed actleto-0.1.0\n"
     ]
    }
   ],
   "source": [
    "#!pip install -e ./packages/libact/\n",
    "!pip uninstall -y actleto\n",
    "!pip install git+https://github.com/IINemo/active_learning_toolbox.git@seq"
   ]
  },
  {
   "cell_type": "markdown",
   "metadata": {},
   "source": [
    "# Initialization"
   ]
  },
  {
   "cell_type": "code",
   "execution_count": 1,
   "metadata": {},
   "outputs": [],
   "source": [
    "%load_ext autoreload\n",
    "%autoreload 2\n"
   ]
  },
  {
   "cell_type": "code",
   "execution_count": 2,
   "metadata": {},
   "outputs": [],
   "source": [
    "\n",
    "import os\n",
    "os.environ['CUDA_VISIBLE_DEVICES'] = '2'\n",
    "\n",
    "import sys\n",
    "\n",
    "#sys.path += ['./active_learning_toolbox/']"
   ]
  },
  {
   "cell_type": "code",
   "execution_count": 3,
   "metadata": {},
   "outputs": [
    {
     "name": "stdout",
     "output_type": "stream",
     "text": [
      "GeForce GTX 1080 Ti\n"
     ]
    }
   ],
   "source": [
    "import torch\n",
    "\n",
    "device = torch.device(\"cuda\")\n",
    "n_gpu = torch.cuda.device_count()\n",
    "\n",
    "for i in range(n_gpu):\n",
    "    print(torch.cuda.get_device_name(i))\n"
   ]
  },
  {
   "cell_type": "code",
   "execution_count": 4,
   "metadata": {},
   "outputs": [],
   "source": [
    "# if len(device) > 1:\n",
    "#   model = nn.DataParallel(model, device_ids=[0, 1, 2])\n",
    "#   model.cuda()\n",
    "# else:\n",
    "#     model = model.cuda()\n",
    "#criterion = nn.DataParallelCriterion(criterion, device_ids=[0, 1, 2])"
   ]
  },
  {
   "cell_type": "code",
   "execution_count": 5,
   "metadata": {},
   "outputs": [],
   "source": [
    "import logging\n",
    "logger = logging.getLogger('biomed_ie')\n",
    "\n",
    "formatter = logging.Formatter('%(asctime)s - %(name)s - %(levelname)s - %(message)s')\n",
    "\n",
    "#biomed2/biomed_ie/Logs/conll03_per.log\n",
    "#fhandler = logging.FileHandler(filename='../Logs/Aconll03.log', mode='a')\n",
    "\n",
    "#biomed2/biomed_ie/Logs/conll03_org.log\n",
    "fhandler = logging.FileHandler(filename='../Logs/biocre.log', mode='a')\n",
    "\n",
    "fhandler.setFormatter(formatter)\n",
    "logger.addHandler(fhandler)\n",
    "\n",
    "handler = logging.StreamHandler(sys.stdout)\n",
    "handler.setFormatter(formatter)\n",
    "logger.addHandler(handler)\n",
    "\n",
    "logger.setLevel(logging.DEBUG)"
   ]
  },
  {
   "cell_type": "code",
   "execution_count": 6,
   "metadata": {},
   "outputs": [],
   "source": [
    "import pandas as pd\n",
    "import numpy as np\n",
    "from tqdm import tqdm_notebook as tqdm\n",
    "import json"
   ]
  },
  {
   "cell_type": "markdown",
   "metadata": {},
   "source": [
    "# Global parameters"
   ]
  },
  {
   "cell_type": "code",
   "execution_count": 7,
   "metadata": {},
   "outputs": [],
   "source": [
    "CACHE_DIR = '../workdir/models/0.4.0'\n",
    "\n",
    "# MAX_LEN = 150\n",
    "BATCH_SIZE = 25\n",
    "MAX_LEN = 100\n",
    "#BATCH_SIZE = 100\n",
    "#BATCH_SIZE_PRED = 1200 # 1600\n",
    "BATCH_SIZE_PRED = 600 # 1600\n",
    "random_state = 2019"
   ]
  },
  {
   "cell_type": "markdown",
   "metadata": {},
   "source": [
    "# Load dataset"
   ]
  },
  {
   "cell_type": "code",
   "execution_count": 8,
   "metadata": {},
   "outputs": [
    {
     "name": "stdout",
     "output_type": "stream",
     "text": [
      "Better speed can be achieved with apex installed from https://www.github.com/nvidia/apex.\n"
     ]
    }
   ],
   "source": [
    "from i2b2_utils import drop_noise_samples, tokenize_and_generate_labels, split_train_test_by_document, create_tensors\n",
    "from bert_utils import train, test, create_model_optimizer\n",
    "\n",
    "import torch\n",
    "from torch.utils.data import TensorDataset, DataLoader, RandomSampler, SequentialSampler\n",
    "\n",
    "from pytorch_pretrained_bert import BertTokenizer, BertConfig\n",
    "from pytorch_pretrained_bert import BertForTokenClassification, BertAdam\n",
    "\n",
    "from sklearn.model_selection import train_test_split"
   ]
  },
  {
   "cell_type": "code",
   "execution_count": 9,
   "metadata": {},
   "outputs": [
    {
     "name": "stdout",
     "output_type": "stream",
     "text": [
      "(15001, 2)\n"
     ]
    },
    {
     "data": {
      "text/html": [
       "<div>\n",
       "<style scoped>\n",
       "    .dataframe tbody tr th:only-of-type {\n",
       "        vertical-align: middle;\n",
       "    }\n",
       "\n",
       "    .dataframe tbody tr th {\n",
       "        vertical-align: top;\n",
       "    }\n",
       "\n",
       "    .dataframe thead th {\n",
       "        text-align: right;\n",
       "    }\n",
       "</style>\n",
       "<table border=\"1\" class=\"dataframe\">\n",
       "  <thead>\n",
       "    <tr style=\"text-align: right;\">\n",
       "      <th></th>\n",
       "      <th>texts</th>\n",
       "      <th>Gene_span</th>\n",
       "      <th>doc_ids</th>\n",
       "    </tr>\n",
       "  </thead>\n",
       "  <tbody>\n",
       "    <tr>\n",
       "      <th>0</th>\n",
       "      <td>Comparison with alkaline phosphatases and 5-nu...</td>\n",
       "      <td>[[16, 37], [42, 63]]</td>\n",
       "      <td>1</td>\n",
       "    </tr>\n",
       "    <tr>\n",
       "      <th>1</th>\n",
       "      <td>Pharmacologic aspects of neonatal hyperbilirub...</td>\n",
       "      <td>[]</td>\n",
       "      <td>1</td>\n",
       "    </tr>\n",
       "    <tr>\n",
       "      <th>10</th>\n",
       "      <td>When the CO2 content reached 9 Vol% the animal...</td>\n",
       "      <td>[]</td>\n",
       "      <td>1</td>\n",
       "    </tr>\n",
       "    <tr>\n",
       "      <th>100</th>\n",
       "      <td>A similar phenomenon has been reported in a fe...</td>\n",
       "      <td>[]</td>\n",
       "      <td>1</td>\n",
       "    </tr>\n",
       "    <tr>\n",
       "      <th>1000</th>\n",
       "      <td>Brucellosis--1990</td>\n",
       "      <td>[]</td>\n",
       "      <td>1</td>\n",
       "    </tr>\n",
       "  </tbody>\n",
       "</table>\n",
       "</div>"
      ],
      "text/plain": [
       "                                                  texts             Gene_span  \\\n",
       "0     Comparison with alkaline phosphatases and 5-nu...  [[16, 37], [42, 63]]   \n",
       "1     Pharmacologic aspects of neonatal hyperbilirub...                    []   \n",
       "10    When the CO2 content reached 9 Vol% the animal...                    []   \n",
       "100   A similar phenomenon has been reported in a fe...                    []   \n",
       "1000                                  Brucellosis--1990                    []   \n",
       "\n",
       "      doc_ids  \n",
       "0           1  \n",
       "1           1  \n",
       "10          1  \n",
       "100         1  \n",
       "1000        1  "
      ]
     },
     "execution_count": 9,
     "metadata": {},
     "output_type": "execute_result"
    }
   ],
   "source": [
    "#biomed2/biomed_ie/data/bio/Biocreative2006.json\n",
    "dataset = '../data/bio/Biocreative2006.json'\n",
    "dataset = pd.read_json(dataset)\n",
    "dataset.rename(index=str,columns={'phrases':'texts'}, \n",
    "                 inplace=True)\n",
    "dataset.drop(columns=['Key'],inplace = True)\n",
    "print(dataset.shape)\n",
    "dataset['doc_ids'] = 1\n",
    "dataset.head()"
   ]
  },
  {
   "cell_type": "code",
   "execution_count": 10,
   "metadata": {},
   "outputs": [
    {
     "data": {
      "text/plain": [
       "[16, 37]"
      ]
     },
     "execution_count": 10,
     "metadata": {},
     "output_type": "execute_result"
    }
   ],
   "source": [
    "dataset.loc['0', 'Gene_span'][0]"
   ]
  },
  {
   "cell_type": "code",
   "execution_count": 11,
   "metadata": {},
   "outputs": [],
   "source": [
    "# dataset_path = '../data/conll2003/conll2003/conll_train.json'\n",
    "# dataset = pd.read_json(dataset_path)\n",
    "# dataset.rename(index=str,columns={'Corpus':'texts'}, \n",
    "#                 inplace=True)\n",
    "# #Subsampling\n",
    "# #dataset = dataset.iloc[0:7000]\n",
    "\n",
    "\n",
    "# print(dataset.shape)\n",
    "# dataset.head()"
   ]
  },
  {
   "cell_type": "code",
   "execution_count": 12,
   "metadata": {},
   "outputs": [
    {
     "data": {
      "text/plain": [
       "(7676, 3)"
      ]
     },
     "execution_count": 12,
     "metadata": {},
     "output_type": "execute_result"
    }
   ],
   "source": [
    "#attr_name = 'I-MISC'\n",
    "attr_name = 'Gene_span'\n",
    "#attr_name = 'I-PER'\n",
    "\n",
    "selected_dataset = drop_noise_samples(dataset, attr_name)\n",
    "selected_dataset.shape"
   ]
  },
  {
   "cell_type": "code",
   "execution_count": 22,
   "metadata": {},
   "outputs": [],
   "source": [
    "from sklearn.model_selection import train_test_split\n",
    "#train_selected_dataset, test_selected_dataset = split_train_test_by_document(selected_dataset, test_ratio=0.2)\n",
    "train_selected_dataset, test_selected_dataset = train_test_split(selected_dataset,  test_size=0.2, random_state=42)"
   ]
  },
  {
   "cell_type": "code",
   "execution_count": 23,
   "metadata": {},
   "outputs": [],
   "source": [
    "# dataset_test_path = '../data/conll2003/conll2003/conll_test_a.json'\n",
    "# dataset_test = pd.read_json(dataset_test_path)\n",
    "# dataset_test.rename(index=str,columns={'Corpus':'texts'}, \n",
    "#                 inplace=True)\n",
    "# print(dataset_test.shape)\n",
    "# dataset_test.head()"
   ]
  },
  {
   "cell_type": "code",
   "execution_count": 46,
   "metadata": {},
   "outputs": [
    {
     "data": {
      "text/html": [
       "<div>\n",
       "<style scoped>\n",
       "    .dataframe tbody tr th:only-of-type {\n",
       "        vertical-align: middle;\n",
       "    }\n",
       "\n",
       "    .dataframe tbody tr th {\n",
       "        vertical-align: top;\n",
       "    }\n",
       "\n",
       "    .dataframe thead th {\n",
       "        text-align: right;\n",
       "    }\n",
       "</style>\n",
       "<table border=\"1\" class=\"dataframe\">\n",
       "  <thead>\n",
       "    <tr style=\"text-align: right;\">\n",
       "      <th></th>\n",
       "      <th>texts</th>\n",
       "      <th>Gene_span</th>\n",
       "      <th>doc_ids</th>\n",
       "    </tr>\n",
       "  </thead>\n",
       "  <tbody>\n",
       "    <tr>\n",
       "      <th>10693</th>\n",
       "      <td>Structural analysis of the 5'-regulatory regio...</td>\n",
       "      <td>[[65, 79], [159, 173]]</td>\n",
       "      <td>1</td>\n",
       "    </tr>\n",
       "    <tr>\n",
       "      <th>716</th>\n",
       "      <td>ROS x SRC (R) contains a 16-amino-acid deletio...</td>\n",
       "      <td>[[0, 3], [6, 9], [0, 3], [105, 108]]</td>\n",
       "      <td>1</td>\n",
       "    </tr>\n",
       "    <tr>\n",
       "      <th>1416</th>\n",
       "      <td>The predicted amino acid sequence exhibited 70...</td>\n",
       "      <td>[[68, 101], [130, 163], [180, 213], [215, 248]]</td>\n",
       "      <td>1</td>\n",
       "    </tr>\n",
       "    <tr>\n",
       "      <th>13574</th>\n",
       "      <td>Stress-activated protein kinase 1 (SAPK1), als...</td>\n",
       "      <td>[[0, 33], [35, 68], [55, 88], [80, 113]]</td>\n",
       "      <td>1</td>\n",
       "    </tr>\n",
       "    <tr>\n",
       "      <th>12204</th>\n",
       "      <td>A G22V mutant of M-Ras was constitutively acti...</td>\n",
       "      <td>[[2, 13], [17, 28], [74, 85], [89, 100], [89, ...</td>\n",
       "      <td>1</td>\n",
       "    </tr>\n",
       "  </tbody>\n",
       "</table>\n",
       "</div>"
      ],
      "text/plain": [
       "                                                   texts  \\\n",
       "10693  Structural analysis of the 5'-regulatory regio...   \n",
       "716    ROS x SRC (R) contains a 16-amino-acid deletio...   \n",
       "1416   The predicted amino acid sequence exhibited 70...   \n",
       "13574  Stress-activated protein kinase 1 (SAPK1), als...   \n",
       "12204  A G22V mutant of M-Ras was constitutively acti...   \n",
       "\n",
       "                                               Gene_span  doc_ids  \n",
       "10693                             [[65, 79], [159, 173]]        1  \n",
       "716                 [[0, 3], [6, 9], [0, 3], [105, 108]]        1  \n",
       "1416     [[68, 101], [130, 163], [180, 213], [215, 248]]        1  \n",
       "13574           [[0, 33], [35, 68], [55, 88], [80, 113]]        1  \n",
       "12204  [[2, 13], [17, 28], [74, 85], [89, 100], [89, ...        1  "
      ]
     },
     "execution_count": 46,
     "metadata": {},
     "output_type": "execute_result"
    }
   ],
   "source": [
    "dataset_test = test_selected_dataset\n",
    "train_selected_dataset.head()"
   ]
  },
  {
   "cell_type": "code",
   "execution_count": 25,
   "metadata": {},
   "outputs": [
    {
     "data": {
      "text/html": [
       "<div>\n",
       "<style scoped>\n",
       "    .dataframe tbody tr th:only-of-type {\n",
       "        vertical-align: middle;\n",
       "    }\n",
       "\n",
       "    .dataframe tbody tr th {\n",
       "        vertical-align: top;\n",
       "    }\n",
       "\n",
       "    .dataframe thead th {\n",
       "        text-align: right;\n",
       "    }\n",
       "</style>\n",
       "<table border=\"1\" class=\"dataframe\">\n",
       "  <thead>\n",
       "    <tr style=\"text-align: right;\">\n",
       "      <th></th>\n",
       "      <th>texts</th>\n",
       "      <th>Gene_span</th>\n",
       "      <th>doc_ids</th>\n",
       "    </tr>\n",
       "  </thead>\n",
       "  <tbody>\n",
       "    <tr>\n",
       "      <th>8180</th>\n",
       "      <td>ORF E8 colinear with ORF E6, which could gener...</td>\n",
       "      <td>[[0, 6], [21, 27]]</td>\n",
       "      <td>1</td>\n",
       "    </tr>\n",
       "    <tr>\n",
       "      <th>8268</th>\n",
       "      <td>Vacuolar membrane vesicles from hum1 mutants l...</td>\n",
       "      <td>[[32, 44], [100, 112]]</td>\n",
       "      <td>1</td>\n",
       "    </tr>\n",
       "    <tr>\n",
       "      <th>14021</th>\n",
       "      <td>In strains lacking tup11 and tup12, the atf1-p...</td>\n",
       "      <td>[[19, 24], [29, 34], [40, 45], [45, 50], [112,...</td>\n",
       "      <td>1</td>\n",
       "    </tr>\n",
       "    <tr>\n",
       "      <th>7560</th>\n",
       "      <td>We have examined the ability of various NF-kap...</td>\n",
       "      <td>[[40, 59], [109, 128]]</td>\n",
       "      <td>1</td>\n",
       "    </tr>\n",
       "    <tr>\n",
       "      <th>5750</th>\n",
       "      <td>Although further studies are required to deter...</td>\n",
       "      <td>[[71, 76], [84, 89], [191, 196]]</td>\n",
       "      <td>1</td>\n",
       "    </tr>\n",
       "  </tbody>\n",
       "</table>\n",
       "</div>"
      ],
      "text/plain": [
       "                                                   texts  \\\n",
       "8180   ORF E8 colinear with ORF E6, which could gener...   \n",
       "8268   Vacuolar membrane vesicles from hum1 mutants l...   \n",
       "14021  In strains lacking tup11 and tup12, the atf1-p...   \n",
       "7560   We have examined the ability of various NF-kap...   \n",
       "5750   Although further studies are required to deter...   \n",
       "\n",
       "                                               Gene_span  doc_ids  \n",
       "8180                                  [[0, 6], [21, 27]]        1  \n",
       "8268                              [[32, 44], [100, 112]]        1  \n",
       "14021  [[19, 24], [29, 34], [40, 45], [45, 50], [112,...        1  \n",
       "7560                              [[40, 59], [109, 128]]        1  \n",
       "5750                    [[71, 76], [84, 89], [191, 196]]        1  "
      ]
     },
     "execution_count": 25,
     "metadata": {},
     "output_type": "execute_result"
    }
   ],
   "source": [
    "test_selected_dataset.head()"
   ]
  },
  {
   "cell_type": "code",
   "execution_count": 26,
   "metadata": {},
   "outputs": [
    {
     "name": "stdout",
     "output_type": "stream",
     "text": [
      "train (6140, 3)\n",
      "test (1536, 3)\n"
     ]
    }
   ],
   "source": [
    "# test_selected_dataset = drop_noise_samples(dataset_test, attr_name)\n",
    "# train_selected_dataset = selected_dataset\n",
    "print('train', train_selected_dataset.shape)\n",
    "print('test', test_selected_dataset.shape)"
   ]
  },
  {
   "cell_type": "markdown",
   "metadata": {},
   "source": [
    "# Prepare model and preprocessing"
   ]
  },
  {
   "cell_type": "code",
   "execution_count": 27,
   "metadata": {},
   "outputs": [],
   "source": [
    "from isanlp.en.processor_tokenizer_nltk_en import ProcessorTokenizerNltkEn\n",
    "\n",
    "word_tokenizer = ProcessorTokenizerNltkEn()\n",
    "bpe_tokenizer = BertTokenizer.from_pretrained('bert-base-cased', cache_dir=CACHE_DIR, do_lower_case=False)\n",
    "train_sents, train_labels = tokenize_and_generate_labels(word_tokenizer, bpe_tokenizer, train_selected_dataset, attr_name, MAX_LEN)\n",
    "test_sents, test_labels = tokenize_and_generate_labels(word_tokenizer, bpe_tokenizer, test_selected_dataset, attr_name, MAX_LEN)"
   ]
  },
  {
   "cell_type": "code",
   "execution_count": 28,
   "metadata": {},
   "outputs": [],
   "source": [
    "tags_vals = ['B', 'I', 'O', 'X', '[CLS]', '[SEP]']\n",
    "tag2idx = {t : i for i, t in enumerate(tags_vals)}"
   ]
  },
  {
   "cell_type": "code",
   "execution_count": 29,
   "metadata": {},
   "outputs": [],
   "source": [
    "train_input_ids, train_tags, train_attention_masks = create_tensors(bpe_tokenizer, tag2idx, \n",
    "                                                                    train_sents, train_labels, MAX_LEN)\n",
    "test_input_ids, test_tags, test_attention_masks = create_tensors(bpe_tokenizer, tag2idx, \n",
    "                                                                 test_sents, test_labels, MAX_LEN)"
   ]
  },
  {
   "cell_type": "code",
   "execution_count": 15,
   "metadata": {},
   "outputs": [],
   "source": [
    "# def create_model_optimizer(tag2idx, full_finetuning=True):\n",
    "#     model = BertForTokenClassification.from_pretrained('bert-base-cased', \n",
    "#                                                        cache_dir=CACHE_DIR, \n",
    "#                                                        num_labels=len(tag2idx))\n",
    "#     model.cuda()\n",
    "    \n",
    "#     lr_head = 5e-4\n",
    "#     #lr_head = 5e-2\n",
    "#     lr_body = 5e-5\n",
    "#     weight_decay = 0.01\n",
    "    \n",
    "#     no_decay = ['bias', 'gamma', 'beta']\n",
    "\n",
    "#     if full_finetuning:\n",
    "#         param_optimizer = list(model.bert.named_parameters())\n",
    "#         optimizer_grouped_parameters = [\n",
    "#             {'params': [p for n, p in param_optimizer \n",
    "#                         if not any(nd in n for nd in no_decay)],\n",
    "#              'weight_decay': weight_decay},\n",
    "#             {'params': [p for n, p in param_optimizer \n",
    "#                         if any(nd in n for nd in no_decay)],\n",
    "#              'weight_decay': 0.0},\n",
    "#             {'params' : [p for n, p in model.classifier.named_parameters()\n",
    "#                          if not any(nd in n for nd in no_decay)],\n",
    "#              'lr' : lr_head,\n",
    "#              'weight_decay': weight_decay},\n",
    "#             {'params' : [p for n, p in model.classifier.named_parameters()\n",
    "#                         if any(nd in n for nd in no_decay)],\n",
    "#              'lr' : lr_head,\n",
    "#              'weight_decay' : 0.0\n",
    "#             }\n",
    "#         ]\n",
    "#     else:\n",
    "#         param_optimizer = list(model.classifier.named_parameters()) \n",
    "#         optimizer_grouped_parameters = [\n",
    "#             {'params' : [p for n, p in param_optimizer\n",
    "#                          if not any(nd in n for nd in no_decay)],\n",
    "#              'lr' : lr_head,\n",
    "#              'weight_decay': weight_decay},\n",
    "#             {'params' : [p for n, p in param_optimizer\n",
    "#                          if any(nd in n for nd in no_decay)],\n",
    "#              'lr' : lr_head,\n",
    "#              'weight_decay' : 0.0\n",
    "#             }\n",
    "#         ]\n",
    "\n",
    "#     optimizer = BertAdam(optimizer_grouped_parameters, lr=lr_body)\n",
    "#     lr_scheduler = torch.optim.lr_scheduler.ExponentialLR(optimizer, gamma=0.95)\n",
    "#     #lr_scheduler = torch.optim.lr_scheduler.ExponentialLR(optimizer, gamma=0.7)\n",
    "    \n",
    "#     return model, optimizer, lr_scheduler"
   ]
  },
  {
   "cell_type": "markdown",
   "metadata": {},
   "source": [
    "# Training"
   ]
  },
  {
   "cell_type": "code",
   "execution_count": 30,
   "metadata": {},
   "outputs": [],
   "source": [
    "from i2b2_utils import subsample_dataset\n",
    "\n",
    "train_input_ids, train_tags, train_attention_masks = subsample_dataset(train_input_ids, train_tags, \n",
    "                                                                       train_attention_masks, \n",
    "                                                                       positive_tag=tag2idx['B'], \n",
    "                                                                       negative_ratio=0.1, positive_ratio=1.)"
   ]
  },
  {
   "cell_type": "code",
   "execution_count": 31,
   "metadata": {},
   "outputs": [
    {
     "name": "stdout",
     "output_type": "stream",
     "text": [
      "2019-08-13 07:10:07,146 - biomed_ie - INFO - Creating model...\n",
      "2019-08-13 07:10:15,803 - biomed_ie - INFO - Full finetuning: True\n",
      "2019-08-13 07:10:15,807 - biomed_ie - INFO - N parameters: 108314886\n",
      "2019-08-13 07:10:15,808 - biomed_ie - INFO - Done.\n"
     ]
    },
    {
     "name": "stderr",
     "output_type": "stream",
     "text": [
      "Epoch:   0%|          | 0/20 [00:00<?, ?it/s]"
     ]
    },
    {
     "name": "stdout",
     "output_type": "stream",
     "text": [
      "2019-08-13 07:11:33,901 - biomed_ie - INFO - Train loss: 0.008973975582408075\n",
      "2019-08-13 07:11:38,838 - biomed_ie - INFO - Validation loss: 0.0003044388935675352\n",
      "2019-08-13 07:11:39,820 - biomed_ie - INFO - Validation F1-Score: 0.6648827044866649\n",
      "2019-08-13 07:11:39,861 - biomed_ie - INFO - Validatin accuracy: 0.9669490105269573\n"
     ]
    },
    {
     "name": "stderr",
     "output_type": "stream",
     "text": [
      "Epoch:   5%|▌         | 1/20 [01:24<26:37, 84.06s/it]"
     ]
    },
    {
     "name": "stdout",
     "output_type": "stream",
     "text": [
      "2019-08-13 07:12:59,874 - biomed_ie - INFO - Train loss: 0.0031184524652224333\n",
      "2019-08-13 07:13:04,793 - biomed_ie - INFO - Validation loss: 0.00030637155761682294\n",
      "2019-08-13 07:13:05,766 - biomed_ie - INFO - Validation F1-Score: 0.6779059449866902\n",
      "2019-08-13 07:13:05,806 - biomed_ie - INFO - Validatin accuracy: 0.9714203013360552\n"
     ]
    }
   ],
   "source": [
    "logger.info('Creating model...')\n",
    "model, optimizer, lr_scheduler = create_model_optimizer(tag2idx, full_finetuning=True)\n",
    "logger.info('Done.')\n",
    "\n",
    "t_tr_inputs = torch.tensor(train_input_ids)\n",
    "t_tr_tags = torch.tensor(train_tags)\n",
    "t_tr_masks = torch.tensor(train_attention_masks)\n",
    "\n",
    "t_val_inputs = torch.tensor(test_input_ids)\n",
    "t_val_tags = torch.tensor(test_tags)\n",
    "t_val_masks = torch.tensor(test_attention_masks)\n",
    "\n",
    "train_data = TensorDataset(t_tr_inputs, t_tr_masks, t_tr_tags)\n",
    "train_sampler = RandomSampler(train_data)\n",
    "train_dataloader = DataLoader(train_data, sampler=train_sampler, batch_size=BATCH_SIZE)\n",
    "\n",
    "valid_data = TensorDataset(t_val_inputs, t_val_masks, t_val_tags)\n",
    "valid_sampler = SequentialSampler(valid_data)\n",
    "valid_dataloader = DataLoader(valid_data, sampler=valid_sampler, batch_size=BATCH_SIZE_PRED, shuffle=False)\n",
    "\n",
    "train(model, optimizer, lr_scheduler, train_dataloader, valid_dataloader, \n",
    "      epochs=20, device=device, tags_vals=tags_vals, early_stopping=1)"
   ]
  },
  {
   "cell_type": "markdown",
   "metadata": {},
   "source": [
    "# Active learning"
   ]
  },
  {
   "cell_type": "code",
   "execution_count": 32,
   "metadata": {},
   "outputs": [],
   "source": [
    "from actleto import ActiveLearner, make_libact_strategy_ctor\n",
    "from libact.query_strategies import UncertaintySampling, RandomSampling\n",
    "from active_learning_seq import LibActNN, f1_score_wrapper, RandomSamplingWithRetraining, LibActNNPositiveLessCertain\n",
    "\n",
    "\n",
    "def initialize_seeds(train_input_ids, train_tags, tags_vals, n_seeds_per_class=10):\n",
    "    indexes = np.array(range(train_tags.shape[0]))\n",
    "    known_indexes = []\n",
    "    for label in range(len(tags_vals)):\n",
    "        selected_indices = indexes[(train_tags == label).astype('float').sum(axis=1) != 0]\n",
    "        known_indexes += list(np.random.choice(selected_indices, size=n_seeds_per_class))\n",
    "\n",
    "    known_indexes = list(set(known_indexes))\n",
    "    print(len(known_indexes))\n",
    "    tags_seed = [None for _ in range(train_tags.shape[0])]\n",
    "\n",
    "    for i in known_indexes:\n",
    "        tags_seed[i] = train_tags[i]\n",
    "\n",
    "    Y_seed = tags_seed\n",
    "    X_train = train_input_ids\n",
    "    \n",
    "    return X_train, Y_seed\n",
    "    \n",
    "\n",
    "def create_active_learner(X_train, Y_seed, \n",
    "                          X_test, y_test, \n",
    "                          tags_vals,\n",
    "                          libact_model, \n",
    "                          ranking_strategy,\n",
    "                          rnd_steps=0):\n",
    "    max_samples_number = 20\n",
    "    random_state = 42\n",
    "\n",
    "    active_learn_alg_ctor = make_libact_strategy_ctor(lambda tr_ds: ranking_strategy(tr_ds, libact_model), \n",
    "                                                      max_samples_number=max_samples_number)\n",
    "    \n",
    "    def _f1_score(a,b):\n",
    "        return f1_score_wrapper(tags_vals, a,b)\n",
    "\n",
    "    # Creating ActiveLearning object that implements AL logic.\n",
    "    active_learner = ActiveLearner(active_learn_alg_ctor = active_learn_alg_ctor,\n",
    "                                   y_dtype = 'int',\n",
    "                                   X_full_dataset = X_train, \n",
    "                                   y_full_dataset = Y_seed,\n",
    "                                   X_test_dataset = X_test,\n",
    "                                   y_test_dataset = y_test,\n",
    "                                   model_evaluate=libact_model,\n",
    "                                   eval_metrics=[_f1_score],\n",
    "                                   rnd_start_steps=rnd_steps, \n",
    "                                   rnd_start_samples=max_samples_number)\n",
    "    \n",
    "    return active_learner\n",
    "\n",
    "\n",
    "def emulate_active_learning(train_tags, \n",
    "                            active_learner, \n",
    "                            max_iterations=12, \n",
    "                            n_annotations_per_iter=20):\n",
    "    logger.info('Start emulating active learning.')\n",
    "    active_learner.start()\n",
    "    logger.info(f'Evaluation: {active_learner.evaluate(fit_model=False)}')\n",
    "\n",
    "    statistics = []\n",
    "    for i in range(max_iterations):\n",
    "        logger.info(f'Active learning iteration: #{i}')\n",
    "        samples_to_annotate = active_learner.choose_samples_for_annotation()\n",
    "        active_learner.make_iteration(samples_to_annotate, train_tags[samples_to_annotate])\n",
    "        perf = active_learner.evaluate(fit_model=False)\n",
    "        statistics.append(perf)\n",
    "        logger.info(f'Performance: {perf}')\n",
    "    \n",
    "    return statistics"
   ]
  },
  {
   "cell_type": "markdown",
   "metadata": {},
   "source": [
    "## Perform single emulation of AL"
   ]
  },
  {
   "cell_type": "code",
   "execution_count": 37,
   "metadata": {},
   "outputs": [
    {
     "name": "stdout",
     "output_type": "stream",
     "text": [
      "2019-08-13 07:17:51,793 - biomed_ie - INFO - Full finetuning: True\n",
      "2019-08-13 07:17:51,797 - biomed_ie - INFO - N parameters: 108314886\n"
     ]
    }
   ],
   "source": [
    "model, optimizer, lr_scheduler = create_model_optimizer(tag2idx)\n",
    "libact_model = LibActNN(model_ctor=(lambda : create_model_optimizer(tag2idx)),\n",
    "                                device=device, \n",
    "                                batch_size=BATCH_SIZE,\n",
    "                                bs_pred=BATCH_SIZE_PRED,\n",
    "                                train_from_scratch=True,\n",
    "                                retrain_epochs=30,\n",
    "                                early_stopping=3)"
   ]
  },
  {
   "cell_type": "code",
   "execution_count": 38,
   "metadata": {},
   "outputs": [],
   "source": [
    "np.random.seed(42)"
   ]
  },
  {
   "cell_type": "code",
   "execution_count": 39,
   "metadata": {},
   "outputs": [
    {
     "name": "stdout",
     "output_type": "stream",
     "text": [
      "59\n"
     ]
    }
   ],
   "source": [
    "X_train, Y_seed = initialize_seeds(train_input_ids, train_tags, tags_vals)"
   ]
  },
  {
   "cell_type": "code",
   "execution_count": 40,
   "metadata": {},
   "outputs": [],
   "source": [
    "ranking_strategy = lambda trn_ds, libact_model: UncertaintySampling(trn_ds, model=libact_model, method='lc')\n",
    "#ranking_strategy = lambda trn_ds, libact_model: RandomSamplingWithRetraining(trn_ds, libact_model)\n",
    "\n",
    "active_learner = create_active_learner(X_train, Y_seed, test_input_ids, test_tags, tags_vals, \n",
    "                                       libact_model=libact_model, ranking_strategy=ranking_strategy, rnd_steps=1)"
   ]
  },
  {
   "cell_type": "code",
   "execution_count": 35,
   "metadata": {},
   "outputs": [
    {
     "name": "stdout",
     "output_type": "stream",
     "text": [
      "2019-06-27 14:03:53,486 - biomed_ie - INFO - Start emulating active learning.\n",
      "2019-06-27 14:03:59,286 - biomed_ie - INFO - Full finetuning: True\n",
      "2019-06-27 14:03:59,290 - biomed_ie - INFO - N parameters: 108314886\n"
     ]
    },
    {
     "name": "stderr",
     "output_type": "stream",
     "text": [
      "\n",
      "Epoch:   0%|          | 0/30 [00:00<?, ?it/s]\u001b[A"
     ]
    },
    {
     "name": "stdout",
     "output_type": "stream",
     "text": [
      "2019-06-27 14:03:59,910 - biomed_ie - INFO - Train loss: 0.26068915196550574\n",
      "2019-06-27 14:03:59,960 - biomed_ie - INFO - Validation loss: 0.1216114069074894\n"
     ]
    },
    {
     "name": "stderr",
     "output_type": "stream",
     "text": [
      "\n",
      "Epoch:   3%|▎         | 1/30 [00:00<00:19,  1.51it/s]\u001b[A"
     ]
    },
    {
     "name": "stdout",
     "output_type": "stream",
     "text": [
      "2019-06-27 14:04:00,542 - biomed_ie - INFO - Train loss: 0.06371415485211505\n",
      "2019-06-27 14:04:00,593 - biomed_ie - INFO - Validation loss: 0.06034849368361912\n"
     ]
    },
    {
     "name": "stderr",
     "output_type": "stream",
     "text": [
      "\n",
      "Epoch:   7%|▋         | 2/30 [00:01<00:18,  1.53it/s]\u001b[A"
     ]
    },
    {
     "name": "stdout",
     "output_type": "stream",
     "text": [
      "2019-06-27 14:04:01,183 - biomed_ie - INFO - Train loss: 0.03181295999424245\n",
      "2019-06-27 14:04:01,234 - biomed_ie - INFO - Validation loss: 0.03827281973578713\n"
     ]
    },
    {
     "name": "stderr",
     "output_type": "stream",
     "text": [
      "\n",
      "Epoch:  10%|█         | 3/30 [00:01<00:17,  1.54it/s]\u001b[A"
     ]
    },
    {
     "name": "stdout",
     "output_type": "stream",
     "text": [
      "2019-06-27 14:04:01,816 - biomed_ie - INFO - Train loss: 0.014405999696109355\n",
      "2019-06-27 14:04:01,866 - biomed_ie - INFO - Validation loss: 0.022111918388392385\n"
     ]
    },
    {
     "name": "stderr",
     "output_type": "stream",
     "text": [
      "\n",
      "Epoch:  13%|█▎        | 4/30 [00:02<00:16,  1.55it/s]\u001b[A"
     ]
    },
    {
     "name": "stdout",
     "output_type": "stream",
     "text": [
      "2019-06-27 14:04:02,450 - biomed_ie - INFO - Train loss: 0.006753914777522649\n",
      "2019-06-27 14:04:02,501 - biomed_ie - INFO - Validation loss: 0.018973319919823796\n"
     ]
    },
    {
     "name": "stderr",
     "output_type": "stream",
     "text": [
      "\n",
      "Epoch:  17%|█▋        | 5/30 [00:03<00:16,  1.56it/s]\u001b[A"
     ]
    },
    {
     "name": "stdout",
     "output_type": "stream",
     "text": [
      "2019-06-27 14:04:03,084 - biomed_ie - INFO - Train loss: 0.0026926463583438866\n",
      "2019-06-27 14:04:03,135 - biomed_ie - INFO - Validation loss: 0.013956255734167514\n"
     ]
    },
    {
     "name": "stderr",
     "output_type": "stream",
     "text": [
      "\n",
      "Epoch:  20%|██        | 6/30 [00:03<00:15,  1.56it/s]\u001b[A"
     ]
    },
    {
     "name": "stdout",
     "output_type": "stream",
     "text": [
      "2019-06-27 14:04:03,719 - biomed_ie - INFO - Train loss: 0.0009439051306496065\n",
      "2019-06-27 14:04:03,770 - biomed_ie - INFO - Validation loss: 0.013671686201785951\n"
     ]
    },
    {
     "name": "stderr",
     "output_type": "stream",
     "text": [
      "\n",
      "Epoch:  23%|██▎       | 7/30 [00:04<00:14,  1.57it/s]\u001b[A"
     ]
    },
    {
     "name": "stdout",
     "output_type": "stream",
     "text": [
      "2019-06-27 14:04:04,352 - biomed_ie - INFO - Train loss: 0.0005526568009934532\n",
      "2019-06-27 14:04:04,403 - biomed_ie - INFO - Validation loss: 0.01915524453426451\n"
     ]
    },
    {
     "name": "stderr",
     "output_type": "stream",
     "text": [
      "\n",
      "Epoch:  27%|██▋       | 8/30 [00:05<00:13,  1.57it/s]\u001b[A"
     ]
    },
    {
     "name": "stdout",
     "output_type": "stream",
     "text": [
      "2019-06-27 14:04:04,989 - biomed_ie - INFO - Train loss: 0.00026453921961317947\n",
      "2019-06-27 14:04:05,039 - biomed_ie - INFO - Validation loss: 0.020435917808953357\n"
     ]
    },
    {
     "name": "stderr",
     "output_type": "stream",
     "text": [
      "\n",
      "Epoch:  30%|███       | 9/30 [00:05<00:13,  1.57it/s]\u001b[A"
     ]
    },
    {
     "name": "stdout",
     "output_type": "stream",
     "text": [
      "2019-06-27 14:04:05,626 - biomed_ie - INFO - Train loss: 0.0009699198379506911\n",
      "2019-06-27 14:04:05,677 - biomed_ie - INFO - Validation loss: 0.018302363779408363\n",
      "2019-06-27 14:04:12,774 - biomed_ie - INFO - Evaluation: {'_f1_score': 0.6693435754189944}\n",
      "2019-06-27 14:04:12,775 - biomed_ie - INFO - Active learning iteration: #0\n",
      "2019-06-27 14:04:19,996 - biomed_ie - INFO - Performance: {'_f1_score': 0.6693435754189944}\n",
      "2019-06-27 14:04:19,997 - biomed_ie - INFO - Active learning iteration: #1\n",
      "2019-06-27 14:04:25,770 - biomed_ie - INFO - Full finetuning: True\n",
      "2019-06-27 14:04:25,773 - biomed_ie - INFO - N parameters: 108314886\n"
     ]
    },
    {
     "name": "stderr",
     "output_type": "stream",
     "text": [
      "\n",
      "\n",
      "Epoch:   0%|          | 0/30 [00:00<?, ?it/s]\u001b[A\u001b[A"
     ]
    },
    {
     "name": "stdout",
     "output_type": "stream",
     "text": [
      "2019-06-27 14:04:26,621 - biomed_ie - INFO - Train loss: 0.23321327445232293\n",
      "2019-06-27 14:04:26,687 - biomed_ie - INFO - Validation loss: 0.07313309760575884\n"
     ]
    },
    {
     "name": "stderr",
     "output_type": "stream",
     "text": [
      "\n",
      "\n",
      "Epoch:   3%|▎         | 1/30 [00:00<00:26,  1.11it/s]\u001b[A\u001b[A"
     ]
    },
    {
     "name": "stdout",
     "output_type": "stream",
     "text": [
      "2019-06-27 14:04:27,504 - biomed_ie - INFO - Train loss: 0.0710120165658263\n",
      "2019-06-27 14:04:27,569 - biomed_ie - INFO - Validation loss: 0.02900290020396201\n"
     ]
    },
    {
     "name": "stderr",
     "output_type": "stream",
     "text": [
      "\n",
      "\n",
      "Epoch:   7%|▋         | 2/30 [00:01<00:25,  1.12it/s]\u001b[A\u001b[A"
     ]
    },
    {
     "name": "stdout",
     "output_type": "stream",
     "text": [
      "2019-06-27 14:04:28,384 - biomed_ie - INFO - Train loss: 0.02270521506057796\n",
      "2019-06-27 14:04:28,449 - biomed_ie - INFO - Validation loss: 0.010192812828535446\n"
     ]
    },
    {
     "name": "stderr",
     "output_type": "stream",
     "text": [
      "\n",
      "\n",
      "Epoch:  10%|█         | 3/30 [00:02<00:24,  1.12it/s]\u001b[A\u001b[A"
     ]
    },
    {
     "name": "stdout",
     "output_type": "stream",
     "text": [
      "2019-06-27 14:04:29,264 - biomed_ie - INFO - Train loss: 0.008901098265302226\n",
      "2019-06-27 14:04:29,329 - biomed_ie - INFO - Validation loss: 0.005016483868775743\n"
     ]
    },
    {
     "name": "stderr",
     "output_type": "stream",
     "text": [
      "\n",
      "\n",
      "Epoch:  13%|█▎        | 4/30 [00:03<00:23,  1.13it/s]\u001b[A\u001b[A"
     ]
    },
    {
     "name": "stdout",
     "output_type": "stream",
     "text": [
      "2019-06-27 14:04:30,145 - biomed_ie - INFO - Train loss: 0.002786892788228492\n",
      "2019-06-27 14:04:30,210 - biomed_ie - INFO - Validation loss: 0.0059623342384113355\n"
     ]
    },
    {
     "name": "stderr",
     "output_type": "stream",
     "text": [
      "\n",
      "\n",
      "Epoch:  17%|█▋        | 5/30 [00:04<00:22,  1.13it/s]\u001b[A\u001b[A"
     ]
    },
    {
     "name": "stdout",
     "output_type": "stream",
     "text": [
      "2019-06-27 14:04:31,026 - biomed_ie - INFO - Train loss: 0.001866556773287656\n",
      "2019-06-27 14:04:31,091 - biomed_ie - INFO - Validation loss: 0.005338027487310131\n"
     ]
    },
    {
     "name": "stderr",
     "output_type": "stream",
     "text": [
      "\n",
      "\n",
      "Epoch:  20%|██        | 6/30 [00:05<00:21,  1.13it/s]\u001b[A\u001b[A"
     ]
    },
    {
     "name": "stdout",
     "output_type": "stream",
     "text": [
      "2019-06-27 14:04:31,906 - biomed_ie - INFO - Train loss: 0.0007420420632818817\n",
      "2019-06-27 14:04:31,971 - biomed_ie - INFO - Validation loss: 0.0061196302262584825\n"
     ]
    },
    {
     "name": "stderr",
     "output_type": "stream",
     "text": [
      "\n",
      "\n",
      "\u001b[A\u001b[A"
     ]
    },
    {
     "name": "stdout",
     "output_type": "stream",
     "text": [
      "2019-06-27 14:04:54,953 - biomed_ie - INFO - Performance: {'_f1_score': 0.6376447607088043}\n",
      "2019-06-27 14:04:54,954 - biomed_ie - INFO - Active learning iteration: #2\n",
      "2019-06-27 14:05:00,762 - biomed_ie - INFO - Full finetuning: True\n",
      "2019-06-27 14:05:00,766 - biomed_ie - INFO - N parameters: 108314886\n"
     ]
    },
    {
     "name": "stderr",
     "output_type": "stream",
     "text": [
      "\n",
      "\n",
      "Epoch:   0%|          | 0/30 [00:00<?, ?it/s]\u001b[A\u001b[A"
     ]
    },
    {
     "name": "stdout",
     "output_type": "stream",
     "text": [
      "2019-06-27 14:05:01,746 - biomed_ie - INFO - Train loss: 0.13497155100202407\n",
      "2019-06-27 14:05:01,828 - biomed_ie - INFO - Validation loss: 0.041248045099063185\n"
     ]
    },
    {
     "name": "stderr",
     "output_type": "stream",
     "text": [
      "\n",
      "\n",
      "Epoch:   3%|▎         | 1/30 [00:01<00:30,  1.05s/it]\u001b[A\u001b[A"
     ]
    },
    {
     "name": "stdout",
     "output_type": "stream",
     "text": [
      "2019-06-27 14:05:02,790 - biomed_ie - INFO - Train loss: 0.03388967043675554\n",
      "2019-06-27 14:05:02,873 - biomed_ie - INFO - Validation loss: 0.019327283218463887\n"
     ]
    },
    {
     "name": "stderr",
     "output_type": "stream",
     "text": [
      "\n",
      "\n",
      "Epoch:   7%|▋         | 2/30 [00:02<00:29,  1.05s/it]\u001b[A\u001b[A"
     ]
    },
    {
     "name": "stdout",
     "output_type": "stream",
     "text": [
      "2019-06-27 14:05:03,836 - biomed_ie - INFO - Train loss: 0.014445293670930802\n",
      "2019-06-27 14:05:03,918 - biomed_ie - INFO - Validation loss: 0.010336046730439493\n"
     ]
    },
    {
     "name": "stderr",
     "output_type": "stream",
     "text": [
      "\n",
      "\n",
      "Epoch:  10%|█         | 3/30 [00:03<00:28,  1.05s/it]\u001b[A\u001b[A"
     ]
    },
    {
     "name": "stdout",
     "output_type": "stream",
     "text": [
      "2019-06-27 14:05:04,862 - biomed_ie - INFO - Train loss: 0.005139608438998556\n",
      "2019-06-27 14:05:04,945 - biomed_ie - INFO - Validation loss: 0.006379710701037579\n"
     ]
    },
    {
     "name": "stderr",
     "output_type": "stream",
     "text": [
      "\n",
      "\n",
      "Epoch:  13%|█▎        | 4/30 [00:04<00:27,  1.04s/it]\u001b[A\u001b[A"
     ]
    },
    {
     "name": "stdout",
     "output_type": "stream",
     "text": [
      "2019-06-27 14:05:05,902 - biomed_ie - INFO - Train loss: 0.0018314615014000252\n",
      "2019-06-27 14:05:05,984 - biomed_ie - INFO - Validation loss: 0.004357435395867805\n"
     ]
    },
    {
     "name": "stderr",
     "output_type": "stream",
     "text": [
      "\n",
      "\n",
      "Epoch:  17%|█▋        | 5/30 [00:05<00:25,  1.04s/it]\u001b[A\u001b[A"
     ]
    },
    {
     "name": "stdout",
     "output_type": "stream",
     "text": [
      "2019-06-27 14:05:06,942 - biomed_ie - INFO - Train loss: 0.0007004411995244293\n",
      "2019-06-27 14:05:07,024 - biomed_ie - INFO - Validation loss: 0.009898744582191227\n"
     ]
    },
    {
     "name": "stderr",
     "output_type": "stream",
     "text": [
      "\n",
      "\n",
      "Epoch:  20%|██        | 6/30 [00:06<00:24,  1.04s/it]\u001b[A\u001b[A"
     ]
    },
    {
     "name": "stdout",
     "output_type": "stream",
     "text": [
      "2019-06-27 14:05:07,982 - biomed_ie - INFO - Train loss: 0.0004417077097416924\n",
      "2019-06-27 14:05:08,064 - biomed_ie - INFO - Validation loss: 0.005976462692726316\n"
     ]
    },
    {
     "name": "stderr",
     "output_type": "stream",
     "text": [
      "\n",
      "\n",
      "Epoch:  23%|██▎       | 7/30 [00:07<00:23,  1.04s/it]\u001b[A\u001b[A"
     ]
    },
    {
     "name": "stdout",
     "output_type": "stream",
     "text": [
      "2019-06-27 14:05:09,026 - biomed_ie - INFO - Train loss: 0.00014594436343089815\n",
      "2019-06-27 14:05:09,109 - biomed_ie - INFO - Validation loss: 0.006617122669545371\n",
      "2019-06-27 14:05:32,167 - biomed_ie - INFO - Performance: {'_f1_score': 0.7041960947237225}\n",
      "2019-06-27 14:05:32,168 - biomed_ie - INFO - Active learning iteration: #3\n",
      "2019-06-27 14:05:37,943 - biomed_ie - INFO - Full finetuning: True\n",
      "2019-06-27 14:05:37,947 - biomed_ie - INFO - N parameters: 108314886\n"
     ]
    },
    {
     "name": "stderr",
     "output_type": "stream",
     "text": [
      "\n",
      "\n",
      "\n",
      "Epoch:   0%|          | 0/30 [00:00<?, ?it/s]\u001b[A\u001b[A\u001b[A"
     ]
    },
    {
     "name": "stdout",
     "output_type": "stream",
     "text": [
      "2019-06-27 14:05:39,184 - biomed_ie - INFO - Train loss: 0.10143427924395294\n",
      "2019-06-27 14:05:39,282 - biomed_ie - INFO - Validation loss: 0.024099955267279687\n"
     ]
    },
    {
     "name": "stderr",
     "output_type": "stream",
     "text": [
      "\n",
      "\n",
      "\n",
      "Epoch:   3%|▎         | 1/30 [00:01<00:38,  1.32s/it]\u001b[A\u001b[A\u001b[A"
     ]
    },
    {
     "name": "stdout",
     "output_type": "stream",
     "text": [
      "2019-06-27 14:05:40,462 - biomed_ie - INFO - Train loss: 0.0227862210026392\n",
      "2019-06-27 14:05:40,559 - biomed_ie - INFO - Validation loss: 0.00983157813766577\n"
     ]
    },
    {
     "name": "stderr",
     "output_type": "stream",
     "text": [
      "\n",
      "\n",
      "\n",
      "Epoch:   7%|▋         | 2/30 [00:02<00:36,  1.30s/it]\u001b[A\u001b[A\u001b[A"
     ]
    },
    {
     "name": "stdout",
     "output_type": "stream",
     "text": [
      "2019-06-27 14:05:41,737 - biomed_ie - INFO - Train loss: 0.006861641562895405\n",
      "2019-06-27 14:05:41,835 - biomed_ie - INFO - Validation loss: 0.006010735502643306\n"
     ]
    },
    {
     "name": "stderr",
     "output_type": "stream",
     "text": [
      "\n",
      "\n",
      "\n",
      "Epoch:  10%|█         | 3/30 [00:03<00:34,  1.30s/it]\u001b[A\u001b[A\u001b[A"
     ]
    },
    {
     "name": "stdout",
     "output_type": "stream",
     "text": [
      "2019-06-27 14:05:43,017 - biomed_ie - INFO - Train loss: 0.0020392636314936264\n",
      "2019-06-27 14:05:43,114 - biomed_ie - INFO - Validation loss: 0.0055678317962336715\n"
     ]
    },
    {
     "name": "stderr",
     "output_type": "stream",
     "text": [
      "\n",
      "\n",
      "\n",
      "Epoch:  13%|█▎        | 4/30 [00:05<00:33,  1.29s/it]\u001b[A\u001b[A\u001b[A"
     ]
    },
    {
     "name": "stdout",
     "output_type": "stream",
     "text": [
      "2019-06-27 14:05:44,295 - biomed_ie - INFO - Train loss: 0.0009298568956489523\n",
      "2019-06-27 14:05:44,393 - biomed_ie - INFO - Validation loss: 0.006060704697657676\n"
     ]
    },
    {
     "name": "stderr",
     "output_type": "stream",
     "text": [
      "\n",
      "\n",
      "\n",
      "Epoch:  17%|█▋        | 5/30 [00:06<00:32,  1.29s/it]\u001b[A\u001b[A\u001b[A"
     ]
    },
    {
     "name": "stdout",
     "output_type": "stream",
     "text": [
      "2019-06-27 14:05:45,583 - biomed_ie - INFO - Train loss: 0.00034209883299465653\n",
      "2019-06-27 14:05:45,681 - biomed_ie - INFO - Validation loss: 0.006989512701321692\n"
     ]
    },
    {
     "name": "stderr",
     "output_type": "stream",
     "text": [
      "\n",
      "\n",
      "\n",
      "Epoch:  20%|██        | 6/30 [00:07<00:30,  1.29s/it]\u001b[A\u001b[A\u001b[A"
     ]
    },
    {
     "name": "stdout",
     "output_type": "stream",
     "text": [
      "2019-06-27 14:05:46,865 - biomed_ie - INFO - Train loss: 0.0003456341415396771\n",
      "2019-06-27 14:05:46,962 - biomed_ie - INFO - Validation loss: 0.0068146565480388865\n",
      "2019-06-27 14:06:09,973 - biomed_ie - INFO - Performance: {'_f1_score': 0.7074531012337333}\n",
      "2019-06-27 14:06:09,974 - biomed_ie - INFO - Active learning iteration: #4\n",
      "2019-06-27 14:06:15,736 - biomed_ie - INFO - Full finetuning: True\n",
      "2019-06-27 14:06:15,740 - biomed_ie - INFO - N parameters: 108314886\n"
     ]
    },
    {
     "name": "stderr",
     "output_type": "stream",
     "text": [
      "\n",
      "\n",
      "\n",
      "\n",
      "Epoch:   0%|          | 0/30 [00:00<?, ?it/s]\u001b[A\u001b[A\u001b[A\u001b[A"
     ]
    },
    {
     "name": "stdout",
     "output_type": "stream",
     "text": [
      "2019-06-27 14:06:17,182 - biomed_ie - INFO - Train loss: 0.09247383496459409\n",
      "2019-06-27 14:06:17,290 - biomed_ie - INFO - Validation loss: 0.014979592655404661\n"
     ]
    },
    {
     "name": "stderr",
     "output_type": "stream",
     "text": [
      "\n",
      "\n",
      "\n",
      "\n",
      "Epoch:   3%|▎         | 1/30 [00:01<00:44,  1.53s/it]\u001b[A\u001b[A\u001b[A\u001b[A"
     ]
    },
    {
     "name": "stdout",
     "output_type": "stream",
     "text": [
      "2019-06-27 14:06:18,716 - biomed_ie - INFO - Train loss: 0.01918534910976409\n",
      "2019-06-27 14:06:18,824 - biomed_ie - INFO - Validation loss: 0.004486972499684456\n"
     ]
    },
    {
     "name": "stderr",
     "output_type": "stream",
     "text": [
      "\n",
      "\n",
      "\n",
      "\n",
      "Epoch:   7%|▋         | 2/30 [00:03<00:42,  1.53s/it]\u001b[A\u001b[A\u001b[A\u001b[A"
     ]
    },
    {
     "name": "stdout",
     "output_type": "stream",
     "text": [
      "2019-06-27 14:06:20,228 - biomed_ie - INFO - Train loss: 0.003810532929348896\n",
      "2019-06-27 14:06:20,336 - biomed_ie - INFO - Validation loss: 0.0035487306079335064\n"
     ]
    },
    {
     "name": "stderr",
     "output_type": "stream",
     "text": [
      "\n",
      "\n",
      "\n",
      "\n",
      "Epoch:  10%|█         | 3/30 [00:04<00:41,  1.52s/it]\u001b[A\u001b[A\u001b[A\u001b[A"
     ]
    },
    {
     "name": "stdout",
     "output_type": "stream",
     "text": [
      "2019-06-27 14:06:21,750 - biomed_ie - INFO - Train loss: 0.00246333705616647\n",
      "2019-06-27 14:06:21,859 - biomed_ie - INFO - Validation loss: 0.0025536491661168038\n"
     ]
    },
    {
     "name": "stderr",
     "output_type": "stream",
     "text": [
      "\n",
      "\n",
      "\n",
      "\n",
      "Epoch:  13%|█▎        | 4/30 [00:06<00:39,  1.52s/it]\u001b[A\u001b[A\u001b[A\u001b[A"
     ]
    },
    {
     "name": "stdout",
     "output_type": "stream",
     "text": [
      "2019-06-27 14:06:23,264 - biomed_ie - INFO - Train loss: 0.0013745337202616134\n",
      "2019-06-27 14:06:23,372 - biomed_ie - INFO - Validation loss: 0.0037465969714313937\n"
     ]
    },
    {
     "name": "stderr",
     "output_type": "stream",
     "text": [
      "\n",
      "\n",
      "\n",
      "\n",
      "Epoch:  17%|█▋        | 5/30 [00:07<00:38,  1.52s/it]\u001b[A\u001b[A\u001b[A\u001b[A"
     ]
    },
    {
     "name": "stdout",
     "output_type": "stream",
     "text": [
      "2019-06-27 14:06:24,783 - biomed_ie - INFO - Train loss: 0.0005930154107703833\n",
      "2019-06-27 14:06:24,891 - biomed_ie - INFO - Validation loss: 0.002868218641532095\n"
     ]
    },
    {
     "name": "stderr",
     "output_type": "stream",
     "text": [
      "\n",
      "\n",
      "\n",
      "\n",
      "Epoch:  20%|██        | 6/30 [00:09<00:36,  1.52s/it]\u001b[A\u001b[A\u001b[A\u001b[A"
     ]
    },
    {
     "name": "stdout",
     "output_type": "stream",
     "text": [
      "2019-06-27 14:06:26,301 - biomed_ie - INFO - Train loss: 0.00024429958285765994\n",
      "2019-06-27 14:06:26,409 - biomed_ie - INFO - Validation loss: 0.00368397583528311\n",
      "2019-06-27 14:06:49,427 - biomed_ie - INFO - Performance: {'_f1_score': 0.7727526521496371}\n",
      "2019-06-27 14:06:49,429 - biomed_ie - INFO - Active learning iteration: #5\n",
      "2019-06-27 14:06:55,257 - biomed_ie - INFO - Full finetuning: True\n",
      "2019-06-27 14:06:55,261 - biomed_ie - INFO - N parameters: 108314886\n"
     ]
    },
    {
     "name": "stderr",
     "output_type": "stream",
     "text": [
      "\n",
      "\n",
      "\n",
      "\n",
      "\n",
      "Epoch:   0%|          | 0/30 [00:00<?, ?it/s]\u001b[A\u001b[A\u001b[A\u001b[A\u001b[A"
     ]
    },
    {
     "name": "stdout",
     "output_type": "stream",
     "text": [
      "2019-06-27 14:06:56,858 - biomed_ie - INFO - Train loss: 0.09372226285198897\n",
      "2019-06-27 14:06:56,984 - biomed_ie - INFO - Validation loss: 0.017453759890625073\n"
     ]
    },
    {
     "name": "stderr",
     "output_type": "stream",
     "text": [
      "\n",
      "\n",
      "\n",
      "\n",
      "\n",
      "Epoch:   3%|▎         | 1/30 [00:01<00:49,  1.70s/it]\u001b[A\u001b[A\u001b[A\u001b[A\u001b[A"
     ]
    },
    {
     "name": "stdout",
     "output_type": "stream",
     "text": [
      "2019-06-27 14:06:58,541 - biomed_ie - INFO - Train loss: 0.01894237611593916\n",
      "2019-06-27 14:06:58,667 - biomed_ie - INFO - Validation loss: 0.0042521316379868284\n"
     ]
    },
    {
     "name": "stderr",
     "output_type": "stream",
     "text": [
      "\n",
      "\n",
      "\n",
      "\n",
      "\n",
      "Epoch:   7%|▋         | 2/30 [00:03<00:47,  1.69s/it]\u001b[A\u001b[A\u001b[A\u001b[A\u001b[A"
     ]
    },
    {
     "name": "stdout",
     "output_type": "stream",
     "text": [
      "2019-06-27 14:07:00,214 - biomed_ie - INFO - Train loss: 0.004522726039072828\n",
      "2019-06-27 14:07:00,339 - biomed_ie - INFO - Validation loss: 0.001369460600387104\n"
     ]
    },
    {
     "name": "stderr",
     "output_type": "stream",
     "text": [
      "\n",
      "\n",
      "\n",
      "\n",
      "\n",
      "Epoch:  10%|█         | 3/30 [00:05<00:45,  1.69s/it]\u001b[A\u001b[A\u001b[A\u001b[A\u001b[A"
     ]
    },
    {
     "name": "stdout",
     "output_type": "stream",
     "text": [
      "2019-06-27 14:07:01,891 - biomed_ie - INFO - Train loss: 0.001689684996744992\n",
      "2019-06-27 14:07:02,016 - biomed_ie - INFO - Validation loss: 0.0013428043544761778\n"
     ]
    },
    {
     "name": "stderr",
     "output_type": "stream",
     "text": [
      "\n",
      "\n",
      "\n",
      "\n",
      "\n",
      "Epoch:  13%|█▎        | 4/30 [00:06<00:43,  1.69s/it]\u001b[A\u001b[A\u001b[A\u001b[A\u001b[A"
     ]
    },
    {
     "name": "stdout",
     "output_type": "stream",
     "text": [
      "2019-06-27 14:07:03,572 - biomed_ie - INFO - Train loss: 0.000623607592292909\n",
      "2019-06-27 14:07:03,698 - biomed_ie - INFO - Validation loss: 0.001414795194626721\n"
     ]
    },
    {
     "name": "stderr",
     "output_type": "stream",
     "text": [
      "\n",
      "\n",
      "\n",
      "\n",
      "\n",
      "Epoch:  17%|█▋        | 5/30 [00:08<00:42,  1.68s/it]\u001b[A\u001b[A\u001b[A\u001b[A\u001b[A"
     ]
    },
    {
     "name": "stdout",
     "output_type": "stream",
     "text": [
      "2019-06-27 14:07:05,254 - biomed_ie - INFO - Train loss: 0.00038164847983936654\n",
      "2019-06-27 14:07:05,380 - biomed_ie - INFO - Validation loss: 0.0014706949693805732\n"
     ]
    },
    {
     "name": "stderr",
     "output_type": "stream",
     "text": [
      "\n",
      "\n",
      "\n",
      "\n",
      "\n",
      "Epoch:  20%|██        | 6/30 [00:10<00:40,  1.68s/it]\u001b[A\u001b[A\u001b[A\u001b[A\u001b[A"
     ]
    },
    {
     "name": "stdout",
     "output_type": "stream",
     "text": [
      "2019-06-27 14:07:06,933 - biomed_ie - INFO - Train loss: 0.00021051440066586133\n",
      "2019-06-27 14:07:07,059 - biomed_ie - INFO - Validation loss: 0.001571506943253587\n",
      "2019-06-27 14:07:29,980 - biomed_ie - INFO - Performance: {'_f1_score': 0.8221585482330468}\n",
      "2019-06-27 14:07:29,981 - biomed_ie - INFO - Active learning iteration: #6\n",
      "2019-06-27 14:07:35,784 - biomed_ie - INFO - Full finetuning: True\n",
      "2019-06-27 14:07:35,788 - biomed_ie - INFO - N parameters: 108314886\n"
     ]
    },
    {
     "name": "stderr",
     "output_type": "stream",
     "text": [
      "\n",
      "\n",
      "\n",
      "\n",
      "\n",
      "\n",
      "Epoch:   0%|          | 0/30 [00:00<?, ?it/s]\u001b[A\u001b[A\u001b[A\u001b[A\u001b[A\u001b[A"
     ]
    },
    {
     "name": "stdout",
     "output_type": "stream",
     "text": [
      "2019-06-27 14:07:37,614 - biomed_ie - INFO - Train loss: 0.08181705244291419\n",
      "2019-06-27 14:07:37,754 - biomed_ie - INFO - Validation loss: 0.009832758652536492\n"
     ]
    },
    {
     "name": "stderr",
     "output_type": "stream",
     "text": [
      "\n",
      "\n",
      "\n",
      "\n",
      "\n",
      "\n",
      "Epoch:   3%|▎         | 1/30 [00:01<00:56,  1.94s/it]\u001b[A\u001b[A\u001b[A\u001b[A\u001b[A\u001b[A"
     ]
    },
    {
     "name": "stdout",
     "output_type": "stream",
     "text": [
      "2019-06-27 14:07:39,547 - biomed_ie - INFO - Train loss: 0.012645860453831636\n",
      "2019-06-27 14:07:39,687 - biomed_ie - INFO - Validation loss: 0.001743662924993606\n"
     ]
    },
    {
     "name": "stderr",
     "output_type": "stream",
     "text": [
      "\n",
      "\n",
      "\n",
      "\n",
      "\n",
      "\n",
      "Epoch:   7%|▋         | 2/30 [00:03<00:54,  1.94s/it]\u001b[A\u001b[A\u001b[A\u001b[A\u001b[A\u001b[A"
     ]
    },
    {
     "name": "stdout",
     "output_type": "stream",
     "text": [
      "2019-06-27 14:07:41,470 - biomed_ie - INFO - Train loss: 0.002932302344736624\n",
      "2019-06-27 14:07:41,611 - biomed_ie - INFO - Validation loss: 0.0010407568518081703\n"
     ]
    },
    {
     "name": "stderr",
     "output_type": "stream",
     "text": [
      "\n",
      "\n",
      "\n",
      "\n",
      "\n",
      "\n",
      "Epoch:  10%|█         | 3/30 [00:05<00:52,  1.93s/it]\u001b[A\u001b[A\u001b[A\u001b[A\u001b[A\u001b[A"
     ]
    },
    {
     "name": "stdout",
     "output_type": "stream",
     "text": [
      "2019-06-27 14:07:43,394 - biomed_ie - INFO - Train loss: 0.0011835613854428084\n",
      "2019-06-27 14:07:43,534 - biomed_ie - INFO - Validation loss: 0.0014192258056841397\n"
     ]
    },
    {
     "name": "stderr",
     "output_type": "stream",
     "text": [
      "\n",
      "\n",
      "\n",
      "\n",
      "\n",
      "\n",
      "Epoch:  13%|█▎        | 4/30 [00:07<00:50,  1.93s/it]\u001b[A\u001b[A\u001b[A\u001b[A\u001b[A\u001b[A"
     ]
    },
    {
     "name": "stdout",
     "output_type": "stream",
     "text": [
      "2019-06-27 14:07:45,318 - biomed_ie - INFO - Train loss: 0.0007986056493938531\n",
      "2019-06-27 14:07:45,458 - biomed_ie - INFO - Validation loss: 0.002320630657941775\n"
     ]
    },
    {
     "name": "stderr",
     "output_type": "stream",
     "text": [
      "\n",
      "\n",
      "\n",
      "\n",
      "\n",
      "\n",
      "Epoch:  17%|█▋        | 5/30 [00:09<00:48,  1.93s/it]\u001b[A\u001b[A\u001b[A\u001b[A\u001b[A\u001b[A"
     ]
    },
    {
     "name": "stdout",
     "output_type": "stream",
     "text": [
      "2019-06-27 14:07:47,245 - biomed_ie - INFO - Train loss: 0.00087258713339946\n",
      "2019-06-27 14:07:47,386 - biomed_ie - INFO - Validation loss: 0.0008875615241234763\n"
     ]
    },
    {
     "name": "stderr",
     "output_type": "stream",
     "text": [
      "\n",
      "\n",
      "\n",
      "\n",
      "\n",
      "\n",
      "Epoch:  20%|██        | 6/30 [00:11<00:46,  1.93s/it]\u001b[A\u001b[A\u001b[A\u001b[A\u001b[A\u001b[A"
     ]
    },
    {
     "name": "stdout",
     "output_type": "stream",
     "text": [
      "2019-06-27 14:07:49,168 - biomed_ie - INFO - Train loss: 0.0005084421619215259\n",
      "2019-06-27 14:07:49,308 - biomed_ie - INFO - Validation loss: 0.0010866036914046245\n"
     ]
    },
    {
     "name": "stderr",
     "output_type": "stream",
     "text": [
      "\n",
      "\n",
      "\n",
      "\n",
      "\n",
      "\n",
      "Epoch:  23%|██▎       | 7/30 [00:13<00:44,  1.93s/it]\u001b[A\u001b[A\u001b[A\u001b[A\u001b[A\u001b[A"
     ]
    },
    {
     "name": "stdout",
     "output_type": "stream",
     "text": [
      "2019-06-27 14:07:51,093 - biomed_ie - INFO - Train loss: 0.00017252766309325458\n",
      "2019-06-27 14:07:51,233 - biomed_ie - INFO - Validation loss: 0.0011823456127542005\n"
     ]
    },
    {
     "name": "stderr",
     "output_type": "stream",
     "text": [
      "\n",
      "\n",
      "\n",
      "\n",
      "\n",
      "\n",
      "Epoch:  27%|██▋       | 8/30 [00:15<00:42,  1.93s/it]\u001b[A\u001b[A\u001b[A\u001b[A\u001b[A\u001b[A"
     ]
    },
    {
     "name": "stdout",
     "output_type": "stream",
     "text": [
      "2019-06-27 14:07:53,027 - biomed_ie - INFO - Train loss: 0.00011307951682874117\n",
      "2019-06-27 14:07:53,167 - biomed_ie - INFO - Validation loss: 0.0011382564752920527\n",
      "2019-06-27 14:08:16,029 - biomed_ie - INFO - Performance: {'_f1_score': 0.7966983671272205}\n",
      "2019-06-27 14:08:16,030 - biomed_ie - INFO - Active learning iteration: #7\n",
      "2019-06-27 14:08:21,871 - biomed_ie - INFO - Full finetuning: True\n",
      "2019-06-27 14:08:21,875 - biomed_ie - INFO - N parameters: 108314886\n"
     ]
    },
    {
     "name": "stderr",
     "output_type": "stream",
     "text": [
      "\n",
      "\n",
      "\n",
      "\n",
      "\n",
      "\n",
      "\n",
      "Epoch:   0%|          | 0/30 [00:00<?, ?it/s]\u001b[A\u001b[A\u001b[A\u001b[A\u001b[A\u001b[A\u001b[A"
     ]
    },
    {
     "name": "stdout",
     "output_type": "stream",
     "text": [
      "2019-06-27 14:08:23,841 - biomed_ie - INFO - Train loss: 0.07080782017891168\n",
      "2019-06-27 14:08:23,997 - biomed_ie - INFO - Validation loss: 0.00832585760686646\n"
     ]
    },
    {
     "name": "stderr",
     "output_type": "stream",
     "text": [
      "\n",
      "\n",
      "\n",
      "\n",
      "\n",
      "\n",
      "\n",
      "Epoch:   3%|▎         | 1/30 [00:02<01:00,  2.09s/it]\u001b[A\u001b[A\u001b[A\u001b[A\u001b[A\u001b[A\u001b[A"
     ]
    },
    {
     "name": "stdout",
     "output_type": "stream",
     "text": [
      "2019-06-27 14:08:25,930 - biomed_ie - INFO - Train loss: 0.009324494011247476\n",
      "2019-06-27 14:08:26,086 - biomed_ie - INFO - Validation loss: 0.002611017465899465\n"
     ]
    },
    {
     "name": "stderr",
     "output_type": "stream",
     "text": [
      "\n",
      "\n",
      "\n",
      "\n",
      "\n",
      "\n",
      "\n",
      "Epoch:   7%|▋         | 2/30 [00:04<00:58,  2.09s/it]\u001b[A\u001b[A\u001b[A\u001b[A\u001b[A\u001b[A\u001b[A"
     ]
    },
    {
     "name": "stdout",
     "output_type": "stream",
     "text": [
      "2019-06-27 14:08:28,025 - biomed_ie - INFO - Train loss: 0.0026101617419740687\n",
      "2019-06-27 14:08:28,182 - biomed_ie - INFO - Validation loss: 0.0020891936571304395\n"
     ]
    },
    {
     "name": "stderr",
     "output_type": "stream",
     "text": [
      "\n",
      "\n",
      "\n",
      "\n",
      "\n",
      "\n",
      "\n",
      "Epoch:  10%|█         | 3/30 [00:06<00:56,  2.09s/it]\u001b[A\u001b[A\u001b[A\u001b[A\u001b[A\u001b[A\u001b[A"
     ]
    },
    {
     "name": "stdout",
     "output_type": "stream",
     "text": [
      "2019-06-27 14:08:30,103 - biomed_ie - INFO - Train loss: 0.0017843488849850389\n",
      "2019-06-27 14:08:30,259 - biomed_ie - INFO - Validation loss: 0.002484956979238196\n"
     ]
    },
    {
     "name": "stderr",
     "output_type": "stream",
     "text": [
      "\n",
      "\n",
      "\n",
      "\n",
      "\n",
      "\n",
      "\n",
      "Epoch:  13%|█▎        | 4/30 [00:08<00:54,  2.09s/it]\u001b[A\u001b[A\u001b[A\u001b[A\u001b[A\u001b[A\u001b[A"
     ]
    },
    {
     "name": "stdout",
     "output_type": "stream",
     "text": [
      "2019-06-27 14:08:32,186 - biomed_ie - INFO - Train loss: 0.0009413199274551143\n",
      "2019-06-27 14:08:32,343 - biomed_ie - INFO - Validation loss: 0.0020857236182042797\n"
     ]
    },
    {
     "name": "stderr",
     "output_type": "stream",
     "text": [
      "\n",
      "\n",
      "\n",
      "\n",
      "\n",
      "\n",
      "\n",
      "Epoch:  17%|█▋        | 5/30 [00:10<00:52,  2.09s/it]\u001b[A\u001b[A\u001b[A\u001b[A\u001b[A\u001b[A\u001b[A"
     ]
    },
    {
     "name": "stdout",
     "output_type": "stream",
     "text": [
      "2019-06-27 14:08:34,262 - biomed_ie - INFO - Train loss: 0.0004598661978508471\n",
      "2019-06-27 14:08:34,418 - biomed_ie - INFO - Validation loss: 0.0021166284468336215\n"
     ]
    },
    {
     "name": "stderr",
     "output_type": "stream",
     "text": [
      "\n",
      "\n",
      "\n",
      "\n",
      "\n",
      "\n",
      "\n",
      "Epoch:  20%|██        | 6/30 [00:12<00:50,  2.08s/it]\u001b[A\u001b[A\u001b[A\u001b[A\u001b[A\u001b[A\u001b[A"
     ]
    },
    {
     "name": "stdout",
     "output_type": "stream",
     "text": [
      "2019-06-27 14:08:36,334 - biomed_ie - INFO - Train loss: 0.00014702556039760775\n",
      "2019-06-27 14:08:36,491 - biomed_ie - INFO - Validation loss: 0.0021062773699702937\n"
     ]
    },
    {
     "name": "stderr",
     "output_type": "stream",
     "text": [
      "\n",
      "\n",
      "\n",
      "\n",
      "\n",
      "\n",
      "\n",
      "Epoch:  23%|██▎       | 7/30 [00:14<00:47,  2.08s/it]\u001b[A\u001b[A\u001b[A\u001b[A\u001b[A\u001b[A\u001b[A"
     ]
    },
    {
     "name": "stdout",
     "output_type": "stream",
     "text": [
      "2019-06-27 14:08:38,402 - biomed_ie - INFO - Train loss: 0.00028386013821534985\n",
      "2019-06-27 14:08:38,559 - biomed_ie - INFO - Validation loss: 0.0020892380975013557\n",
      "2019-06-27 14:09:01,412 - biomed_ie - INFO - Performance: {'_f1_score': 0.7773102171351626}\n",
      "2019-06-27 14:09:01,414 - biomed_ie - INFO - Active learning iteration: #8\n",
      "2019-06-27 14:09:07,143 - biomed_ie - INFO - Full finetuning: True\n",
      "2019-06-27 14:09:07,147 - biomed_ie - INFO - N parameters: 108314886\n"
     ]
    },
    {
     "name": "stderr",
     "output_type": "stream",
     "text": [
      "\n",
      "\n",
      "\n",
      "\n",
      "\n",
      "\n",
      "\n",
      "\n",
      "Epoch:   0%|          | 0/30 [00:00<?, ?it/s]\u001b[A\u001b[A\u001b[A\u001b[A\u001b[A\u001b[A\u001b[A\u001b[A"
     ]
    },
    {
     "name": "stdout",
     "output_type": "stream",
     "text": [
      "2019-06-27 14:09:09,350 - biomed_ie - INFO - Train loss: 0.06184883947526977\n",
      "2019-06-27 14:09:09,523 - biomed_ie - INFO - Validation loss: 0.004476115659431175\n"
     ]
    },
    {
     "name": "stderr",
     "output_type": "stream",
     "text": [
      "\n",
      "\n",
      "\n",
      "\n",
      "\n",
      "\n",
      "\n",
      "\n",
      "Epoch:   3%|▎         | 1/30 [00:02<01:07,  2.34s/it]\u001b[A\u001b[A\u001b[A\u001b[A\u001b[A\u001b[A\u001b[A\u001b[A"
     ]
    },
    {
     "name": "stdout",
     "output_type": "stream",
     "text": [
      "2019-06-27 14:09:11,612 - biomed_ie - INFO - Train loss: 0.006664199104777809\n",
      "2019-06-27 14:09:11,786 - biomed_ie - INFO - Validation loss: 0.0011827677661470511\n"
     ]
    },
    {
     "name": "stderr",
     "output_type": "stream",
     "text": [
      "\n",
      "\n",
      "\n",
      "\n",
      "\n",
      "\n",
      "\n",
      "\n",
      "Epoch:   7%|▋         | 2/30 [00:04<01:04,  2.31s/it]\u001b[A\u001b[A\u001b[A\u001b[A\u001b[A\u001b[A\u001b[A\u001b[A"
     ]
    },
    {
     "name": "stdout",
     "output_type": "stream",
     "text": [
      "2019-06-27 14:09:13,921 - biomed_ie - INFO - Train loss: 0.0019095162059690192\n",
      "2019-06-27 14:09:14,094 - biomed_ie - INFO - Validation loss: 0.0008855679883373415\n"
     ]
    },
    {
     "name": "stderr",
     "output_type": "stream",
     "text": [
      "\n",
      "\n",
      "\n",
      "\n",
      "\n",
      "\n",
      "\n",
      "\n",
      "Epoch:  10%|█         | 3/30 [00:06<01:02,  2.31s/it]\u001b[A\u001b[A\u001b[A\u001b[A\u001b[A\u001b[A\u001b[A\u001b[A"
     ]
    },
    {
     "name": "stdout",
     "output_type": "stream",
     "text": [
      "2019-06-27 14:09:16,236 - biomed_ie - INFO - Train loss: 0.000526519029912491\n",
      "2019-06-27 14:09:16,408 - biomed_ie - INFO - Validation loss: 0.000973245684942129\n"
     ]
    },
    {
     "name": "stderr",
     "output_type": "stream",
     "text": [
      "\n",
      "\n",
      "\n",
      "\n",
      "\n",
      "\n",
      "\n",
      "\n",
      "Epoch:  13%|█▎        | 4/30 [00:09<01:00,  2.31s/it]\u001b[A\u001b[A\u001b[A\u001b[A\u001b[A\u001b[A\u001b[A\u001b[A"
     ]
    },
    {
     "name": "stdout",
     "output_type": "stream",
     "text": [
      "2019-06-27 14:09:18,553 - biomed_ie - INFO - Train loss: 0.0003007501198805283\n",
      "2019-06-27 14:09:18,726 - biomed_ie - INFO - Validation loss: 0.0011618134816574204\n"
     ]
    },
    {
     "name": "stderr",
     "output_type": "stream",
     "text": [
      "\n",
      "\n",
      "\n",
      "\n",
      "\n",
      "\n",
      "\n",
      "\n",
      "Epoch:  17%|█▋        | 5/30 [00:11<00:57,  2.31s/it]\u001b[A\u001b[A\u001b[A\u001b[A\u001b[A\u001b[A\u001b[A\u001b[A"
     ]
    },
    {
     "name": "stdout",
     "output_type": "stream",
     "text": [
      "2019-06-27 14:09:20,868 - biomed_ie - INFO - Train loss: 0.0002521076778146247\n",
      "2019-06-27 14:09:21,040 - biomed_ie - INFO - Validation loss: 0.0011100289029709741\n",
      "2019-06-27 14:09:43,815 - biomed_ie - INFO - Performance: {'_f1_score': 0.7792952284606305}\n",
      "2019-06-27 14:09:43,816 - biomed_ie - INFO - Active learning iteration: #9\n",
      "2019-06-27 14:09:49,566 - biomed_ie - INFO - Full finetuning: True\n",
      "2019-06-27 14:09:49,570 - biomed_ie - INFO - N parameters: 108314886\n"
     ]
    },
    {
     "name": "stderr",
     "output_type": "stream",
     "text": [
      "\n",
      "\n",
      "\n",
      "\n",
      "\n",
      "\n",
      "\n",
      "\n",
      "\n",
      "Epoch:   0%|          | 0/30 [00:00<?, ?it/s]\u001b[A\u001b[A\u001b[A\u001b[A\u001b[A\u001b[A\u001b[A\u001b[A\u001b[A"
     ]
    },
    {
     "name": "stdout",
     "output_type": "stream",
     "text": [
      "2019-06-27 14:09:51,989 - biomed_ie - INFO - Train loss: 0.04913146056274491\n",
      "2019-06-27 14:09:52,178 - biomed_ie - INFO - Validation loss: 0.0030719040354694775\n"
     ]
    },
    {
     "name": "stderr",
     "output_type": "stream",
     "text": [
      "\n",
      "\n",
      "\n",
      "\n",
      "\n",
      "\n",
      "\n",
      "\n",
      "\n",
      "Epoch:   3%|▎         | 1/30 [00:02<01:14,  2.58s/it]\u001b[A\u001b[A\u001b[A\u001b[A\u001b[A\u001b[A\u001b[A\u001b[A\u001b[A"
     ]
    },
    {
     "name": "stdout",
     "output_type": "stream",
     "text": [
      "2019-06-27 14:09:54,552 - biomed_ie - INFO - Train loss: 0.005331777238866974\n",
      "2019-06-27 14:09:54,741 - biomed_ie - INFO - Validation loss: 0.0025168544140110644\n"
     ]
    },
    {
     "name": "stderr",
     "output_type": "stream",
     "text": [
      "\n",
      "\n",
      "\n",
      "\n",
      "\n",
      "\n",
      "\n",
      "\n",
      "\n",
      "Epoch:   7%|▋         | 2/30 [00:05<01:12,  2.57s/it]\u001b[A\u001b[A\u001b[A\u001b[A\u001b[A\u001b[A\u001b[A\u001b[A\u001b[A"
     ]
    },
    {
     "name": "stdout",
     "output_type": "stream",
     "text": [
      "2019-06-27 14:09:57,118 - biomed_ie - INFO - Train loss: 0.0037269995480088496\n",
      "2019-06-27 14:09:57,307 - biomed_ie - INFO - Validation loss: 0.0012462850438326586\n"
     ]
    },
    {
     "name": "stderr",
     "output_type": "stream",
     "text": [
      "\n",
      "\n",
      "\n",
      "\n",
      "\n",
      "\n",
      "\n",
      "\n",
      "\n",
      "Epoch:  10%|█         | 3/30 [00:07<01:09,  2.57s/it]\u001b[A\u001b[A\u001b[A\u001b[A\u001b[A\u001b[A\u001b[A\u001b[A\u001b[A"
     ]
    },
    {
     "name": "stdout",
     "output_type": "stream",
     "text": [
      "2019-06-27 14:09:59,670 - biomed_ie - INFO - Train loss: 0.0015252751712965442\n",
      "2019-06-27 14:09:59,859 - biomed_ie - INFO - Validation loss: 0.000754555712895899\n"
     ]
    },
    {
     "name": "stderr",
     "output_type": "stream",
     "text": [
      "\n",
      "\n",
      "\n",
      "\n",
      "\n",
      "\n",
      "\n",
      "\n",
      "\n",
      "Epoch:  13%|█▎        | 4/30 [00:10<01:06,  2.57s/it]\u001b[A\u001b[A\u001b[A\u001b[A\u001b[A\u001b[A\u001b[A\u001b[A\u001b[A"
     ]
    },
    {
     "name": "stdout",
     "output_type": "stream",
     "text": [
      "2019-06-27 14:10:02,217 - biomed_ie - INFO - Train loss: 0.00041513509898584737\n",
      "2019-06-27 14:10:02,406 - biomed_ie - INFO - Validation loss: 0.0006997002555728588\n"
     ]
    },
    {
     "name": "stderr",
     "output_type": "stream",
     "text": [
      "\n",
      "\n",
      "\n",
      "\n",
      "\n",
      "\n",
      "\n",
      "\n",
      "\n",
      "Epoch:  17%|█▋        | 5/30 [00:12<01:04,  2.56s/it]\u001b[A\u001b[A\u001b[A\u001b[A\u001b[A\u001b[A\u001b[A\u001b[A\u001b[A"
     ]
    },
    {
     "name": "stdout",
     "output_type": "stream",
     "text": [
      "2019-06-27 14:10:04,769 - biomed_ie - INFO - Train loss: 0.00017246534694856367\n",
      "2019-06-27 14:10:04,959 - biomed_ie - INFO - Validation loss: 0.00080216358448259\n"
     ]
    },
    {
     "name": "stderr",
     "output_type": "stream",
     "text": [
      "\n",
      "\n",
      "\n",
      "\n",
      "\n",
      "\n",
      "\n",
      "\n",
      "\n",
      "Epoch:  20%|██        | 6/30 [00:15<01:01,  2.56s/it]\u001b[A\u001b[A\u001b[A\u001b[A\u001b[A\u001b[A\u001b[A\u001b[A\u001b[A"
     ]
    },
    {
     "name": "stdout",
     "output_type": "stream",
     "text": [
      "2019-06-27 14:10:07,323 - biomed_ie - INFO - Train loss: 8.826580924097073e-05\n",
      "2019-06-27 14:10:07,512 - biomed_ie - INFO - Validation loss: 0.0008384178498547948\n"
     ]
    },
    {
     "name": "stderr",
     "output_type": "stream",
     "text": [
      "\n",
      "\n",
      "\n",
      "\n",
      "\n",
      "\n",
      "\n",
      "\n",
      "\n",
      "Epoch:  23%|██▎       | 7/30 [00:17<00:58,  2.56s/it]\u001b[A\u001b[A\u001b[A\u001b[A\u001b[A\u001b[A\u001b[A\u001b[A\u001b[A"
     ]
    },
    {
     "name": "stdout",
     "output_type": "stream",
     "text": [
      "2019-06-27 14:10:09,870 - biomed_ie - INFO - Train loss: 0.00015133472684372077\n",
      "2019-06-27 14:10:10,059 - biomed_ie - INFO - Validation loss: 0.0007823806396459516\n",
      "2019-06-27 14:10:32,727 - biomed_ie - INFO - Performance: {'_f1_score': 0.7957650273224044}\n",
      "2019-06-27 14:10:32,728 - biomed_ie - INFO - Active learning iteration: #10\n",
      "2019-06-27 14:10:38,538 - biomed_ie - INFO - Full finetuning: True\n",
      "2019-06-27 14:10:38,542 - biomed_ie - INFO - N parameters: 108314886\n"
     ]
    },
    {
     "name": "stderr",
     "output_type": "stream",
     "text": [
      "\n",
      "\n",
      "\n",
      "\n",
      "\n",
      "\n",
      "\n",
      "\n",
      "\n",
      "\n",
      "Epoch:   0%|          | 0/30 [00:00<?, ?it/s]\u001b[A\u001b[A\u001b[A\u001b[A\u001b[A\u001b[A\u001b[A\u001b[A\u001b[A\u001b[A"
     ]
    },
    {
     "name": "stdout",
     "output_type": "stream",
     "text": [
      "2019-06-27 14:10:41,118 - biomed_ie - INFO - Train loss: 0.054863446511437125\n",
      "2019-06-27 14:10:41,321 - biomed_ie - INFO - Validation loss: 0.00440427330458937\n"
     ]
    },
    {
     "name": "stderr",
     "output_type": "stream",
     "text": [
      "\n",
      "\n",
      "\n",
      "\n",
      "\n",
      "\n",
      "\n",
      "\n",
      "\n",
      "\n",
      "Epoch:   3%|▎         | 1/30 [00:02<01:19,  2.75s/it]\u001b[A\u001b[A\u001b[A\u001b[A\u001b[A\u001b[A\u001b[A\u001b[A\u001b[A\u001b[A"
     ]
    },
    {
     "name": "stdout",
     "output_type": "stream",
     "text": [
      "2019-06-27 14:10:43,755 - biomed_ie - INFO - Train loss: 0.006174810770466629\n",
      "2019-06-27 14:10:43,959 - biomed_ie - INFO - Validation loss: 0.0015089011929779704\n"
     ]
    },
    {
     "name": "stderr",
     "output_type": "stream",
     "text": [
      "\n",
      "\n",
      "\n",
      "\n",
      "\n",
      "\n",
      "\n",
      "\n",
      "\n",
      "\n",
      "Epoch:   7%|▋         | 2/30 [00:05<01:15,  2.71s/it]\u001b[A\u001b[A\u001b[A\u001b[A\u001b[A\u001b[A\u001b[A\u001b[A\u001b[A\u001b[A"
     ]
    },
    {
     "name": "stdout",
     "output_type": "stream",
     "text": [
      "2019-06-27 14:10:46,457 - biomed_ie - INFO - Train loss: 0.00236215823036094\n",
      "2019-06-27 14:10:46,661 - biomed_ie - INFO - Validation loss: 0.0011020511947756105\n"
     ]
    },
    {
     "name": "stderr",
     "output_type": "stream",
     "text": [
      "\n",
      "\n",
      "\n",
      "\n",
      "\n",
      "\n",
      "\n",
      "\n",
      "\n",
      "\n",
      "Epoch:  10%|█         | 3/30 [00:08<01:13,  2.71s/it]\u001b[A\u001b[A\u001b[A\u001b[A\u001b[A\u001b[A\u001b[A\u001b[A\u001b[A\u001b[A"
     ]
    },
    {
     "name": "stdout",
     "output_type": "stream",
     "text": [
      "2019-06-27 14:10:49,171 - biomed_ie - INFO - Train loss: 0.0010926295314080251\n",
      "2019-06-27 14:10:49,375 - biomed_ie - INFO - Validation loss: 0.0007497436633899283\n"
     ]
    },
    {
     "name": "stderr",
     "output_type": "stream",
     "text": [
      "\n",
      "\n",
      "\n",
      "\n",
      "\n",
      "\n",
      "\n",
      "\n",
      "\n",
      "\n",
      "Epoch:  13%|█▎        | 4/30 [00:10<01:10,  2.71s/it]\u001b[A\u001b[A\u001b[A\u001b[A\u001b[A\u001b[A\u001b[A\u001b[A\u001b[A\u001b[A"
     ]
    },
    {
     "name": "stdout",
     "output_type": "stream",
     "text": [
      "2019-06-27 14:10:51,886 - biomed_ie - INFO - Train loss: 0.0007694009364152571\n",
      "2019-06-27 14:10:52,089 - biomed_ie - INFO - Validation loss: 0.000713258741442488\n"
     ]
    },
    {
     "name": "stderr",
     "output_type": "stream",
     "text": [
      "\n",
      "\n",
      "\n",
      "\n",
      "\n",
      "\n",
      "\n",
      "\n",
      "\n",
      "\n",
      "Epoch:  17%|█▋        | 5/30 [00:13<01:07,  2.71s/it]\u001b[A\u001b[A\u001b[A\u001b[A\u001b[A\u001b[A\u001b[A\u001b[A\u001b[A\u001b[A"
     ]
    },
    {
     "name": "stdout",
     "output_type": "stream",
     "text": [
      "2019-06-27 14:10:54,596 - biomed_ie - INFO - Train loss: 0.0002924337894443554\n",
      "2019-06-27 14:10:54,801 - biomed_ie - INFO - Validation loss: 0.0005735714489906075\n"
     ]
    },
    {
     "name": "stderr",
     "output_type": "stream",
     "text": [
      "\n",
      "\n",
      "\n",
      "\n",
      "\n",
      "\n",
      "\n",
      "\n",
      "\n",
      "\n",
      "Epoch:  20%|██        | 6/30 [00:16<01:05,  2.71s/it]\u001b[A\u001b[A\u001b[A\u001b[A\u001b[A\u001b[A\u001b[A\u001b[A\u001b[A\u001b[A"
     ]
    },
    {
     "name": "stdout",
     "output_type": "stream",
     "text": [
      "2019-06-27 14:10:57,309 - biomed_ie - INFO - Train loss: 0.00019329830139085832\n",
      "2019-06-27 14:10:57,512 - biomed_ie - INFO - Validation loss: 0.0006695086453336758\n"
     ]
    },
    {
     "name": "stderr",
     "output_type": "stream",
     "text": [
      "\n",
      "\n",
      "\n",
      "\n",
      "\n",
      "\n",
      "\n",
      "\n",
      "\n",
      "\n",
      "Epoch:  23%|██▎       | 7/30 [00:18<01:02,  2.71s/it]\u001b[A\u001b[A\u001b[A\u001b[A\u001b[A\u001b[A\u001b[A\u001b[A\u001b[A\u001b[A"
     ]
    },
    {
     "name": "stdout",
     "output_type": "stream",
     "text": [
      "2019-06-27 14:11:00,025 - biomed_ie - INFO - Train loss: 8.377585363038195e-05\n",
      "2019-06-27 14:11:00,228 - biomed_ie - INFO - Validation loss: 0.0007454006785270061\n"
     ]
    },
    {
     "name": "stderr",
     "output_type": "stream",
     "text": [
      "\n",
      "\n",
      "\n",
      "\n",
      "\n",
      "\n",
      "\n",
      "\n",
      "\n",
      "\n",
      "Epoch:  27%|██▋       | 8/30 [00:21<00:59,  2.71s/it]\u001b[A\u001b[A\u001b[A\u001b[A\u001b[A\u001b[A\u001b[A\u001b[A\u001b[A\u001b[A"
     ]
    },
    {
     "name": "stdout",
     "output_type": "stream",
     "text": [
      "2019-06-27 14:11:02,735 - biomed_ie - INFO - Train loss: 0.00010574174350606453\n",
      "2019-06-27 14:11:02,938 - biomed_ie - INFO - Validation loss: 0.0007829931357770658\n",
      "2019-06-27 14:11:25,596 - biomed_ie - INFO - Performance: {'_f1_score': 0.8219281663516068}\n",
      "2019-06-27 14:11:25,597 - biomed_ie - INFO - Active learning iteration: #11\n",
      "2019-06-27 14:11:31,339 - biomed_ie - INFO - Full finetuning: True\n",
      "2019-06-27 14:11:31,343 - biomed_ie - INFO - N parameters: 108314886\n"
     ]
    },
    {
     "name": "stderr",
     "output_type": "stream",
     "text": [
      "\n",
      "\n",
      "\n",
      "\n",
      "\n",
      "\n",
      "\n",
      "\n",
      "\n",
      "\n",
      "\n",
      "Epoch:   0%|          | 0/30 [00:00<?, ?it/s]\u001b[A\u001b[A\u001b[A\u001b[A\u001b[A\u001b[A\u001b[A\u001b[A\u001b[A\u001b[A\u001b[A"
     ]
    },
    {
     "name": "stdout",
     "output_type": "stream",
     "text": [
      "2019-06-27 14:11:34,142 - biomed_ie - INFO - Train loss: 0.049872430936686606\n",
      "2019-06-27 14:11:34,359 - biomed_ie - INFO - Validation loss: 0.0023352651199374003\n"
     ]
    },
    {
     "name": "stderr",
     "output_type": "stream",
     "text": [
      "\n",
      "\n",
      "\n",
      "\n",
      "\n",
      "\n",
      "\n",
      "\n",
      "\n",
      "\n",
      "\n",
      "Epoch:   3%|▎         | 1/30 [00:02<01:26,  2.98s/it]\u001b[A\u001b[A\u001b[A\u001b[A\u001b[A\u001b[A\u001b[A\u001b[A\u001b[A\u001b[A\u001b[A"
     ]
    },
    {
     "name": "stdout",
     "output_type": "stream",
     "text": [
      "2019-06-27 14:11:37,096 - biomed_ie - INFO - Train loss: 0.004352784316563091\n",
      "2019-06-27 14:11:37,313 - biomed_ie - INFO - Validation loss: 0.0012252570728862326\n"
     ]
    },
    {
     "name": "stderr",
     "output_type": "stream",
     "text": [
      "\n",
      "\n",
      "\n",
      "\n",
      "\n",
      "\n",
      "\n",
      "\n",
      "\n",
      "\n",
      "\n",
      "Epoch:   7%|▋         | 2/30 [00:05<01:23,  2.97s/it]\u001b[A\u001b[A\u001b[A\u001b[A\u001b[A\u001b[A\u001b[A\u001b[A\u001b[A\u001b[A\u001b[A"
     ]
    },
    {
     "name": "stdout",
     "output_type": "stream",
     "text": [
      "2019-06-27 14:11:40,044 - biomed_ie - INFO - Train loss: 0.0012169965105097097\n",
      "2019-06-27 14:11:40,260 - biomed_ie - INFO - Validation loss: 0.0010792809871979702\n"
     ]
    },
    {
     "name": "stderr",
     "output_type": "stream",
     "text": [
      "\n",
      "\n",
      "\n",
      "\n",
      "\n",
      "\n",
      "\n",
      "\n",
      "\n",
      "\n",
      "\n",
      "Epoch:  10%|█         | 3/30 [00:08<01:20,  2.97s/it]\u001b[A\u001b[A\u001b[A\u001b[A\u001b[A\u001b[A\u001b[A\u001b[A\u001b[A\u001b[A\u001b[A"
     ]
    },
    {
     "name": "stdout",
     "output_type": "stream",
     "text": [
      "2019-06-27 14:11:43,002 - biomed_ie - INFO - Train loss: 0.0003926792193228463\n",
      "2019-06-27 14:11:43,220 - biomed_ie - INFO - Validation loss: 0.0014449982965567833\n"
     ]
    },
    {
     "name": "stderr",
     "output_type": "stream",
     "text": [
      "\n",
      "\n",
      "\n",
      "\n",
      "\n",
      "\n",
      "\n",
      "\n",
      "\n",
      "\n",
      "\n",
      "Epoch:  13%|█▎        | 4/30 [00:11<01:17,  2.96s/it]\u001b[A\u001b[A\u001b[A\u001b[A\u001b[A\u001b[A\u001b[A\u001b[A\u001b[A\u001b[A\u001b[A"
     ]
    },
    {
     "name": "stdout",
     "output_type": "stream",
     "text": [
      "2019-06-27 14:11:45,962 - biomed_ie - INFO - Train loss: 0.00021461625458654417\n",
      "2019-06-27 14:11:46,179 - biomed_ie - INFO - Validation loss: 0.001288909678306644\n"
     ]
    },
    {
     "name": "stderr",
     "output_type": "stream",
     "text": [
      "\n",
      "\n",
      "\n",
      "\n",
      "\n",
      "\n",
      "\n",
      "\n",
      "\n",
      "\n",
      "\n",
      "Epoch:  17%|█▋        | 5/30 [00:14<01:14,  2.96s/it]\u001b[A\u001b[A\u001b[A\u001b[A\u001b[A\u001b[A\u001b[A\u001b[A\u001b[A\u001b[A\u001b[A"
     ]
    },
    {
     "name": "stdout",
     "output_type": "stream",
     "text": [
      "2019-06-27 14:11:48,907 - biomed_ie - INFO - Train loss: 0.00014916863647681389\n",
      "2019-06-27 14:11:49,123 - biomed_ie - INFO - Validation loss: 0.0012352982145032766\n",
      "2019-06-27 14:12:11,573 - biomed_ie - INFO - Performance: {'_f1_score': 0.8222548659566654}\n"
     ]
    }
   ],
   "source": [
    "statistics = emulate_active_learning(train_tags,active_learner)"
   ]
  },
  {
   "cell_type": "code",
   "execution_count": 41,
   "metadata": {},
   "outputs": [
    {
     "ename": "NameError",
     "evalue": "name 'statistics' is not defined",
     "output_type": "error",
     "traceback": [
      "\u001b[0;31m---------------------------------------------------------------------------\u001b[0m",
      "\u001b[0;31mNameError\u001b[0m                                 Traceback (most recent call last)",
      "\u001b[0;32m<ipython-input-41-2a86e0d3dec9>\u001b[0m in \u001b[0;36m<module>\u001b[0;34m\u001b[0m\n\u001b[1;32m      5\u001b[0m \u001b[0;34m\u001b[0m\u001b[0m\n\u001b[1;32m      6\u001b[0m \u001b[0;32mwith\u001b[0m \u001b[0mopen\u001b[0m\u001b[0;34m(\u001b[0m\u001b[0mstatistics_path\u001b[0m\u001b[0;34m,\u001b[0m \u001b[0;34m'w'\u001b[0m\u001b[0;34m)\u001b[0m \u001b[0;32mas\u001b[0m \u001b[0mf\u001b[0m\u001b[0;34m:\u001b[0m\u001b[0;34m\u001b[0m\u001b[0;34m\u001b[0m\u001b[0m\n\u001b[0;32m----> 7\u001b[0;31m     \u001b[0mjson\u001b[0m\u001b[0;34m.\u001b[0m\u001b[0mdump\u001b[0m\u001b[0;34m(\u001b[0m\u001b[0mstatistics\u001b[0m\u001b[0;34m,\u001b[0m \u001b[0mf\u001b[0m\u001b[0;34m)\u001b[0m\u001b[0;34m\u001b[0m\u001b[0;34m\u001b[0m\u001b[0m\n\u001b[0m",
      "\u001b[0;31mNameError\u001b[0m: name 'statistics' is not defined"
     ]
    }
   ],
   "source": [
    "import json\n",
    "\n",
    "statistics_path = '../Logs/statistics_us.json'\n",
    "#statistics_path = '../Logs/statistics_random.json'\n",
    "\n",
    "with open(statistics_path, 'w') as f:\n",
    "    json.dump(statistics, f)"
   ]
  },
  {
   "cell_type": "code",
   "execution_count": 37,
   "metadata": {},
   "outputs": [
    {
     "ename": "FileNotFoundError",
     "evalue": "[Errno 2] No such file or directory: '../Logs/statistics_random.json'",
     "output_type": "error",
     "traceback": [
      "\u001b[0;31m---------------------------------------------------------------------------\u001b[0m",
      "\u001b[0;31mFileNotFoundError\u001b[0m                         Traceback (most recent call last)",
      "\u001b[0;32m<ipython-input-37-43e8c4b0d5ec>\u001b[0m in \u001b[0;36m<module>\u001b[0;34m\u001b[0m\n\u001b[1;32m      2\u001b[0m     \u001b[0mstatistics_us\u001b[0m \u001b[0;34m=\u001b[0m \u001b[0mjson\u001b[0m\u001b[0;34m.\u001b[0m\u001b[0mload\u001b[0m\u001b[0;34m(\u001b[0m\u001b[0mf\u001b[0m\u001b[0;34m)\u001b[0m\u001b[0;34m\u001b[0m\u001b[0;34m\u001b[0m\u001b[0m\n\u001b[1;32m      3\u001b[0m \u001b[0;34m\u001b[0m\u001b[0m\n\u001b[0;32m----> 4\u001b[0;31m \u001b[0;32mwith\u001b[0m \u001b[0mopen\u001b[0m\u001b[0;34m(\u001b[0m\u001b[0;34m'../Logs/statistics_random.json'\u001b[0m\u001b[0;34m,\u001b[0m \u001b[0;34m'r'\u001b[0m\u001b[0;34m)\u001b[0m \u001b[0;32mas\u001b[0m \u001b[0mf\u001b[0m\u001b[0;34m:\u001b[0m\u001b[0;34m\u001b[0m\u001b[0;34m\u001b[0m\u001b[0m\n\u001b[0m\u001b[1;32m      5\u001b[0m     \u001b[0mstatistics_random\u001b[0m \u001b[0;34m=\u001b[0m \u001b[0mjson\u001b[0m\u001b[0;34m.\u001b[0m\u001b[0mload\u001b[0m\u001b[0;34m(\u001b[0m\u001b[0mf\u001b[0m\u001b[0;34m)\u001b[0m\u001b[0;34m\u001b[0m\u001b[0;34m\u001b[0m\u001b[0m\n",
      "\u001b[0;31mFileNotFoundError\u001b[0m: [Errno 2] No such file or directory: '../Logs/statistics_random.json'"
     ]
    }
   ],
   "source": [
    "with open('../Logs/statistics_us.json', 'r') as f:\n",
    "    statistics_us = json.load(f)\n",
    "    \n",
    "with open('../Logs/statistics_random.json', 'r') as f:\n",
    "    statistics_random = json.load(f)"
   ]
  },
  {
   "cell_type": "code",
   "execution_count": 25,
   "metadata": {},
   "outputs": [
    {
     "ename": "NameError",
     "evalue": "name 'statistics' is not defined",
     "output_type": "error",
     "traceback": [
      "\u001b[0;31m---------------------------------------------------------------------------\u001b[0m",
      "\u001b[0;31mNameError\u001b[0m                                 Traceback (most recent call last)",
      "\u001b[0;32m<ipython-input-25-67b2871b11d2>\u001b[0m in \u001b[0;36m<module>\u001b[0;34m\u001b[0m\n\u001b[1;32m      5\u001b[0m \u001b[0mfigure\u001b[0m\u001b[0;34m(\u001b[0m\u001b[0mnum\u001b[0m\u001b[0;34m=\u001b[0m\u001b[0;32mNone\u001b[0m\u001b[0;34m,\u001b[0m \u001b[0mfigsize\u001b[0m\u001b[0;34m=\u001b[0m\u001b[0;34m(\u001b[0m\u001b[0;36m8\u001b[0m\u001b[0;34m,\u001b[0m \u001b[0;36m6\u001b[0m\u001b[0;34m)\u001b[0m\u001b[0;34m,\u001b[0m \u001b[0mdpi\u001b[0m\u001b[0;34m=\u001b[0m\u001b[0;36m80\u001b[0m\u001b[0;34m,\u001b[0m \u001b[0mfacecolor\u001b[0m\u001b[0;34m=\u001b[0m\u001b[0;34m'w'\u001b[0m\u001b[0;34m,\u001b[0m \u001b[0medgecolor\u001b[0m\u001b[0;34m=\u001b[0m\u001b[0;34m'k'\u001b[0m\u001b[0;34m)\u001b[0m\u001b[0;34m\u001b[0m\u001b[0;34m\u001b[0m\u001b[0m\n\u001b[1;32m      6\u001b[0m \u001b[0;34m\u001b[0m\u001b[0m\n\u001b[0;32m----> 7\u001b[0;31m \u001b[0mplt1\u001b[0m\u001b[0;34m,\u001b[0m \u001b[0;34m=\u001b[0m \u001b[0mplt\u001b[0m\u001b[0;34m.\u001b[0m\u001b[0mplot\u001b[0m\u001b[0;34m(\u001b[0m\u001b[0mlist\u001b[0m\u001b[0;34m(\u001b[0m\u001b[0mrange\u001b[0m\u001b[0;34m(\u001b[0m\u001b[0mlen\u001b[0m\u001b[0;34m(\u001b[0m\u001b[0mstatistics\u001b[0m\u001b[0;34m)\u001b[0m\u001b[0;34m)\u001b[0m\u001b[0;34m)\u001b[0m\u001b[0;34m,\u001b[0m \u001b[0;34m[\u001b[0m\u001b[0me\u001b[0m\u001b[0;34m[\u001b[0m\u001b[0;34m'_f1_score'\u001b[0m\u001b[0;34m]\u001b[0m \u001b[0;32mfor\u001b[0m \u001b[0me\u001b[0m \u001b[0;32min\u001b[0m \u001b[0mstatistics_random\u001b[0m\u001b[0;34m]\u001b[0m\u001b[0;34m,\u001b[0m \u001b[0mlabel\u001b[0m\u001b[0;34m=\u001b[0m\u001b[0;34m'random'\u001b[0m\u001b[0;34m)\u001b[0m\u001b[0;34m\u001b[0m\u001b[0;34m\u001b[0m\u001b[0m\n\u001b[0m\u001b[1;32m      8\u001b[0m \u001b[0mplt2\u001b[0m\u001b[0;34m,\u001b[0m \u001b[0;34m=\u001b[0m \u001b[0mplt\u001b[0m\u001b[0;34m.\u001b[0m\u001b[0mplot\u001b[0m\u001b[0;34m(\u001b[0m\u001b[0mlist\u001b[0m\u001b[0;34m(\u001b[0m\u001b[0mrange\u001b[0m\u001b[0;34m(\u001b[0m\u001b[0mlen\u001b[0m\u001b[0;34m(\u001b[0m\u001b[0mstatistics_us\u001b[0m\u001b[0;34m)\u001b[0m\u001b[0;34m)\u001b[0m\u001b[0;34m)\u001b[0m\u001b[0;34m,\u001b[0m \u001b[0;34m[\u001b[0m\u001b[0me\u001b[0m\u001b[0;34m[\u001b[0m\u001b[0;34m'_f1_score'\u001b[0m\u001b[0;34m]\u001b[0m \u001b[0;32mfor\u001b[0m \u001b[0me\u001b[0m \u001b[0;32min\u001b[0m \u001b[0mstatistics_us\u001b[0m\u001b[0;34m]\u001b[0m\u001b[0;34m,\u001b[0m \u001b[0mlabel\u001b[0m\u001b[0;34m=\u001b[0m\u001b[0;34m'us'\u001b[0m\u001b[0;34m)\u001b[0m\u001b[0;34m\u001b[0m\u001b[0;34m\u001b[0m\u001b[0m\n\u001b[1;32m      9\u001b[0m \u001b[0mplt\u001b[0m\u001b[0;34m.\u001b[0m\u001b[0mlegend\u001b[0m\u001b[0;34m(\u001b[0m\u001b[0mhandles\u001b[0m\u001b[0;34m=\u001b[0m\u001b[0;34m[\u001b[0m\u001b[0mplt1\u001b[0m\u001b[0;34m,\u001b[0m \u001b[0mplt2\u001b[0m\u001b[0;34m]\u001b[0m\u001b[0;34m)\u001b[0m\u001b[0;34m\u001b[0m\u001b[0;34m\u001b[0m\u001b[0m\n",
      "\u001b[0;31mNameError\u001b[0m: name 'statistics' is not defined"
     ]
    },
    {
     "data": {
      "text/plain": [
       "<Figure size 640x480 with 0 Axes>"
      ]
     },
     "metadata": {},
     "output_type": "display_data"
    }
   ],
   "source": [
    "import matplotlib.pyplot as plt\n",
    "%matplotlib inline \n",
    "\n",
    "from matplotlib.pyplot import figure\n",
    "figure(num=None, figsize=(8, 6), dpi=80, facecolor='w', edgecolor='k')\n",
    "\n",
    "plt1, = plt.plot(list(range(len(statistics))), [e['_f1_score'] for e in statistics_random], label='random')\n",
    "plt2, = plt.plot(list(range(len(statistics_us))), [e['_f1_score'] for e in statistics_us], label='us')\n",
    "plt.legend(handles=[plt1, plt2])\n",
    "plt.title('Performance')\n",
    "plt.show()"
   ]
  },
  {
   "cell_type": "markdown",
   "metadata": {},
   "source": [
    "## Multiple AL evaluations"
   ]
  },
  {
   "cell_type": "code",
   "execution_count": 42,
   "metadata": {},
   "outputs": [],
   "source": [
    "def perform_several_al_passes(train_input_ids, train_tags, \n",
    "                              test_input_ids, test_tags, \n",
    "                              tags_vals, tag2index, \n",
    "                              ranking_strategy, fit_model, \n",
    "                              n_passes, n_al_iterations):\n",
    "    stats = []\n",
    "    for i in range(n_passes):\n",
    "        logger.info('=============== Pass: {} ============='.format(i))\n",
    "        \n",
    "        np.random.seed(42 + i*3)\n",
    "        \n",
    "        libact_model = LibActNN(model_ctor=(lambda : create_model_optimizer(tag2idx)),\n",
    "                                device=device, \n",
    "                                batch_size=BATCH_SIZE,\n",
    "                                bs_pred=BATCH_SIZE_PRED,\n",
    "                                train_from_scratch=True,\n",
    "                                retrain_epochs=30,\n",
    "                                early_stopping=3)\n",
    "        \n",
    "#         libact_model = LibActNNPositiveLessCertain(\n",
    "#             tag2index['B'],\n",
    "#             model_ctor=(lambda : create_model_optimizer(tag2index)), \n",
    "#             device=device, \n",
    "#             batch_size=BATCH_SIZE,\n",
    "#             bs_pred=BATCH_SIZE_PRED,\n",
    "#             train_from_scratch=False\n",
    "#         )\n",
    "\n",
    "        X_train, Y_seed = initialize_seeds(train_input_ids, train_tags, tags_vals)\n",
    "        active_learner = create_active_learner(X_train, Y_seed, test_input_ids, test_tags, \n",
    "                                               tags_vals, libact_model, \n",
    "                                               ranking_strategy=ranking_strategy)\n",
    "        \n",
    "        statistics = emulate_active_learning(train_tags, \n",
    "                                             active_learner, \n",
    "                                             max_iterations=n_al_iterations)\n",
    "        stats.append(statistics)\n",
    "    \n",
    "    return stats"
   ]
  },
  {
   "cell_type": "code",
   "execution_count": 43,
   "metadata": {},
   "outputs": [
    {
     "ename": "TypeError",
     "evalue": "perform_several_al_passes() missing 9 required positional arguments: 'train_tags', 'test_input_ids', 'test_tags', 'tags_vals', 'tag2index', 'ranking_strategy', 'fit_model', 'n_passes', and 'n_al_iterations'",
     "output_type": "error",
     "traceback": [
      "\u001b[0;31m---------------------------------------------------------------------------\u001b[0m",
      "\u001b[0;31mTypeError\u001b[0m                                 Traceback (most recent call last)",
      "\u001b[0;32m<ipython-input-43-a31bd5fe4f2a>\u001b[0m in \u001b[0;36m<module>\u001b[0;34m\u001b[0m\n\u001b[1;32m      1\u001b[0m \u001b[0;31m#ranking_strategy = lambda trn_ds, libact_model: RandomSamplingWithRetraining(trn_ds, model=libact_model)\u001b[0m\u001b[0;34m\u001b[0m\u001b[0;34m\u001b[0m\u001b[0;34m\u001b[0m\u001b[0m\n\u001b[1;32m      2\u001b[0m \u001b[0mranking_strategy\u001b[0m \u001b[0;34m=\u001b[0m \u001b[0;32mlambda\u001b[0m \u001b[0mtrn_ds\u001b[0m\u001b[0;34m,\u001b[0m \u001b[0mlibact_model\u001b[0m\u001b[0;34m:\u001b[0m \u001b[0mUncertaintySampling\u001b[0m\u001b[0;34m(\u001b[0m\u001b[0mtrn_ds\u001b[0m\u001b[0;34m,\u001b[0m \u001b[0mmodel\u001b[0m\u001b[0;34m=\u001b[0m\u001b[0mlibact_model\u001b[0m\u001b[0;34m,\u001b[0m \u001b[0mmethod\u001b[0m\u001b[0;34m=\u001b[0m\u001b[0;34m'lc'\u001b[0m\u001b[0;34m)\u001b[0m\u001b[0;34m\u001b[0m\u001b[0;34m\u001b[0m\u001b[0m\n\u001b[0;32m----> 3\u001b[0;31m \u001b[0mstats\u001b[0m \u001b[0;34m=\u001b[0m \u001b[0mperform_several_al_passes\u001b[0m\u001b[0;34m(\u001b[0m\u001b[0mranking_strategy\u001b[0m\u001b[0;34m)\u001b[0m\u001b[0;34m\u001b[0m\u001b[0;34m\u001b[0m\u001b[0m\n\u001b[0m",
      "\u001b[0;31mTypeError\u001b[0m: perform_several_al_passes() missing 9 required positional arguments: 'train_tags', 'test_input_ids', 'test_tags', 'tags_vals', 'tag2index', 'ranking_strategy', 'fit_model', 'n_passes', and 'n_al_iterations'"
     ]
    }
   ],
   "source": [
    "#ranking_strategy = lambda trn_ds, libact_model: RandomSamplingWithRetraining(trn_ds, model=libact_model)\n",
    "ranking_strategy = lambda trn_ds, libact_model: UncertaintySampling(trn_ds, model=libact_model, method='lc')\n",
    "stats = perform_several_al_passes(ranking_strategy)"
   ]
  },
  {
   "cell_type": "code",
   "execution_count": 11,
   "metadata": {},
   "outputs": [],
   "source": [
    "us_stats = np.load('../workdir/experiments/hypertension_us.npy')\n",
    "random_stats = np.load('../workdir/experiments/hypertension_random.npy')"
   ]
  },
  {
   "cell_type": "code",
   "execution_count": 26,
   "metadata": {},
   "outputs": [],
   "source": [
    "from matplotlib import pyplot as plt\n",
    "from matplotlib.pyplot import figure\n",
    "%matplotlib inline \n",
    "\n",
    "\n",
    "def generate_plot(np_stats, color_bg, color_line, label):\n",
    "    disp = np_stats.std(axis=0)\n",
    "    means = np_stats.mean(axis=0)\n",
    "\n",
    "    x = list(range(means.shape[0]))\n",
    "\n",
    "    plt.fill_between(x, means - disp, means + disp, color=color_bg, alpha=0.5)\n",
    "    return plt.plot(x, means, color=color_line, label=label)"
   ]
  },
  {
   "cell_type": "code",
   "execution_count": 27,
   "metadata": {},
   "outputs": [
    {
     "ename": "NameError",
     "evalue": "name 'random_stats' is not defined",
     "output_type": "error",
     "traceback": [
      "\u001b[0;31m---------------------------------------------------------------------------\u001b[0m",
      "\u001b[0;31mNameError\u001b[0m                                 Traceback (most recent call last)",
      "\u001b[0;32m<ipython-input-27-34ac8067a3bf>\u001b[0m in \u001b[0;36m<module>\u001b[0;34m\u001b[0m\n\u001b[1;32m      1\u001b[0m \u001b[0mfigure\u001b[0m\u001b[0;34m(\u001b[0m\u001b[0mnum\u001b[0m\u001b[0;34m=\u001b[0m\u001b[0;32mNone\u001b[0m\u001b[0;34m,\u001b[0m \u001b[0mfigsize\u001b[0m\u001b[0;34m=\u001b[0m\u001b[0;34m(\u001b[0m\u001b[0;36m8\u001b[0m\u001b[0;34m,\u001b[0m \u001b[0;36m6\u001b[0m\u001b[0;34m)\u001b[0m\u001b[0;34m,\u001b[0m \u001b[0mdpi\u001b[0m\u001b[0;34m=\u001b[0m\u001b[0;36m80\u001b[0m\u001b[0;34m,\u001b[0m \u001b[0mfacecolor\u001b[0m\u001b[0;34m=\u001b[0m\u001b[0;34m'w'\u001b[0m\u001b[0;34m,\u001b[0m \u001b[0medgecolor\u001b[0m\u001b[0;34m=\u001b[0m\u001b[0;34m'k'\u001b[0m\u001b[0;34m)\u001b[0m\u001b[0;34m\u001b[0m\u001b[0;34m\u001b[0m\u001b[0m\n\u001b[1;32m      2\u001b[0m \u001b[0;34m\u001b[0m\u001b[0m\n\u001b[0;32m----> 3\u001b[0;31m \u001b[0mplt1\u001b[0m\u001b[0;34m,\u001b[0m \u001b[0;34m=\u001b[0m \u001b[0mgenerate_plot\u001b[0m\u001b[0;34m(\u001b[0m\u001b[0mrandom_stats\u001b[0m\u001b[0;34m,\u001b[0m \u001b[0mcolor_bg\u001b[0m\u001b[0;34m=\u001b[0m\u001b[0;34m'skyblue'\u001b[0m\u001b[0;34m,\u001b[0m \u001b[0mcolor_line\u001b[0m\u001b[0;34m=\u001b[0m\u001b[0;34m'midnightblue'\u001b[0m\u001b[0;34m,\u001b[0m \u001b[0mlabel\u001b[0m\u001b[0;34m=\u001b[0m\u001b[0;34m'random'\u001b[0m\u001b[0;34m)\u001b[0m\u001b[0;34m\u001b[0m\u001b[0;34m\u001b[0m\u001b[0m\n\u001b[0m\u001b[1;32m      4\u001b[0m \u001b[0mplt2\u001b[0m\u001b[0;34m,\u001b[0m \u001b[0;34m=\u001b[0m \u001b[0mgenerate_plot\u001b[0m\u001b[0;34m(\u001b[0m\u001b[0mus_stats\u001b[0m\u001b[0;34m,\u001b[0m \u001b[0mcolor_bg\u001b[0m\u001b[0;34m=\u001b[0m\u001b[0;34m'darksalmon'\u001b[0m\u001b[0;34m,\u001b[0m \u001b[0mcolor_line\u001b[0m\u001b[0;34m=\u001b[0m\u001b[0;34m'red'\u001b[0m\u001b[0;34m,\u001b[0m \u001b[0mlabel\u001b[0m\u001b[0;34m=\u001b[0m\u001b[0;34m'US'\u001b[0m\u001b[0;34m)\u001b[0m\u001b[0;34m\u001b[0m\u001b[0;34m\u001b[0m\u001b[0m\n\u001b[1;32m      5\u001b[0m \u001b[0;34m\u001b[0m\u001b[0m\n",
      "\u001b[0;31mNameError\u001b[0m: name 'random_stats' is not defined"
     ]
    },
    {
     "data": {
      "text/plain": [
       "<Figure size 640x480 with 0 Axes>"
      ]
     },
     "metadata": {},
     "output_type": "display_data"
    }
   ],
   "source": [
    "figure(num=None, figsize=(8, 6), dpi=80, facecolor='w', edgecolor='k')\n",
    "\n",
    "plt1, = generate_plot(random_stats, color_bg='skyblue', color_line='midnightblue', label='random')\n",
    "plt2, = generate_plot(us_stats, color_bg='darksalmon', color_line='red', label='US')\n",
    "\n",
    "plt.legend(handles=[plt1, plt2])\n",
    "plt.ylabel('Performance, F1')\n",
    "plt.xlabel('AL iteration, #')\n",
    "plt.show()"
   ]
  },
  {
   "cell_type": "code",
   "execution_count": 28,
   "metadata": {},
   "outputs": [],
   "source": [
    "def create_char(expert_dir, attr_type):\n",
    "    figure(num=None, figsize=(8, 6), dpi=80, facecolor='w', edgecolor='k')\n",
    "    plt_list = []\n",
    "    \n",
    "    for filename in os.listdir(expert_dir):\n",
    "        f_type, f_strat = filename.split('_')\n",
    "        if f_type != attr_type:\n",
    "            continue\n",
    "        \n",
    "        file_path = os.path.join(expert_dir, filename)\n",
    "        stats = np.load(file_path)\n",
    "        plt, = generate_plot(random_stats, color_bg='skyblue', color_line='midnightblue', label=f_strat)\n",
    "        plt_list.append(plt)\n",
    "        \n",
    "    plt.legend(handles=plt_list)\n",
    "    plt.ylabel('Performance, F1')\n",
    "    plt.xlabel('AL iteration, #')\n",
    "    plt.show()"
   ]
  },
  {
   "cell_type": "code",
   "execution_count": 29,
   "metadata": {},
   "outputs": [],
   "source": [
    "def create_chart(exper_dir, attr_type):\n",
    "    us_stats = np.load(os.path.join(exper_dir, f'{attr_type}_us.npy'))\n",
    "    random_stats = np.load(os.path.join(exper_dir, f'{attr_type}_random.npy'))\n",
    "    \n",
    "    figure(num=None, figsize=(8, 6), dpi=80, facecolor='w', edgecolor='k')\n",
    "\n",
    "    plt1, = generate_plot(random_stats, color_bg='skyblue', color_line='midnightblue', label='random')\n",
    "    plt2, = generate_plot(us_stats, color_bg='darksalmon', color_line='red', label='US')\n",
    "\n",
    "    plt.legend(handles=[plt1, plt2])\n",
    "    plt.ylabel('Performance, F1')\n",
    "    plt.xlabel('AL iteration, #')\n",
    "    plt.show()"
   ]
  },
  {
   "cell_type": "code",
   "execution_count": 33,
   "metadata": {},
   "outputs": [
    {
     "data": {
      "image/png": "[encoded data removed]",
      "text/plain": [
       "<Figure size 640x480 with 1 Axes>"
      ]
     },
     "metadata": {},
     "output_type": "display_data"
    }
   ],
   "source": [
    "create_chart('../Logs/experiments_3/', 'i-org')\n",
    "# Few epohs to run faster"
   ]
  },
  {
   "cell_type": "code",
   "execution_count": 30,
   "metadata": {},
   "outputs": [
    {
     "data": {
      "image/png": "[encoded data removed]",
      "text/plain": [
       "<Figure size 640x480 with 1 Axes>"
      ]
     },
     "metadata": {},
     "output_type": "display_data"
    }
   ],
   "source": [
    "create_chart('../Logs/experiments_3/', 'i-misc')"
   ]
  },
  {
   "cell_type": "code",
   "execution_count": 31,
   "metadata": {},
   "outputs": [
    {
     "data": {
      "image/png": "[encoded data removed]",
      "text/plain": [
       "<Figure size 640x480 with 1 Axes>"
      ]
     },
     "metadata": {},
     "output_type": "display_data"
    }
   ],
   "source": [
    "create_chart('../Logs/experiments', 'i-org')"
   ]
  },
  {
   "cell_type": "code",
   "execution_count": 32,
   "metadata": {},
   "outputs": [
    {
     "data": {
      "image/png": "[encoded data removed]",
      "text/plain": [
       "<Figure size 640x480 with 1 Axes>"
      ]
     },
     "metadata": {},
     "output_type": "display_data"
    }
   ],
   "source": [
    "create_chart('../Logs/experiments', 'i-per')"
   ]
  },
  {
   "cell_type": "code",
   "execution_count": 55,
   "metadata": {},
   "outputs": [
    {
     "data": {
      "image/png": "[encoded data removed]",
      "text/plain": [
       "<Figure size 640x480 with 1 Axes>"
      ]
     },
     "metadata": {},
     "output_type": "display_data"
    }
   ],
   "source": [
    "create_chart('../Logs/experimentsa', 'i-per')"
   ]
  },
  {
   "cell_type": "code",
   "execution_count": 56,
   "metadata": {},
   "outputs": [
    {
     "data": {
      "image/png": "[encoded data removed]",
      "text/plain": [
       "<Figure size 640x480 with 1 Axes>"
      ]
     },
     "metadata": {},
     "output_type": "display_data"
    }
   ],
   "source": [
    "create_chart('../Logs/experimentsa', 'i-org')"
   ]
  },
  {
   "cell_type": "code",
   "execution_count": 19,
   "metadata": {},
   "outputs": [
    {
     "data": {
      "image/png": "[encoded data removed]",
      "text/plain": [
       "<Figure size 640x480 with 1 Axes>"
      ]
     },
     "metadata": {},
     "output_type": "display_data"
    }
   ],
   "source": [
    "create_chart('../workdir/experiments_2/', 'diabetes')"
   ]
  },
  {
   "cell_type": "code",
   "execution_count": 20,
   "metadata": {},
   "outputs": [
    {
     "data": {
      "image/png": "[encoded data removed]",
      "text/plain": [
       "<Figure size 640x480 with 1 Axes>"
      ]
     },
     "metadata": {},
     "output_type": "display_data"
    }
   ],
   "source": [
    "create_chart('../workdir/experiments_2/', 'cad')"
   ]
  },
  {
   "cell_type": "code",
   "execution_count": 44,
   "metadata": {},
   "outputs": [],
   "source": [
    "def run_experiment_al(train_dataset,\n",
    "                      test_dataset,\n",
    "                      attr_name, \n",
    "                      word_tokenizer, \n",
    "                      bpe_tokenizer,\n",
    "                      output_file_path,\n",
    "                      n_passes=10,\n",
    "                      n_al_iterations=25):\n",
    "    logger.info('Preparing data...')\n",
    "    \n",
    "    train_selected_dataset = drop_noise_samples(train_dataset, attr_name)\n",
    "    test_selected_dataset = drop_noise_samples(test_dataset, attr_name)\n",
    "    #train_selected_dataset, test_selected_dataset = split_train_test_by_document(selected_dataset, test_ratio=0.2)\n",
    "    train_sents, train_labels = tokenize_and_generate_labels(word_tokenizer, bpe_tokenizer, \n",
    "                                                             train_selected_dataset, attr_name, MAX_LEN)\n",
    "    test_sents, test_labels = tokenize_and_generate_labels(word_tokenizer, bpe_tokenizer, \n",
    "                                                           test_selected_dataset, attr_name, MAX_LEN)\n",
    "    \n",
    "    tags_vals = ['B', 'I', 'O', 'X', '[CLS]', '[SEP]']\n",
    "    tag2idx = {t : i for i, t in enumerate(tags_vals)}\n",
    "    \n",
    "    train_input_ids, train_tags, train_attention_masks = create_tensors(bpe_tokenizer, tag2idx, \n",
    "                                                                        train_sents, train_labels, MAX_LEN)\n",
    "    test_input_ids, test_tags, test_attention_masks = create_tensors(bpe_tokenizer, tag2idx, \n",
    "                                                                     test_sents, test_labels, MAX_LEN)\n",
    "    \n",
    "    logger.info('Done.')\n",
    "    \n",
    "    #logger.info('Initializing model...')\n",
    "    \n",
    "    #model, optimizer, lr_scheduler = create_model_optimizer(tag2idx)\n",
    "    \n",
    "    #logger.info('Done.')\n",
    "    \n",
    "    logger.info('Preparing active learning...')\n",
    "    \n",
    "    logger.info('Done.')\n",
    "    \n",
    "    logger.info('=======================Active learning with uncertainty sampling ======================')\n",
    "    \n",
    "    ranking_strategy = lambda trn_ds, _libact_model: UncertaintySampling(trn_ds, model=_libact_model, method='lc')\n",
    "    stats = perform_several_al_passes(train_input_ids, train_tags, test_input_ids, \n",
    "                                      test_tags, tags_vals, tag2idx, \n",
    "                                      ranking_strategy=ranking_strategy, \n",
    "                                      fit_model=False, \n",
    "                                      n_passes=n_passes,\n",
    "                                      n_al_iterations=n_al_iterations)\n",
    "    stats = np.array([[e['_f1_score'] for e in series] for series in stats ])\n",
    "    np.save(os.path.join(output_file_path, '{}_us.npy'.format(attr_name.lower())), stats)\n",
    "    \n",
    "    logger.info('Done with uncertainty sampling.')\n",
    "    \n",
    "    logger.info('=======================Active learning with random sampling ============================')\n",
    "    \n",
    "    ranking_strategy = lambda trn_ds, _libact_model: RandomSamplingWithRetraining(trn_ds, model=_libact_model, method='lc')\n",
    "    stats = perform_several_al_passes(train_input_ids, train_tags, \n",
    "                                       test_input_ids, test_tags, \n",
    "                                       tags_vals, tag2idx, \n",
    "                                       ranking_strategy=ranking_strategy, \n",
    "                                       fit_model=False,\n",
    "                                       n_passes=n_passes,\n",
    "                                      n_al_iterations=n_al_iterations)\n",
    "    stats = np.array([[e['_f1_score'] for e in series] for series in stats ])\n",
    "    np.save(os.path.join(output_file_path, '{}_random.npy'.format(attr_name.lower())), stats)\n",
    "    logger.info('Done.')"
   ]
  },
  {
   "cell_type": "code",
   "execution_count": null,
   "metadata": {},
   "outputs": [
    {
     "name": "stdout",
     "output_type": "stream",
     "text": [
      "2019-08-13 07:24:03,442 - biomed_ie - INFO - Preparing data...\n",
      "2019-08-13 07:24:13,907 - biomed_ie - INFO - Done.\n",
      "2019-08-13 07:24:13,908 - biomed_ie - INFO - Preparing active learning...\n",
      "2019-08-13 07:24:13,909 - biomed_ie - INFO - Done.\n",
      "2019-08-13 07:24:13,910 - biomed_ie - INFO - =======================Active learning with uncertainty sampling ======================\n",
      "2019-08-13 07:24:13,911 - biomed_ie - INFO - =============== Pass: 0 =============\n",
      "60\n",
      "2019-08-13 07:24:13,927 - biomed_ie - INFO - Start emulating active learning.\n",
      "2019-08-13 07:24:19,798 - biomed_ie - INFO - Full finetuning: True\n",
      "2019-08-13 07:24:19,803 - biomed_ie - INFO - N parameters: 108314886\n"
     ]
    },
    {
     "name": "stderr",
     "output_type": "stream",
     "text": [
      "\n",
      "Epoch:   0%|          | 0/30 [00:00<?, ?it/s]\u001b[A"
     ]
    },
    {
     "name": "stdout",
     "output_type": "stream",
     "text": [
      "2019-08-13 07:24:20,435 - biomed_ie - INFO - Train loss: 0.13055373288568903\n",
      "2019-08-13 07:24:20,486 - biomed_ie - INFO - Validation loss: 0.13157408501623724\n"
     ]
    },
    {
     "name": "stderr",
     "output_type": "stream",
     "text": [
      "\n",
      "Epoch:   3%|▎         | 1/30 [00:00<00:19,  1.49it/s]\u001b[A"
     ]
    },
    {
     "name": "stdout",
     "output_type": "stream",
     "text": [
      "2019-08-13 07:24:21,079 - biomed_ie - INFO - Train loss: 0.06204452976340154\n",
      "2019-08-13 07:24:21,130 - biomed_ie - INFO - Validation loss: 0.06026606823919865\n"
     ]
    },
    {
     "name": "stderr",
     "output_type": "stream",
     "text": [
      "\n",
      "Epoch:   7%|▋         | 2/30 [00:01<00:18,  1.51it/s]\u001b[A"
     ]
    },
    {
     "name": "stdout",
     "output_type": "stream",
     "text": [
      "2019-08-13 07:24:21,748 - biomed_ie - INFO - Train loss: 0.03235357370777209\n",
      "2019-08-13 07:24:21,799 - biomed_ie - INFO - Validation loss: 0.03941566128215816\n"
     ]
    },
    {
     "name": "stderr",
     "output_type": "stream",
     "text": [
      "\n",
      "Epoch:  10%|█         | 3/30 [00:01<00:17,  1.50it/s]\u001b[A"
     ]
    },
    {
     "name": "stdout",
     "output_type": "stream",
     "text": [
      "2019-08-13 07:24:22,394 - biomed_ie - INFO - Train loss: 0.022321503578883704\n",
      "2019-08-13 07:24:22,445 - biomed_ie - INFO - Validation loss: 0.03226140689047322\n"
     ]
    },
    {
     "name": "stderr",
     "output_type": "stream",
     "text": [
      "\n",
      "Epoch:  13%|█▎        | 4/30 [00:02<00:17,  1.52it/s]\u001b[A"
     ]
    },
    {
     "name": "stdout",
     "output_type": "stream",
     "text": [
      "2019-08-13 07:24:23,037 - biomed_ie - INFO - Train loss: 0.01229624508223573\n",
      "2019-08-13 07:24:23,088 - biomed_ie - INFO - Validation loss: 0.028996656519500605\n"
     ]
    },
    {
     "name": "stderr",
     "output_type": "stream",
     "text": [
      "\n",
      "Epoch:  17%|█▋        | 5/30 [00:03<00:16,  1.53it/s]\u001b[A"
     ]
    },
    {
     "name": "stdout",
     "output_type": "stream",
     "text": [
      "2019-08-13 07:24:23,677 - biomed_ie - INFO - Train loss: 0.008902996091446916\n",
      "2019-08-13 07:24:23,728 - biomed_ie - INFO - Validation loss: 0.03255178726070559\n"
     ]
    },
    {
     "name": "stderr",
     "output_type": "stream",
     "text": [
      "\n",
      "Epoch:  20%|██        | 6/30 [00:03<00:15,  1.54it/s]\u001b[A"
     ]
    },
    {
     "name": "stdout",
     "output_type": "stream",
     "text": [
      "2019-08-13 07:24:24,310 - biomed_ie - INFO - Train loss: 0.006310417904655953\n",
      "2019-08-13 07:24:24,362 - biomed_ie - INFO - Validation loss: 0.0332589236415954\n"
     ]
    },
    {
     "name": "stderr",
     "output_type": "stream",
     "text": [
      "\n",
      "Epoch:  23%|██▎       | 7/30 [00:04<00:14,  1.55it/s]\u001b[A"
     ]
    },
    {
     "name": "stdout",
     "output_type": "stream",
     "text": [
      "2019-08-13 07:24:24,952 - biomed_ie - INFO - Train loss: 0.0034526521988884834\n",
      "2019-08-13 07:24:25,003 - biomed_ie - INFO - Validation loss: 0.0330032004882042\n"
     ]
    },
    {
     "name": "stderr",
     "output_type": "stream",
     "text": [
      "\n",
      "\u001b[A"
     ]
    },
    {
     "name": "stdout",
     "output_type": "stream",
     "text": [
      "2019-08-13 07:24:30,437 - biomed_ie - INFO - Evaluation: {'_f1_score': 0.4106832525381871}\n",
      "2019-08-13 07:24:30,439 - biomed_ie - INFO - Active learning iteration: #0\n",
      "2019-08-13 07:24:36,223 - biomed_ie - INFO - Full finetuning: True\n",
      "2019-08-13 07:24:36,227 - biomed_ie - INFO - N parameters: 108314886\n"
     ]
    },
    {
     "name": "stderr",
     "output_type": "stream",
     "text": [
      "\n",
      "Epoch:   0%|          | 0/30 [00:00<?, ?it/s]\u001b[A"
     ]
    },
    {
     "name": "stdout",
     "output_type": "stream",
     "text": [
      "2019-08-13 07:24:36,857 - biomed_ie - INFO - Train loss: 0.13539018574411538\n",
      "2019-08-13 07:24:36,908 - biomed_ie - INFO - Validation loss: 0.11252304103886969\n"
     ]
    },
    {
     "name": "stderr",
     "output_type": "stream",
     "text": [
      "\n",
      "Epoch:   3%|▎         | 1/30 [00:00<00:19,  1.50it/s]\u001b[A"
     ]
    },
    {
     "name": "stdout",
     "output_type": "stream",
     "text": [
      "2019-08-13 07:24:37,504 - biomed_ie - INFO - Train loss: 0.06611925861473668\n",
      "2019-08-13 07:24:37,556 - biomed_ie - INFO - Validation loss: 0.08967348905367271\n"
     ]
    },
    {
     "name": "stderr",
     "output_type": "stream",
     "text": [
      "\n",
      "Epoch:   7%|▋         | 2/30 [00:01<00:18,  1.51it/s]\u001b[A"
     ]
    },
    {
     "name": "stdout",
     "output_type": "stream",
     "text": [
      "2019-08-13 07:24:38,155 - biomed_ie - INFO - Train loss: 0.051022770672344175\n",
      "2019-08-13 07:24:38,207 - biomed_ie - INFO - Validation loss: 0.03924960287931923\n"
     ]
    },
    {
     "name": "stderr",
     "output_type": "stream",
     "text": [
      "\n",
      "Epoch:  10%|█         | 3/30 [00:01<00:17,  1.52it/s]\u001b[A"
     ]
    },
    {
     "name": "stdout",
     "output_type": "stream",
     "text": [
      "2019-08-13 07:24:38,800 - biomed_ie - INFO - Train loss: 0.02417331556842519\n",
      "2019-08-13 07:24:38,852 - biomed_ie - INFO - Validation loss: 0.02881482104274714\n"
     ]
    },
    {
     "name": "stderr",
     "output_type": "stream",
     "text": [
      "\n",
      "Epoch:  13%|█▎        | 4/30 [00:02<00:17,  1.53it/s]\u001b[A"
     ]
    },
    {
     "name": "stdout",
     "output_type": "stream",
     "text": [
      "2019-08-13 07:24:39,449 - biomed_ie - INFO - Train loss: 0.015004546378310574\n",
      "2019-08-13 07:24:39,500 - biomed_ie - INFO - Validation loss: 0.02232316498444459\n"
     ]
    },
    {
     "name": "stderr",
     "output_type": "stream",
     "text": [
      "\n",
      "Epoch:  17%|█▋        | 5/30 [00:03<00:16,  1.53it/s]\u001b[A"
     ]
    },
    {
     "name": "stdout",
     "output_type": "stream",
     "text": [
      "2019-08-13 07:24:40,089 - biomed_ie - INFO - Train loss: 0.010076270899558148\n",
      "2019-08-13 07:24:40,139 - biomed_ie - INFO - Validation loss: 0.021442914863241794\n"
     ]
    },
    {
     "name": "stderr",
     "output_type": "stream",
     "text": [
      "\n",
      "Epoch:  20%|██        | 6/30 [00:03<00:15,  1.54it/s]\u001b[A"
     ]
    },
    {
     "name": "stdout",
     "output_type": "stream",
     "text": [
      "2019-08-13 07:24:40,727 - biomed_ie - INFO - Train loss: 0.006421528723472071\n",
      "2019-08-13 07:24:40,777 - biomed_ie - INFO - Validation loss: 0.02031926054078099\n"
     ]
    },
    {
     "name": "stderr",
     "output_type": "stream",
     "text": [
      "\n",
      "Epoch:  23%|██▎       | 7/30 [00:04<00:14,  1.55it/s]\u001b[A"
     ]
    },
    {
     "name": "stdout",
     "output_type": "stream",
     "text": [
      "2019-08-13 07:24:41,381 - biomed_ie - INFO - Train loss: 0.0038637453252822525\n",
      "2019-08-13 07:24:41,435 - biomed_ie - INFO - Validation loss: 0.0242272362902157\n"
     ]
    },
    {
     "name": "stderr",
     "output_type": "stream",
     "text": [
      "\n",
      "Epoch:  27%|██▋       | 8/30 [00:05<00:14,  1.54it/s]\u001b[A"
     ]
    },
    {
     "name": "stdout",
     "output_type": "stream",
     "text": [
      "2019-08-13 07:24:42,032 - biomed_ie - INFO - Train loss: 0.0021259310078455915\n",
      "2019-08-13 07:24:42,084 - biomed_ie - INFO - Validation loss: 0.031983829175943154\n"
     ]
    },
    {
     "name": "stderr",
     "output_type": "stream",
     "text": [
      "\n",
      "Epoch:  30%|███       | 9/30 [00:05<00:13,  1.54it/s]\u001b[A"
     ]
    },
    {
     "name": "stdout",
     "output_type": "stream",
     "text": [
      "2019-08-13 07:24:42,676 - biomed_ie - INFO - Train loss: 0.0013883553861511028\n",
      "2019-08-13 07:24:42,728 - biomed_ie - INFO - Validation loss: 0.03289654618854463\n"
     ]
    },
    {
     "name": "stderr",
     "output_type": "stream",
     "text": [
      "\n",
      "\u001b[A"
     ]
    },
    {
     "name": "stdout",
     "output_type": "stream",
     "text": [
      "2019-08-13 07:25:13,322 - biomed_ie - INFO - Performance: {'_f1_score': 0.472632493483927}\n",
      "2019-08-13 07:25:13,323 - biomed_ie - INFO - Active learning iteration: #1\n",
      "2019-08-13 07:25:20,120 - biomed_ie - INFO - Full finetuning: True\n",
      "2019-08-13 07:25:20,124 - biomed_ie - INFO - N parameters: 108314886\n"
     ]
    },
    {
     "name": "stderr",
     "output_type": "stream",
     "text": [
      "\n",
      "Epoch:   0%|          | 0/30 [00:00<?, ?it/s]\u001b[A"
     ]
    },
    {
     "name": "stdout",
     "output_type": "stream",
     "text": [
      "2019-08-13 07:25:20,997 - biomed_ie - INFO - Train loss: 0.11135057581695387\n",
      "2019-08-13 07:25:21,064 - biomed_ie - INFO - Validation loss: 0.045849970408848355\n"
     ]
    },
    {
     "name": "stderr",
     "output_type": "stream",
     "text": [
      "\n",
      "Epoch:   3%|▎         | 1/30 [00:00<00:26,  1.08it/s]\u001b[A"
     ]
    },
    {
     "name": "stdout",
     "output_type": "stream",
     "text": [
      "2019-08-13 07:25:21,908 - biomed_ie - INFO - Train loss: 0.04307848875835465\n",
      "2019-08-13 07:25:21,974 - biomed_ie - INFO - Validation loss: 0.025012176864001215\n"
     ]
    },
    {
     "name": "stderr",
     "output_type": "stream",
     "text": [
      "\n",
      "Epoch:   7%|▋         | 2/30 [00:01<00:25,  1.09it/s]\u001b[A"
     ]
    },
    {
     "name": "stdout",
     "output_type": "stream",
     "text": [
      "2019-08-13 07:25:22,809 - biomed_ie - INFO - Train loss: 0.02233945537799661\n",
      "2019-08-13 07:25:22,874 - biomed_ie - INFO - Validation loss: 0.020383147560820287\n"
     ]
    },
    {
     "name": "stderr",
     "output_type": "stream",
     "text": [
      "\n",
      "Epoch:  10%|█         | 3/30 [00:02<00:24,  1.09it/s]\u001b[A"
     ]
    },
    {
     "name": "stdout",
     "output_type": "stream",
     "text": [
      "2019-08-13 07:25:23,710 - biomed_ie - INFO - Train loss: 0.01525432348320711\n",
      "2019-08-13 07:25:23,776 - biomed_ie - INFO - Validation loss: 0.01375457948567916\n"
     ]
    },
    {
     "name": "stderr",
     "output_type": "stream",
     "text": [
      "\n",
      "Epoch:  13%|█▎        | 4/30 [00:03<00:23,  1.10it/s]\u001b[A"
     ]
    },
    {
     "name": "stdout",
     "output_type": "stream",
     "text": [
      "2019-08-13 07:25:24,605 - biomed_ie - INFO - Train loss: 0.011228715390149057\n",
      "2019-08-13 07:25:24,671 - biomed_ie - INFO - Validation loss: 0.014481627211278799\n"
     ]
    },
    {
     "name": "stderr",
     "output_type": "stream",
     "text": [
      "\n",
      "Epoch:  17%|█▋        | 5/30 [00:04<00:22,  1.10it/s]\u001b[A"
     ]
    },
    {
     "name": "stdout",
     "output_type": "stream",
     "text": [
      "2019-08-13 07:25:25,505 - biomed_ie - INFO - Train loss: 0.007459698941321231\n",
      "2019-08-13 07:25:25,570 - biomed_ie - INFO - Validation loss: 0.0169029138526138\n"
     ]
    },
    {
     "name": "stderr",
     "output_type": "stream",
     "text": [
      "\n",
      "Epoch:  20%|██        | 6/30 [00:05<00:21,  1.11it/s]\u001b[A"
     ]
    },
    {
     "name": "stdout",
     "output_type": "stream",
     "text": [
      "2019-08-13 07:25:26,401 - biomed_ie - INFO - Train loss: 0.004891260530596942\n",
      "2019-08-13 07:25:26,468 - biomed_ie - INFO - Validation loss: 0.01650298614891208\n",
      "2019-08-13 07:25:57,039 - biomed_ie - INFO - Performance: {'_f1_score': 0.4936754607878569}\n",
      "2019-08-13 07:25:57,040 - biomed_ie - INFO - Active learning iteration: #2\n",
      "2019-08-13 07:26:02,810 - biomed_ie - INFO - Full finetuning: True\n",
      "2019-08-13 07:26:02,814 - biomed_ie - INFO - N parameters: 108314886\n"
     ]
    },
    {
     "name": "stderr",
     "output_type": "stream",
     "text": [
      "\n",
      "\n",
      "Epoch:   0%|          | 0/30 [00:00<?, ?it/s]\u001b[A\u001b[A"
     ]
    },
    {
     "name": "stdout",
     "output_type": "stream",
     "text": [
      "2019-08-13 07:26:03,803 - biomed_ie - INFO - Train loss: 0.08504210446498477\n",
      "2019-08-13 07:26:03,886 - biomed_ie - INFO - Validation loss: 0.07738736873501344\n"
     ]
    },
    {
     "name": "stderr",
     "output_type": "stream",
     "text": [
      "\n",
      "\n",
      "Epoch:   3%|▎         | 1/30 [00:01<00:30,  1.05s/it]\u001b[A\u001b[A"
     ]
    },
    {
     "name": "stdout",
     "output_type": "stream",
     "text": [
      "2019-08-13 07:26:04,859 - biomed_ie - INFO - Train loss: 0.05519439445802137\n",
      "2019-08-13 07:26:04,941 - biomed_ie - INFO - Validation loss: 0.030243396759033203\n"
     ]
    },
    {
     "name": "stderr",
     "output_type": "stream",
     "text": [
      "\n",
      "\n",
      "Epoch:   7%|▋         | 2/30 [00:02<00:29,  1.05s/it]\u001b[A\u001b[A"
     ]
    },
    {
     "name": "stdout",
     "output_type": "stream",
     "text": [
      "2019-08-13 07:26:05,916 - biomed_ie - INFO - Train loss: 0.028661607059353222\n",
      "2019-08-13 07:26:05,997 - biomed_ie - INFO - Validation loss: 0.02122423983235874\n"
     ]
    },
    {
     "name": "stderr",
     "output_type": "stream",
     "text": [
      "\n",
      "\n",
      "Epoch:  10%|█         | 3/30 [00:03<00:28,  1.05s/it]\u001b[A\u001b[A"
     ]
    },
    {
     "name": "stdout",
     "output_type": "stream",
     "text": [
      "2019-08-13 07:26:06,933 - biomed_ie - INFO - Train loss: 0.019490269369821994\n",
      "2019-08-13 07:26:07,014 - biomed_ie - INFO - Validation loss: 0.015765052516135813\n"
     ]
    },
    {
     "name": "stderr",
     "output_type": "stream",
     "text": [
      "\n",
      "\n",
      "Epoch:  13%|█▎        | 4/30 [00:04<00:27,  1.04s/it]\u001b[A\u001b[A"
     ]
    },
    {
     "name": "stdout",
     "output_type": "stream",
     "text": [
      "2019-08-13 07:26:07,948 - biomed_ie - INFO - Train loss: 0.012404381530876476\n",
      "2019-08-13 07:26:08,029 - biomed_ie - INFO - Validation loss: 0.013342986819050122\n"
     ]
    },
    {
     "name": "stderr",
     "output_type": "stream",
     "text": [
      "\n",
      "\n",
      "Epoch:  17%|█▋        | 5/30 [00:05<00:25,  1.03s/it]\u001b[A\u001b[A"
     ]
    },
    {
     "name": "stdout",
     "output_type": "stream",
     "text": [
      "2019-08-13 07:26:08,966 - biomed_ie - INFO - Train loss: 0.008529302220909663\n",
      "2019-08-13 07:26:09,048 - biomed_ie - INFO - Validation loss: 0.01444943301694494\n"
     ]
    },
    {
     "name": "stderr",
     "output_type": "stream",
     "text": [
      "\n",
      "\n",
      "Epoch:  20%|██        | 6/30 [00:06<00:24,  1.03s/it]\u001b[A\u001b[A"
     ]
    },
    {
     "name": "stdout",
     "output_type": "stream",
     "text": [
      "2019-08-13 07:26:09,984 - biomed_ie - INFO - Train loss: 0.004984904588315792\n",
      "2019-08-13 07:26:10,065 - biomed_ie - INFO - Validation loss: 0.01751822485050685\n"
     ]
    },
    {
     "name": "stderr",
     "output_type": "stream",
     "text": [
      "\n",
      "\n",
      "Epoch:  23%|██▎       | 7/30 [00:07<00:23,  1.03s/it]\u001b[A\u001b[A"
     ]
    },
    {
     "name": "stdout",
     "output_type": "stream",
     "text": [
      "2019-08-13 07:26:11,052 - biomed_ie - INFO - Train loss: 0.0025937121978991205\n",
      "2019-08-13 07:26:11,136 - biomed_ie - INFO - Validation loss: 0.022315973757018506\n",
      "2019-08-13 07:26:41,695 - biomed_ie - INFO - Performance: {'_f1_score': 0.36150877629777173}\n",
      "2019-08-13 07:26:41,696 - biomed_ie - INFO - Active learning iteration: #3\n",
      "2019-08-13 07:26:47,494 - biomed_ie - INFO - Full finetuning: True\n",
      "2019-08-13 07:26:47,498 - biomed_ie - INFO - N parameters: 108314886\n"
     ]
    },
    {
     "name": "stderr",
     "output_type": "stream",
     "text": [
      "\n",
      "\n",
      "\n",
      "Epoch:   0%|          | 0/30 [00:00<?, ?it/s]\u001b[A\u001b[A\u001b[A"
     ]
    },
    {
     "name": "stdout",
     "output_type": "stream",
     "text": [
      "2019-08-13 07:26:48,725 - biomed_ie - INFO - Train loss: 0.0834630756395791\n",
      "2019-08-13 07:26:48,822 - biomed_ie - INFO - Validation loss: 0.029088499267840594\n"
     ]
    },
    {
     "name": "stderr",
     "output_type": "stream",
     "text": [
      "\n",
      "\n",
      "\n",
      "Epoch:   3%|▎         | 1/30 [00:01<00:37,  1.30s/it]\u001b[A\u001b[A\u001b[A"
     ]
    },
    {
     "name": "stdout",
     "output_type": "stream",
     "text": [
      "2019-08-13 07:26:49,987 - biomed_ie - INFO - Train loss: 0.03827835933254857\n",
      "2019-08-13 07:26:50,085 - biomed_ie - INFO - Validation loss: 0.023169063901081022\n"
     ]
    },
    {
     "name": "stderr",
     "output_type": "stream",
     "text": [
      "\n",
      "\n",
      "\n",
      "Epoch:   7%|▋         | 2/30 [00:02<00:36,  1.29s/it]\u001b[A\u001b[A\u001b[A"
     ]
    },
    {
     "name": "stdout",
     "output_type": "stream",
     "text": [
      "2019-08-13 07:26:51,242 - biomed_ie - INFO - Train loss: 0.022496102295192003\n",
      "2019-08-13 07:26:51,339 - biomed_ie - INFO - Validation loss: 0.013592269796374122\n"
     ]
    },
    {
     "name": "stderr",
     "output_type": "stream",
     "text": [
      "\n",
      "\n",
      "\n",
      "Epoch:  10%|█         | 3/30 [00:03<00:34,  1.28s/it]\u001b[A\u001b[A\u001b[A"
     ]
    },
    {
     "name": "stdout",
     "output_type": "stream",
     "text": [
      "2019-08-13 07:26:52,489 - biomed_ie - INFO - Train loss: 0.01462352865838946\n",
      "2019-08-13 07:26:52,586 - biomed_ie - INFO - Validation loss: 0.013294717645933327\n"
     ]
    },
    {
     "name": "stderr",
     "output_type": "stream",
     "text": [
      "\n",
      "\n",
      "\n",
      "Epoch:  13%|█▎        | 4/30 [00:05<00:33,  1.27s/it]\u001b[A\u001b[A\u001b[A"
     ]
    },
    {
     "name": "stdout",
     "output_type": "stream",
     "text": [
      "2019-08-13 07:26:53,738 - biomed_ie - INFO - Train loss: 0.010571684206611124\n",
      "2019-08-13 07:26:53,836 - biomed_ie - INFO - Validation loss: 0.014373351118831732\n"
     ]
    },
    {
     "name": "stderr",
     "output_type": "stream",
     "text": [
      "\n",
      "\n",
      "\n",
      "Epoch:  17%|█▋        | 5/30 [00:06<00:31,  1.26s/it]\u001b[A\u001b[A\u001b[A"
     ]
    },
    {
     "name": "stdout",
     "output_type": "stream",
     "text": [
      "2019-08-13 07:26:54,996 - biomed_ie - INFO - Train loss: 0.007852747476673479\n",
      "2019-08-13 07:26:55,093 - biomed_ie - INFO - Validation loss: 0.013862350052426106\n"
     ]
    },
    {
     "name": "stderr",
     "output_type": "stream",
     "text": [
      "\n",
      "\n",
      "\n",
      "Epoch:  20%|██        | 6/30 [00:07<00:30,  1.26s/it]\u001b[A\u001b[A\u001b[A"
     ]
    },
    {
     "name": "stdout",
     "output_type": "stream",
     "text": [
      "2019-08-13 07:26:56,248 - biomed_ie - INFO - Train loss: 0.004688843114420845\n",
      "2019-08-13 07:26:56,346 - biomed_ie - INFO - Validation loss: 0.01599178071467614\n",
      "2019-08-13 07:27:26,830 - biomed_ie - INFO - Performance: {'_f1_score': 0.4326396495071194}\n",
      "2019-08-13 07:27:26,831 - biomed_ie - INFO - Active learning iteration: #4\n",
      "2019-08-13 07:27:32,693 - biomed_ie - INFO - Full finetuning: True\n",
      "2019-08-13 07:27:32,697 - biomed_ie - INFO - N parameters: 108314886\n"
     ]
    },
    {
     "name": "stderr",
     "output_type": "stream",
     "text": [
      "\n",
      "\n",
      "\n",
      "\n",
      "Epoch:   0%|          | 0/30 [00:00<?, ?it/s]\u001b[A\u001b[A\u001b[A\u001b[A"
     ]
    },
    {
     "name": "stdout",
     "output_type": "stream",
     "text": [
      "2019-08-13 07:27:34,117 - biomed_ie - INFO - Train loss: 0.06567121548094872\n",
      "2019-08-13 07:27:34,225 - biomed_ie - INFO - Validation loss: 0.030677711009441666\n"
     ]
    },
    {
     "name": "stderr",
     "output_type": "stream",
     "text": [
      "\n",
      "\n",
      "\n",
      "\n",
      "Epoch:   3%|▎         | 1/30 [00:01<00:43,  1.51s/it]\u001b[A\u001b[A\u001b[A\u001b[A"
     ]
    },
    {
     "name": "stdout",
     "output_type": "stream",
     "text": [
      "2019-08-13 07:27:35,615 - biomed_ie - INFO - Train loss: 0.0291154999906116\n",
      "2019-08-13 07:27:35,722 - biomed_ie - INFO - Validation loss: 0.014306884293984487\n"
     ]
    },
    {
     "name": "stderr",
     "output_type": "stream",
     "text": [
      "\n",
      "\n",
      "\n",
      "\n",
      "Epoch:   7%|▋         | 2/30 [00:03<00:42,  1.50s/it]\u001b[A\u001b[A\u001b[A\u001b[A"
     ]
    },
    {
     "name": "stdout",
     "output_type": "stream",
     "text": [
      "2019-08-13 07:27:37,109 - biomed_ie - INFO - Train loss: 0.018194488566010754\n",
      "2019-08-13 07:27:37,216 - biomed_ie - INFO - Validation loss: 0.010546515508506228\n"
     ]
    },
    {
     "name": "stderr",
     "output_type": "stream",
     "text": [
      "\n",
      "\n",
      "\n",
      "\n",
      "Epoch:  10%|█         | 3/30 [00:04<00:40,  1.50s/it]\u001b[A\u001b[A\u001b[A\u001b[A"
     ]
    },
    {
     "name": "stdout",
     "output_type": "stream",
     "text": [
      "2019-08-13 07:27:38,639 - biomed_ie - INFO - Train loss: 0.012187781529684794\n",
      "2019-08-13 07:27:38,745 - biomed_ie - INFO - Validation loss: 0.01063186035528975\n"
     ]
    },
    {
     "name": "stderr",
     "output_type": "stream",
     "text": [
      "\n",
      "\n",
      "\n",
      "\n",
      "Epoch:  13%|█▎        | 4/30 [00:06<00:39,  1.51s/it]\u001b[A\u001b[A\u001b[A\u001b[A"
     ]
    },
    {
     "name": "stdout",
     "output_type": "stream",
     "text": [
      "2019-08-13 07:27:40,170 - biomed_ie - INFO - Train loss: 0.008966186613814289\n",
      "2019-08-13 07:27:40,277 - biomed_ie - INFO - Validation loss: 0.01177620793679118\n"
     ]
    },
    {
     "name": "stderr",
     "output_type": "stream",
     "text": [
      "\n",
      "\n",
      "\n",
      "\n",
      "Epoch:  17%|█▋        | 5/30 [00:07<00:37,  1.52s/it]\u001b[A\u001b[A\u001b[A\u001b[A"
     ]
    },
    {
     "name": "stdout",
     "output_type": "stream",
     "text": [
      "2019-08-13 07:27:41,689 - biomed_ie - INFO - Train loss: 0.006572557616764044\n",
      "2019-08-13 07:27:41,796 - biomed_ie - INFO - Validation loss: 0.012574616745422316\n",
      "2019-08-13 07:28:12,407 - biomed_ie - INFO - Performance: {'_f1_score': 0.4786455674663944}\n",
      "2019-08-13 07:28:12,408 - biomed_ie - INFO - Active learning iteration: #5\n",
      "2019-08-13 07:28:18,185 - biomed_ie - INFO - Full finetuning: True\n",
      "2019-08-13 07:28:18,189 - biomed_ie - INFO - N parameters: 108314886\n"
     ]
    },
    {
     "name": "stderr",
     "output_type": "stream",
     "text": [
      "\n",
      "\n",
      "\n",
      "\n",
      "\n",
      "Epoch:   0%|          | 0/30 [00:00<?, ?it/s]\u001b[A\u001b[A\u001b[A\u001b[A\u001b[A"
     ]
    },
    {
     "name": "stdout",
     "output_type": "stream",
     "text": [
      "2019-08-13 07:28:19,796 - biomed_ie - INFO - Train loss: 0.057370683034261065\n",
      "2019-08-13 07:28:19,921 - biomed_ie - INFO - Validation loss: 0.016922364457359937\n"
     ]
    },
    {
     "name": "stderr",
     "output_type": "stream",
     "text": [
      "\n",
      "\n",
      "\n",
      "\n",
      "\n",
      "Epoch:   3%|▎         | 1/30 [00:01<00:49,  1.71s/it]\u001b[A\u001b[A\u001b[A\u001b[A\u001b[A"
     ]
    },
    {
     "name": "stdout",
     "output_type": "stream",
     "text": [
      "2019-08-13 07:28:21,444 - biomed_ie - INFO - Train loss: 0.02375527795155843\n",
      "2019-08-13 07:28:21,568 - biomed_ie - INFO - Validation loss: 0.009680366972769194\n"
     ]
    },
    {
     "name": "stderr",
     "output_type": "stream",
     "text": [
      "\n",
      "\n",
      "\n",
      "\n",
      "\n",
      "Epoch:   7%|▋         | 2/30 [00:03<00:47,  1.69s/it]\u001b[A\u001b[A\u001b[A\u001b[A\u001b[A"
     ]
    },
    {
     "name": "stdout",
     "output_type": "stream",
     "text": [
      "2019-08-13 07:28:23,074 - biomed_ie - INFO - Train loss: 0.014505427837371826\n",
      "2019-08-13 07:28:23,200 - biomed_ie - INFO - Validation loss: 0.008071792836464737\n"
     ]
    },
    {
     "name": "stderr",
     "output_type": "stream",
     "text": [
      "\n",
      "\n",
      "\n",
      "\n",
      "\n",
      "Epoch:  10%|█         | 3/30 [00:04<00:45,  1.67s/it]\u001b[A\u001b[A\u001b[A\u001b[A\u001b[A"
     ]
    },
    {
     "name": "stdout",
     "output_type": "stream",
     "text": [
      "2019-08-13 07:28:24,751 - biomed_ie - INFO - Train loss: 0.009570871194203695\n",
      "2019-08-13 07:28:24,877 - biomed_ie - INFO - Validation loss: 0.008598534384000657\n"
     ]
    },
    {
     "name": "stderr",
     "output_type": "stream",
     "text": [
      "\n",
      "\n",
      "\n",
      "\n",
      "\n",
      "Epoch:  13%|█▎        | 4/30 [00:06<00:43,  1.67s/it]\u001b[A\u001b[A\u001b[A\u001b[A\u001b[A"
     ]
    },
    {
     "name": "stdout",
     "output_type": "stream",
     "text": [
      "2019-08-13 07:28:26,440 - biomed_ie - INFO - Train loss: 0.006050043900807699\n",
      "2019-08-13 07:28:26,564 - biomed_ie - INFO - Validation loss: 0.00759403500101763\n"
     ]
    },
    {
     "name": "stderr",
     "output_type": "stream",
     "text": [
      "\n",
      "\n",
      "\n",
      "\n",
      "\n",
      "Epoch:  17%|█▋        | 5/30 [00:08<00:41,  1.68s/it]\u001b[A\u001b[A\u001b[A\u001b[A\u001b[A"
     ]
    },
    {
     "name": "stdout",
     "output_type": "stream",
     "text": [
      "2019-08-13 07:28:28,070 - biomed_ie - INFO - Train loss: 0.004150075395901998\n",
      "2019-08-13 07:28:28,195 - biomed_ie - INFO - Validation loss: 0.008554454198913292\n"
     ]
    },
    {
     "name": "stderr",
     "output_type": "stream",
     "text": [
      "\n",
      "\n",
      "\n",
      "\n",
      "\n",
      "Epoch:  20%|██        | 6/30 [00:09<00:39,  1.66s/it]\u001b[A\u001b[A\u001b[A\u001b[A\u001b[A"
     ]
    },
    {
     "name": "stdout",
     "output_type": "stream",
     "text": [
      "2019-08-13 07:28:29,707 - biomed_ie - INFO - Train loss: 0.0034970692396163942\n",
      "2019-08-13 07:28:29,832 - biomed_ie - INFO - Validation loss: 0.012591384537690651\n"
     ]
    },
    {
     "name": "stderr",
     "output_type": "stream",
     "text": [
      "\n",
      "\n",
      "\n",
      "\n",
      "\n",
      "Epoch:  23%|██▎       | 7/30 [00:11<00:38,  1.66s/it]\u001b[A\u001b[A\u001b[A\u001b[A\u001b[A"
     ]
    },
    {
     "name": "stdout",
     "output_type": "stream",
     "text": [
      "2019-08-13 07:28:31,344 - biomed_ie - INFO - Train loss: 0.0024412251512209576\n",
      "2019-08-13 07:28:31,469 - biomed_ie - INFO - Validation loss: 0.010895001729918662\n",
      "2019-08-13 07:29:01,836 - biomed_ie - INFO - Performance: {'_f1_score': 0.5414206817749}\n",
      "2019-08-13 07:29:01,837 - biomed_ie - INFO - Active learning iteration: #6\n",
      "2019-08-13 07:29:07,626 - biomed_ie - INFO - Full finetuning: True\n",
      "2019-08-13 07:29:07,630 - biomed_ie - INFO - N parameters: 108314886\n"
     ]
    },
    {
     "name": "stderr",
     "output_type": "stream",
     "text": [
      "\n",
      "\n",
      "\n",
      "\n",
      "\n",
      "\n",
      "Epoch:   0%|          | 0/30 [00:00<?, ?it/s]\u001b[A\u001b[A\u001b[A\u001b[A\u001b[A\u001b[A"
     ]
    },
    {
     "name": "stdout",
     "output_type": "stream",
     "text": [
      "2019-08-13 07:29:09,412 - biomed_ie - INFO - Train loss: 0.06584597498496503\n",
      "2019-08-13 07:29:09,571 - biomed_ie - INFO - Validation loss: 0.014078404222215925\n"
     ]
    },
    {
     "name": "stderr",
     "output_type": "stream",
     "text": [
      "\n",
      "\n",
      "\n",
      "\n",
      "\n",
      "\n",
      "Epoch:   3%|▎         | 1/30 [00:01<00:55,  1.91s/it]\u001b[A\u001b[A\u001b[A\u001b[A\u001b[A\u001b[A"
     ]
    },
    {
     "name": "stdout",
     "output_type": "stream",
     "text": [
      "2019-08-13 07:29:11,318 - biomed_ie - INFO - Train loss: 0.02280818007052279\n",
      "2019-08-13 07:29:11,458 - biomed_ie - INFO - Validation loss: 0.010326609040706727\n"
     ]
    },
    {
     "name": "stderr",
     "output_type": "stream",
     "text": [
      "\n",
      "\n",
      "\n",
      "\n",
      "\n",
      "\n",
      "Epoch:   7%|▋         | 2/30 [00:03<00:53,  1.91s/it]\u001b[A\u001b[A\u001b[A\u001b[A\u001b[A\u001b[A"
     ]
    },
    {
     "name": "stdout",
     "output_type": "stream",
     "text": [
      "2019-08-13 07:29:13,258 - biomed_ie - INFO - Train loss: 0.015527593855574109\n",
      "2019-08-13 07:29:13,398 - biomed_ie - INFO - Validation loss: 0.0061670466542311266\n"
     ]
    },
    {
     "name": "stderr",
     "output_type": "stream",
     "text": [
      "\n",
      "\n",
      "\n",
      "\n",
      "\n",
      "\n",
      "Epoch:  10%|█         | 3/30 [00:05<00:51,  1.92s/it]\u001b[A\u001b[A\u001b[A\u001b[A\u001b[A\u001b[A"
     ]
    },
    {
     "name": "stdout",
     "output_type": "stream",
     "text": [
      "2019-08-13 07:29:15,224 - biomed_ie - INFO - Train loss: 0.011351946077676249\n",
      "2019-08-13 07:29:15,363 - biomed_ie - INFO - Validation loss: 0.012829877911550993\n"
     ]
    },
    {
     "name": "stderr",
     "output_type": "stream",
     "text": [
      "\n",
      "\n",
      "\n",
      "\n",
      "\n",
      "\n",
      "Epoch:  13%|█▎        | 4/30 [00:07<00:50,  1.93s/it]\u001b[A\u001b[A\u001b[A\u001b[A\u001b[A\u001b[A"
     ]
    },
    {
     "name": "stdout",
     "output_type": "stream",
     "text": [
      "2019-08-13 07:29:17,180 - biomed_ie - INFO - Train loss: 0.01248216317475737\n",
      "2019-08-13 07:29:17,319 - biomed_ie - INFO - Validation loss: 0.005948662185722794\n"
     ]
    },
    {
     "name": "stderr",
     "output_type": "stream",
     "text": [
      "\n",
      "\n",
      "\n",
      "\n",
      "\n",
      "\n",
      "Epoch:  17%|█▋        | 5/30 [00:09<00:48,  1.94s/it]\u001b[A\u001b[A\u001b[A\u001b[A\u001b[A\u001b[A"
     ]
    },
    {
     "name": "stdout",
     "output_type": "stream",
     "text": [
      "2019-08-13 07:29:19,128 - biomed_ie - INFO - Train loss: 0.00711954155824654\n",
      "2019-08-13 07:29:19,268 - biomed_ie - INFO - Validation loss: 0.007611184151141675\n"
     ]
    },
    {
     "name": "stderr",
     "output_type": "stream",
     "text": [
      "\n",
      "\n",
      "\n",
      "\n",
      "\n",
      "\n",
      "Epoch:  20%|██        | 6/30 [00:11<00:46,  1.94s/it]\u001b[A\u001b[A\u001b[A\u001b[A\u001b[A\u001b[A"
     ]
    },
    {
     "name": "stdout",
     "output_type": "stream",
     "text": [
      "2019-08-13 07:29:20,999 - biomed_ie - INFO - Train loss: 0.005048931421175381\n",
      "2019-08-13 07:29:21,139 - biomed_ie - INFO - Validation loss: 0.007797101168629815\n"
     ]
    },
    {
     "name": "stderr",
     "output_type": "stream",
     "text": [
      "\n",
      "\n",
      "\n",
      "\n",
      "\n",
      "\n",
      "Epoch:  23%|██▎       | 7/30 [00:13<00:44,  1.92s/it]\u001b[A\u001b[A\u001b[A\u001b[A\u001b[A\u001b[A"
     ]
    },
    {
     "name": "stdout",
     "output_type": "stream",
     "text": [
      "2019-08-13 07:29:22,869 - biomed_ie - INFO - Train loss: 0.0028533818256490633\n",
      "2019-08-13 07:29:23,009 - biomed_ie - INFO - Validation loss: 0.010006251744400101\n",
      "2019-08-13 07:29:53,314 - biomed_ie - INFO - Performance: {'_f1_score': 0.5016770918321095}\n",
      "2019-08-13 07:29:53,315 - biomed_ie - INFO - Active learning iteration: #7\n",
      "2019-08-13 07:29:59,125 - biomed_ie - INFO - Full finetuning: True\n",
      "2019-08-13 07:29:59,129 - biomed_ie - INFO - N parameters: 108314886\n"
     ]
    },
    {
     "name": "stderr",
     "output_type": "stream",
     "text": [
      "\n",
      "\n",
      "\n",
      "\n",
      "\n",
      "\n",
      "\n",
      "Epoch:   0%|          | 0/30 [00:00<?, ?it/s]\u001b[A\u001b[A\u001b[A\u001b[A\u001b[A\u001b[A\u001b[A"
     ]
    },
    {
     "name": "stdout",
     "output_type": "stream",
     "text": [
      "2019-08-13 07:30:01,108 - biomed_ie - INFO - Train loss: 0.057879293716194796\n",
      "2019-08-13 07:30:01,264 - biomed_ie - INFO - Validation loss: 0.015383912332402834\n"
     ]
    },
    {
     "name": "stderr",
     "output_type": "stream",
     "text": [
      "\n",
      "\n",
      "\n",
      "\n",
      "\n",
      "\n",
      "\n",
      "Epoch:   3%|▎         | 1/30 [00:02<01:01,  2.11s/it]\u001b[A\u001b[A\u001b[A\u001b[A\u001b[A\u001b[A\u001b[A"
     ]
    },
    {
     "name": "stdout",
     "output_type": "stream",
     "text": [
      "2019-08-13 07:30:03,186 - biomed_ie - INFO - Train loss: 0.020380278830012297\n",
      "2019-08-13 07:30:03,343 - biomed_ie - INFO - Validation loss: 0.007647533086860704\n"
     ]
    },
    {
     "name": "stderr",
     "output_type": "stream",
     "text": [
      "\n",
      "\n",
      "\n",
      "\n",
      "\n",
      "\n",
      "\n",
      "Epoch:   7%|▋         | 2/30 [00:04<00:58,  2.10s/it]\u001b[A\u001b[A\u001b[A\u001b[A\u001b[A\u001b[A\u001b[A"
     ]
    },
    {
     "name": "stdout",
     "output_type": "stream",
     "text": [
      "2019-08-13 07:30:05,289 - biomed_ie - INFO - Train loss: 0.012012427282201076\n",
      "2019-08-13 07:30:05,444 - biomed_ie - INFO - Validation loss: 0.0065173757900981785\n"
     ]
    },
    {
     "name": "stderr",
     "output_type": "stream",
     "text": [
      "\n",
      "\n",
      "\n",
      "\n",
      "\n",
      "\n",
      "\n",
      "Epoch:  10%|█         | 3/30 [00:06<00:56,  2.10s/it]\u001b[A\u001b[A\u001b[A\u001b[A\u001b[A\u001b[A\u001b[A"
     ]
    },
    {
     "name": "stdout",
     "output_type": "stream",
     "text": [
      "2019-08-13 07:30:07,382 - biomed_ie - INFO - Train loss: 0.008319821969129431\n",
      "2019-08-13 07:30:07,537 - biomed_ie - INFO - Validation loss: 0.006468864356946645\n"
     ]
    },
    {
     "name": "stderr",
     "output_type": "stream",
     "text": [
      "\n",
      "\n",
      "\n",
      "\n",
      "\n",
      "\n",
      "\n",
      "Epoch:  13%|█▎        | 4/30 [00:08<00:54,  2.10s/it]\u001b[A\u001b[A\u001b[A\u001b[A\u001b[A\u001b[A\u001b[A"
     ]
    },
    {
     "name": "stdout",
     "output_type": "stream",
     "text": [
      "2019-08-13 07:30:09,461 - biomed_ie - INFO - Train loss: 0.00533893722132752\n",
      "2019-08-13 07:30:09,616 - biomed_ie - INFO - Validation loss: 0.008363717007187178\n"
     ]
    },
    {
     "name": "stderr",
     "output_type": "stream",
     "text": [
      "\n",
      "\n",
      "\n",
      "\n",
      "\n",
      "\n",
      "\n",
      "Epoch:  17%|█▋        | 5/30 [00:10<00:52,  2.09s/it]\u001b[A\u001b[A\u001b[A\u001b[A\u001b[A\u001b[A\u001b[A"
     ]
    },
    {
     "name": "stdout",
     "output_type": "stream",
     "text": [
      "2019-08-13 07:30:11,477 - biomed_ie - INFO - Train loss: 0.0033414921399576533\n",
      "2019-08-13 07:30:11,633 - biomed_ie - INFO - Validation loss: 0.007613436980817303\n"
     ]
    },
    {
     "name": "stderr",
     "output_type": "stream",
     "text": [
      "\n",
      "\n",
      "\n",
      "\n",
      "\n",
      "\n",
      "\n",
      "Epoch:  20%|██        | 6/30 [00:12<00:49,  2.07s/it]\u001b[A\u001b[A\u001b[A\u001b[A\u001b[A\u001b[A\u001b[A"
     ]
    },
    {
     "name": "stdout",
     "output_type": "stream",
     "text": [
      "2019-08-13 07:30:13,555 - biomed_ie - INFO - Train loss: 0.0019648471227771366\n",
      "2019-08-13 07:30:13,710 - biomed_ie - INFO - Validation loss: 0.010790911110692053\n",
      "2019-08-13 07:30:44,013 - biomed_ie - INFO - Performance: {'_f1_score': 0.5311489095272879}\n",
      "2019-08-13 07:30:44,014 - biomed_ie - INFO - Active learning iteration: #8\n",
      "2019-08-13 07:30:49,832 - biomed_ie - INFO - Full finetuning: True\n",
      "2019-08-13 07:30:49,836 - biomed_ie - INFO - N parameters: 108314886\n"
     ]
    },
    {
     "name": "stderr",
     "output_type": "stream",
     "text": [
      "\n",
      "\n",
      "\n",
      "\n",
      "\n",
      "\n",
      "\n",
      "\n",
      "Epoch:   0%|          | 0/30 [00:00<?, ?it/s]\u001b[A\u001b[A\u001b[A\u001b[A\u001b[A\u001b[A\u001b[A\u001b[A"
     ]
    },
    {
     "name": "stdout",
     "output_type": "stream",
     "text": [
      "2019-08-13 07:30:52,041 - biomed_ie - INFO - Train loss: 0.046063609119188414\n",
      "2019-08-13 07:30:52,215 - biomed_ie - INFO - Validation loss: 0.007608814993544786\n"
     ]
    },
    {
     "name": "stderr",
     "output_type": "stream",
     "text": [
      "\n",
      "\n",
      "\n",
      "\n",
      "\n",
      "\n",
      "\n",
      "\n",
      "Epoch:   3%|▎         | 1/30 [00:02<01:08,  2.35s/it]\u001b[A\u001b[A\u001b[A\u001b[A\u001b[A\u001b[A\u001b[A\u001b[A"
     ]
    },
    {
     "name": "stdout",
     "output_type": "stream",
     "text": [
      "2019-08-13 07:30:54,369 - biomed_ie - INFO - Train loss: 0.016285098909169776\n",
      "2019-08-13 07:30:54,541 - biomed_ie - INFO - Validation loss: 0.006482737463082062\n"
     ]
    },
    {
     "name": "stderr",
     "output_type": "stream",
     "text": [
      "\n",
      "\n",
      "\n",
      "\n",
      "\n",
      "\n",
      "\n",
      "\n",
      "Epoch:   7%|▋         | 2/30 [00:04<01:05,  2.34s/it]\u001b[A\u001b[A\u001b[A\u001b[A\u001b[A\u001b[A\u001b[A\u001b[A"
     ]
    },
    {
     "name": "stdout",
     "output_type": "stream",
     "text": [
      "2019-08-13 07:30:56,705 - biomed_ie - INFO - Train loss: 0.011336252878473074\n",
      "2019-08-13 07:30:56,879 - biomed_ie - INFO - Validation loss: 0.005760070813800694\n"
     ]
    },
    {
     "name": "stderr",
     "output_type": "stream",
     "text": [
      "\n",
      "\n",
      "\n",
      "\n",
      "\n",
      "\n",
      "\n",
      "\n",
      "Epoch:  10%|█         | 3/30 [00:07<01:03,  2.34s/it]\u001b[A\u001b[A\u001b[A\u001b[A\u001b[A\u001b[A\u001b[A\u001b[A"
     ]
    },
    {
     "name": "stdout",
     "output_type": "stream",
     "text": [
      "2019-08-13 07:30:59,050 - biomed_ie - INFO - Train loss: 0.00833692014646793\n",
      "2019-08-13 07:30:59,224 - biomed_ie - INFO - Validation loss: 0.005011776540602162\n"
     ]
    },
    {
     "name": "stderr",
     "output_type": "stream",
     "text": [
      "\n",
      "\n",
      "\n",
      "\n",
      "\n",
      "\n",
      "\n",
      "\n",
      "Epoch:  13%|█▎        | 4/30 [00:09<01:00,  2.34s/it]\u001b[A\u001b[A\u001b[A\u001b[A\u001b[A\u001b[A\u001b[A\u001b[A"
     ]
    },
    {
     "name": "stdout",
     "output_type": "stream",
     "text": [
      "2019-08-13 07:31:01,371 - biomed_ie - INFO - Train loss: 0.004685101055765509\n",
      "2019-08-13 07:31:01,544 - biomed_ie - INFO - Validation loss: 0.005675673959469497\n"
     ]
    },
    {
     "name": "stderr",
     "output_type": "stream",
     "text": [
      "\n",
      "\n",
      "\n",
      "\n",
      "\n",
      "\n",
      "\n",
      "\n",
      "Epoch:  17%|█▋        | 5/30 [00:11<00:58,  2.34s/it]\u001b[A\u001b[A\u001b[A\u001b[A\u001b[A\u001b[A\u001b[A\u001b[A"
     ]
    },
    {
     "name": "stdout",
     "output_type": "stream",
     "text": [
      "2019-08-13 07:31:03,692 - biomed_ie - INFO - Train loss: 0.002753985133998255\n",
      "2019-08-13 07:31:03,865 - biomed_ie - INFO - Validation loss: 0.006409805518097167\n"
     ]
    },
    {
     "name": "stderr",
     "output_type": "stream",
     "text": [
      "\n",
      "\n",
      "\n",
      "\n",
      "\n",
      "\n",
      "\n",
      "\n",
      "Epoch:  20%|██        | 6/30 [00:14<00:55,  2.33s/it]\u001b[A\u001b[A\u001b[A\u001b[A\u001b[A\u001b[A\u001b[A\u001b[A"
     ]
    },
    {
     "name": "stdout",
     "output_type": "stream",
     "text": [
      "2019-08-13 07:31:06,020 - biomed_ie - INFO - Train loss: 0.0018896517278170042\n",
      "2019-08-13 07:31:06,193 - biomed_ie - INFO - Validation loss: 0.0073618700344272306\n",
      "2019-08-13 07:31:36,495 - biomed_ie - INFO - Performance: {'_f1_score': 0.5690534668430001}\n",
      "2019-08-13 07:31:36,496 - biomed_ie - INFO - Active learning iteration: #9\n",
      "2019-08-13 07:31:42,298 - biomed_ie - INFO - Full finetuning: True\n",
      "2019-08-13 07:31:42,302 - biomed_ie - INFO - N parameters: 108314886\n"
     ]
    },
    {
     "name": "stderr",
     "output_type": "stream",
     "text": [
      "\n",
      "\n",
      "\n",
      "\n",
      "\n",
      "\n",
      "\n",
      "\n",
      "\n",
      "Epoch:   0%|          | 0/30 [00:00<?, ?it/s]\u001b[A\u001b[A\u001b[A\u001b[A\u001b[A\u001b[A\u001b[A\u001b[A\u001b[A"
     ]
    },
    {
     "name": "stdout",
     "output_type": "stream",
     "text": [
      "2019-08-13 07:31:44,746 - biomed_ie - INFO - Train loss: 0.045403456681835826\n",
      "2019-08-13 07:31:44,936 - biomed_ie - INFO - Validation loss: 0.008809351612528328\n"
     ]
    },
    {
     "name": "stderr",
     "output_type": "stream",
     "text": [
      "\n",
      "\n",
      "\n",
      "\n",
      "\n",
      "\n",
      "\n",
      "\n",
      "\n",
      "Epoch:   3%|▎         | 1/30 [00:02<01:15,  2.60s/it]\u001b[A\u001b[A\u001b[A\u001b[A\u001b[A\u001b[A\u001b[A\u001b[A\u001b[A"
     ]
    },
    {
     "name": "stdout",
     "output_type": "stream",
     "text": [
      "2019-08-13 07:31:47,323 - biomed_ie - INFO - Train loss: 0.017090204781455294\n",
      "2019-08-13 07:31:47,512 - biomed_ie - INFO - Validation loss: 0.006476996639466422\n"
     ]
    },
    {
     "name": "stderr",
     "output_type": "stream",
     "text": [
      "\n",
      "\n",
      "\n",
      "\n",
      "\n",
      "\n",
      "\n",
      "\n",
      "\n",
      "Epoch:   7%|▋         | 2/30 [00:05<01:12,  2.60s/it]\u001b[A\u001b[A\u001b[A\u001b[A\u001b[A\u001b[A\u001b[A\u001b[A\u001b[A"
     ]
    },
    {
     "name": "stdout",
     "output_type": "stream",
     "text": [
      "2019-08-13 07:31:49,898 - biomed_ie - INFO - Train loss: 0.013327497967999995\n",
      "2019-08-13 07:31:50,088 - biomed_ie - INFO - Validation loss: 0.0064930622217198725\n"
     ]
    },
    {
     "name": "stderr",
     "output_type": "stream",
     "text": [
      "\n",
      "\n",
      "\n",
      "\n",
      "\n",
      "\n",
      "\n",
      "\n",
      "\n",
      "Epoch:  10%|█         | 3/30 [00:07<01:09,  2.59s/it]\u001b[A\u001b[A\u001b[A\u001b[A\u001b[A\u001b[A\u001b[A\u001b[A\u001b[A"
     ]
    },
    {
     "name": "stdout",
     "output_type": "stream",
     "text": [
      "2019-08-13 07:31:52,471 - biomed_ie - INFO - Train loss: 0.011487950951119864\n",
      "2019-08-13 07:31:52,660 - biomed_ie - INFO - Validation loss: 0.005856935690932324\n"
     ]
    },
    {
     "name": "stderr",
     "output_type": "stream",
     "text": [
      "\n",
      "\n",
      "\n",
      "\n",
      "\n",
      "\n",
      "\n",
      "\n",
      "\n",
      "Epoch:  13%|█▎        | 4/30 [00:10<01:07,  2.58s/it]\u001b[A\u001b[A\u001b[A\u001b[A\u001b[A\u001b[A\u001b[A\u001b[A\u001b[A"
     ]
    },
    {
     "name": "stdout",
     "output_type": "stream",
     "text": [
      "2019-08-13 07:31:55,037 - biomed_ie - INFO - Train loss: 0.007994748379770565\n",
      "2019-08-13 07:31:55,227 - biomed_ie - INFO - Validation loss: 0.004797065806565171\n"
     ]
    },
    {
     "name": "stderr",
     "output_type": "stream",
     "text": [
      "\n",
      "\n",
      "\n",
      "\n",
      "\n",
      "\n",
      "\n",
      "\n",
      "\n",
      "Epoch:  17%|█▋        | 5/30 [00:12<01:04,  2.58s/it]\u001b[A\u001b[A\u001b[A\u001b[A\u001b[A\u001b[A\u001b[A\u001b[A\u001b[A"
     ]
    },
    {
     "name": "stdout",
     "output_type": "stream",
     "text": [
      "2019-08-13 07:31:57,600 - biomed_ie - INFO - Train loss: 0.004673824375747538\n",
      "2019-08-13 07:31:57,790 - biomed_ie - INFO - Validation loss: 0.006230025504001752\n"
     ]
    },
    {
     "name": "stderr",
     "output_type": "stream",
     "text": [
      "\n",
      "\n",
      "\n",
      "\n",
      "\n",
      "\n",
      "\n",
      "\n",
      "\n",
      "Epoch:  20%|██        | 6/30 [00:15<01:01,  2.57s/it]\u001b[A\u001b[A\u001b[A\u001b[A\u001b[A\u001b[A\u001b[A\u001b[A\u001b[A"
     ]
    },
    {
     "name": "stdout",
     "output_type": "stream",
     "text": [
      "2019-08-13 07:32:00,174 - biomed_ie - INFO - Train loss: 0.003499021600431244\n",
      "2019-08-13 07:32:00,364 - biomed_ie - INFO - Validation loss: 0.007828228304203945\n"
     ]
    },
    {
     "name": "stderr",
     "output_type": "stream",
     "text": [
      "\n",
      "\n",
      "\n",
      "\n",
      "\n",
      "\n",
      "\n",
      "\n",
      "\n",
      "Epoch:  23%|██▎       | 7/30 [00:18<00:59,  2.57s/it]\u001b[A\u001b[A\u001b[A\u001b[A\u001b[A\u001b[A\u001b[A\u001b[A\u001b[A"
     ]
    },
    {
     "name": "stdout",
     "output_type": "stream",
     "text": [
      "2019-08-13 07:32:02,749 - biomed_ie - INFO - Train loss: 0.002305295249836507\n",
      "2019-08-13 07:32:02,939 - biomed_ie - INFO - Validation loss: 0.008898568182767368\n",
      "2019-08-13 07:32:33,098 - biomed_ie - INFO - Performance: {'_f1_score': 0.5525395846185482}\n",
      "2019-08-13 07:32:33,099 - biomed_ie - INFO - Active learning iteration: #10\n",
      "2019-08-13 07:32:38,913 - biomed_ie - INFO - Full finetuning: True\n",
      "2019-08-13 07:32:38,917 - biomed_ie - INFO - N parameters: 108314886\n"
     ]
    },
    {
     "name": "stderr",
     "output_type": "stream",
     "text": [
      "\n",
      "\n",
      "\n",
      "\n",
      "\n",
      "\n",
      "\n",
      "\n",
      "\n",
      "\n",
      "Epoch:   0%|          | 0/30 [00:00<?, ?it/s]\u001b[A\u001b[A\u001b[A\u001b[A\u001b[A\u001b[A\u001b[A\u001b[A\u001b[A\u001b[A"
     ]
    },
    {
     "name": "stdout",
     "output_type": "stream",
     "text": [
      "2019-08-13 07:32:41,516 - biomed_ie - INFO - Train loss: 0.045103912702626044\n",
      "2019-08-13 07:32:41,720 - biomed_ie - INFO - Validation loss: 0.00677989465362453\n"
     ]
    },
    {
     "name": "stderr",
     "output_type": "stream",
     "text": [
      "\n",
      "\n",
      "\n",
      "\n",
      "\n",
      "\n",
      "\n",
      "\n",
      "\n",
      "\n",
      "Epoch:   3%|▎         | 1/30 [00:02<01:20,  2.77s/it]\u001b[A\u001b[A\u001b[A\u001b[A\u001b[A\u001b[A\u001b[A\u001b[A\u001b[A\u001b[A"
     ]
    },
    {
     "name": "stdout",
     "output_type": "stream",
     "text": [
      "2019-08-13 07:32:44,259 - biomed_ie - INFO - Train loss: 0.014638675464948674\n",
      "2019-08-13 07:32:44,464 - biomed_ie - INFO - Validation loss: 0.00500440795592811\n"
     ]
    },
    {
     "name": "stderr",
     "output_type": "stream",
     "text": [
      "\n",
      "\n",
      "\n",
      "\n",
      "\n",
      "\n",
      "\n",
      "\n",
      "\n",
      "\n",
      "Epoch:   7%|▋         | 2/30 [00:05<01:17,  2.76s/it]\u001b[A\u001b[A\u001b[A\u001b[A\u001b[A\u001b[A\u001b[A\u001b[A\u001b[A\u001b[A"
     ]
    },
    {
     "name": "stdout",
     "output_type": "stream",
     "text": [
      "2019-08-13 07:32:46,993 - biomed_ie - INFO - Train loss: 0.010038984238978732\n",
      "2019-08-13 07:32:47,196 - biomed_ie - INFO - Validation loss: 0.0043684463670866855\n"
     ]
    },
    {
     "name": "stderr",
     "output_type": "stream",
     "text": [
      "\n",
      "\n",
      "\n",
      "\n",
      "\n",
      "\n",
      "\n",
      "\n",
      "\n",
      "\n",
      "Epoch:  10%|█         | 3/30 [00:08<01:14,  2.75s/it]\u001b[A\u001b[A\u001b[A\u001b[A\u001b[A\u001b[A\u001b[A\u001b[A\u001b[A\u001b[A"
     ]
    },
    {
     "name": "stdout",
     "output_type": "stream",
     "text": [
      "2019-08-13 07:32:49,717 - biomed_ie - INFO - Train loss: 0.006997111754289833\n",
      "2019-08-13 07:32:49,920 - biomed_ie - INFO - Validation loss: 0.0055396806628188675\n"
     ]
    },
    {
     "name": "stderr",
     "output_type": "stream",
     "text": [
      "\n",
      "\n",
      "\n",
      "\n",
      "\n",
      "\n",
      "\n",
      "\n",
      "\n",
      "\n",
      "Epoch:  13%|█▎        | 4/30 [00:10<01:11,  2.74s/it]\u001b[A\u001b[A\u001b[A\u001b[A\u001b[A\u001b[A\u001b[A\u001b[A\u001b[A\u001b[A"
     ]
    },
    {
     "name": "stdout",
     "output_type": "stream",
     "text": [
      "2019-08-13 07:32:52,430 - biomed_ie - INFO - Train loss: 0.004419271068270155\n",
      "2019-08-13 07:32:52,632 - biomed_ie - INFO - Validation loss: 0.005243655080304103\n"
     ]
    },
    {
     "name": "stderr",
     "output_type": "stream",
     "text": [
      "\n",
      "\n",
      "\n",
      "\n",
      "\n",
      "\n",
      "\n",
      "\n",
      "\n",
      "\n",
      "Epoch:  17%|█▋        | 5/30 [00:13<01:08,  2.73s/it]\u001b[A\u001b[A\u001b[A\u001b[A\u001b[A\u001b[A\u001b[A\u001b[A\u001b[A\u001b[A"
     ]
    },
    {
     "name": "stdout",
     "output_type": "stream",
     "text": [
      "2019-08-13 07:32:55,141 - biomed_ie - INFO - Train loss: 0.0028784728618062127\n",
      "2019-08-13 07:32:55,344 - biomed_ie - INFO - Validation loss: 0.006113942861777072\n",
      "2019-08-13 07:33:25,417 - biomed_ie - INFO - Performance: {'_f1_score': 0.5595001983339946}\n",
      "2019-08-13 07:33:25,419 - biomed_ie - INFO - Active learning iteration: #11\n",
      "2019-08-13 07:33:31,242 - biomed_ie - INFO - Full finetuning: True\n",
      "2019-08-13 07:33:31,246 - biomed_ie - INFO - N parameters: 108314886\n"
     ]
    },
    {
     "name": "stderr",
     "output_type": "stream",
     "text": [
      "\n",
      "\n",
      "\n",
      "\n",
      "\n",
      "\n",
      "\n",
      "\n",
      "\n",
      "\n",
      "\n",
      "Epoch:   0%|          | 0/30 [00:00<?, ?it/s]\u001b[A\u001b[A\u001b[A\u001b[A\u001b[A\u001b[A\u001b[A\u001b[A\u001b[A\u001b[A\u001b[A"
     ]
    },
    {
     "name": "stdout",
     "output_type": "stream",
     "text": [
      "2019-08-13 07:33:34,063 - biomed_ie - INFO - Train loss: 0.037587035560618376\n",
      "2019-08-13 07:33:34,279 - biomed_ie - INFO - Validation loss: 0.0050275392046229585\n"
     ]
    },
    {
     "name": "stderr",
     "output_type": "stream",
     "text": [
      "\n",
      "\n",
      "\n",
      "\n",
      "\n",
      "\n",
      "\n",
      "\n",
      "\n",
      "\n",
      "\n",
      "Epoch:   3%|▎         | 1/30 [00:02<01:26,  3.00s/it]\u001b[A\u001b[A\u001b[A\u001b[A\u001b[A\u001b[A\u001b[A\u001b[A\u001b[A\u001b[A\u001b[A"
     ]
    },
    {
     "name": "stdout",
     "output_type": "stream",
     "text": [
      "2019-08-13 07:33:37,048 - biomed_ie - INFO - Train loss: 0.014750220003380315\n",
      "2019-08-13 07:33:37,264 - biomed_ie - INFO - Validation loss: 0.004245906193159626\n"
     ]
    },
    {
     "name": "stderr",
     "output_type": "stream",
     "text": [
      "\n",
      "\n",
      "\n",
      "\n",
      "\n",
      "\n",
      "\n",
      "\n",
      "\n",
      "\n",
      "\n",
      "Epoch:   7%|▋         | 2/30 [00:05<01:23,  2.99s/it]\u001b[A\u001b[A\u001b[A\u001b[A\u001b[A\u001b[A\u001b[A\u001b[A\u001b[A\u001b[A\u001b[A"
     ]
    },
    {
     "name": "stdout",
     "output_type": "stream",
     "text": [
      "2019-08-13 07:33:40,009 - biomed_ie - INFO - Train loss: 0.011272363478364673\n",
      "2019-08-13 07:33:40,227 - biomed_ie - INFO - Validation loss: 0.00396114136471838\n"
     ]
    },
    {
     "name": "stderr",
     "output_type": "stream",
     "text": [
      "\n",
      "\n",
      "\n",
      "\n",
      "\n",
      "\n",
      "\n",
      "\n",
      "\n",
      "\n",
      "\n",
      "Epoch:  10%|█         | 3/30 [00:08<01:20,  2.98s/it]\u001b[A\u001b[A\u001b[A\u001b[A\u001b[A\u001b[A\u001b[A\u001b[A\u001b[A\u001b[A\u001b[A"
     ]
    },
    {
     "name": "stdout",
     "output_type": "stream",
     "text": [
      "2019-08-13 07:33:43,012 - biomed_ie - INFO - Train loss: 0.0066008420025081595\n",
      "2019-08-13 07:33:43,229 - biomed_ie - INFO - Validation loss: 0.004390216392874522\n"
     ]
    },
    {
     "name": "stderr",
     "output_type": "stream",
     "text": [
      "\n",
      "\n",
      "\n",
      "\n",
      "\n",
      "\n",
      "\n",
      "\n",
      "\n",
      "\n",
      "\n",
      "Epoch:  13%|█▎        | 4/30 [00:11<01:17,  2.99s/it]\u001b[A\u001b[A\u001b[A\u001b[A\u001b[A\u001b[A\u001b[A\u001b[A\u001b[A\u001b[A\u001b[A"
     ]
    },
    {
     "name": "stdout",
     "output_type": "stream",
     "text": [
      "2019-08-13 07:33:46,016 - biomed_ie - INFO - Train loss: 0.0043354154077977275\n",
      "2019-08-13 07:33:46,233 - biomed_ie - INFO - Validation loss: 0.0045887444995488715\n"
     ]
    },
    {
     "name": "stderr",
     "output_type": "stream",
     "text": [
      "\n",
      "\n",
      "\n",
      "\n",
      "\n",
      "\n",
      "\n",
      "\n",
      "\n",
      "\n",
      "\n",
      "Epoch:  17%|█▋        | 5/30 [00:14<01:14,  2.99s/it]\u001b[A\u001b[A\u001b[A\u001b[A\u001b[A\u001b[A\u001b[A\u001b[A\u001b[A\u001b[A\u001b[A"
     ]
    },
    {
     "name": "stdout",
     "output_type": "stream",
     "text": [
      "2019-08-13 07:33:48,991 - biomed_ie - INFO - Train loss: 0.002490652633307336\n",
      "2019-08-13 07:33:49,209 - biomed_ie - INFO - Validation loss: 0.006413608740281445\n",
      "2019-08-13 07:34:19,234 - biomed_ie - INFO - Performance: {'_f1_score': 0.568920282542886}\n",
      "2019-08-13 07:34:19,235 - biomed_ie - INFO - Active learning iteration: #12\n",
      "2019-08-13 07:34:24,985 - biomed_ie - INFO - Full finetuning: True\n",
      "2019-08-13 07:34:24,990 - biomed_ie - INFO - N parameters: 108314886\n"
     ]
    },
    {
     "name": "stderr",
     "output_type": "stream",
     "text": [
      "\n",
      "\n",
      "\n",
      "\n",
      "\n",
      "\n",
      "\n",
      "\n",
      "\n",
      "\n",
      "\n",
      "\n",
      "Epoch:   0%|          | 0/30 [00:00<?, ?it/s]\u001b[A\u001b[A\u001b[A\u001b[A\u001b[A\u001b[A\u001b[A\u001b[A\u001b[A\u001b[A\u001b[A\u001b[A"
     ]
    },
    {
     "name": "stdout",
     "output_type": "stream",
     "text": [
      "2019-08-13 07:34:27,950 - biomed_ie - INFO - Train loss: 0.046763443311644094\n",
      "2019-08-13 07:34:28,183 - biomed_ie - INFO - Validation loss: 0.005684813850351166\n"
     ]
    },
    {
     "name": "stderr",
     "output_type": "stream",
     "text": [
      "\n",
      "\n",
      "\n",
      "\n",
      "\n",
      "\n",
      "\n",
      "\n",
      "\n",
      "\n",
      "\n",
      "\n",
      "Epoch:   3%|▎         | 1/30 [00:03<01:31,  3.16s/it]\u001b[A\u001b[A\u001b[A\u001b[A\u001b[A\u001b[A\u001b[A\u001b[A\u001b[A\u001b[A\u001b[A\u001b[A"
     ]
    },
    {
     "name": "stdout",
     "output_type": "stream",
     "text": [
      "2019-08-13 07:34:30,986 - biomed_ie - INFO - Train loss: 0.016512239824834688\n",
      "2019-08-13 07:34:31,218 - biomed_ie - INFO - Validation loss: 0.004821520178187063\n"
     ]
    },
    {
     "name": "stderr",
     "output_type": "stream",
     "text": [
      "\n",
      "\n",
      "\n",
      "\n",
      "\n",
      "\n",
      "\n",
      "\n",
      "\n",
      "\n",
      "\n",
      "\n",
      "Epoch:   7%|▋         | 2/30 [00:06<01:27,  3.12s/it]\u001b[A\u001b[A\u001b[A\u001b[A\u001b[A\u001b[A\u001b[A\u001b[A\u001b[A\u001b[A\u001b[A\u001b[A"
     ]
    },
    {
     "name": "stdout",
     "output_type": "stream",
     "text": [
      "2019-08-13 07:34:34,017 - biomed_ie - INFO - Train loss: 0.012058614902778864\n",
      "2019-08-13 07:34:34,251 - biomed_ie - INFO - Validation loss: 0.0036913021961668545\n"
     ]
    },
    {
     "name": "stderr",
     "output_type": "stream",
     "text": [
      "\n",
      "\n",
      "\n",
      "\n",
      "\n",
      "\n",
      "\n",
      "\n",
      "\n",
      "\n",
      "\n",
      "\n",
      "Epoch:  10%|█         | 3/30 [00:09<01:23,  3.09s/it]\u001b[A\u001b[A\u001b[A\u001b[A\u001b[A\u001b[A\u001b[A\u001b[A\u001b[A\u001b[A\u001b[A\u001b[A"
     ]
    },
    {
     "name": "stdout",
     "output_type": "stream",
     "text": [
      "2019-08-13 07:34:37,044 - biomed_ie - INFO - Train loss: 0.008028497336878672\n",
      "2019-08-13 07:34:37,277 - biomed_ie - INFO - Validation loss: 0.0037469345434345274\n"
     ]
    },
    {
     "name": "stderr",
     "output_type": "stream",
     "text": [
      "\n",
      "\n",
      "\n",
      "\n",
      "\n",
      "\n",
      "\n",
      "\n",
      "\n",
      "\n",
      "\n",
      "\n",
      "Epoch:  13%|█▎        | 4/30 [00:12<01:19,  3.07s/it]\u001b[A\u001b[A\u001b[A\u001b[A\u001b[A\u001b[A\u001b[A\u001b[A\u001b[A\u001b[A\u001b[A\u001b[A"
     ]
    },
    {
     "name": "stdout",
     "output_type": "stream",
     "text": [
      "2019-08-13 07:34:40,071 - biomed_ie - INFO - Train loss: 0.005094631368263032\n",
      "2019-08-13 07:34:40,304 - biomed_ie - INFO - Validation loss: 0.004056675529192946\n"
     ]
    },
    {
     "name": "stderr",
     "output_type": "stream",
     "text": [
      "\n",
      "\n",
      "\n",
      "\n",
      "\n",
      "\n",
      "\n",
      "\n",
      "\n",
      "\n",
      "\n",
      "\n",
      "Epoch:  17%|█▋        | 5/30 [00:15<01:16,  3.06s/it]\u001b[A\u001b[A\u001b[A\u001b[A\u001b[A\u001b[A\u001b[A\u001b[A\u001b[A\u001b[A\u001b[A\u001b[A"
     ]
    },
    {
     "name": "stdout",
     "output_type": "stream",
     "text": [
      "2019-08-13 07:34:43,094 - biomed_ie - INFO - Train loss: 0.0028613124577123454\n",
      "2019-08-13 07:34:43,328 - biomed_ie - INFO - Validation loss: 0.004571394601022506\n",
      "2019-08-13 07:35:13,250 - biomed_ie - INFO - Performance: {'_f1_score': 0.5746753246753247}\n",
      "2019-08-13 07:35:13,251 - biomed_ie - INFO - Active learning iteration: #13\n",
      "2019-08-13 07:35:19,047 - biomed_ie - INFO - Full finetuning: True\n",
      "2019-08-13 07:35:19,051 - biomed_ie - INFO - N parameters: 108314886\n"
     ]
    },
    {
     "name": "stderr",
     "output_type": "stream",
     "text": [
      "\n",
      "\n",
      "\n",
      "\n",
      "\n",
      "\n",
      "\n",
      "\n",
      "\n",
      "\n",
      "\n",
      "\n",
      "\n",
      "Epoch:   0%|          | 0/30 [00:00<?, ?it/s]\u001b[A\u001b[A\u001b[A\u001b[A\u001b[A\u001b[A\u001b[A\u001b[A\u001b[A\u001b[A\u001b[A\u001b[A\u001b[A"
     ]
    },
    {
     "name": "stdout",
     "output_type": "stream",
     "text": [
      "2019-08-13 07:35:22,120 - biomed_ie - INFO - Train loss: 0.0535429779857293\n",
      "2019-08-13 07:35:22,368 - biomed_ie - INFO - Validation loss: 0.006878680347610907\n"
     ]
    },
    {
     "name": "stderr",
     "output_type": "stream",
     "text": [
      "\n",
      "\n",
      "\n",
      "\n",
      "\n",
      "\n",
      "\n",
      "\n",
      "\n",
      "\n",
      "\n",
      "\n",
      "\n",
      "Epoch:   3%|▎         | 1/30 [00:03<01:35,  3.28s/it]\u001b[A\u001b[A\u001b[A\u001b[A\u001b[A\u001b[A\u001b[A\u001b[A\u001b[A\u001b[A\u001b[A\u001b[A\u001b[A"
     ]
    },
    {
     "name": "stdout",
     "output_type": "stream",
     "text": [
      "2019-08-13 07:35:25,382 - biomed_ie - INFO - Train loss: 0.015728676479345255\n",
      "2019-08-13 07:35:25,629 - biomed_ie - INFO - Validation loss: 0.003914281072810536\n"
     ]
    },
    {
     "name": "stderr",
     "output_type": "stream",
     "text": [
      "\n",
      "\n",
      "\n",
      "\n",
      "\n",
      "\n",
      "\n",
      "\n",
      "\n",
      "\n",
      "\n",
      "\n",
      "\n",
      "Epoch:   7%|▋         | 2/30 [00:06<01:31,  3.27s/it]\u001b[A\u001b[A\u001b[A\u001b[A\u001b[A\u001b[A\u001b[A\u001b[A\u001b[A\u001b[A\u001b[A\u001b[A\u001b[A"
     ]
    },
    {
     "name": "stdout",
     "output_type": "stream",
     "text": [
      "2019-08-13 07:35:28,643 - biomed_ie - INFO - Train loss: 0.010392965440024386\n",
      "2019-08-13 07:35:28,891 - biomed_ie - INFO - Validation loss: 0.003738142603347241\n"
     ]
    },
    {
     "name": "stderr",
     "output_type": "stream",
     "text": [
      "\n",
      "\n",
      "\n",
      "\n",
      "\n",
      "\n",
      "\n",
      "\n",
      "\n",
      "\n",
      "\n",
      "\n",
      "\n",
      "Epoch:  10%|█         | 3/30 [00:09<01:28,  3.27s/it]\u001b[A\u001b[A\u001b[A\u001b[A\u001b[A\u001b[A\u001b[A\u001b[A\u001b[A\u001b[A\u001b[A\u001b[A\u001b[A"
     ]
    },
    {
     "name": "stdout",
     "output_type": "stream",
     "text": [
      "2019-08-13 07:35:31,899 - biomed_ie - INFO - Train loss: 0.006543912398693705\n",
      "2019-08-13 07:35:32,146 - biomed_ie - INFO - Validation loss: 0.004040504280457487\n"
     ]
    },
    {
     "name": "stderr",
     "output_type": "stream",
     "text": [
      "\n",
      "\n",
      "\n",
      "\n",
      "\n",
      "\n",
      "\n",
      "\n",
      "\n",
      "\n",
      "\n",
      "\n",
      "\n",
      "Epoch:  13%|█▎        | 4/30 [00:13<01:24,  3.27s/it]\u001b[A\u001b[A\u001b[A\u001b[A\u001b[A\u001b[A\u001b[A\u001b[A\u001b[A\u001b[A\u001b[A\u001b[A\u001b[A"
     ]
    },
    {
     "name": "stdout",
     "output_type": "stream",
     "text": [
      "2019-08-13 07:35:35,161 - biomed_ie - INFO - Train loss: 0.004342525089842497\n",
      "2019-08-13 07:35:35,411 - biomed_ie - INFO - Validation loss: 0.004529488168654692\n"
     ]
    },
    {
     "name": "stderr",
     "output_type": "stream",
     "text": [
      "\n",
      "\n",
      "\n",
      "\n",
      "\n",
      "\n",
      "\n",
      "\n",
      "\n",
      "\n",
      "\n",
      "\n",
      "\n",
      "Epoch:  17%|█▋        | 5/30 [00:16<01:21,  3.27s/it]\u001b[A\u001b[A\u001b[A\u001b[A\u001b[A\u001b[A\u001b[A\u001b[A\u001b[A\u001b[A\u001b[A\u001b[A\u001b[A"
     ]
    },
    {
     "name": "stdout",
     "output_type": "stream",
     "text": [
      "2019-08-13 07:35:38,421 - biomed_ie - INFO - Train loss: 0.00266152102940849\n",
      "2019-08-13 07:35:38,669 - biomed_ie - INFO - Validation loss: 0.0048838429893541735\n",
      "2019-08-13 07:36:08,718 - biomed_ie - INFO - Performance: {'_f1_score': 0.5706371191135734}\n",
      "2019-08-13 07:36:08,720 - biomed_ie - INFO - Active learning iteration: #14\n",
      "2019-08-13 07:36:14,451 - biomed_ie - INFO - Full finetuning: True\n",
      "2019-08-13 07:36:14,455 - biomed_ie - INFO - N parameters: 108314886\n"
     ]
    },
    {
     "name": "stderr",
     "output_type": "stream",
     "text": [
      "\n",
      "\n",
      "\n",
      "\n",
      "\n",
      "\n",
      "\n",
      "\n",
      "\n",
      "\n",
      "\n",
      "\n",
      "\n",
      "\n",
      "Epoch:   0%|          | 0/30 [00:00<?, ?it/s]\u001b[A\u001b[A\u001b[A\u001b[A\u001b[A\u001b[A\u001b[A\u001b[A\u001b[A\u001b[A\u001b[A\u001b[A\u001b[A\u001b[A"
     ]
    },
    {
     "name": "stdout",
     "output_type": "stream",
     "text": [
      "2019-08-13 07:36:17,752 - biomed_ie - INFO - Train loss: 0.03456030802161761\n",
      "2019-08-13 07:36:18,018 - biomed_ie - INFO - Validation loss: 0.004280898241158856\n"
     ]
    },
    {
     "name": "stderr",
     "output_type": "stream",
     "text": [
      "\n",
      "\n",
      "\n",
      "\n",
      "\n",
      "\n",
      "\n",
      "\n",
      "\n",
      "\n",
      "\n",
      "\n",
      "\n",
      "\n",
      "Epoch:   3%|▎         | 1/30 [00:03<01:42,  3.52s/it]\u001b[A\u001b[A\u001b[A\u001b[A\u001b[A\u001b[A\u001b[A\u001b[A\u001b[A\u001b[A\u001b[A\u001b[A\u001b[A\u001b[A"
     ]
    },
    {
     "name": "stdout",
     "output_type": "stream",
     "text": [
      "2019-08-13 07:36:21,258 - biomed_ie - INFO - Train loss: 0.014521899553963808\n",
      "2019-08-13 07:36:21,522 - biomed_ie - INFO - Validation loss: 0.004693364199737702\n"
     ]
    },
    {
     "name": "stderr",
     "output_type": "stream",
     "text": [
      "\n",
      "\n",
      "\n",
      "\n",
      "\n",
      "\n",
      "\n",
      "\n",
      "\n",
      "\n",
      "\n",
      "\n",
      "\n",
      "\n",
      "Epoch:   7%|▋         | 2/30 [00:07<01:38,  3.52s/it]\u001b[A\u001b[A\u001b[A\u001b[A\u001b[A\u001b[A\u001b[A\u001b[A\u001b[A\u001b[A\u001b[A\u001b[A\u001b[A\u001b[A"
     ]
    },
    {
     "name": "stdout",
     "output_type": "stream",
     "text": [
      "2019-08-13 07:36:24,878 - biomed_ie - INFO - Train loss: 0.011889125868275324\n",
      "2019-08-13 07:36:25,141 - biomed_ie - INFO - Validation loss: 0.002876387377364105\n"
     ]
    },
    {
     "name": "stderr",
     "output_type": "stream",
     "text": [
      "\n",
      "\n",
      "\n",
      "\n",
      "\n",
      "\n",
      "\n",
      "\n",
      "\n",
      "\n",
      "\n",
      "\n",
      "\n",
      "\n",
      "Epoch:  10%|█         | 3/30 [00:10<01:35,  3.55s/it]\u001b[A\u001b[A\u001b[A\u001b[A\u001b[A\u001b[A\u001b[A\u001b[A\u001b[A\u001b[A\u001b[A\u001b[A\u001b[A\u001b[A"
     ]
    },
    {
     "name": "stdout",
     "output_type": "stream",
     "text": [
      "2019-08-13 07:36:28,506 - biomed_ie - INFO - Train loss: 0.007373916291605489\n",
      "2019-08-13 07:36:28,769 - biomed_ie - INFO - Validation loss: 0.0029957522740580184\n"
     ]
    },
    {
     "name": "stderr",
     "output_type": "stream",
     "text": [
      "\n",
      "\n",
      "\n",
      "\n",
      "\n",
      "\n",
      "\n",
      "\n",
      "\n",
      "\n",
      "\n",
      "\n",
      "\n",
      "\n",
      "Epoch:  13%|█▎        | 4/30 [00:14<01:32,  3.57s/it]\u001b[A\u001b[A\u001b[A\u001b[A\u001b[A\u001b[A\u001b[A\u001b[A\u001b[A\u001b[A\u001b[A\u001b[A\u001b[A\u001b[A"
     ]
    },
    {
     "name": "stdout",
     "output_type": "stream",
     "text": [
      "2019-08-13 07:36:32,114 - biomed_ie - INFO - Train loss: 0.004713650361562308\n",
      "2019-08-13 07:36:32,377 - biomed_ie - INFO - Validation loss: 0.003288061674728717\n"
     ]
    },
    {
     "name": "stderr",
     "output_type": "stream",
     "text": [
      "\n",
      "\n",
      "\n",
      "\n",
      "\n",
      "\n",
      "\n",
      "\n",
      "\n",
      "\n",
      "\n",
      "\n",
      "\n",
      "\n",
      "Epoch:  17%|█▋        | 5/30 [00:17<01:29,  3.58s/it]\u001b[A\u001b[A\u001b[A\u001b[A\u001b[A\u001b[A\u001b[A\u001b[A\u001b[A\u001b[A\u001b[A\u001b[A\u001b[A\u001b[A"
     ]
    },
    {
     "name": "stdout",
     "output_type": "stream",
     "text": [
      "2019-08-13 07:36:35,721 - biomed_ie - INFO - Train loss: 0.002683533342353527\n",
      "2019-08-13 07:36:35,985 - biomed_ie - INFO - Validation loss: 0.004040427148547502\n",
      "2019-08-13 07:37:05,772 - biomed_ie - INFO - Performance: {'_f1_score': 0.5543873440110051}\n",
      "2019-08-13 07:37:05,773 - biomed_ie - INFO - Active learning iteration: #15\n",
      "2019-08-13 07:37:11,477 - biomed_ie - INFO - Full finetuning: True\n",
      "2019-08-13 07:37:11,481 - biomed_ie - INFO - N parameters: 108314886\n"
     ]
    },
    {
     "name": "stderr",
     "output_type": "stream",
     "text": [
      "\n",
      "\n",
      "\n",
      "\n",
      "\n",
      "\n",
      "\n",
      "\n",
      "\n",
      "\n",
      "\n",
      "\n",
      "\n",
      "\n",
      "\n",
      "Epoch:   0%|          | 0/30 [00:00<?, ?it/s]\u001b[A\u001b[A\u001b[A\u001b[A\u001b[A\u001b[A\u001b[A\u001b[A\u001b[A\u001b[A\u001b[A\u001b[A\u001b[A\u001b[A\u001b[A"
     ]
    },
    {
     "name": "stdout",
     "output_type": "stream",
     "text": [
      "2019-08-13 07:37:15,060 - biomed_ie - INFO - Train loss: 0.037666256235705194\n",
      "2019-08-13 07:37:15,343 - biomed_ie - INFO - Validation loss: 0.003981185180169565\n"
     ]
    },
    {
     "name": "stderr",
     "output_type": "stream",
     "text": [
      "\n",
      "\n",
      "\n",
      "\n",
      "\n",
      "\n",
      "\n",
      "\n",
      "\n",
      "\n",
      "\n",
      "\n",
      "\n",
      "\n",
      "\n",
      "Epoch:   3%|▎         | 1/30 [00:03<01:50,  3.82s/it]\u001b[A\u001b[A\u001b[A\u001b[A\u001b[A\u001b[A\u001b[A\u001b[A\u001b[A\u001b[A\u001b[A\u001b[A\u001b[A\u001b[A\u001b[A"
     ]
    },
    {
     "name": "stdout",
     "output_type": "stream",
     "text": [
      "2019-08-13 07:37:18,710 - biomed_ie - INFO - Train loss: 0.013435622729679256\n",
      "2019-08-13 07:37:18,991 - biomed_ie - INFO - Validation loss: 0.0032279888788859052\n"
     ]
    },
    {
     "name": "stderr",
     "output_type": "stream",
     "text": [
      "\n",
      "\n",
      "\n",
      "\n",
      "\n",
      "\n",
      "\n",
      "\n",
      "\n",
      "\n",
      "\n",
      "\n",
      "\n",
      "\n",
      "\n",
      "Epoch:   7%|▋         | 2/30 [00:07<01:45,  3.77s/it]\u001b[A\u001b[A\u001b[A\u001b[A\u001b[A\u001b[A\u001b[A\u001b[A\u001b[A\u001b[A\u001b[A\u001b[A\u001b[A\u001b[A\u001b[A"
     ]
    },
    {
     "name": "stdout",
     "output_type": "stream",
     "text": [
      "2019-08-13 07:37:22,360 - biomed_ie - INFO - Train loss: 0.009032549323494636\n",
      "2019-08-13 07:37:22,639 - biomed_ie - INFO - Validation loss: 0.0033807257811228437\n"
     ]
    },
    {
     "name": "stderr",
     "output_type": "stream",
     "text": [
      "\n",
      "\n",
      "\n",
      "\n",
      "\n",
      "\n",
      "\n",
      "\n",
      "\n",
      "\n",
      "\n",
      "\n",
      "\n",
      "\n",
      "\n",
      "Epoch:  10%|█         | 3/30 [00:11<01:40,  3.73s/it]\u001b[A\u001b[A\u001b[A\u001b[A\u001b[A\u001b[A\u001b[A\u001b[A\u001b[A\u001b[A\u001b[A\u001b[A\u001b[A\u001b[A\u001b[A"
     ]
    },
    {
     "name": "stdout",
     "output_type": "stream",
     "text": [
      "2019-08-13 07:37:26,002 - biomed_ie - INFO - Train loss: 0.005944806145604495\n",
      "2019-08-13 07:37:26,282 - biomed_ie - INFO - Validation loss: 0.0034679196499012134\n"
     ]
    },
    {
     "name": "stderr",
     "output_type": "stream",
     "text": [
      "\n",
      "\n",
      "\n",
      "\n",
      "\n",
      "\n",
      "\n",
      "\n",
      "\n",
      "\n",
      "\n",
      "\n",
      "\n",
      "\n",
      "\n",
      "Epoch:  13%|█▎        | 4/30 [00:14<01:36,  3.71s/it]\u001b[A\u001b[A\u001b[A\u001b[A\u001b[A\u001b[A\u001b[A\u001b[A\u001b[A\u001b[A\u001b[A\u001b[A\u001b[A\u001b[A\u001b[A"
     ]
    },
    {
     "name": "stdout",
     "output_type": "stream",
     "text": [
      "2019-08-13 07:37:29,639 - biomed_ie - INFO - Train loss: 0.0037945918493704415\n",
      "2019-08-13 07:37:29,918 - biomed_ie - INFO - Validation loss: 0.004630695522567373\n",
      "2019-08-13 07:37:59,696 - biomed_ie - INFO - Performance: {'_f1_score': 0.5844713971922452}\n",
      "2019-08-13 07:37:59,697 - biomed_ie - INFO - Active learning iteration: #16\n",
      "2019-08-13 07:38:05,447 - biomed_ie - INFO - Full finetuning: True\n",
      "2019-08-13 07:38:05,451 - biomed_ie - INFO - N parameters: 108314886\n"
     ]
    },
    {
     "name": "stderr",
     "output_type": "stream",
     "text": [
      "\n",
      "\n",
      "\n",
      "\n",
      "\n",
      "\n",
      "\n",
      "\n",
      "\n",
      "\n",
      "\n",
      "\n",
      "\n",
      "\n",
      "\n",
      "\n",
      "Epoch:   0%|          | 0/30 [00:00<?, ?it/s]\u001b[A\u001b[A\u001b[A\u001b[A\u001b[A\u001b[A\u001b[A\u001b[A\u001b[A\u001b[A\u001b[A\u001b[A\u001b[A\u001b[A\u001b[A\u001b[A"
     ]
    },
    {
     "name": "stdout",
     "output_type": "stream",
     "text": [
      "2019-08-13 07:38:09,118 - biomed_ie - INFO - Train loss: 0.03729008421929014\n",
      "2019-08-13 07:38:09,413 - biomed_ie - INFO - Validation loss: 0.004748687513327713\n"
     ]
    },
    {
     "name": "stderr",
     "output_type": "stream",
     "text": [
      "\n",
      "\n",
      "\n",
      "\n",
      "\n",
      "\n",
      "\n",
      "\n",
      "\n",
      "\n",
      "\n",
      "\n",
      "\n",
      "\n",
      "\n",
      "\n",
      "Epoch:   3%|▎         | 1/30 [00:03<01:53,  3.92s/it]\u001b[A\u001b[A\u001b[A\u001b[A\u001b[A\u001b[A\u001b[A\u001b[A\u001b[A\u001b[A\u001b[A\u001b[A\u001b[A\u001b[A\u001b[A\u001b[A"
     ]
    },
    {
     "name": "stdout",
     "output_type": "stream",
     "text": [
      "2019-08-13 07:38:13,004 - biomed_ie - INFO - Train loss: 0.014429936720828339\n",
      "2019-08-13 07:38:13,301 - biomed_ie - INFO - Validation loss: 0.0027536118040826026\n"
     ]
    },
    {
     "name": "stderr",
     "output_type": "stream",
     "text": [
      "\n",
      "\n",
      "\n",
      "\n",
      "\n",
      "\n",
      "\n",
      "\n",
      "\n",
      "\n",
      "\n",
      "\n",
      "\n",
      "\n",
      "\n",
      "\n",
      "Epoch:   7%|▋         | 2/30 [00:07<01:49,  3.91s/it]\u001b[A\u001b[A\u001b[A\u001b[A\u001b[A\u001b[A\u001b[A\u001b[A\u001b[A\u001b[A\u001b[A\u001b[A\u001b[A\u001b[A\u001b[A\u001b[A"
     ]
    },
    {
     "name": "stdout",
     "output_type": "stream",
     "text": [
      "2019-08-13 07:38:16,890 - biomed_ie - INFO - Train loss: 0.010570343642750194\n",
      "2019-08-13 07:38:17,186 - biomed_ie - INFO - Validation loss: 0.002505136638868764\n"
     ]
    },
    {
     "name": "stderr",
     "output_type": "stream",
     "text": [
      "\n",
      "\n",
      "\n",
      "\n",
      "\n",
      "\n",
      "\n",
      "\n",
      "\n",
      "\n",
      "\n",
      "\n",
      "\n",
      "\n",
      "\n",
      "\n",
      "Epoch:  10%|█         | 3/30 [00:11<01:45,  3.90s/it]\u001b[A\u001b[A\u001b[A\u001b[A\u001b[A\u001b[A\u001b[A\u001b[A\u001b[A\u001b[A\u001b[A\u001b[A\u001b[A\u001b[A\u001b[A\u001b[A"
     ]
    },
    {
     "name": "stdout",
     "output_type": "stream",
     "text": [
      "2019-08-13 07:38:20,776 - biomed_ie - INFO - Train loss: 0.007515912709565163\n",
      "2019-08-13 07:38:21,071 - biomed_ie - INFO - Validation loss: 0.0023201199746040865\n"
     ]
    },
    {
     "name": "stderr",
     "output_type": "stream",
     "text": [
      "\n",
      "\n",
      "\n",
      "\n",
      "\n",
      "\n",
      "\n",
      "\n",
      "\n",
      "\n",
      "\n",
      "\n",
      "\n",
      "\n",
      "\n",
      "\n",
      "Epoch:  13%|█▎        | 4/30 [00:15<01:41,  3.90s/it]\u001b[A\u001b[A\u001b[A\u001b[A\u001b[A\u001b[A\u001b[A\u001b[A\u001b[A\u001b[A\u001b[A\u001b[A\u001b[A\u001b[A\u001b[A\u001b[A"
     ]
    },
    {
     "name": "stdout",
     "output_type": "stream",
     "text": [
      "2019-08-13 07:38:24,660 - biomed_ie - INFO - Train loss: 0.004725111698790186\n",
      "2019-08-13 07:38:24,956 - biomed_ie - INFO - Validation loss: 0.0040792353650386855\n"
     ]
    },
    {
     "name": "stderr",
     "output_type": "stream",
     "text": [
      "\n",
      "\n",
      "\n",
      "\n",
      "\n",
      "\n",
      "\n",
      "\n",
      "\n",
      "\n",
      "\n",
      "\n",
      "\n",
      "\n",
      "\n",
      "\n",
      "Epoch:  17%|█▋        | 5/30 [00:19<01:37,  3.89s/it]\u001b[A\u001b[A\u001b[A\u001b[A\u001b[A\u001b[A\u001b[A\u001b[A\u001b[A\u001b[A\u001b[A\u001b[A\u001b[A\u001b[A\u001b[A\u001b[A"
     ]
    },
    {
     "name": "stdout",
     "output_type": "stream",
     "text": [
      "2019-08-13 07:38:28,552 - biomed_ie - INFO - Train loss: 0.003261617583080104\n",
      "2019-08-13 07:38:28,850 - biomed_ie - INFO - Validation loss: 0.003066166000187669\n"
     ]
    },
    {
     "name": "stderr",
     "output_type": "stream",
     "text": [
      "\n",
      "\n",
      "\n",
      "\n",
      "\n",
      "\n",
      "\n",
      "\n",
      "\n",
      "\n",
      "\n",
      "\n",
      "\n",
      "\n",
      "\n",
      "\n",
      "Epoch:  20%|██        | 6/30 [00:23<01:33,  3.89s/it]\u001b[A\u001b[A\u001b[A\u001b[A\u001b[A\u001b[A\u001b[A\u001b[A\u001b[A\u001b[A\u001b[A\u001b[A\u001b[A\u001b[A\u001b[A\u001b[A"
     ]
    },
    {
     "name": "stdout",
     "output_type": "stream",
     "text": [
      "2019-08-13 07:38:32,438 - biomed_ie - INFO - Train loss: 0.0019750105250889516\n",
      "2019-08-13 07:38:32,734 - biomed_ie - INFO - Validation loss: 0.0036002046032071714\n",
      "2019-08-13 07:39:02,423 - biomed_ie - INFO - Performance: {'_f1_score': 0.5923460898502495}\n",
      "2019-08-13 07:39:02,424 - biomed_ie - INFO - Active learning iteration: #17\n",
      "2019-08-13 07:39:08,128 - biomed_ie - INFO - Full finetuning: True\n",
      "2019-08-13 07:39:08,133 - biomed_ie - INFO - N parameters: 108314886\n"
     ]
    },
    {
     "name": "stderr",
     "output_type": "stream",
     "text": [
      "\n",
      "\n",
      "\n",
      "\n",
      "\n",
      "\n",
      "\n",
      "\n",
      "\n",
      "\n",
      "\n",
      "\n",
      "\n",
      "\n",
      "\n",
      "\n",
      "\n",
      "Epoch:   0%|          | 0/30 [00:00<?, ?it/s]\u001b[A\u001b[A\u001b[A\u001b[A\u001b[A\u001b[A\u001b[A\u001b[A\u001b[A\u001b[A\u001b[A\u001b[A\u001b[A\u001b[A\u001b[A\u001b[A\u001b[A"
     ]
    },
    {
     "name": "stdout",
     "output_type": "stream",
     "text": [
      "2019-08-13 07:39:11,932 - biomed_ie - INFO - Train loss: 0.035091997223872726\n",
      "2019-08-13 07:39:12,241 - biomed_ie - INFO - Validation loss: 0.0034831243618016466\n"
     ]
    },
    {
     "name": "stderr",
     "output_type": "stream",
     "text": [
      "\n",
      "\n",
      "\n",
      "\n",
      "\n",
      "\n",
      "\n",
      "\n",
      "\n",
      "\n",
      "\n",
      "\n",
      "\n",
      "\n",
      "\n",
      "\n",
      "\n",
      "Epoch:   3%|▎         | 1/30 [00:04<01:57,  4.06s/it]\u001b[A\u001b[A\u001b[A\u001b[A\u001b[A\u001b[A\u001b[A\u001b[A\u001b[A\u001b[A\u001b[A\u001b[A\u001b[A\u001b[A\u001b[A\u001b[A\u001b[A"
     ]
    },
    {
     "name": "stdout",
     "output_type": "stream",
     "text": [
      "2019-08-13 07:39:15,967 - biomed_ie - INFO - Train loss: 0.012204263818822884\n",
      "2019-08-13 07:39:16,279 - biomed_ie - INFO - Validation loss: 0.002936865729838698\n"
     ]
    },
    {
     "name": "stderr",
     "output_type": "stream",
     "text": [
      "\n",
      "\n",
      "\n",
      "\n",
      "\n",
      "\n",
      "\n",
      "\n",
      "\n",
      "\n",
      "\n",
      "\n",
      "\n",
      "\n",
      "\n",
      "\n",
      "\n",
      "Epoch:   7%|▋         | 2/30 [00:08<01:53,  4.05s/it]\u001b[A\u001b[A\u001b[A\u001b[A\u001b[A\u001b[A\u001b[A\u001b[A\u001b[A\u001b[A\u001b[A\u001b[A\u001b[A\u001b[A\u001b[A\u001b[A\u001b[A"
     ]
    },
    {
     "name": "stdout",
     "output_type": "stream",
     "text": [
      "2019-08-13 07:39:20,011 - biomed_ie - INFO - Train loss: 0.009409524019942661\n",
      "2019-08-13 07:39:20,321 - biomed_ie - INFO - Validation loss: 0.0023324608419941738\n"
     ]
    },
    {
     "name": "stderr",
     "output_type": "stream",
     "text": [
      "\n",
      "\n",
      "\n",
      "\n",
      "\n",
      "\n",
      "\n",
      "\n",
      "\n",
      "\n",
      "\n",
      "\n",
      "\n",
      "\n",
      "\n",
      "\n",
      "\n",
      "Epoch:  10%|█         | 3/30 [00:12<01:49,  4.05s/it]\u001b[A\u001b[A\u001b[A\u001b[A\u001b[A\u001b[A\u001b[A\u001b[A\u001b[A\u001b[A\u001b[A\u001b[A\u001b[A\u001b[A\u001b[A\u001b[A\u001b[A"
     ]
    },
    {
     "name": "stdout",
     "output_type": "stream",
     "text": [
      "2019-08-13 07:39:24,051 - biomed_ie - INFO - Train loss: 0.0058655460476604\n",
      "2019-08-13 07:39:24,361 - biomed_ie - INFO - Validation loss: 0.0024204535547839314\n"
     ]
    },
    {
     "name": "stderr",
     "output_type": "stream",
     "text": [
      "\n",
      "\n",
      "\n",
      "\n",
      "\n",
      "\n",
      "\n",
      "\n",
      "\n",
      "\n",
      "\n",
      "\n",
      "\n",
      "\n",
      "\n",
      "\n",
      "\n",
      "Epoch:  13%|█▎        | 4/30 [00:16<01:45,  4.05s/it]\u001b[A\u001b[A\u001b[A\u001b[A\u001b[A\u001b[A\u001b[A\u001b[A\u001b[A\u001b[A\u001b[A\u001b[A\u001b[A\u001b[A\u001b[A\u001b[A\u001b[A"
     ]
    },
    {
     "name": "stdout",
     "output_type": "stream",
     "text": [
      "2019-08-13 07:39:28,087 - biomed_ie - INFO - Train loss: 0.003583024678000947\n",
      "2019-08-13 07:39:28,398 - biomed_ie - INFO - Validation loss: 0.0025580991983442055\n"
     ]
    },
    {
     "name": "stderr",
     "output_type": "stream",
     "text": [
      "\n",
      "\n",
      "\n",
      "\n",
      "\n",
      "\n",
      "\n",
      "\n",
      "\n",
      "\n",
      "\n",
      "\n",
      "\n",
      "\n",
      "\n",
      "\n",
      "\n",
      "Epoch:  17%|█▋        | 5/30 [00:20<01:41,  4.04s/it]\u001b[A\u001b[A\u001b[A\u001b[A\u001b[A\u001b[A\u001b[A\u001b[A\u001b[A\u001b[A\u001b[A\u001b[A\u001b[A\u001b[A\u001b[A\u001b[A\u001b[A"
     ]
    },
    {
     "name": "stdout",
     "output_type": "stream",
     "text": [
      "2019-08-13 07:39:32,124 - biomed_ie - INFO - Train loss: 0.0022590562515836837\n",
      "2019-08-13 07:39:32,434 - biomed_ie - INFO - Validation loss: 0.0032869614842418143\n",
      "2019-08-13 07:40:02,194 - biomed_ie - INFO - Performance: {'_f1_score': 0.5952338923212709}\n",
      "2019-08-13 07:40:02,195 - biomed_ie - INFO - Active learning iteration: #18\n",
      "2019-08-13 07:40:07,895 - biomed_ie - INFO - Full finetuning: True\n",
      "2019-08-13 07:40:07,900 - biomed_ie - INFO - N parameters: 108314886\n"
     ]
    },
    {
     "name": "stderr",
     "output_type": "stream",
     "text": [
      "\n",
      "\n",
      "\n",
      "\n",
      "\n",
      "\n",
      "\n",
      "\n",
      "\n",
      "\n",
      "\n",
      "\n",
      "\n",
      "\n",
      "\n",
      "\n",
      "\n",
      "\n",
      "Epoch:   0%|          | 0/30 [00:00<?, ?it/s]\u001b[A\u001b[A\u001b[A\u001b[A\u001b[A\u001b[A\u001b[A\u001b[A\u001b[A\u001b[A\u001b[A\u001b[A\u001b[A\u001b[A\u001b[A\u001b[A\u001b[A\u001b[A"
     ]
    },
    {
     "name": "stdout",
     "output_type": "stream",
     "text": [
      "2019-08-13 07:40:11,914 - biomed_ie - INFO - Train loss: 0.036274459471703976\n",
      "2019-08-13 07:40:12,238 - biomed_ie - INFO - Validation loss: 0.0033631322812747275\n"
     ]
    },
    {
     "name": "stderr",
     "output_type": "stream",
     "text": [
      "\n",
      "\n",
      "\n",
      "\n",
      "\n",
      "\n",
      "\n",
      "\n",
      "\n",
      "\n",
      "\n",
      "\n",
      "\n",
      "\n",
      "\n",
      "\n",
      "\n",
      "\n",
      "Epoch:   3%|▎         | 1/30 [00:04<02:04,  4.29s/it]\u001b[A\u001b[A\u001b[A\u001b[A\u001b[A\u001b[A\u001b[A\u001b[A\u001b[A\u001b[A\u001b[A\u001b[A\u001b[A\u001b[A\u001b[A\u001b[A\u001b[A\u001b[A"
     ]
    },
    {
     "name": "stdout",
     "output_type": "stream",
     "text": [
      "2019-08-13 07:40:16,316 - biomed_ie - INFO - Train loss: 0.012688006503890065\n",
      "2019-08-13 07:40:16,640 - biomed_ie - INFO - Validation loss: 0.0025578582136926917\n"
     ]
    },
    {
     "name": "stderr",
     "output_type": "stream",
     "text": [
      "\n",
      "\n",
      "\n",
      "\n",
      "\n",
      "\n",
      "\n",
      "\n",
      "\n",
      "\n",
      "\n",
      "\n",
      "\n",
      "\n",
      "\n",
      "\n",
      "\n",
      "\n",
      "Epoch:   7%|▋         | 2/30 [00:08<02:01,  4.32s/it]\u001b[A\u001b[A\u001b[A\u001b[A\u001b[A\u001b[A\u001b[A\u001b[A\u001b[A\u001b[A\u001b[A\u001b[A\u001b[A\u001b[A\u001b[A\u001b[A\u001b[A\u001b[A"
     ]
    },
    {
     "name": "stdout",
     "output_type": "stream",
     "text": [
      "2019-08-13 07:40:20,587 - biomed_ie - INFO - Train loss: 0.00941828433549757\n",
      "2019-08-13 07:40:20,911 - biomed_ie - INFO - Validation loss: 0.002473678629277116\n"
     ]
    },
    {
     "name": "stderr",
     "output_type": "stream",
     "text": [
      "\n",
      "\n",
      "\n",
      "\n",
      "\n",
      "\n",
      "\n",
      "\n",
      "\n",
      "\n",
      "\n",
      "\n",
      "\n",
      "\n",
      "\n",
      "\n",
      "\n",
      "\n",
      "Epoch:  10%|█         | 3/30 [00:12<01:56,  4.31s/it]\u001b[A\u001b[A\u001b[A\u001b[A\u001b[A\u001b[A\u001b[A\u001b[A\u001b[A\u001b[A\u001b[A\u001b[A\u001b[A\u001b[A\u001b[A\u001b[A\u001b[A\u001b[A"
     ]
    },
    {
     "name": "stdout",
     "output_type": "stream",
     "text": [
      "2019-08-13 07:40:24,858 - biomed_ie - INFO - Train loss: 0.00627207174927756\n",
      "2019-08-13 07:40:25,181 - biomed_ie - INFO - Validation loss: 0.002880115662851641\n"
     ]
    },
    {
     "name": "stderr",
     "output_type": "stream",
     "text": [
      "\n",
      "\n",
      "\n",
      "\n",
      "\n",
      "\n",
      "\n",
      "\n",
      "\n",
      "\n",
      "\n",
      "\n",
      "\n",
      "\n",
      "\n",
      "\n",
      "\n",
      "\n",
      "Epoch:  13%|█▎        | 4/30 [00:17<01:51,  4.30s/it]\u001b[A\u001b[A\u001b[A\u001b[A\u001b[A\u001b[A\u001b[A\u001b[A\u001b[A\u001b[A\u001b[A\u001b[A\u001b[A\u001b[A\u001b[A\u001b[A\u001b[A\u001b[A"
     ]
    },
    {
     "name": "stdout",
     "output_type": "stream",
     "text": [
      "2019-08-13 07:40:29,128 - biomed_ie - INFO - Train loss: 0.003768593032505727\n",
      "2019-08-13 07:40:29,451 - biomed_ie - INFO - Validation loss: 0.0033089507141029857\n"
     ]
    },
    {
     "name": "stderr",
     "output_type": "stream",
     "text": [
      "\n",
      "\n",
      "\n",
      "\n",
      "\n",
      "\n",
      "\n",
      "\n",
      "\n",
      "\n",
      "\n",
      "\n",
      "\n",
      "\n",
      "\n",
      "\n",
      "\n",
      "\n",
      "Epoch:  17%|█▋        | 5/30 [00:21<01:47,  4.29s/it]\u001b[A\u001b[A\u001b[A\u001b[A\u001b[A\u001b[A\u001b[A\u001b[A\u001b[A\u001b[A\u001b[A\u001b[A\u001b[A\u001b[A\u001b[A\u001b[A\u001b[A\u001b[A"
     ]
    },
    {
     "name": "stdout",
     "output_type": "stream",
     "text": [
      "2019-08-13 07:40:33,515 - biomed_ie - INFO - Train loss: 0.0022349361092323717\n",
      "2019-08-13 07:40:33,837 - biomed_ie - INFO - Validation loss: 0.003810663768148865\n",
      "2019-08-13 07:41:03,369 - biomed_ie - INFO - Performance: {'_f1_score': 0.5804010594021946}\n",
      "2019-08-13 07:41:03,370 - biomed_ie - INFO - Active learning iteration: #19\n",
      "2019-08-13 07:41:09,068 - biomed_ie - INFO - Full finetuning: True\n",
      "2019-08-13 07:41:09,072 - biomed_ie - INFO - N parameters: 108314886\n"
     ]
    },
    {
     "name": "stderr",
     "output_type": "stream",
     "text": [
      "\n",
      "\n",
      "\n",
      "\n",
      "\n",
      "\n",
      "\n",
      "\n",
      "\n",
      "\n",
      "\n",
      "\n",
      "\n",
      "\n",
      "\n",
      "\n",
      "\n",
      "\n",
      "\n",
      "Epoch:   0%|          | 0/30 [00:00<?, ?it/s]\u001b[A\u001b[A\u001b[A\u001b[A\u001b[A\u001b[A\u001b[A\u001b[A\u001b[A\u001b[A\u001b[A\u001b[A\u001b[A\u001b[A\u001b[A\u001b[A\u001b[A\u001b[A\u001b[A"
     ]
    },
    {
     "name": "stdout",
     "output_type": "stream",
     "text": [
      "2019-08-13 07:41:13,313 - biomed_ie - INFO - Train loss: 0.038705776738577585\n",
      "2019-08-13 07:41:13,651 - biomed_ie - INFO - Validation loss: 0.0033553764749653147\n"
     ]
    },
    {
     "name": "stderr",
     "output_type": "stream",
     "text": [
      "\n",
      "\n",
      "\n",
      "\n",
      "\n",
      "\n",
      "\n",
      "\n",
      "\n",
      "\n",
      "\n",
      "\n",
      "\n",
      "\n",
      "\n",
      "\n",
      "\n",
      "\n",
      "\n",
      "Epoch:   3%|▎         | 1/30 [00:04<02:11,  4.53s/it]\u001b[A\u001b[A\u001b[A\u001b[A\u001b[A\u001b[A\u001b[A\u001b[A\u001b[A\u001b[A\u001b[A\u001b[A\u001b[A\u001b[A\u001b[A\u001b[A\u001b[A\u001b[A\u001b[A"
     ]
    },
    {
     "name": "stdout",
     "output_type": "stream",
     "text": [
      "2019-08-13 07:41:17,805 - biomed_ie - INFO - Train loss: 0.013378086279173834\n",
      "2019-08-13 07:41:18,140 - biomed_ie - INFO - Validation loss: 0.003070331170702502\n"
     ]
    },
    {
     "name": "stderr",
     "output_type": "stream",
     "text": [
      "\n",
      "\n",
      "\n",
      "\n",
      "\n",
      "\n",
      "\n",
      "\n",
      "\n",
      "\n",
      "\n",
      "\n",
      "\n",
      "\n",
      "\n",
      "\n",
      "\n",
      "\n",
      "\n",
      "Epoch:   7%|▋         | 2/30 [00:09<02:06,  4.52s/it]\u001b[A\u001b[A\u001b[A\u001b[A\u001b[A\u001b[A\u001b[A\u001b[A\u001b[A\u001b[A\u001b[A\u001b[A\u001b[A\u001b[A\u001b[A\u001b[A\u001b[A\u001b[A\u001b[A"
     ]
    },
    {
     "name": "stdout",
     "output_type": "stream",
     "text": [
      "2019-08-13 07:41:22,304 - biomed_ie - INFO - Train loss: 0.00969085779935954\n",
      "2019-08-13 07:41:22,641 - biomed_ie - INFO - Validation loss: 0.0022457149871933034\n"
     ]
    },
    {
     "name": "stderr",
     "output_type": "stream",
     "text": [
      "\n",
      "\n",
      "\n",
      "\n",
      "\n",
      "\n",
      "\n",
      "\n",
      "\n",
      "\n",
      "\n",
      "\n",
      "\n",
      "\n",
      "\n",
      "\n",
      "\n",
      "\n",
      "\n",
      "Epoch:  10%|█         | 3/30 [00:13<02:01,  4.51s/it]\u001b[A\u001b[A\u001b[A\u001b[A\u001b[A\u001b[A\u001b[A\u001b[A\u001b[A\u001b[A\u001b[A\u001b[A\u001b[A\u001b[A\u001b[A\u001b[A\u001b[A\u001b[A\u001b[A"
     ]
    },
    {
     "name": "stdout",
     "output_type": "stream",
     "text": [
      "2019-08-13 07:41:26,800 - biomed_ie - INFO - Train loss: 0.0061886665777407795\n",
      "2019-08-13 07:41:27,137 - biomed_ie - INFO - Validation loss: 0.0025343866317065725\n"
     ]
    },
    {
     "name": "stderr",
     "output_type": "stream",
     "text": [
      "\n",
      "\n",
      "\n",
      "\n",
      "\n",
      "\n",
      "\n",
      "\n",
      "\n",
      "\n",
      "\n",
      "\n",
      "\n",
      "\n",
      "\n",
      "\n",
      "\n",
      "\n",
      "\n",
      "Epoch:  13%|█▎        | 4/30 [00:18<01:57,  4.51s/it]\u001b[A\u001b[A\u001b[A\u001b[A\u001b[A\u001b[A\u001b[A\u001b[A\u001b[A\u001b[A\u001b[A\u001b[A\u001b[A\u001b[A\u001b[A\u001b[A\u001b[A\u001b[A\u001b[A"
     ]
    },
    {
     "name": "stdout",
     "output_type": "stream",
     "text": [
      "2019-08-13 07:41:31,293 - biomed_ie - INFO - Train loss: 0.0037515029094106413\n",
      "2019-08-13 07:41:31,628 - biomed_ie - INFO - Validation loss: 0.0031539358106472174\n"
     ]
    },
    {
     "name": "stderr",
     "output_type": "stream",
     "text": [
      "\n",
      "\n",
      "\n",
      "\n",
      "\n",
      "\n",
      "\n",
      "\n",
      "\n",
      "\n",
      "\n",
      "\n",
      "\n",
      "\n",
      "\n",
      "\n",
      "\n",
      "\n",
      "\n",
      "Epoch:  17%|█▋        | 5/30 [00:22<01:52,  4.50s/it]\u001b[A\u001b[A\u001b[A\u001b[A\u001b[A\u001b[A\u001b[A\u001b[A\u001b[A\u001b[A\u001b[A\u001b[A\u001b[A\u001b[A\u001b[A\u001b[A\u001b[A\u001b[A\u001b[A"
     ]
    },
    {
     "name": "stdout",
     "output_type": "stream",
     "text": [
      "2019-08-13 07:41:35,782 - biomed_ie - INFO - Train loss: 0.0022879532258384644\n",
      "2019-08-13 07:41:36,118 - biomed_ie - INFO - Validation loss: 0.0033055690275527088\n",
      "2019-08-13 07:42:05,646 - biomed_ie - INFO - Performance: {'_f1_score': 0.5904761904761905}\n",
      "2019-08-13 07:42:05,648 - biomed_ie - INFO - Active learning iteration: #20\n",
      "2019-08-13 07:42:11,259 - biomed_ie - INFO - Full finetuning: True\n",
      "2019-08-13 07:42:11,263 - biomed_ie - INFO - N parameters: 108314886\n"
     ]
    },
    {
     "name": "stderr",
     "output_type": "stream",
     "text": [
      "\n",
      "\n",
      "\n",
      "\n",
      "\n",
      "\n",
      "\n",
      "\n",
      "\n",
      "\n",
      "\n",
      "\n",
      "\n",
      "\n",
      "\n",
      "\n",
      "\n",
      "\n",
      "\n",
      "\n",
      "Epoch:   0%|          | 0/30 [00:00<?, ?it/s]\u001b[A\u001b[A\u001b[A\u001b[A\u001b[A\u001b[A\u001b[A\u001b[A\u001b[A\u001b[A\u001b[A\u001b[A\u001b[A\u001b[A\u001b[A\u001b[A\u001b[A\u001b[A\u001b[A\u001b[A"
     ]
    },
    {
     "name": "stdout",
     "output_type": "stream",
     "text": [
      "2019-08-13 07:42:15,637 - biomed_ie - INFO - Train loss: 0.036828870636235994\n",
      "2019-08-13 07:42:15,990 - biomed_ie - INFO - Validation loss: 0.002790330293115472\n"
     ]
    },
    {
     "name": "stderr",
     "output_type": "stream",
     "text": [
      "\n",
      "\n",
      "\n",
      "\n",
      "\n",
      "\n",
      "\n",
      "\n",
      "\n",
      "\n",
      "\n",
      "\n",
      "\n",
      "\n",
      "\n",
      "\n",
      "\n",
      "\n",
      "\n",
      "\n",
      "Epoch:   3%|▎         | 1/30 [00:04<02:15,  4.67s/it]\u001b[A\u001b[A\u001b[A\u001b[A\u001b[A\u001b[A\u001b[A\u001b[A\u001b[A\u001b[A\u001b[A\u001b[A\u001b[A\u001b[A\u001b[A\u001b[A\u001b[A\u001b[A\u001b[A\u001b[A"
     ]
    },
    {
     "name": "stdout",
     "output_type": "stream",
     "text": [
      "2019-08-13 07:42:20,289 - biomed_ie - INFO - Train loss: 0.011936916065010366\n",
      "2019-08-13 07:42:20,639 - biomed_ie - INFO - Validation loss: 0.0025593740488967474\n"
     ]
    },
    {
     "name": "stderr",
     "output_type": "stream",
     "text": [
      "\n",
      "\n",
      "\n",
      "\n",
      "\n",
      "\n",
      "\n",
      "\n",
      "\n",
      "\n",
      "\n",
      "\n",
      "\n",
      "\n",
      "\n",
      "\n",
      "\n",
      "\n",
      "\n",
      "\n",
      "Epoch:   7%|▋         | 2/30 [00:09<02:10,  4.67s/it]\u001b[A\u001b[A\u001b[A\u001b[A\u001b[A\u001b[A\u001b[A\u001b[A\u001b[A\u001b[A\u001b[A\u001b[A\u001b[A\u001b[A\u001b[A\u001b[A\u001b[A\u001b[A\u001b[A\u001b[A"
     ]
    },
    {
     "name": "stdout",
     "output_type": "stream",
     "text": [
      "2019-08-13 07:42:24,947 - biomed_ie - INFO - Train loss: 0.00827257767777682\n",
      "2019-08-13 07:42:25,297 - biomed_ie - INFO - Validation loss: 0.0022300381512863304\n"
     ]
    },
    {
     "name": "stderr",
     "output_type": "stream",
     "text": [
      "\n",
      "\n",
      "\n",
      "\n",
      "\n",
      "\n",
      "\n",
      "\n",
      "\n",
      "\n",
      "\n",
      "\n",
      "\n",
      "\n",
      "\n",
      "\n",
      "\n",
      "\n",
      "\n",
      "\n",
      "Epoch:  10%|█         | 3/30 [00:13<02:05,  4.66s/it]\u001b[A\u001b[A\u001b[A\u001b[A\u001b[A\u001b[A\u001b[A\u001b[A\u001b[A\u001b[A\u001b[A\u001b[A\u001b[A\u001b[A\u001b[A\u001b[A\u001b[A\u001b[A\u001b[A\u001b[A"
     ]
    },
    {
     "name": "stdout",
     "output_type": "stream",
     "text": [
      "2019-08-13 07:42:29,603 - biomed_ie - INFO - Train loss: 0.005732662900458709\n",
      "2019-08-13 07:42:29,955 - biomed_ie - INFO - Validation loss: 0.0026343065800812026\n"
     ]
    },
    {
     "name": "stderr",
     "output_type": "stream",
     "text": [
      "\n",
      "\n",
      "\n",
      "\n",
      "\n",
      "\n",
      "\n",
      "\n",
      "\n",
      "\n",
      "\n",
      "\n",
      "\n",
      "\n",
      "\n",
      "\n",
      "\n",
      "\n",
      "\n",
      "\n",
      "Epoch:  13%|█▎        | 4/30 [00:18<02:01,  4.66s/it]\u001b[A\u001b[A\u001b[A\u001b[A\u001b[A\u001b[A\u001b[A\u001b[A\u001b[A\u001b[A\u001b[A\u001b[A\u001b[A\u001b[A\u001b[A\u001b[A\u001b[A\u001b[A\u001b[A\u001b[A"
     ]
    },
    {
     "name": "stdout",
     "output_type": "stream",
     "text": [
      "2019-08-13 07:42:34,255 - biomed_ie - INFO - Train loss: 0.003651647616843709\n",
      "2019-08-13 07:42:34,606 - biomed_ie - INFO - Validation loss: 0.0031669968316034858\n"
     ]
    },
    {
     "name": "stderr",
     "output_type": "stream",
     "text": [
      "\n",
      "\n",
      "\n",
      "\n",
      "\n",
      "\n",
      "\n",
      "\n",
      "\n",
      "\n",
      "\n",
      "\n",
      "\n",
      "\n",
      "\n",
      "\n",
      "\n",
      "\n",
      "\n",
      "\n",
      "Epoch:  17%|█▋        | 5/30 [00:23<01:56,  4.66s/it]\u001b[A\u001b[A\u001b[A\u001b[A\u001b[A\u001b[A\u001b[A\u001b[A\u001b[A\u001b[A\u001b[A\u001b[A\u001b[A\u001b[A\u001b[A\u001b[A\u001b[A\u001b[A\u001b[A\u001b[A"
     ]
    },
    {
     "name": "stdout",
     "output_type": "stream",
     "text": [
      "2019-08-13 07:42:39,052 - biomed_ie - INFO - Train loss: 0.0025107500932550265\n",
      "2019-08-13 07:42:39,404 - biomed_ie - INFO - Validation loss: 0.003286129941478468\n",
      "2019-08-13 07:43:08,813 - biomed_ie - INFO - Performance: {'_f1_score': 0.6010010388138634}\n",
      "2019-08-13 07:43:08,815 - biomed_ie - INFO - Active learning iteration: #21\n",
      "2019-08-13 07:43:14,561 - biomed_ie - INFO - Full finetuning: True\n",
      "2019-08-13 07:43:14,565 - biomed_ie - INFO - N parameters: 108314886\n"
     ]
    },
    {
     "name": "stderr",
     "output_type": "stream",
     "text": [
      "\n",
      "\n",
      "\n",
      "\n",
      "\n",
      "\n",
      "\n",
      "\n",
      "\n",
      "\n",
      "\n",
      "\n",
      "\n",
      "\n",
      "\n",
      "\n",
      "\n",
      "\n",
      "\n",
      "\n",
      "\n",
      "Epoch:   0%|          | 0/30 [00:00<?, ?it/s]\u001b[A\u001b[A\u001b[A\u001b[A\u001b[A\u001b[A\u001b[A\u001b[A\u001b[A\u001b[A\u001b[A\u001b[A\u001b[A\u001b[A\u001b[A\u001b[A\u001b[A\u001b[A\u001b[A\u001b[A\u001b[A"
     ]
    },
    {
     "name": "stdout",
     "output_type": "stream",
     "text": [
      "2019-08-13 07:43:19,177 - biomed_ie - INFO - Train loss: 0.027668559995592406\n",
      "2019-08-13 07:43:19,544 - biomed_ie - INFO - Validation loss: 0.002826472941946109\n"
     ]
    },
    {
     "name": "stderr",
     "output_type": "stream",
     "text": [
      "\n",
      "\n",
      "\n",
      "\n",
      "\n",
      "\n",
      "\n",
      "\n",
      "\n",
      "\n",
      "\n",
      "\n",
      "\n",
      "\n",
      "\n",
      "\n",
      "\n",
      "\n",
      "\n",
      "\n",
      "\n",
      "Epoch:   3%|▎         | 1/30 [00:04<02:22,  4.93s/it]\u001b[A\u001b[A\u001b[A\u001b[A\u001b[A\u001b[A\u001b[A\u001b[A\u001b[A\u001b[A\u001b[A\u001b[A\u001b[A\u001b[A\u001b[A\u001b[A\u001b[A\u001b[A\u001b[A\u001b[A\u001b[A"
     ]
    },
    {
     "name": "stdout",
     "output_type": "stream",
     "text": [
      "2019-08-13 07:43:24,224 - biomed_ie - INFO - Train loss: 0.01152995959460582\n",
      "2019-08-13 07:43:24,593 - biomed_ie - INFO - Validation loss: 0.002130792651037213\n"
     ]
    },
    {
     "name": "stderr",
     "output_type": "stream",
     "text": [
      "\n",
      "\n",
      "\n",
      "\n",
      "\n",
      "\n",
      "\n",
      "\n",
      "\n",
      "\n",
      "\n",
      "\n",
      "\n",
      "\n",
      "\n",
      "\n",
      "\n",
      "\n",
      "\n",
      "\n",
      "\n",
      "Epoch:   7%|▋         | 2/30 [00:09<02:18,  4.96s/it]\u001b[A\u001b[A\u001b[A\u001b[A\u001b[A\u001b[A\u001b[A\u001b[A\u001b[A\u001b[A\u001b[A\u001b[A\u001b[A\u001b[A\u001b[A\u001b[A\u001b[A\u001b[A\u001b[A\u001b[A\u001b[A"
     ]
    },
    {
     "name": "stdout",
     "output_type": "stream",
     "text": [
      "2019-08-13 07:43:29,264 - biomed_ie - INFO - Train loss: 0.00811410830823039\n",
      "2019-08-13 07:43:29,632 - biomed_ie - INFO - Validation loss: 0.0024181858134379886\n"
     ]
    },
    {
     "name": "stderr",
     "output_type": "stream",
     "text": [
      "\n",
      "\n",
      "\n",
      "\n",
      "\n",
      "\n",
      "\n",
      "\n",
      "\n",
      "\n",
      "\n",
      "\n",
      "\n",
      "\n",
      "\n",
      "\n",
      "\n",
      "\n",
      "\n",
      "\n",
      "\n",
      "Epoch:  10%|█         | 3/30 [00:15<02:14,  4.99s/it]\u001b[A\u001b[A\u001b[A\u001b[A\u001b[A\u001b[A\u001b[A\u001b[A\u001b[A\u001b[A\u001b[A\u001b[A\u001b[A\u001b[A\u001b[A\u001b[A\u001b[A\u001b[A\u001b[A\u001b[A\u001b[A"
     ]
    },
    {
     "name": "stdout",
     "output_type": "stream",
     "text": [
      "2019-08-13 07:43:34,287 - biomed_ie - INFO - Train loss: 0.0053235569102138966\n",
      "2019-08-13 07:43:34,656 - biomed_ie - INFO - Validation loss: 0.002296049473454685\n"
     ]
    },
    {
     "name": "stderr",
     "output_type": "stream",
     "text": [
      "\n",
      "\n",
      "\n",
      "\n",
      "\n",
      "\n",
      "\n",
      "\n",
      "\n",
      "\n",
      "\n",
      "\n",
      "\n",
      "\n",
      "\n",
      "\n",
      "\n",
      "\n",
      "\n",
      "\n",
      "\n",
      "Epoch:  13%|█▎        | 4/30 [00:20<02:09,  5.00s/it]\u001b[A\u001b[A\u001b[A\u001b[A\u001b[A\u001b[A\u001b[A\u001b[A\u001b[A\u001b[A\u001b[A\u001b[A\u001b[A\u001b[A\u001b[A\u001b[A\u001b[A\u001b[A\u001b[A\u001b[A\u001b[A"
     ]
    },
    {
     "name": "stdout",
     "output_type": "stream",
     "text": [
      "2019-08-13 07:43:39,331 - biomed_ie - INFO - Train loss: 0.0035339869453468783\n",
      "2019-08-13 07:43:39,704 - biomed_ie - INFO - Validation loss: 0.0026423795046725228\n",
      "2019-08-13 07:44:09,231 - biomed_ie - INFO - Performance: {'_f1_score': 0.6050052336092873}\n",
      "2019-08-13 07:44:09,233 - biomed_ie - INFO - Active learning iteration: #22\n",
      "2019-08-13 07:44:14,959 - biomed_ie - INFO - Full finetuning: True\n",
      "2019-08-13 07:44:14,963 - biomed_ie - INFO - N parameters: 108314886\n"
     ]
    },
    {
     "name": "stderr",
     "output_type": "stream",
     "text": [
      "\n",
      "\n",
      "\n",
      "\n",
      "\n",
      "\n",
      "\n",
      "\n",
      "\n",
      "\n",
      "\n",
      "\n",
      "\n",
      "\n",
      "\n",
      "\n",
      "\n",
      "\n",
      "\n",
      "\n",
      "\n",
      "\n",
      "Epoch:   0%|          | 0/30 [00:00<?, ?it/s]\u001b[A\u001b[A\u001b[A\u001b[A\u001b[A\u001b[A\u001b[A\u001b[A\u001b[A\u001b[A\u001b[A\u001b[A\u001b[A\u001b[A\u001b[A\u001b[A\u001b[A\u001b[A\u001b[A\u001b[A\u001b[A\u001b[A"
     ]
    },
    {
     "name": "stdout",
     "output_type": "stream",
     "text": [
      "2019-08-13 07:44:19,869 - biomed_ie - INFO - Train loss: 0.03177704334615336\n",
      "2019-08-13 07:44:20,251 - biomed_ie - INFO - Validation loss: 0.0028930869608012485\n"
     ]
    },
    {
     "name": "stderr",
     "output_type": "stream",
     "text": [
      "\n",
      "\n",
      "\n",
      "\n",
      "\n",
      "\n",
      "\n",
      "\n",
      "\n",
      "\n",
      "\n",
      "\n",
      "\n",
      "\n",
      "\n",
      "\n",
      "\n",
      "\n",
      "\n",
      "\n",
      "\n",
      "\n",
      "Epoch:   3%|▎         | 1/30 [00:05<02:31,  5.23s/it]\u001b[A\u001b[A\u001b[A\u001b[A\u001b[A\u001b[A\u001b[A\u001b[A\u001b[A\u001b[A\u001b[A\u001b[A\u001b[A\u001b[A\u001b[A\u001b[A\u001b[A\u001b[A\u001b[A\u001b[A\u001b[A\u001b[A"
     ]
    },
    {
     "name": "stdout",
     "output_type": "stream",
     "text": [
      "2019-08-13 07:44:25,043 - biomed_ie - INFO - Train loss: 0.011273589879557368\n",
      "2019-08-13 07:44:25,424 - biomed_ie - INFO - Validation loss: 0.0020273444882224607\n"
     ]
    },
    {
     "name": "stderr",
     "output_type": "stream",
     "text": [
      "\n",
      "\n",
      "\n",
      "\n",
      "\n",
      "\n",
      "\n",
      "\n",
      "\n",
      "\n",
      "\n",
      "\n",
      "\n",
      "\n",
      "\n",
      "\n",
      "\n",
      "\n",
      "\n",
      "\n",
      "\n",
      "\n",
      "Epoch:   7%|▋         | 2/30 [00:10<02:26,  5.22s/it]\u001b[A\u001b[A\u001b[A\u001b[A\u001b[A\u001b[A\u001b[A\u001b[A\u001b[A\u001b[A\u001b[A\u001b[A\u001b[A\u001b[A\u001b[A\u001b[A\u001b[A\u001b[A\u001b[A\u001b[A\u001b[A\u001b[A"
     ]
    },
    {
     "name": "stdout",
     "output_type": "stream",
     "text": [
      "2019-08-13 07:44:30,216 - biomed_ie - INFO - Train loss: 0.0074067261626620294\n",
      "2019-08-13 07:44:30,597 - biomed_ie - INFO - Validation loss: 0.002305238650501252\n"
     ]
    },
    {
     "name": "stderr",
     "output_type": "stream",
     "text": [
      "\n",
      "\n",
      "\n",
      "\n",
      "\n",
      "\n",
      "\n",
      "\n",
      "\n",
      "\n",
      "\n",
      "\n",
      "\n",
      "\n",
      "\n",
      "\n",
      "\n",
      "\n",
      "\n",
      "\n",
      "\n",
      "\n",
      "Epoch:  10%|█         | 3/30 [00:15<02:20,  5.20s/it]\u001b[A\u001b[A\u001b[A\u001b[A\u001b[A\u001b[A\u001b[A\u001b[A\u001b[A\u001b[A\u001b[A\u001b[A\u001b[A\u001b[A\u001b[A\u001b[A\u001b[A\u001b[A\u001b[A\u001b[A\u001b[A\u001b[A"
     ]
    },
    {
     "name": "stdout",
     "output_type": "stream",
     "text": [
      "2019-08-13 07:44:35,420 - biomed_ie - INFO - Train loss: 0.004837999842993004\n",
      "2019-08-13 07:44:35,801 - biomed_ie - INFO - Validation loss: 0.002609292999290323\n"
     ]
    },
    {
     "name": "stderr",
     "output_type": "stream",
     "text": [
      "\n",
      "\n",
      "\n",
      "\n",
      "\n",
      "\n",
      "\n",
      "\n",
      "\n",
      "\n",
      "\n",
      "\n",
      "\n",
      "\n",
      "\n",
      "\n",
      "\n",
      "\n",
      "\n",
      "\n",
      "\n",
      "\n",
      "Epoch:  13%|█▎        | 4/30 [00:20<02:15,  5.20s/it]\u001b[A\u001b[A\u001b[A\u001b[A\u001b[A\u001b[A\u001b[A\u001b[A\u001b[A\u001b[A\u001b[A\u001b[A\u001b[A\u001b[A\u001b[A\u001b[A\u001b[A\u001b[A\u001b[A\u001b[A\u001b[A\u001b[A"
     ]
    },
    {
     "name": "stdout",
     "output_type": "stream",
     "text": [
      "2019-08-13 07:44:40,602 - biomed_ie - INFO - Train loss: 0.0029453539459363674\n",
      "2019-08-13 07:44:40,983 - biomed_ie - INFO - Validation loss: 0.0029469479811753507\n",
      "2019-08-13 07:45:10,325 - biomed_ie - INFO - Performance: {'_f1_score': 0.5860783721164501}\n",
      "2019-08-13 07:45:10,326 - biomed_ie - INFO - Active learning iteration: #23\n",
      "2019-08-13 07:45:16,027 - biomed_ie - INFO - Full finetuning: True\n",
      "2019-08-13 07:45:16,031 - biomed_ie - INFO - N parameters: 108314886\n"
     ]
    },
    {
     "name": "stderr",
     "output_type": "stream",
     "text": [
      "\n",
      "\n",
      "\n",
      "\n",
      "\n",
      "\n",
      "\n",
      "\n",
      "\n",
      "\n",
      "\n",
      "\n",
      "\n",
      "\n",
      "\n",
      "\n",
      "\n",
      "\n",
      "\n",
      "\n",
      "\n",
      "\n",
      "\n",
      "Epoch:   0%|          | 0/30 [00:00<?, ?it/s]\u001b[A\u001b[A\u001b[A\u001b[A\u001b[A\u001b[A\u001b[A\u001b[A\u001b[A\u001b[A\u001b[A\u001b[A\u001b[A\u001b[A\u001b[A\u001b[A\u001b[A\u001b[A\u001b[A\u001b[A\u001b[A\u001b[A\u001b[A"
     ]
    },
    {
     "name": "stdout",
     "output_type": "stream",
     "text": [
      "2019-08-13 07:45:21,166 - biomed_ie - INFO - Train loss: 0.026821411742502452\n",
      "2019-08-13 07:45:21,565 - biomed_ie - INFO - Validation loss: 0.0021197997471865486\n"
     ]
    },
    {
     "name": "stderr",
     "output_type": "stream",
     "text": [
      "\n",
      "\n",
      "\n",
      "\n",
      "\n",
      "\n",
      "\n",
      "\n",
      "\n",
      "\n",
      "\n",
      "\n",
      "\n",
      "\n",
      "\n",
      "\n",
      "\n",
      "\n",
      "\n",
      "\n",
      "\n",
      "\n",
      "\n",
      "Epoch:   3%|▎         | 1/30 [00:05<02:38,  5.48s/it]\u001b[A\u001b[A\u001b[A\u001b[A\u001b[A\u001b[A\u001b[A\u001b[A\u001b[A\u001b[A\u001b[A\u001b[A\u001b[A\u001b[A\u001b[A\u001b[A\u001b[A\u001b[A\u001b[A\u001b[A\u001b[A\u001b[A\u001b[A"
     ]
    },
    {
     "name": "stdout",
     "output_type": "stream",
     "text": [
      "2019-08-13 07:45:26,442 - biomed_ie - INFO - Train loss: 0.010677880782615288\n",
      "2019-08-13 07:45:26,836 - biomed_ie - INFO - Validation loss: 0.0020175270483880547\n"
     ]
    },
    {
     "name": "stderr",
     "output_type": "stream",
     "text": [
      "\n",
      "\n",
      "\n",
      "\n",
      "\n",
      "\n",
      "\n",
      "\n",
      "\n",
      "\n",
      "\n",
      "\n",
      "\n",
      "\n",
      "\n",
      "\n",
      "\n",
      "\n",
      "\n",
      "\n",
      "\n",
      "\n",
      "\n",
      "Epoch:   7%|▋         | 2/30 [00:10<02:31,  5.41s/it]\u001b[A\u001b[A\u001b[A\u001b[A\u001b[A\u001b[A\u001b[A\u001b[A\u001b[A\u001b[A\u001b[A\u001b[A\u001b[A\u001b[A\u001b[A\u001b[A\u001b[A\u001b[A\u001b[A\u001b[A\u001b[A\u001b[A\u001b[A"
     ]
    },
    {
     "name": "stdout",
     "output_type": "stream",
     "text": [
      "2019-08-13 07:45:31,693 - biomed_ie - INFO - Train loss: 0.006609657988926319\n",
      "2019-08-13 07:45:32,089 - biomed_ie - INFO - Validation loss: 0.0018657943144201592\n"
     ]
    },
    {
     "name": "stderr",
     "output_type": "stream",
     "text": [
      "\n",
      "\n",
      "\n",
      "\n",
      "\n",
      "\n",
      "\n",
      "\n",
      "\n",
      "\n",
      "\n",
      "\n",
      "\n",
      "\n",
      "\n",
      "\n",
      "\n",
      "\n",
      "\n",
      "\n",
      "\n",
      "\n",
      "\n",
      "Epoch:  10%|█         | 3/30 [00:16<02:24,  5.37s/it]\u001b[A\u001b[A\u001b[A\u001b[A\u001b[A\u001b[A\u001b[A\u001b[A\u001b[A\u001b[A\u001b[A\u001b[A\u001b[A\u001b[A\u001b[A\u001b[A\u001b[A\u001b[A\u001b[A\u001b[A\u001b[A\u001b[A\u001b[A"
     ]
    },
    {
     "name": "stdout",
     "output_type": "stream",
     "text": [
      "2019-08-13 07:45:36,949 - biomed_ie - INFO - Train loss: 0.004093966892890457\n",
      "2019-08-13 07:45:37,345 - biomed_ie - INFO - Validation loss: 0.0021990286368949743\n"
     ]
    },
    {
     "name": "stderr",
     "output_type": "stream",
     "text": [
      "\n",
      "\n",
      "\n",
      "\n",
      "\n",
      "\n",
      "\n",
      "\n",
      "\n",
      "\n",
      "\n",
      "\n",
      "\n",
      "\n",
      "\n",
      "\n",
      "\n",
      "\n",
      "\n",
      "\n",
      "\n",
      "\n",
      "\n",
      "Epoch:  13%|█▎        | 4/30 [00:21<02:18,  5.33s/it]\u001b[A\u001b[A\u001b[A\u001b[A\u001b[A\u001b[A\u001b[A\u001b[A\u001b[A\u001b[A\u001b[A\u001b[A\u001b[A\u001b[A\u001b[A\u001b[A\u001b[A\u001b[A\u001b[A\u001b[A\u001b[A\u001b[A\u001b[A"
     ]
    },
    {
     "name": "stdout",
     "output_type": "stream",
     "text": [
      "2019-08-13 07:45:42,211 - biomed_ie - INFO - Train loss: 0.002547598800262617\n",
      "2019-08-13 07:45:42,608 - biomed_ie - INFO - Validation loss: 0.0024075556460123864\n"
     ]
    },
    {
     "name": "stderr",
     "output_type": "stream",
     "text": [
      "\n",
      "\n",
      "\n",
      "\n",
      "\n",
      "\n",
      "\n",
      "\n",
      "\n",
      "\n",
      "\n",
      "\n",
      "\n",
      "\n",
      "\n",
      "\n",
      "\n",
      "\n",
      "\n",
      "\n",
      "\n",
      "\n",
      "\n",
      "Epoch:  17%|█▋        | 5/30 [00:26<02:12,  5.31s/it]\u001b[A\u001b[A\u001b[A\u001b[A\u001b[A\u001b[A\u001b[A\u001b[A\u001b[A\u001b[A\u001b[A\u001b[A\u001b[A\u001b[A\u001b[A\u001b[A\u001b[A\u001b[A\u001b[A\u001b[A\u001b[A\u001b[A\u001b[A"
     ]
    },
    {
     "name": "stdout",
     "output_type": "stream",
     "text": [
      "2019-08-13 07:45:47,476 - biomed_ie - INFO - Train loss: 0.0015615556864807957\n",
      "2019-08-13 07:45:47,873 - biomed_ie - INFO - Validation loss: 0.003034049070667668\n",
      "2019-08-13 07:46:17,128 - biomed_ie - INFO - Performance: {'_f1_score': 0.6198408291689802}\n",
      "2019-08-13 07:46:17,129 - biomed_ie - INFO - Active learning iteration: #24\n",
      "2019-08-13 07:46:22,829 - biomed_ie - INFO - Full finetuning: True\n",
      "2019-08-13 07:46:22,834 - biomed_ie - INFO - N parameters: 108314886\n"
     ]
    },
    {
     "name": "stderr",
     "output_type": "stream",
     "text": [
      "\n",
      "\n",
      "\n",
      "\n",
      "\n",
      "\n",
      "\n",
      "\n",
      "\n",
      "\n",
      "\n",
      "\n",
      "\n",
      "\n",
      "\n",
      "\n",
      "\n",
      "\n",
      "\n",
      "\n",
      "\n",
      "\n",
      "\n",
      "\n",
      "Epoch:   0%|          | 0/30 [00:00<?, ?it/s]\u001b[A\u001b[A\u001b[A\u001b[A\u001b[A\u001b[A\u001b[A\u001b[A\u001b[A\u001b[A\u001b[A\u001b[A\u001b[A\u001b[A\u001b[A\u001b[A\u001b[A\u001b[A\u001b[A\u001b[A\u001b[A\u001b[A\u001b[A\u001b[A"
     ]
    },
    {
     "name": "stdout",
     "output_type": "stream",
     "text": [
      "2019-08-13 07:46:28,020 - biomed_ie - INFO - Train loss: 0.0359696179895269\n",
      "2019-08-13 07:46:28,432 - biomed_ie - INFO - Validation loss: 0.0023125959141568203\n"
     ]
    },
    {
     "name": "stderr",
     "output_type": "stream",
     "text": [
      "\n",
      "\n",
      "\n",
      "\n",
      "\n",
      "\n",
      "\n",
      "\n",
      "\n",
      "\n",
      "\n",
      "\n",
      "\n",
      "\n",
      "\n",
      "\n",
      "\n",
      "\n",
      "\n",
      "\n",
      "\n",
      "\n",
      "\n",
      "\n",
      "Epoch:   3%|▎         | 1/30 [00:05<02:40,  5.54s/it]\u001b[A\u001b[A\u001b[A\u001b[A\u001b[A\u001b[A\u001b[A\u001b[A\u001b[A\u001b[A\u001b[A\u001b[A\u001b[A\u001b[A\u001b[A\u001b[A\u001b[A\u001b[A\u001b[A\u001b[A\u001b[A\u001b[A\u001b[A\u001b[A"
     ]
    },
    {
     "name": "stdout",
     "output_type": "stream",
     "text": [
      "2019-08-13 07:46:33,700 - biomed_ie - INFO - Train loss: 0.01193092272437764\n",
      "2019-08-13 07:46:34,114 - biomed_ie - INFO - Validation loss: 0.0019885568230188816\n"
     ]
    },
    {
     "name": "stderr",
     "output_type": "stream",
     "text": [
      "\n",
      "\n",
      "\n",
      "\n",
      "\n",
      "\n",
      "\n",
      "\n",
      "\n",
      "\n",
      "\n",
      "\n",
      "\n",
      "\n",
      "\n",
      "\n",
      "\n",
      "\n",
      "\n",
      "\n",
      "\n",
      "\n",
      "\n",
      "\n",
      "Epoch:   7%|▋         | 2/30 [00:11<02:36,  5.58s/it]\u001b[A\u001b[A\u001b[A\u001b[A\u001b[A\u001b[A\u001b[A\u001b[A\u001b[A\u001b[A\u001b[A\u001b[A\u001b[A\u001b[A\u001b[A\u001b[A\u001b[A\u001b[A\u001b[A\u001b[A\u001b[A\u001b[A\u001b[A\u001b[A"
     ]
    },
    {
     "name": "stdout",
     "output_type": "stream",
     "text": [
      "2019-08-13 07:46:39,381 - biomed_ie - INFO - Train loss: 0.00804443077850852\n",
      "2019-08-13 07:46:39,792 - biomed_ie - INFO - Validation loss: 0.002425670019176178\n"
     ]
    },
    {
     "name": "stderr",
     "output_type": "stream",
     "text": [
      "\n",
      "\n",
      "\n",
      "\n",
      "\n",
      "\n",
      "\n",
      "\n",
      "\n",
      "\n",
      "\n",
      "\n",
      "\n",
      "\n",
      "\n",
      "\n",
      "\n",
      "\n",
      "\n",
      "\n",
      "\n",
      "\n",
      "\n",
      "\n",
      "Epoch:  10%|█         | 3/30 [00:16<02:31,  5.61s/it]\u001b[A\u001b[A\u001b[A\u001b[A\u001b[A\u001b[A\u001b[A\u001b[A\u001b[A\u001b[A\u001b[A\u001b[A\u001b[A\u001b[A\u001b[A\u001b[A\u001b[A\u001b[A\u001b[A\u001b[A\u001b[A\u001b[A\u001b[A\u001b[A"
     ]
    },
    {
     "name": "stdout",
     "output_type": "stream",
     "text": [
      "2019-08-13 07:46:44,904 - biomed_ie - INFO - Train loss: 0.005723268489493523\n",
      "2019-08-13 07:46:45,317 - biomed_ie - INFO - Validation loss: 0.0022788244747678995\n"
     ]
    },
    {
     "name": "stderr",
     "output_type": "stream",
     "text": [
      "\n",
      "\n",
      "\n",
      "\n",
      "\n",
      "\n",
      "\n",
      "\n",
      "\n",
      "\n",
      "\n",
      "\n",
      "\n",
      "\n",
      "\n",
      "\n",
      "\n",
      "\n",
      "\n",
      "\n",
      "\n",
      "\n",
      "\n",
      "\n",
      "Epoch:  13%|█▎        | 4/30 [00:22<02:25,  5.59s/it]\u001b[A\u001b[A\u001b[A\u001b[A\u001b[A\u001b[A\u001b[A\u001b[A\u001b[A\u001b[A\u001b[A\u001b[A\u001b[A\u001b[A\u001b[A\u001b[A\u001b[A\u001b[A\u001b[A\u001b[A\u001b[A\u001b[A\u001b[A\u001b[A"
     ]
    },
    {
     "name": "stdout",
     "output_type": "stream",
     "text": [
      "2019-08-13 07:46:50,407 - biomed_ie - INFO - Train loss: 0.003240678784794712\n",
      "2019-08-13 07:46:50,821 - biomed_ie - INFO - Validation loss: 0.002488181882678084\n"
     ]
    }
   ],
   "source": [
    "from isanlp.en.processor_tokenizer_nltk_en import ProcessorTokenizerNltkEn\n",
    "\n",
    "word_tokenizer = ProcessorTokenizerNltkEn()\n",
    "bpe_tokenizer = BertTokenizer.from_pretrained('bert-base-cased', cache_dir=CACHE_DIR, do_lower_case=False)\n",
    "run_experiment_al(dataset, dataset_test, 'Gene_span', word_tokenizer, bpe_tokenizer, \n",
    "                  output_file_path='../Logs/experiments_bio/')\n",
    "#'../Logs/experiments/'"
   ]
  },
  {
   "cell_type": "code",
   "execution_count": null,
   "metadata": {},
   "outputs": [],
   "source": []
  }
 ],
 "metadata": {
  "kernelspec": {
   "display_name": "Python 3",
   "language": "python",
   "name": "python3"
  },
  "language_info": {
   "codemirror_mode": {
    "name": "ipython",
    "version": 3
   },
   "file_extension": ".py",
   "mimetype": "text/x-python",
   "name": "python",
   "nbconvert_exporter": "python",
   "pygments_lexer": "ipython3",
   "version": "3.6.7"
  }
 },
 "nbformat": 4,
 "nbformat_minor": 2
}
