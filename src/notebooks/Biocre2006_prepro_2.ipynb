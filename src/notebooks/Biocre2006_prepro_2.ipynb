{
 "cells": [
  {
   "cell_type": "code",
   "execution_count": 1,
   "metadata": {},
   "outputs": [
    {
     "data": {
      "text/plain": [
       "'C:\\\\Users\\\\nikch\\\\Python'"
      ]
     },
     "execution_count": 1,
     "metadata": {},
     "output_type": "execute_result"
    }
   ],
   "source": [
    "import os\n",
    "import pandas as pd\n",
    "import re\n",
    "import seaborn as sns\n",
    "#import matplotlib.pyplot as plt; plt.rcdefaults()\n",
    "import numpy as np\n",
    "import matplotlib.pyplot as plt\n",
    "from tqdm import tqdm_notebook as tqdm\n",
    "os.getcwd()"
   ]
  },
  {
   "cell_type": "code",
   "execution_count": 2,
   "metadata": {},
   "outputs": [],
   "source": [
    "file =  open('train\\\\train.in','r')\n",
    "txt = file.read()\n",
    "txt = txt.split('\\n')"
   ]
  },
  {
   "cell_type": "code",
   "execution_count": 3,
   "metadata": {},
   "outputs": [
    {
     "name": "stdout",
     "output_type": "stream",
     "text": [
      "15001 15001\n"
     ]
    }
   ],
   "source": [
    "keys = []\n",
    "phrases = []\n",
    "for element in txt:\n",
    "    xxx = element.split(' ',1)\n",
    "    keys.append(xxx[0])\n",
    "    if len(xxx) == 1:\n",
    "        phrases.append(None)\n",
    "    else:\n",
    "        phrases.append(xxx[1])\n",
    "print(len(keys),len(phrases))\n",
    "df = {'Key':keys,'phrases':phrases}\n",
    "df = pd.DataFrame.from_dict(df)"
   ]
  },
  {
   "cell_type": "code",
   "execution_count": 4,
   "metadata": {},
   "outputs": [
    {
     "data": {
      "text/html": [
       "<div>\n",
       "<style scoped>\n",
       "    .dataframe tbody tr th:only-of-type {\n",
       "        vertical-align: middle;\n",
       "    }\n",
       "\n",
       "    .dataframe tbody tr th {\n",
       "        vertical-align: top;\n",
       "    }\n",
       "\n",
       "    .dataframe thead th {\n",
       "        text-align: right;\n",
       "    }\n",
       "</style>\n",
       "<table border=\"1\" class=\"dataframe\">\n",
       "  <thead>\n",
       "    <tr style=\"text-align: right;\">\n",
       "      <th></th>\n",
       "      <th>Key</th>\n",
       "      <th>phrases</th>\n",
       "    </tr>\n",
       "  </thead>\n",
       "  <tbody>\n",
       "    <tr>\n",
       "      <th>0</th>\n",
       "      <td>P00001606T0076</td>\n",
       "      <td>Comparison with alkaline phosphatases and 5-nu...</td>\n",
       "    </tr>\n",
       "    <tr>\n",
       "      <th>1</th>\n",
       "      <td>P00008171T0000</td>\n",
       "      <td>Pharmacologic aspects of neonatal hyperbilirub...</td>\n",
       "    </tr>\n",
       "    <tr>\n",
       "      <th>2</th>\n",
       "      <td>P00008997A0472</td>\n",
       "      <td>When CSF [HCO3-] is shown as a function of CSF...</td>\n",
       "    </tr>\n",
       "    <tr>\n",
       "      <th>3</th>\n",
       "      <td>P00010943A0733</td>\n",
       "      <td>Flurazepam thus appears to be an effective hyp...</td>\n",
       "    </tr>\n",
       "    <tr>\n",
       "      <th>4</th>\n",
       "      <td>P00012653T0045</td>\n",
       "      <td>Beta blocking agents.</td>\n",
       "    </tr>\n",
       "  </tbody>\n",
       "</table>\n",
       "</div>"
      ],
      "text/plain": [
       "              Key                                            phrases\n",
       "0  P00001606T0076  Comparison with alkaline phosphatases and 5-nu...\n",
       "1  P00008171T0000  Pharmacologic aspects of neonatal hyperbilirub...\n",
       "2  P00008997A0472  When CSF [HCO3-] is shown as a function of CSF...\n",
       "3  P00010943A0733  Flurazepam thus appears to be an effective hyp...\n",
       "4  P00012653T0045                              Beta blocking agents."
      ]
     },
     "execution_count": 4,
     "metadata": {},
     "output_type": "execute_result"
    }
   ],
   "source": [
    "df.head()"
   ]
  },
  {
   "cell_type": "code",
   "execution_count": 5,
   "metadata": {},
   "outputs": [],
   "source": [
    "file_span =  open('train\\\\GENE.eval','r')\n",
    "txt_span = file_span.read()\n",
    "txt_span  = txt_span.split('\\n')"
   ]
  },
  {
   "cell_type": "code",
   "execution_count": 6,
   "metadata": {},
   "outputs": [],
   "source": [
    "keys_span = []\n",
    "phrases_span = []\n",
    "for element in txt_span:\n",
    "    xxx = element.split('|')\n",
    "    keys_span.append(xxx[0])\n",
    "    if len(xxx) == 1:\n",
    "        phrases_span .append(None)\n",
    "    else:\n",
    "        phrases_span.append(xxx[2])\n",
    "df_span = {'Key':keys_span,'phrases':phrases_span}\n",
    "df_span = pd.DataFrame.from_dict(df_span)"
   ]
  },
  {
   "cell_type": "code",
   "execution_count": 7,
   "metadata": {},
   "outputs": [
    {
     "data": {
      "text/html": [
       "<div>\n",
       "<style scoped>\n",
       "    .dataframe tbody tr th:only-of-type {\n",
       "        vertical-align: middle;\n",
       "    }\n",
       "\n",
       "    .dataframe tbody tr th {\n",
       "        vertical-align: top;\n",
       "    }\n",
       "\n",
       "    .dataframe thead th {\n",
       "        text-align: right;\n",
       "    }\n",
       "</style>\n",
       "<table border=\"1\" class=\"dataframe\">\n",
       "  <thead>\n",
       "    <tr style=\"text-align: right;\">\n",
       "      <th></th>\n",
       "      <th>Key</th>\n",
       "      <th>phrases</th>\n",
       "    </tr>\n",
       "  </thead>\n",
       "  <tbody>\n",
       "    <tr>\n",
       "      <th>0</th>\n",
       "      <td>P00001606T0076</td>\n",
       "      <td>alkaline phosphatases</td>\n",
       "    </tr>\n",
       "    <tr>\n",
       "      <th>1</th>\n",
       "      <td>P00001606T0076</td>\n",
       "      <td>5-nucleotidase</td>\n",
       "    </tr>\n",
       "    <tr>\n",
       "      <th>2</th>\n",
       "      <td>P00015731A0090</td>\n",
       "      <td>carbonic anhydrase</td>\n",
       "    </tr>\n",
       "    <tr>\n",
       "      <th>3</th>\n",
       "      <td>P00024600A0522</td>\n",
       "      <td>HMG</td>\n",
       "    </tr>\n",
       "    <tr>\n",
       "      <th>4</th>\n",
       "      <td>P00027739T0000</td>\n",
       "      <td>Serum gamma glutamyltransferase</td>\n",
       "    </tr>\n",
       "  </tbody>\n",
       "</table>\n",
       "</div>"
      ],
      "text/plain": [
       "              Key                          phrases\n",
       "0  P00001606T0076            alkaline phosphatases\n",
       "1  P00001606T0076                   5-nucleotidase\n",
       "2  P00015731A0090               carbonic anhydrase\n",
       "3  P00024600A0522                              HMG\n",
       "4  P00027739T0000  Serum gamma glutamyltransferase"
      ]
     },
     "execution_count": 7,
     "metadata": {},
     "output_type": "execute_result"
    }
   ],
   "source": [
    "df_span.head()"
   ]
  },
  {
   "cell_type": "code",
   "execution_count": 8,
   "metadata": {},
   "outputs": [
    {
     "data": {
      "text/plain": [
       "(15001, 2)"
      ]
     },
     "execution_count": 8,
     "metadata": {},
     "output_type": "execute_result"
    }
   ],
   "source": [
    "df.shape"
   ]
  },
  {
   "cell_type": "code",
   "execution_count": 9,
   "metadata": {},
   "outputs": [
    {
     "data": {
      "text/html": [
       "<div>\n",
       "<style scoped>\n",
       "    .dataframe tbody tr th:only-of-type {\n",
       "        vertical-align: middle;\n",
       "    }\n",
       "\n",
       "    .dataframe tbody tr th {\n",
       "        vertical-align: top;\n",
       "    }\n",
       "\n",
       "    .dataframe thead th {\n",
       "        text-align: right;\n",
       "    }\n",
       "</style>\n",
       "<table border=\"1\" class=\"dataframe\">\n",
       "  <thead>\n",
       "    <tr style=\"text-align: right;\">\n",
       "      <th></th>\n",
       "      <th>Key</th>\n",
       "      <th>phrases</th>\n",
       "    </tr>\n",
       "  </thead>\n",
       "  <tbody>\n",
       "    <tr>\n",
       "      <th>0</th>\n",
       "      <td>P00001606T0076</td>\n",
       "      <td>Comparison with alkaline phosphatases and 5-nu...</td>\n",
       "    </tr>\n",
       "    <tr>\n",
       "      <th>1</th>\n",
       "      <td>P00008171T0000</td>\n",
       "      <td>Pharmacologic aspects of neonatal hyperbilirub...</td>\n",
       "    </tr>\n",
       "    <tr>\n",
       "      <th>2</th>\n",
       "      <td>P00008997A0472</td>\n",
       "      <td>When CSF [HCO3-] is shown as a function of CSF...</td>\n",
       "    </tr>\n",
       "    <tr>\n",
       "      <th>3</th>\n",
       "      <td>P00010943A0733</td>\n",
       "      <td>Flurazepam thus appears to be an effective hyp...</td>\n",
       "    </tr>\n",
       "    <tr>\n",
       "      <th>4</th>\n",
       "      <td>P00012653T0045</td>\n",
       "      <td>Beta blocking agents.</td>\n",
       "    </tr>\n",
       "  </tbody>\n",
       "</table>\n",
       "</div>"
      ],
      "text/plain": [
       "              Key                                            phrases\n",
       "0  P00001606T0076  Comparison with alkaline phosphatases and 5-nu...\n",
       "1  P00008171T0000  Pharmacologic aspects of neonatal hyperbilirub...\n",
       "2  P00008997A0472  When CSF [HCO3-] is shown as a function of CSF...\n",
       "3  P00010943A0733  Flurazepam thus appears to be an effective hyp...\n",
       "4  P00012653T0045                              Beta blocking agents."
      ]
     },
     "execution_count": 9,
     "metadata": {},
     "output_type": "execute_result"
    }
   ],
   "source": [
    "df_test = df.iloc[0:7500]\n",
    "df_test.head()"
   ]
  },
  {
   "cell_type": "code",
   "execution_count": 10,
   "metadata": {},
   "outputs": [],
   "source": [
    "# def spanner(condition, string):\n",
    "#         condition = re.escape(condition)\n",
    "#         result = re.search(condition,string)\n",
    "# #         if result is None:\n",
    "# #             return None\n",
    "# #         else:\n",
    "#         return list(re.search(condition,string).span())\n",
    "# def get_spans(genes, phrase):\n",
    "#     result = []\n",
    "#     if len(genes) > 1:\n",
    "#         for item in genes:\n",
    "#             result.append(spanner(item,phrase))\n",
    "#         return result\n",
    "#     if len(genes) == 1:\n",
    "#             result.append(spanner(genes[0],phrase))\n",
    "#             return result\n",
    "#     else:\n",
    "#         return []"
   ]
  },
  {
   "cell_type": "code",
   "execution_count": 17,
   "metadata": {},
   "outputs": [],
   "source": [
    "def get_spans(genes, phrase):\n",
    "    result = []\n",
    "    if phrase == None:\n",
    "        return result\n",
    "    if len(genes) > 1:\n",
    "        for item in genes:\n",
    "            result.append([phrase.find(item),phrase.find(item)+len(genes[0])])\n",
    "        return result\n",
    "    elif len(genes) == 1:\n",
    "        result.append([phrase.find(genes[0]),phrase.find(genes[0])+len(genes[0])])\n",
    "        return result\n",
    "    else:\n",
    "        return result"
   ]
  },
  {
   "cell_type": "code",
   "execution_count": 18,
   "metadata": {},
   "outputs": [
    {
     "data": {
      "text/plain": [
       "'vacuolar H(+)-ATPase'"
      ]
     },
     "execution_count": 18,
     "metadata": {},
     "output_type": "execute_result"
    }
   ],
   "source": [
    "#re.search(r'vacuolar H(+)-ATPase','Differential expression of the \"B\" subunit of the vacuolar H(+)-ATPase in bovine tissues.').span()\n",
    "#re.search(r'vacuolar H','Differential expression of the \"B\" subunit of the vacuolar H(+)-ATPase in bovine tissues.').span()\n",
    "#re.search(re.escape('vacuolar H(+)-ATPase'),'Differential expression of the \"B\" subunit of the vacuolar H(+)-ATPase in bovine tissues.').span()\n",
    "#get_spans([re.escape('vacuolar H(+)-ATPase')],'Differential expression of the \"B\" subunit of the vacuolar H(+)-ATPase in bovine tissues.')\n",
    "s ='Differential expression of the \"B\" subunit of the vacuolar H(+)-ATPase in bovine tissues.'\n",
    "l = 'vacuolar H(+)-ATPase'\n",
    "s.find(l),len(l)\n",
    "s[50:70]"
   ]
  },
  {
   "cell_type": "code",
   "execution_count": 21,
   "metadata": {},
   "outputs": [],
   "source": [
    "df['Something'] = None\n",
    "for index, row in df.iterrows():\n",
    "    genes = df_span[df_span['Key'] == row['Key']]['phrases'].values\n",
    "    phrase = row['phrases']\n",
    "    df.loc[index]['Something'] = get_spans(genes, phrase)"
   ]
  },
  {
   "cell_type": "code",
   "execution_count": 22,
   "metadata": {},
   "outputs": [
    {
     "data": {
      "text/html": [
       "<div>\n",
       "<style scoped>\n",
       "    .dataframe tbody tr th:only-of-type {\n",
       "        vertical-align: middle;\n",
       "    }\n",
       "\n",
       "    .dataframe tbody tr th {\n",
       "        vertical-align: top;\n",
       "    }\n",
       "\n",
       "    .dataframe thead th {\n",
       "        text-align: right;\n",
       "    }\n",
       "</style>\n",
       "<table border=\"1\" class=\"dataframe\">\n",
       "  <thead>\n",
       "    <tr style=\"text-align: right;\">\n",
       "      <th></th>\n",
       "      <th>Key</th>\n",
       "      <th>phrases</th>\n",
       "      <th>Something</th>\n",
       "    </tr>\n",
       "  </thead>\n",
       "  <tbody>\n",
       "    <tr>\n",
       "      <th>0</th>\n",
       "      <td>P00001606T0076</td>\n",
       "      <td>Comparison with alkaline phosphatases and 5-nu...</td>\n",
       "      <td>[[16, 37], [42, 63]]</td>\n",
       "    </tr>\n",
       "    <tr>\n",
       "      <th>1</th>\n",
       "      <td>P00008171T0000</td>\n",
       "      <td>Pharmacologic aspects of neonatal hyperbilirub...</td>\n",
       "      <td>[]</td>\n",
       "    </tr>\n",
       "    <tr>\n",
       "      <th>2</th>\n",
       "      <td>P00008997A0472</td>\n",
       "      <td>When CSF [HCO3-] is shown as a function of CSF...</td>\n",
       "      <td>[]</td>\n",
       "    </tr>\n",
       "    <tr>\n",
       "      <th>3</th>\n",
       "      <td>P00010943A0733</td>\n",
       "      <td>Flurazepam thus appears to be an effective hyp...</td>\n",
       "      <td>[]</td>\n",
       "    </tr>\n",
       "    <tr>\n",
       "      <th>4</th>\n",
       "      <td>P00012653T0045</td>\n",
       "      <td>Beta blocking agents.</td>\n",
       "      <td>[]</td>\n",
       "    </tr>\n",
       "  </tbody>\n",
       "</table>\n",
       "</div>"
      ],
      "text/plain": [
       "              Key                                            phrases  \\\n",
       "0  P00001606T0076  Comparison with alkaline phosphatases and 5-nu...   \n",
       "1  P00008171T0000  Pharmacologic aspects of neonatal hyperbilirub...   \n",
       "2  P00008997A0472  When CSF [HCO3-] is shown as a function of CSF...   \n",
       "3  P00010943A0733  Flurazepam thus appears to be an effective hyp...   \n",
       "4  P00012653T0045                              Beta blocking agents.   \n",
       "\n",
       "              Something  \n",
       "0  [[16, 37], [42, 63]]  \n",
       "1                    []  \n",
       "2                    []  \n",
       "3                    []  \n",
       "4                    []  "
      ]
     },
     "execution_count": 22,
     "metadata": {},
     "output_type": "execute_result"
    }
   ],
   "source": [
    "df.head()"
   ]
  },
  {
   "cell_type": "code",
   "execution_count": 37,
   "metadata": {},
   "outputs": [],
   "source": [
    "df.rename(index=str,columns={'Something':'Gene_span'}, \n",
    "                inplace=True)"
   ]
  },
  {
   "cell_type": "code",
   "execution_count": 38,
   "metadata": {},
   "outputs": [
    {
     "data": {
      "text/html": [
       "<div>\n",
       "<style scoped>\n",
       "    .dataframe tbody tr th:only-of-type {\n",
       "        vertical-align: middle;\n",
       "    }\n",
       "\n",
       "    .dataframe tbody tr th {\n",
       "        vertical-align: top;\n",
       "    }\n",
       "\n",
       "    .dataframe thead th {\n",
       "        text-align: right;\n",
       "    }\n",
       "</style>\n",
       "<table border=\"1\" class=\"dataframe\">\n",
       "  <thead>\n",
       "    <tr style=\"text-align: right;\">\n",
       "      <th></th>\n",
       "      <th>Key</th>\n",
       "      <th>phrases</th>\n",
       "      <th>Gene_span</th>\n",
       "    </tr>\n",
       "  </thead>\n",
       "  <tbody>\n",
       "    <tr>\n",
       "      <th>0</th>\n",
       "      <td>P00001606T0076</td>\n",
       "      <td>Comparison with alkaline phosphatases and 5-nu...</td>\n",
       "      <td>[[16, 37], [42, 63]]</td>\n",
       "    </tr>\n",
       "    <tr>\n",
       "      <th>1</th>\n",
       "      <td>P00008171T0000</td>\n",
       "      <td>Pharmacologic aspects of neonatal hyperbilirub...</td>\n",
       "      <td>[]</td>\n",
       "    </tr>\n",
       "    <tr>\n",
       "      <th>2</th>\n",
       "      <td>P00008997A0472</td>\n",
       "      <td>When CSF [HCO3-] is shown as a function of CSF...</td>\n",
       "      <td>[]</td>\n",
       "    </tr>\n",
       "    <tr>\n",
       "      <th>3</th>\n",
       "      <td>P00010943A0733</td>\n",
       "      <td>Flurazepam thus appears to be an effective hyp...</td>\n",
       "      <td>[]</td>\n",
       "    </tr>\n",
       "    <tr>\n",
       "      <th>4</th>\n",
       "      <td>P00012653T0045</td>\n",
       "      <td>Beta blocking agents.</td>\n",
       "      <td>[]</td>\n",
       "    </tr>\n",
       "  </tbody>\n",
       "</table>\n",
       "</div>"
      ],
      "text/plain": [
       "              Key                                            phrases  \\\n",
       "0  P00001606T0076  Comparison with alkaline phosphatases and 5-nu...   \n",
       "1  P00008171T0000  Pharmacologic aspects of neonatal hyperbilirub...   \n",
       "2  P00008997A0472  When CSF [HCO3-] is shown as a function of CSF...   \n",
       "3  P00010943A0733  Flurazepam thus appears to be an effective hyp...   \n",
       "4  P00012653T0045                              Beta blocking agents.   \n",
       "\n",
       "              Gene_span  \n",
       "0  [[16, 37], [42, 63]]  \n",
       "1                    []  \n",
       "2                    []  \n",
       "3                    []  \n",
       "4                    []  "
      ]
     },
     "execution_count": 38,
     "metadata": {},
     "output_type": "execute_result"
    }
   ],
   "source": [
    "df.head()"
   ]
  },
  {
   "cell_type": "code",
   "execution_count": 39,
   "metadata": {},
   "outputs": [],
   "source": [
    "df.to_csv('Biocreative2006.csv')"
   ]
  },
  {
   "cell_type": "code",
   "execution_count": null,
   "metadata": {},
   "outputs": [],
   "source": []
  }
 ],
 "metadata": {
  "kernelspec": {
   "display_name": "Python 3",
   "language": "python",
   "name": "python3"
  },
  "language_info": {
   "codemirror_mode": {
    "name": "ipython",
    "version": 3
   },
   "file_extension": ".py",
   "mimetype": "text/x-python",
   "name": "python",
   "nbconvert_exporter": "python",
   "pygments_lexer": "ipython3",
   "version": "3.7.3"
  }
 },
 "nbformat": 4,
 "nbformat_minor": 2
}
