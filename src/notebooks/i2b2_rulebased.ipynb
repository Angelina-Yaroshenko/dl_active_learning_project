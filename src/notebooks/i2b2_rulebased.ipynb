{
 "cells": [
  {
   "cell_type": "markdown",
   "metadata": {},
   "source": [
    "# Rule-based sequence labelling for I2B2 Heart Risk factors"
   ]
  },
  {
   "cell_type": "code",
   "execution_count": null,
   "metadata": {},
   "outputs": [],
   "source": [
    "!pip install -e vadim-ml-tools"
   ]
  },
  {
   "cell_type": "code",
   "execution_count": 3,
   "metadata": {},
   "outputs": [],
   "source": [
    "import pandas as pd"
   ]
  },
  {
   "cell_type": "code",
   "execution_count": 5,
   "metadata": {},
   "outputs": [
    {
     "name": "stdout",
     "output_type": "stream",
     "text": [
      "(37038, 5)\n"
     ]
    },
    {
     "data": {
      "text/html": [
       "<div>\n",
       "<style scoped>\n",
       "    .dataframe tbody tr th:only-of-type {\n",
       "        vertical-align: middle;\n",
       "    }\n",
       "\n",
       "    .dataframe tbody tr th {\n",
       "        vertical-align: top;\n",
       "    }\n",
       "\n",
       "    .dataframe thead th {\n",
       "        text-align: right;\n",
       "    }\n",
       "</style>\n",
       "<table border=\"1\" class=\"dataframe\">\n",
       "  <thead>\n",
       "    <tr style=\"text-align: right;\">\n",
       "      <th></th>\n",
       "      <th>HYPERTENSION</th>\n",
       "      <th>CAD</th>\n",
       "      <th>DIABETES</th>\n",
       "      <th>texts</th>\n",
       "      <th>doc_ids</th>\n",
       "    </tr>\n",
       "  </thead>\n",
       "  <tbody>\n",
       "    <tr>\n",
       "      <th>0</th>\n",
       "      <td>[]</td>\n",
       "      <td>[]</td>\n",
       "      <td>[]</td>\n",
       "      <td>Record date: 2074-12-05\\n\\n \\n \\n \\n \\n \\n \\n ...</td>\n",
       "      <td>0</td>\n",
       "    </tr>\n",
       "    <tr>\n",
       "      <th>1</th>\n",
       "      <td>[]</td>\n",
       "      <td>[]</td>\n",
       "      <td>[]</td>\n",
       "      <td>228 Caldwell Road\\nColorado City,  NY  43414\\n...</td>\n",
       "      <td>0</td>\n",
       "    </tr>\n",
       "    <tr>\n",
       "      <th>10</th>\n",
       "      <td>[]</td>\n",
       "      <td>[]</td>\n",
       "      <td>[]</td>\n",
       "      <td>, simvastatin 10 mg po q.d.,\\namlodipine 5 mg ...</td>\n",
       "      <td>0</td>\n",
       "    </tr>\n",
       "    <tr>\n",
       "      <th>100</th>\n",
       "      <td>[]</td>\n",
       "      <td>[]</td>\n",
       "      <td>[]</td>\n",
       "      <td>SMOKED UNTIL 8/2/81.</td>\n",
       "      <td>1</td>\n",
       "    </tr>\n",
       "    <tr>\n",
       "      <th>1000</th>\n",
       "      <td>[]</td>\n",
       "      <td>[]</td>\n",
       "      <td>[]</td>\n",
       "      <td>She had no respiratory symptoms of dyspnea or ...</td>\n",
       "      <td>21</td>\n",
       "    </tr>\n",
       "  </tbody>\n",
       "</table>\n",
       "</div>"
      ],
      "text/plain": [
       "     HYPERTENSION CAD DIABETES  \\\n",
       "0              []  []       []   \n",
       "1              []  []       []   \n",
       "10             []  []       []   \n",
       "100            []  []       []   \n",
       "1000           []  []       []   \n",
       "\n",
       "                                                  texts  doc_ids  \n",
       "0     Record date: 2074-12-05\\n\\n \\n \\n \\n \\n \\n \\n ...        0  \n",
       "1     228 Caldwell Road\\nColorado City,  NY  43414\\n...        0  \n",
       "10    , simvastatin 10 mg po q.d.,\\namlodipine 5 mg ...        0  \n",
       "100                                SMOKED UNTIL 8/2/81.        1  \n",
       "1000  She had no respiratory symptoms of dyspnea or ...       21  "
      ]
     },
     "execution_count": 5,
     "metadata": {},
     "output_type": "execute_result"
    }
   ],
   "source": [
    "dataset_path = '../data/all_attributes.json'\n",
    "dataset = pd.read_json(dataset_path)\n",
    "print(dataset.shape)\n",
    "dataset.head()"
   ]
  },
  {
   "cell_type": "markdown",
   "metadata": {},
   "source": [
    "![XKCD](https://imgs.xkcd.com/comics/regular_expressions.png)"
   ]
  },
  {
   "cell_type": "code",
   "execution_count": 142,
   "metadata": {},
   "outputs": [],
   "source": [
    "hypertension_cues = {r'hypertension', r'hypertensive\\s+disease', \n",
    "     r'high.*blood\\spressure', r'blood\\s+pressure.+high',\n",
    "     r'increased.+blood\\s+pressure', r'blood\\s+pressure.+increased'\n",
    "     r'hbp', r'bp\\+'}\n",
    "\n",
    "cad_cues = {r'cad', r'coronary\\s+artery\\s+disease', \n",
    "     r'angina\\s+pectoris', r'coronary\\s+arteriosclerosis', \n",
    "     r'coronary\\s+artery\\s+atheroma', \n",
    "     r'atheroma.+coronary\\s+artery',\n",
    "     r'main\\s+stem\\s+disease', r'disease.+main\\s+stem'\n",
    "     r'coronary\\s+fibrosis', r'coronary\\s+occlusion', \n",
    "     r'coronary\\s+thrombosis', r'triple\\s+vessel\\s+disease'}\n",
    "\n",
    "diabetes_cues = {r'diabetes', r'pre-eclampsia', r'dm'}"
   ]
  },
  {
   "cell_type": "code",
   "execution_count": 143,
   "metadata": {},
   "outputs": [],
   "source": [
    "import re\n",
    "\n",
    "def detect_cues(cues, text):\n",
    "    return any(re.search(cue, text) for cue in cues)"
   ]
  },
  {
   "cell_type": "code",
   "execution_count": 144,
   "metadata": {},
   "outputs": [
    {
     "data": {
      "text/plain": [
       "True"
      ]
     },
     "execution_count": 144,
     "metadata": {},
     "output_type": "execute_result"
    }
   ],
   "source": [
    "detect_cues(hypertension_cues, 'suspect high blood pressure')"
   ]
  },
  {
   "cell_type": "code",
   "execution_count": 146,
   "metadata": {},
   "outputs": [
    {
     "data": {
      "text/plain": [
       "False"
      ]
     },
     "execution_count": 146,
     "metadata": {},
     "output_type": "execute_result"
    }
   ],
   "source": [
    "detect_cues(hypertension_cues, 'blood pressure unknown')"
   ]
  },
  {
   "cell_type": "code",
   "execution_count": 29,
   "metadata": {},
   "outputs": [],
   "source": [
    "from tqdm import tqdm"
   ]
  },
  {
   "cell_type": "code",
   "execution_count": 153,
   "metadata": {},
   "outputs": [
    {
     "name": "stderr",
     "output_type": "stream",
     "text": [
      "100%|██████████| 37038/37038 [00:00<00:00, 92637.60it/s]\n"
     ]
    }
   ],
   "source": [
    "dataset['hypertension_found'] = [\n",
    "    detect_cues(hypertension_cues, text.lower())\n",
    "    for text in tqdm(dataset['texts'])\n",
    "]"
   ]
  },
  {
   "cell_type": "code",
   "execution_count": 158,
   "metadata": {},
   "outputs": [
    {
     "name": "stderr",
     "output_type": "stream",
     "text": [
      "100%|██████████| 37038/37038 [00:00<00:00, 63070.14it/s]\n"
     ]
    }
   ],
   "source": [
    "dataset['cad_found'] = [\n",
    "    detect_cues(cad_cues, text.lower())\n",
    "    for text in tqdm(dataset['texts'])\n",
    "]"
   ]
  },
  {
   "cell_type": "code",
   "execution_count": 159,
   "metadata": {},
   "outputs": [
    {
     "name": "stderr",
     "output_type": "stream",
     "text": [
      "100%|██████████| 37038/37038 [00:00<00:00, 198164.44it/s]\n"
     ]
    }
   ],
   "source": [
    "dataset['diabetes_found'] = [\n",
    "    detect_cues(diabetes_cues, text.lower())\n",
    "    for text in tqdm(dataset['texts'])\n",
    "]"
   ]
  },
  {
   "cell_type": "code",
   "execution_count": 230,
   "metadata": {},
   "outputs": [],
   "source": [
    "from vadim_ml.metrics import binary_classification_report"
   ]
  },
  {
   "cell_type": "code",
   "execution_count": 161,
   "metadata": {},
   "outputs": [
    {
     "name": "stdout",
     "output_type": "stream",
     "text": [
      "true negatives: 35676\n",
      "false positives: 95\n",
      "false negatives: 839\n",
      "true positives: 428\n",
      "kappa: 0.4675691210673633\n",
      "precision: 0.8183556405353728\n",
      "recall: 0.3378058405682715\n",
      "f1: 0.47821229050279324\n",
      "\n"
     ]
    }
   ],
   "source": [
    "print(binary_classification_report(dataset['HYPERTENSION'].apply(bool), dataset['hypertension_found']))"
   ]
  },
  {
   "cell_type": "code",
   "execution_count": 162,
   "metadata": {},
   "outputs": [
    {
     "name": "stdout",
     "output_type": "stream",
     "text": [
      "true negatives: 35944\n",
      "false positives: 183\n",
      "false negatives: 475\n",
      "true positives: 436\n",
      "kappa: 0.561201607725643\n",
      "precision: 0.7043618739903069\n",
      "recall: 0.47859495060373214\n",
      "f1: 0.5699346405228759\n",
      "\n"
     ]
    }
   ],
   "source": [
    "print(binary_classification_report(dataset['CAD'].apply(bool), dataset['cad_found']))"
   ]
  },
  {
   "cell_type": "code",
   "execution_count": 163,
   "metadata": {},
   "outputs": [
    {
     "name": "stdout",
     "output_type": "stream",
     "text": [
      "true negatives: 34798\n",
      "false positives: 1132\n",
      "false negatives: 142\n",
      "true positives: 966\n",
      "kappa: 0.5864275155384135\n",
      "precision: 0.4604385128693994\n",
      "recall: 0.871841155234657\n",
      "f1: 0.6026200873362445\n",
      "\n"
     ]
    }
   ],
   "source": [
    "print(binary_classification_report(dataset['DIABETES'].apply(bool), dataset['diabetes_found']))"
   ]
  },
  {
   "cell_type": "code",
   "execution_count": 173,
   "metadata": {},
   "outputs": [
    {
     "name": "stdout",
     "output_type": "stream",
     "text": [
      "He will be admitted to George Rutledge, M.D.\n",
      "Record date: 2107-08-03\n",
      "\n",
      "\n",
      "\n",
      "\n",
      "Team 3A Intern Admission Note\n",
      "\n",
      "Name:\tDo, Tanya\n",
      "MRN:  6051778\n",
      "Date of Admission: 8/03/07\n",
      "\n",
      "PCP: Dr.\n",
      "Orelia Burns\n",
      "Admitting Physician: Dr.\n",
      "In 2104, she developed osteomyelitis following a fall, requiring surgery for debridment (right leg).\n",
      "In 2106, she was also admitted to Seymour Hospital with cellulitis of right leg and required a 2-week course of IV antibiotics.\n"
     ]
    }
   ],
   "source": [
    "for text in dataset[dataset['diabetes_found'] & ~dataset['DIABETES'].apply(bool)].iloc[:5]['texts']:\n",
    "    print(text)"
   ]
  },
  {
   "cell_type": "code",
   "execution_count": 204,
   "metadata": {},
   "outputs": [],
   "source": [
    "def detect_separated_cues(cues, text, sep=r'(^|$|\\W)'):\n",
    "    return any(re.search(sep + cue + sep, text) for cue in cues)"
   ]
  },
  {
   "cell_type": "code",
   "execution_count": 206,
   "metadata": {},
   "outputs": [
    {
     "data": {
      "text/plain": [
       "True"
      ]
     },
     "execution_count": 206,
     "metadata": {},
     "output_type": "execute_result"
    }
   ],
   "source": [
    "detect_separated_cues(hypertension_cues, 'hypertension, found')"
   ]
  },
  {
   "cell_type": "code",
   "execution_count": 207,
   "metadata": {},
   "outputs": [
    {
     "name": "stderr",
     "output_type": "stream",
     "text": [
      "100%|██████████| 37038/37038 [00:01<00:00, 20068.98it/s]\n",
      "100%|██████████| 37038/37038 [00:02<00:00, 13450.68it/s]\n",
      "100%|██████████| 37038/37038 [00:00<00:00, 42248.58it/s]\n"
     ]
    }
   ],
   "source": [
    "dataset['hypertension_found'] = [\n",
    "    detect_separated_cues(hypertension_cues, text.lower())\n",
    "    for text in tqdm(dataset['texts'])\n",
    "]\n",
    "dataset['cad_found'] = [\n",
    "    detect_separated_cues(cad_cues, text.lower())\n",
    "    for text in tqdm(dataset['texts'])\n",
    "]\n",
    "dataset['diabetes_found'] = [\n",
    "    detect_separated_cues(diabetes_cues, text.lower())\n",
    "    for text in tqdm(dataset['texts'])\n",
    "]"
   ]
  },
  {
   "cell_type": "code",
   "execution_count": 208,
   "metadata": {},
   "outputs": [
    {
     "name": "stdout",
     "output_type": "stream",
     "text": [
      "true negatives: 35679\n",
      "false positives: 92\n",
      "false negatives: 842\n",
      "true positives: 425\n",
      "kappa: 0.4658672025139735\n",
      "precision: 0.8220502901353965\n",
      "recall: 0.3354380426203631\n",
      "f1: 0.47645739910313906\n",
      "\n"
     ]
    }
   ],
   "source": [
    "print(binary_classification_report(dataset['HYPERTENSION'].apply(bool), dataset['hypertension_found']))"
   ]
  },
  {
   "cell_type": "code",
   "execution_count": 209,
   "metadata": {},
   "outputs": [
    {
     "name": "stdout",
     "output_type": "stream",
     "text": [
      "true negatives: 35971\n",
      "false positives: 156\n",
      "false negatives: 478\n",
      "true positives: 433\n",
      "kappa: 0.5690081474063442\n",
      "precision: 0.735144312393888\n",
      "recall: 0.47530186608122943\n",
      "f1: 0.5773333333333334\n",
      "\n"
     ]
    }
   ],
   "source": [
    "print(binary_classification_report(dataset['CAD'].apply(bool), dataset['cad_found']))"
   ]
  },
  {
   "cell_type": "code",
   "execution_count": 210,
   "metadata": {},
   "outputs": [
    {
     "name": "stdout",
     "output_type": "stream",
     "text": [
      "true negatives: 35577\n",
      "false positives: 353\n",
      "false negatives: 254\n",
      "true positives: 854\n",
      "kappa: 0.7293543100422303\n",
      "precision: 0.7075393537696769\n",
      "recall: 0.7707581227436823\n",
      "f1: 0.7377969762419007\n",
      "\n"
     ]
    }
   ],
   "source": [
    "print(binary_classification_report(dataset['DIABETES'].apply(bool), dataset['diabetes_found']))"
   ]
  },
  {
   "cell_type": "code",
   "execution_count": 234,
   "metadata": {},
   "outputs": [],
   "source": [
    "hypertension_cues = {r'hypertension', r'hypertensive',\n",
    "     r'high.*blood\\spressure', r'blood\\s+pressure.+high',\n",
    "     r'increased?.+blood\\s+pressure', r'blood\\s+pressure.+increased?'\n",
    "     r'hbp', r'bp\\+', r'pre-?eclampsia', r'eph'}\n",
    "\n",
    "cad_cues = {r'cad', r'coronary\\s+artery\\s+(disease|disorder)', \n",
    "     r'(variant|prinzmetal\\'?\\s?).+angina', \n",
    "     r'coronary.+(arterio|athero)sclerosis', \n",
    "     r'coronary\\s+artery.+atheroma',\n",
    "     r'atheroma.+coronary\\s+artery'\n",
    "     r'(arterio|athero)sclerotic\\s+heart\\s+(disease|disorder)'\n",
    "     r'main\\s+stem\\s+(disease|disorder)', \n",
    "     r'(disease|disorder).+main\\s+stem',\n",
    "     r'coronary.+fibrosis', r'coronary\\s+occlusion', \n",
    "     r'coronary.+thrombosis', r'triple\\s+vessel\\s+(disease|disorder)'}\n",
    "\n",
    "diabetes_cues = {r'diabetes', r'dm'}"
   ]
  },
  {
   "cell_type": "code",
   "execution_count": 235,
   "metadata": {},
   "outputs": [
    {
     "name": "stderr",
     "output_type": "stream",
     "text": [
      "100%|██████████| 37038/37038 [00:02<00:00, 15924.30it/s]\n",
      "100%|██████████| 37038/37038 [00:02<00:00, 13634.73it/s]\n",
      "100%|██████████| 37038/37038 [00:00<00:00, 61368.40it/s]\n"
     ]
    }
   ],
   "source": [
    "dataset['hypertension_found'] = [\n",
    "    detect_separated_cues(hypertension_cues, text.lower())\n",
    "    for text in tqdm(dataset['texts'])\n",
    "]\n",
    "dataset['cad_found'] = [\n",
    "    detect_separated_cues(cad_cues, text.lower())\n",
    "    for text in tqdm(dataset['texts'])\n",
    "]\n",
    "dataset['diabetes_found'] = [\n",
    "    detect_separated_cues(diabetes_cues, text.lower())\n",
    "    for text in tqdm(dataset['texts'])\n",
    "]"
   ]
  },
  {
   "cell_type": "code",
   "execution_count": 236,
   "metadata": {},
   "outputs": [
    {
     "name": "stdout",
     "output_type": "stream",
     "text": [
      "true negatives: 35648\n",
      "false positives: 123\n",
      "false negatives: 817\n",
      "true positives: 450\n",
      "kappa: 0.47800905029477686\n",
      "precision: 0.7853403141361257\n",
      "recall: 0.35516969218626676\n",
      "f1: 0.48913043478260876\n",
      "\n"
     ]
    }
   ],
   "source": [
    "print(binary_classification_report(dataset['HYPERTENSION'].apply(bool), dataset['hypertension_found']))"
   ]
  },
  {
   "cell_type": "code",
   "execution_count": 237,
   "metadata": {},
   "outputs": [
    {
     "name": "stdout",
     "output_type": "stream",
     "text": [
      "true negatives: 35970\n",
      "false positives: 157\n",
      "false negatives: 479\n",
      "true positives: 432\n",
      "kappa: 0.5676485516568375\n",
      "precision: 0.733446519524618\n",
      "recall: 0.47420417124039516\n",
      "f1: 0.576\n",
      "\n"
     ]
    }
   ],
   "source": [
    "print(binary_classification_report(dataset['CAD'].apply(bool), dataset['cad_found']))"
   ]
  },
  {
   "cell_type": "code",
   "execution_count": 238,
   "metadata": {},
   "outputs": [
    {
     "name": "stdout",
     "output_type": "stream",
     "text": [
      "true negatives: 35577\n",
      "false positives: 353\n",
      "false negatives: 254\n",
      "true positives: 854\n",
      "kappa: 0.7293543100422303\n",
      "precision: 0.7075393537696769\n",
      "recall: 0.7707581227436823\n",
      "f1: 0.7377969762419007\n",
      "\n"
     ]
    }
   ],
   "source": [
    "print(binary_classification_report(dataset['DIABETES'].apply(bool), dataset['diabetes_found']))"
   ]
  },
  {
   "cell_type": "code",
   "execution_count": null,
   "metadata": {},
   "outputs": [],
   "source": []
  }
 ],
 "metadata": {
  "kernelspec": {
   "display_name": "Python 3",
   "language": "python",
   "name": "python3"
  },
  "language_info": {
   "codemirror_mode": {
    "name": "ipython",
    "version": 3
   },
   "file_extension": ".py",
   "mimetype": "text/x-python",
   "name": "python",
   "nbconvert_exporter": "python",
   "pygments_lexer": "ipython3",
   "version": "3.6.7"
  }
 },
 "nbformat": 4,
 "nbformat_minor": 2
}
