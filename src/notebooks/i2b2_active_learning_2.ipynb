{
 "cells": [
  {
   "cell_type": "code",
   "execution_count": 2,
   "metadata": {},
   "outputs": [],
   "source": [
    "# TODO:\n",
    "# +1. Update bert 0.6.1 vs 0.4.0  See https://github.com/huggingface/pytorch-pretrained-BERT/issues/328\n",
    "# 2. add crf on the top bert\n",
    "# +3. calculate probability of a sequence\n",
    "# 4. Try standard CRF with features from ACL paper\n",
    "# +5. Try other dataset (CONLL-2003, OntoNotes 5.0, NLPBA (http://www.nactem.ac.uk/tsujii/GENIA/ERtask/report.html), BioCreative)\n",
    "# +7. Draw plots for CAD, HYP, DIABETES\n",
    "# +8. Try document-level annotations\n",
    "# +9. Create Bi-LSTM CRF baseline using Flair\n",
    "# 10. Разобраться с тем как оценивали участники результаты на проверочном корпусе What is evaluated in i2b2 ? \n",
    "\n",
    "# 11. Take small amount of unannotated data, build dictionary and try to outperform the dictionary baseline\n",
    "# 12. Show that language models are super cool for active learning since you can use just a shallow architecture for training (faster)\n",
    "# 13. Just show that bert kills old baselines.\n",
    "# 14. Unlexicalized BERT for active learning (Poked bert delex.py)\n",
    "# 15. Propose a self-attention network for tagging and show it is better than LSTM\n",
    "# + 16. New variants of ranking procedure. Most uncertain among those that get positive labels. Most uncertain among tokens that have positive labels. \n",
    "# (yeah it seems to work at some point)\n",
    "\n",
    "# Calculate % of data by using number of tokens.\n",
    "# Use dictionary-based procedure to generate first annotated dataset\n",
    "# + Token evaluation metrics\n",
    "# + Try BERT without fine tuning Работает так себе ~45% f1\n",
    "# + evaluate bert on test data\n",
    "# Посмотреть, как работают скрипты оценки качества в i2b2\n",
    "# Fix sentence splitting procedure <===================\n",
    "# Fine-tune bert model and train only classifier https://github.com/huggingface/pytorch-pretrained-BERT/tree/master/examples/lm_finetuning\n",
    "# + Fix performance issue: generate batch with the length of the biggest sentence in batch\n",
    "# + Implement early stopping on dev set \n",
    "# + Rerun all experiments with bert on new test data \n",
    "# + Fix AL pipeline: retrain model from scratch, etc. \n",
    "# Widget: implement updating of text field with selection in Javascript. Then activate text field and   catch callback in python\n",
    "# + Check how we can deal with gpu memory allocation problem\n",
    "# + Make charts to plot several strategies at once \n",
    "# Inclusive, exclusive evaluation.\n",
    "# Measure time till convergence \n",
    "# Improve speed of flair Trainer, make universal trainer\n",
    "\n",
    "# Vadim incorrect validation set need to take part of train instead of test\n",
    "# + Make conversion stage from i2b2 format into conll. Use conll2003 format as the primary for experiments\n",
    "# Make a wrapper around Flair model\n",
    "# Make functions for testing Flair models\n",
    "# New tokenizers"
   ]
  },
  {
   "cell_type": "code",
   "execution_count": null,
   "metadata": {},
   "outputs": [],
   "source": [
    "!pip show pytorch_transformers seqeval flair"
   ]
  },
  {
   "cell_type": "code",
   "execution_count": null,
   "metadata": {},
   "outputs": [],
   "source": [
    "!pip install git+https://github.com/IINemo/libact.git@seq"
   ]
  },
  {
   "cell_type": "code",
   "execution_count": null,
   "metadata": {},
   "outputs": [],
   "source": [
    "#!pip install -e ./packages/libact/\n",
    "!pip uninstall -y actleto\n",
    "!pip install git+https://github.com/IINemo/active_learning_toolbox.git@seq"
   ]
  },
  {
   "cell_type": "code",
   "execution_count": null,
   "metadata": {},
   "outputs": [],
   "source": [
    "!pip install -e ../../activer_learning_toolbox"
   ]
  },
  {
   "cell_type": "markdown",
   "metadata": {},
   "source": [
    "# Initialization"
   ]
  },
  {
   "cell_type": "code",
   "execution_count": 1,
   "metadata": {},
   "outputs": [],
   "source": [
    "%load_ext autoreload\n",
    "%autoreload 2\n",
    "\n",
    "import os\n",
    "os.environ['CUDA_VISIBLE_DEVICES'] = '2'\n",
    "\n",
    "import sys\n",
    "sys.path += ['../../bert_sequence_tagger/src/']"
   ]
  },
  {
   "cell_type": "code",
   "execution_count": 2,
   "metadata": {},
   "outputs": [
    {
     "name": "stdout",
     "output_type": "stream",
     "text": [
      "Tesla V100-DGXS-16GB\n"
     ]
    }
   ],
   "source": [
    "import torch\n",
    "\n",
    "device = torch.device('cuda')\n",
    "for i in range(torch.cuda.device_count()):\n",
    "    print(torch.cuda.get_device_name(i))"
   ]
  },
  {
   "cell_type": "code",
   "execution_count": 3,
   "metadata": {},
   "outputs": [],
   "source": [
    "from logger import initialize_logger\n",
    "logger = initialize_logger('../workdir/logs/biomed_ie.log', 'biomed_ie')\n",
    "#initialize_logger('../workdir/logs/sequence_tagger_bert.log', 'sequence_tagger_bert')"
   ]
  },
  {
   "cell_type": "code",
   "execution_count": 4,
   "metadata": {},
   "outputs": [],
   "source": [
    "import pandas as pd\n",
    "import numpy as np\n",
    "from tqdm import tqdm_notebook as tqdm\n",
    "import json"
   ]
  },
  {
   "cell_type": "markdown",
   "metadata": {},
   "source": [
    "# Global parameters"
   ]
  },
  {
   "cell_type": "code",
   "execution_count": 5,
   "metadata": {},
   "outputs": [],
   "source": [
    "CACHE_DIR = '../workdir/cache'\n",
    "\n",
    "# MAX_LEN = 150\n",
    "BATCH_SIZE = 32\n",
    "#BATCH_SIZE = 16\n",
    "MAX_LEN = 100\n",
    "#BATCH_SIZE = 100\n",
    "#BATCH_SIZE_PRED = 1200 # 1600\n",
    "#BATCH_SIZE_PRED = 1200 # 1600\n",
    "BATCH_SIZE_PRED = 1500\n",
    "PRED_BATCH_SIZE = BATCH_SIZE_PRED\n",
    "random_state = 2019\n",
    "\n",
    "EARLY_STOPPING = 1\n",
    "MAX_RETRAIN_EPOCHS = 30\n",
    "#MAX_RETRAIN_EPOCHS = 15\n",
    "MAX_N_EPOCHS = MAX_RETRAIN_EPOCHS\n",
    "\n",
    "N_SAMPLES_PER_AL_ITER = 30\n",
    "N_AL_PASSES = 5\n",
    "N_AL_ITERATIONS = 25\n",
    "# N_AL_PASSES = 1\n",
    "# N_AL_ITERATIONS = 1\n",
    "\n",
    "BASE_LR = 5e-5\n",
    "LEARNING_RATE = BASE_LR\n",
    "\n",
    "VALIDATION_RATIO = 0.25\n",
    "\n",
    "MAX_TO_ANNEAL = 3\n",
    "ANNEAL_FACTOR = 0.5\n",
    "PATIENCE = 2\n",
    "WEIGHT_DECAY = 0.01\n",
    "\n",
    "SEED_POSITIVE = 10\n",
    "SEED_RANDOM = 40\n",
    "\n",
    "BIO_BERT = '../workdir/bio_bert/torch2/'\n",
    "OUTPUT_FILE_PATH = '../workdir/experiments/17_biobert/'\n",
    "#OUTPUT_FILE_PATH = '../workdir/experiments/debug'"
   ]
  },
  {
   "cell_type": "markdown",
   "metadata": {},
   "source": [
    "# Load dataset"
   ]
  },
  {
   "cell_type": "code",
   "execution_count": 6,
   "metadata": {},
   "outputs": [
    {
     "name": "stdout",
     "output_type": "stream",
     "text": [
      "2019-09-29 21:09:43,953 Reading data from ../workdir/i2b2/conll\n",
      "2019-09-29 21:09:43,953 Train: ../workdir/i2b2/conll/i2b2_training_hypertension.conll\n",
      "2019-09-29 21:09:43,954 Dev: ../workdir/i2b2/conll/i2b2_testing_hypertension.conll\n",
      "2019-09-29 21:09:43,954 Test: ../workdir/i2b2/conll/i2b2_testing_hypertension.conll\n",
      "2019-09-29 21:09:49,425 Reading data from ../workdir/i2b2/conll\n",
      "2019-09-29 21:09:49,426 Train: ../workdir/i2b2/conll/i2b2_training_cad.conll\n",
      "2019-09-29 21:09:49,427 Dev: ../workdir/i2b2/conll/i2b2_testing_cad.conll\n",
      "2019-09-29 21:09:49,428 Test: ../workdir/i2b2/conll/i2b2_testing_cad.conll\n",
      "2019-09-29 21:10:02,100 Reading data from ../workdir/i2b2/conll\n",
      "2019-09-29 21:10:02,101 Train: ../workdir/i2b2/conll/i2b2_training_diabetes.conll\n",
      "2019-09-29 21:10:02,102 Dev: ../workdir/i2b2/conll/i2b2_testing_diabetes.conll\n",
      "2019-09-29 21:10:02,103 Test: ../workdir/i2b2/conll/i2b2_testing_diabetes.conll\n",
      "2019-09-29 21:10:08,374 Reading data from ../workdir/genia/conll\n",
      "2019-09-29 21:10:08,375 Train: ../workdir/genia/conll/Genia4ERtask1.iob2\n",
      "2019-09-29 21:10:08,376 Dev: ../workdir/genia/conll/Genia4EReval1.iob2\n",
      "2019-09-29 21:10:08,377 Test: ../workdir/genia/conll/Genia4EReval1.iob2\n"
     ]
    }
   ],
   "source": [
    "from flair.datasets import ColumnCorpus\n",
    "\n",
    "corpora = {}\n",
    "\n",
    "data_folder = '../workdir/i2b2/conll/'\n",
    "for attr in ['hypertension', 'cad', 'diabetes']:\n",
    "    corpora[attr] = ColumnCorpus(data_folder, {0 : 'text', 1 : 'ner'},\n",
    "                                 train_file=f'i2b2_training_{attr}.conll',\n",
    "                                 test_file=f'i2b2_testing_{attr}.conll',\n",
    "                                 dev_file=f'i2b2_testing_{attr}.conll')\n",
    "\n",
    "data_folder = '../workdir/genia/conll/'\n",
    "corpora['genia'] = ColumnCorpus(data_folder, {0 : 'text', 1 : 'ner'},\n",
    "                                train_file='Genia4ERtask1.iob2',\n",
    "                                test_file='Genia4EReval1.iob2',\n",
    "                                dev_file='Genia4EReval1.iob2')    "
   ]
  },
  {
   "cell_type": "markdown",
   "metadata": {},
   "source": [
    "# Run experiments"
   ]
  },
  {
   "cell_type": "code",
   "execution_count": 7,
   "metadata": {},
   "outputs": [],
   "source": [
    "from bert_active_learning_exp import run_experiment_al\n",
    "from active_learning_seq import LibActNN, LibActNNPositiveLessCertain, RandomSamplingWithRetraining\n",
    "from libact.query_strategies import UncertaintySampling, RandomSampling\n",
    "\n",
    "from bert_sequence_tagger import SequenceTaggerBert, BertForTokenClassificationCustom, ModelTrainerBert\n",
    "from bert_sequence_tagger.bert_utils import get_parameters_without_decay\n",
    "\n",
    "from pytorch_transformers import BertTokenizer, AdamW, WarmupLinearSchedule, WarmupConstantSchedule\n",
    "from torch.optim.lr_scheduler import ReduceLROnPlateau\n",
    "\n",
    "from bert_sequence_tagger.metrics import f1_entity_level, f1_token_level\n",
    "\n",
    "\n",
    "BERT_TOKENIZER = BertTokenizer.from_pretrained('bert-base-cased', \n",
    "                                               cache_dir=CACHE_DIR, \n",
    "                                               do_lower_case=False)\n",
    "\n",
    "def create_libact_adaptor(tag2index, index2tag, adaptor_type, *args):\n",
    "    def model_ctor():\n",
    "        model = BertForTokenClassificationCustom.from_pretrained(BIO_BERT,\n",
    "                                                                 cache_dir=CACHE_DIR, \n",
    "                                                                 num_labels=len(tag2index)).cuda()\n",
    "\n",
    "        seq_tagger = SequenceTaggerBert(model, BERT_TOKENIZER, idx2tag=index2tag, tag2idx=tag2index)\n",
    "        \n",
    "        return seq_tagger\n",
    "    \n",
    "    def trainer_ctor(seq_tagger, corpus_len, train_dataloader, val_dataloader):\n",
    "        optimizer = AdamW(get_parameters_without_decay(seq_tagger._bert_model),\n",
    "                          lr=LEARNING_RATE, betas=(0.9, 0.999), \n",
    "                          eps=1e-6, weight_decay=0.01, correct_bias=True)\n",
    "\n",
    "        lr_scheduler = ReduceLROnPlateau(optimizer, mode='min', factor=ANNEAL_FACTOR, patience=PATIENCE)\n",
    "        \n",
    "        trainer = ModelTrainerBert(seq_tagger, \n",
    "                                   optimizer, \n",
    "                                   lr_scheduler,\n",
    "                                   train_dataloader, \n",
    "                                   val_dataloader,\n",
    "                                   update_scheduler='ee',\n",
    "                                   keep_best_model=True,\n",
    "                                   restore_bm_on_lr_change=True,\n",
    "                                   max_grad_norm=1.,\n",
    "                                   validation_metrics=[f1_entity_level],\n",
    "                                   decision_metric=lambda metrics: metrics[0],\n",
    "                                   smallest_lr=LEARNING_RATE / (MAX_TO_ANNEAL**(1./ANNEAL_FACTOR) + 0.1))\n",
    "        \n",
    "        return trainer\n",
    "    \n",
    "    return adaptor_type(*args, \n",
    "                        model_ctor=model_ctor,\n",
    "                        trainer_ctor=trainer_ctor,\n",
    "                        batch_size=BATCH_SIZE,\n",
    "                        bs_pred=BATCH_SIZE_PRED,\n",
    "                        train_from_scratch=True,\n",
    "                        retrain_epochs=MAX_RETRAIN_EPOCHS,\n",
    "                        valid_ratio=VALIDATION_RATIO)"
   ]
  },
  {
   "cell_type": "code",
   "execution_count": 8,
   "metadata": {},
   "outputs": [],
   "source": [
    "# attr= 'diabetes'\n",
    "# exp = {\n",
    "#     'corpus' : corpora[attr],\n",
    "#     'output_file_path' : OUTPUT_FILE_PATH,\n",
    "#     'ranking_strategy' : lambda trn_ds, _libact_model: UncertaintySampling(trn_ds, model=_libact_model, method='lc'),\n",
    "#     'libact_adaptor_ctor' : lambda tag2index, index2tag: create_libact_adaptor(tag2index, index2tag, LibActNN),\n",
    "#     'name' : f'{attr}_MNLP',\n",
    "#     'n_passes' : N_AL_PASSES,\n",
    "#     'n_al_iterations' : N_AL_ITERATIONS,\n",
    "#     'max_len' : MAX_LEN,\n",
    "#     'max_samples_number' : N_SAMPLES_PER_AL_ITER,\n",
    "#     'seed_elems_per_class' : 10,\n",
    "#     'n_seeds_random' : 40\n",
    "# }\n",
    "# run_experiment_al(**exp)"
   ]
  },
  {
   "cell_type": "code",
   "execution_count": 9,
   "metadata": {},
   "outputs": [
    {
     "data": {
      "text/plain": [
       "[{'corpus': <flair.datasets.ColumnCorpus at 0x7fe2dd8827b8>,\n",
       "  'output_file_path': '../workdir/experiments/17_biobert/',\n",
       "  'ranking_strategy': <function __main__.create_i2b2_experiment_pack.<locals>.<lambda>(trn_ds, _libact_model)>,\n",
       "  'libact_adaptor_ctor': <function __main__.create_i2b2_experiment_pack.<locals>.<lambda>(tag2index, index2tag)>,\n",
       "  'name': 'hypertension_MNLP',\n",
       "  'n_passes': 5,\n",
       "  'n_al_iterations': 25,\n",
       "  'max_len': 100,\n",
       "  'max_samples_number': 30,\n",
       "  'seed_elems_per_class': 10,\n",
       "  'n_seeds_random': 40},\n",
       " {'corpus': <flair.datasets.ColumnCorpus at 0x7fe2dd8827b8>,\n",
       "  'output_file_path': '../workdir/experiments/17_biobert/',\n",
       "  'ranking_strategy': <function __main__.create_i2b2_experiment_pack.<locals>.<lambda>(trn_ds, _libact_model)>,\n",
       "  'libact_adaptor_ctor': <function __main__.create_i2b2_experiment_pack.<locals>.<lambda>(tag2index, index2tag)>,\n",
       "  'name': 'hypertension_MNLP-mod',\n",
       "  'n_passes': 5,\n",
       "  'n_al_iterations': 25,\n",
       "  'max_len': 100,\n",
       "  'max_samples_number': 30,\n",
       "  'seed_elems_per_class': 10,\n",
       "  'n_seeds_random': 40},\n",
       " {'corpus': <flair.datasets.ColumnCorpus at 0x7fe2671dcc18>,\n",
       "  'output_file_path': '../workdir/experiments/17_biobert/',\n",
       "  'ranking_strategy': <function __main__.create_i2b2_experiment_pack.<locals>.<lambda>(trn_ds, _libact_model)>,\n",
       "  'libact_adaptor_ctor': <function __main__.create_i2b2_experiment_pack.<locals>.<lambda>(tag2index, index2tag)>,\n",
       "  'name': 'cad_MNLP',\n",
       "  'n_passes': 5,\n",
       "  'n_al_iterations': 25,\n",
       "  'max_len': 100,\n",
       "  'max_samples_number': 30,\n",
       "  'seed_elems_per_class': 10,\n",
       "  'n_seeds_random': 40},\n",
       " {'corpus': <flair.datasets.ColumnCorpus at 0x7fe2671dcc18>,\n",
       "  'output_file_path': '../workdir/experiments/17_biobert/',\n",
       "  'ranking_strategy': <function __main__.create_i2b2_experiment_pack.<locals>.<lambda>(trn_ds, _libact_model)>,\n",
       "  'libact_adaptor_ctor': <function __main__.create_i2b2_experiment_pack.<locals>.<lambda>(tag2index, index2tag)>,\n",
       "  'name': 'cad_MNLP-mod',\n",
       "  'n_passes': 5,\n",
       "  'n_al_iterations': 25,\n",
       "  'max_len': 100,\n",
       "  'max_samples_number': 30,\n",
       "  'seed_elems_per_class': 10,\n",
       "  'n_seeds_random': 40},\n",
       " {'corpus': <flair.datasets.ColumnCorpus at 0x7fe230928a58>,\n",
       "  'output_file_path': '../workdir/experiments/17_biobert/',\n",
       "  'ranking_strategy': <function __main__.create_i2b2_experiment_pack.<locals>.<lambda>(trn_ds, _libact_model)>,\n",
       "  'libact_adaptor_ctor': <function __main__.create_i2b2_experiment_pack.<locals>.<lambda>(tag2index, index2tag)>,\n",
       "  'name': 'diabetes_MNLP',\n",
       "  'n_passes': 5,\n",
       "  'n_al_iterations': 25,\n",
       "  'max_len': 100,\n",
       "  'max_samples_number': 30,\n",
       "  'seed_elems_per_class': 10,\n",
       "  'n_seeds_random': 40},\n",
       " {'corpus': <flair.datasets.ColumnCorpus at 0x7fe230928a58>,\n",
       "  'output_file_path': '../workdir/experiments/17_biobert/',\n",
       "  'ranking_strategy': <function __main__.create_i2b2_experiment_pack.<locals>.<lambda>(trn_ds, _libact_model)>,\n",
       "  'libact_adaptor_ctor': <function __main__.create_i2b2_experiment_pack.<locals>.<lambda>(tag2index, index2tag)>,\n",
       "  'name': 'diabetes_MNLP-mod',\n",
       "  'n_passes': 5,\n",
       "  'n_al_iterations': 25,\n",
       "  'max_len': 100,\n",
       "  'max_samples_number': 30,\n",
       "  'seed_elems_per_class': 10,\n",
       "  'n_seeds_random': 40},\n",
       " {'corpus': <flair.datasets.ColumnCorpus at 0x7fe2dd882710>,\n",
       "  'output_file_path': '../workdir/experiments/17_biobert/',\n",
       "  'ranking_strategy': <function __main__.create_i2b2_experiment_pack.<locals>.<lambda>(trn_ds, _libact_model)>,\n",
       "  'libact_adaptor_ctor': <function __main__.create_i2b2_experiment_pack.<locals>.<lambda>(tag2index, index2tag)>,\n",
       "  'name': 'genia_MNLP',\n",
       "  'n_passes': 5,\n",
       "  'n_al_iterations': 25,\n",
       "  'max_len': 100,\n",
       "  'max_samples_number': 30,\n",
       "  'seed_elems_per_class': 10,\n",
       "  'n_seeds_random': 40},\n",
       " {'corpus': <flair.datasets.ColumnCorpus at 0x7fe2dd882710>,\n",
       "  'output_file_path': '../workdir/experiments/17_biobert/',\n",
       "  'ranking_strategy': <function __main__.create_i2b2_experiment_pack.<locals>.<lambda>(trn_ds, _libact_model)>,\n",
       "  'libact_adaptor_ctor': <function __main__.create_i2b2_experiment_pack.<locals>.<lambda>(tag2index, index2tag)>,\n",
       "  'name': 'genia_MNLP-mod',\n",
       "  'n_passes': 5,\n",
       "  'n_al_iterations': 25,\n",
       "  'max_len': 100,\n",
       "  'max_samples_number': 30,\n",
       "  'seed_elems_per_class': 10,\n",
       "  'n_seeds_random': 40}]"
      ]
     },
     "execution_count": 9,
     "metadata": {},
     "output_type": "execute_result"
    }
   ],
   "source": [
    "def create_i2b2_experiment_pack(corpus, attr):\n",
    "     return [\n",
    "#          {\n",
    "#         'corpus' : corpus,\n",
    "#         'output_file_path' : OUTPUT_FILE_PATH,\n",
    "#         'ranking_strategy' : lambda trn_ds, _libact_model: RandomSamplingWithRetraining(trn_ds, model=_libact_model, method='lc'),\n",
    "#         'libact_adaptor_ctor' : lambda tag2index, index2tag: create_libact_adaptor(tag2index, index2tag, LibActNN),\n",
    "#         'name' : f'{attr}_i.i.d.',\n",
    "#         'n_passes' : N_AL_PASSES,\n",
    "#         'n_al_iterations' : N_AL_ITERATIONS,\n",
    "#         'max_len' : MAX_LEN,\n",
    "#         'max_samples_number' : N_SAMPLES_PER_AL_ITER,\n",
    "#         'seed_elems_per_class' : SEED_POSITIVE,\n",
    "#         'n_seeds_random' : SEED_RANDOM\n",
    "#     },\n",
    "    {\n",
    "        'corpus' : corpus,\n",
    "        'output_file_path' : OUTPUT_FILE_PATH,\n",
    "        'ranking_strategy' : lambda trn_ds, _libact_model: UncertaintySampling(trn_ds, model=_libact_model, method='lc'),\n",
    "        'libact_adaptor_ctor' : lambda tag2index, index2tag: create_libact_adaptor(tag2index, index2tag, LibActNN),\n",
    "        'name' : f'{attr}_MNLP',\n",
    "        'n_passes' : N_AL_PASSES,\n",
    "        'n_al_iterations' : N_AL_ITERATIONS,\n",
    "        'max_len' : MAX_LEN,\n",
    "        'max_samples_number' : N_SAMPLES_PER_AL_ITER,\n",
    "        'seed_elems_per_class' : SEED_POSITIVE,\n",
    "        'n_seeds_random' : SEED_RANDOM\n",
    "    },\n",
    "    {\n",
    "        'corpus' : corpus,\n",
    "        'output_file_path' : OUTPUT_FILE_PATH,\n",
    "        'ranking_strategy' : lambda trn_ds, _libact_model: UncertaintySampling(trn_ds, model=_libact_model, method='lc'),\n",
    "        'libact_adaptor_ctor' : lambda tag2index, index2tag: create_libact_adaptor(tag2index, \n",
    "                                                                                   index2tag, \n",
    "                                                                                   LibActNNPositiveLessCertain, \n",
    "                                                                                   [e for e in tag2index.keys() if e.startswith('B')],\n",
    "                                                                                   0.5), # reduction_factor\n",
    "        'name' : f'{attr}_MNLP-mod',\n",
    "        'n_passes' : N_AL_PASSES,\n",
    "        'n_al_iterations' : N_AL_ITERATIONS,\n",
    "        'max_len' : MAX_LEN,\n",
    "        'max_samples_number' : N_SAMPLES_PER_AL_ITER,\n",
    "        'seed_elems_per_class' : SEED_POSITIVE,\n",
    "        'n_seeds_random' : SEED_RANDOM\n",
    "    }\n",
    "]\n",
    "\n",
    "experiments = []\n",
    "for attr, corpus in corpora.items():\n",
    "    experiments += create_i2b2_experiment_pack(corpus, attr)\n",
    "\n",
    "experiments"
   ]
  },
  {
   "cell_type": "code",
   "execution_count": null,
   "metadata": {},
   "outputs": [
    {
     "name": "stdout",
     "output_type": "stream",
     "text": [
      "2019-09-29 21:10:46,826 - biomed_ie - INFO - #################### Experiment ######################\n",
      "2019-09-29 21:10:46,826 #################### Experiment ######################\n",
      "2019-09-29 21:10:46,828 - biomed_ie - INFO - {'corpus': <flair.datasets.ColumnCorpus object at 0x7fe2671dcc18>, 'output_file_path': '../workdir/experiments/17_biobert/', 'ranking_strategy': <function create_i2b2_experiment_pack.<locals>.<lambda> at 0x7fe2de74fbf8>, 'libact_adaptor_ctor': <function create_i2b2_experiment_pack.<locals>.<lambda> at 0x7fe3c8679c80>, 'name': 'cad_MNLP', 'n_passes': 5, 'n_al_iterations': 25, 'max_len': 100, 'max_samples_number': 30, 'seed_elems_per_class': 10, 'n_seeds_random': 40}\n",
      "2019-09-29 21:10:46,828 {'corpus': <flair.datasets.ColumnCorpus object at 0x7fe2671dcc18>, 'output_file_path': '../workdir/experiments/17_biobert/', 'ranking_strategy': <function create_i2b2_experiment_pack.<locals>.<lambda> at 0x7fe2de74fbf8>, 'libact_adaptor_ctor': <function create_i2b2_experiment_pack.<locals>.<lambda> at 0x7fe3c8679c80>, 'name': 'cad_MNLP', 'n_passes': 5, 'n_al_iterations': 25, 'max_len': 100, 'max_samples_number': 30, 'seed_elems_per_class': 10, 'n_seeds_random': 40}\n",
      "2019-09-29 21:10:48,637 - biomed_ie - INFO - Active learning...\n",
      "2019-09-29 21:10:48,637 Active learning...\n",
      "2019-09-29 21:10:48,639 - biomed_ie - INFO - =============== Pass: 0 =============\n",
      "2019-09-29 21:10:48,639 =============== Pass: 0 =============\n",
      "2019-09-29 21:10:48,748 - biomed_ie - INFO - Number of seeding examples: 60\n",
      "2019-09-29 21:10:48,748 Number of seeding examples: 60\n",
      "2019-09-29 21:10:48,756 - biomed_ie - INFO - Start emulating active learning.\n",
      "2019-09-29 21:10:48,756 Start emulating active learning.\n"
     ]
    },
    {
     "name": "stderr",
     "output_type": "stream",
     "text": [
      "Epoch:  53%|█████▎    | 16/30 [00:08<00:07,  1.83it/s]\n"
     ]
    },
    {
     "name": "stdout",
     "output_type": "stream",
     "text": [
      "2019-09-29 21:12:06,974 - biomed_ie - INFO - Performance on seed examples: {'f1_entity_level': 0}\n",
      "2019-09-29 21:12:06,974 Performance on seed examples: {'f1_entity_level': 0}\n",
      "2019-09-29 21:12:06,976 - biomed_ie - INFO - Active learning iteration: #0\n",
      "2019-09-29 21:12:06,976 Active learning iteration: #0\n"
     ]
    },
    {
     "name": "stderr",
     "output_type": "stream",
     "text": [
      "Epoch:  67%|██████▋   | 20/30 [00:11<00:05,  1.79it/s]\n"
     ]
    },
    {
     "name": "stdout",
     "output_type": "stream",
     "text": [
      "2019-09-29 21:14:48,243 - biomed_ie - INFO - Performance: {'f1_entity_level': 0.0344}\n",
      "2019-09-29 21:14:48,243 Performance: {'f1_entity_level': 0.0344}\n",
      "2019-09-29 21:14:48,244 - biomed_ie - INFO - Active learning iteration: #1\n",
      "2019-09-29 21:14:48,244 Active learning iteration: #1\n"
     ]
    },
    {
     "name": "stderr",
     "output_type": "stream",
     "text": [
      "Epoch:  73%|███████▎  | 22/30 [00:17<00:06,  1.22it/s]\n"
     ]
    },
    {
     "name": "stdout",
     "output_type": "stream",
     "text": [
      "2019-09-29 21:17:37,584 - biomed_ie - INFO - Performance: {'f1_entity_level': 0.22495894909688013}\n",
      "2019-09-29 21:17:37,584 Performance: {'f1_entity_level': 0.22495894909688013}\n",
      "2019-09-29 21:17:37,585 - biomed_ie - INFO - Active learning iteration: #2\n",
      "2019-09-29 21:17:37,585 Active learning iteration: #2\n"
     ]
    },
    {
     "name": "stderr",
     "output_type": "stream",
     "text": [
      "Epoch:  60%|██████    | 18/30 [00:16<00:10,  1.20it/s]\n"
     ]
    },
    {
     "name": "stdout",
     "output_type": "stream",
     "text": [
      "2019-09-29 21:20:24,201 - biomed_ie - INFO - Performance: {'f1_entity_level': 0.020128087831655993}\n",
      "2019-09-29 21:20:24,201 Performance: {'f1_entity_level': 0.020128087831655993}\n",
      "2019-09-29 21:20:24,203 - biomed_ie - INFO - Active learning iteration: #3\n",
      "2019-09-29 21:20:24,203 Active learning iteration: #3\n"
     ]
    },
    {
     "name": "stderr",
     "output_type": "stream",
     "text": [
      "Epoch:  67%|██████▋   | 20/30 [00:22<00:11,  1.14s/it]\n"
     ]
    },
    {
     "name": "stdout",
     "output_type": "stream",
     "text": [
      "2019-09-29 21:23:16,448 - biomed_ie - INFO - Performance: {'f1_entity_level': 0.26520347508001824}\n",
      "2019-09-29 21:23:16,448 Performance: {'f1_entity_level': 0.26520347508001824}\n",
      "2019-09-29 21:23:16,449 - biomed_ie - INFO - Active learning iteration: #4\n",
      "2019-09-29 21:23:16,449 Active learning iteration: #4\n"
     ]
    },
    {
     "name": "stderr",
     "output_type": "stream",
     "text": [
      "Epoch:  57%|█████▋    | 17/30 [00:24<00:18,  1.41s/it]\n"
     ]
    },
    {
     "name": "stdout",
     "output_type": "stream",
     "text": [
      "2019-09-29 21:26:12,219 - biomed_ie - INFO - Performance: {'f1_entity_level': 0.20528151469855507}\n",
      "2019-09-29 21:26:12,219 Performance: {'f1_entity_level': 0.20528151469855507}\n",
      "2019-09-29 21:26:12,221 - biomed_ie - INFO - Active learning iteration: #5\n",
      "2019-09-29 21:26:12,221 Active learning iteration: #5\n"
     ]
    },
    {
     "name": "stderr",
     "output_type": "stream",
     "text": [
      "Epoch:  60%|██████    | 18/30 [00:27<00:17,  1.48s/it]\n"
     ]
    },
    {
     "name": "stdout",
     "output_type": "stream",
     "text": [
      "2019-09-29 21:29:09,869 - biomed_ie - INFO - Performance: {'f1_entity_level': 0.29882044560943644}\n",
      "2019-09-29 21:29:09,869 Performance: {'f1_entity_level': 0.29882044560943644}\n",
      "2019-09-29 21:29:09,871 - biomed_ie - INFO - Active learning iteration: #6\n",
      "2019-09-29 21:29:09,871 Active learning iteration: #6\n"
     ]
    },
    {
     "name": "stderr",
     "output_type": "stream",
     "text": [
      "Epoch:  57%|█████▋    | 17/30 [00:29<00:22,  1.71s/it]\n"
     ]
    },
    {
     "name": "stdout",
     "output_type": "stream",
     "text": [
      "2019-09-29 21:32:10,522 - biomed_ie - INFO - Performance: {'f1_entity_level': 0.18642241379310343}\n",
      "2019-09-29 21:32:10,522 Performance: {'f1_entity_level': 0.18642241379310343}\n",
      "2019-09-29 21:32:10,524 - biomed_ie - INFO - Active learning iteration: #7\n",
      "2019-09-29 21:32:10,524 Active learning iteration: #7\n"
     ]
    },
    {
     "name": "stderr",
     "output_type": "stream",
     "text": [
      "Epoch:  50%|█████     | 15/30 [00:28<00:27,  1.86s/it]\n"
     ]
    },
    {
     "name": "stdout",
     "output_type": "stream",
     "text": [
      "2019-09-29 21:35:08,868 - biomed_ie - INFO - Performance: {'f1_entity_level': 0.27051397655545534}\n",
      "2019-09-29 21:35:08,868 Performance: {'f1_entity_level': 0.27051397655545534}\n",
      "2019-09-29 21:35:08,869 - biomed_ie - INFO - Active learning iteration: #8\n",
      "2019-09-29 21:35:08,869 Active learning iteration: #8\n"
     ]
    },
    {
     "name": "stderr",
     "output_type": "stream",
     "text": [
      "Epoch:  60%|██████    | 18/30 [00:38<00:26,  2.17s/it]\n"
     ]
    },
    {
     "name": "stdout",
     "output_type": "stream",
     "text": [
      "2019-09-29 21:38:18,622 - biomed_ie - INFO - Performance: {'f1_entity_level': 0.30648492358529533}\n",
      "2019-09-29 21:38:18,622 Performance: {'f1_entity_level': 0.30648492358529533}\n",
      "2019-09-29 21:38:18,624 - biomed_ie - INFO - Active learning iteration: #9\n",
      "2019-09-29 21:38:18,624 Active learning iteration: #9\n"
     ]
    },
    {
     "name": "stderr",
     "output_type": "stream",
     "text": [
      "Epoch:  53%|█████▎    | 16/30 [00:33<00:28,  2.00s/it]\n"
     ]
    },
    {
     "name": "stdout",
     "output_type": "stream",
     "text": [
      "2019-09-29 21:41:22,208 - biomed_ie - INFO - Performance: {'f1_entity_level': 0.29867155290884106}\n",
      "2019-09-29 21:41:22,208 Performance: {'f1_entity_level': 0.29867155290884106}\n",
      "2019-09-29 21:41:22,210 - biomed_ie - INFO - Active learning iteration: #10\n",
      "2019-09-29 21:41:22,210 Active learning iteration: #10\n"
     ]
    },
    {
     "name": "stderr",
     "output_type": "stream",
     "text": [
      "Epoch:  57%|█████▋    | 17/30 [00:43<00:33,  2.60s/it]\n"
     ]
    },
    {
     "name": "stdout",
     "output_type": "stream",
     "text": [
      "2019-09-29 21:44:37,316 - biomed_ie - INFO - Performance: {'f1_entity_level': 0.3440963855421687}\n",
      "2019-09-29 21:44:37,316 Performance: {'f1_entity_level': 0.3440963855421687}\n",
      "2019-09-29 21:44:37,317 - biomed_ie - INFO - Active learning iteration: #11\n",
      "2019-09-29 21:44:37,317 Active learning iteration: #11\n"
     ]
    },
    {
     "name": "stderr",
     "output_type": "stream",
     "text": [
      "Epoch:  47%|████▋     | 14/30 [00:36<00:42,  2.64s/it]\n"
     ]
    },
    {
     "name": "stdout",
     "output_type": "stream",
     "text": [
      "2019-09-29 21:47:46,076 - biomed_ie - INFO - Performance: {'f1_entity_level': 0.08312958435207823}\n",
      "2019-09-29 21:47:46,076 Performance: {'f1_entity_level': 0.08312958435207823}\n",
      "2019-09-29 21:47:46,078 - biomed_ie - INFO - Active learning iteration: #12\n",
      "2019-09-29 21:47:46,078 Active learning iteration: #12\n"
     ]
    },
    {
     "name": "stderr",
     "output_type": "stream",
     "text": [
      "Epoch:  47%|████▋     | 14/30 [00:39<00:44,  2.79s/it]\n"
     ]
    },
    {
     "name": "stdout",
     "output_type": "stream",
     "text": [
      "2019-09-29 21:50:56,954 - biomed_ie - INFO - Performance: {'f1_entity_level': 0.18947368421052632}\n",
      "2019-09-29 21:50:56,954 Performance: {'f1_entity_level': 0.18947368421052632}\n",
      "2019-09-29 21:50:56,956 - biomed_ie - INFO - Active learning iteration: #13\n",
      "2019-09-29 21:50:56,956 Active learning iteration: #13\n"
     ]
    },
    {
     "name": "stderr",
     "output_type": "stream",
     "text": [
      "Epoch:  53%|█████▎    | 16/30 [00:49<00:43,  3.11s/it]\n"
     ]
    },
    {
     "name": "stdout",
     "output_type": "stream",
     "text": [
      "2019-09-29 21:54:17,398 - biomed_ie - INFO - Performance: {'f1_entity_level': 0.2684497275879148}\n",
      "2019-09-29 21:54:17,398 Performance: {'f1_entity_level': 0.2684497275879148}\n",
      "2019-09-29 21:54:17,399 - biomed_ie - INFO - Active learning iteration: #14\n",
      "2019-09-29 21:54:17,399 Active learning iteration: #14\n"
     ]
    },
    {
     "name": "stderr",
     "output_type": "stream",
     "text": [
      "Epoch:  50%|█████     | 15/30 [00:48<00:48,  3.26s/it]\n"
     ]
    },
    {
     "name": "stdout",
     "output_type": "stream",
     "text": [
      "2019-09-29 21:57:37,204 - biomed_ie - INFO - Performance: {'f1_entity_level': 0.3380668804397618}\n",
      "2019-09-29 21:57:37,204 Performance: {'f1_entity_level': 0.3380668804397618}\n",
      "2019-09-29 21:57:37,206 - biomed_ie - INFO - Active learning iteration: #15\n",
      "2019-09-29 21:57:37,206 Active learning iteration: #15\n"
     ]
    },
    {
     "name": "stderr",
     "output_type": "stream",
     "text": [
      "Epoch:  47%|████▋     | 14/30 [00:52<00:58,  3.63s/it]\n"
     ]
    },
    {
     "name": "stdout",
     "output_type": "stream",
     "text": [
      "2019-09-29 22:01:01,402 - biomed_ie - INFO - Performance: {'f1_entity_level': 0.2623985572587917}\n",
      "2019-09-29 22:01:01,402 Performance: {'f1_entity_level': 0.2623985572587917}\n",
      "2019-09-29 22:01:01,404 - biomed_ie - INFO - Active learning iteration: #16\n",
      "2019-09-29 22:01:01,404 Active learning iteration: #16\n"
     ]
    },
    {
     "name": "stderr",
     "output_type": "stream",
     "text": [
      "Epoch:  50%|█████     | 15/30 [01:03<01:04,  4.29s/it]\n"
     ]
    },
    {
     "name": "stdout",
     "output_type": "stream",
     "text": [
      "2019-09-29 22:04:36,538 - biomed_ie - INFO - Performance: {'f1_entity_level': 0.3054270088346655}\n",
      "2019-09-29 22:04:36,538 Performance: {'f1_entity_level': 0.3054270088346655}\n",
      "2019-09-29 22:04:36,540 - biomed_ie - INFO - Active learning iteration: #17\n",
      "2019-09-29 22:04:36,540 Active learning iteration: #17\n"
     ]
    },
    {
     "name": "stderr",
     "output_type": "stream",
     "text": [
      "Epoch:  47%|████▋     | 14/30 [01:02<01:08,  4.27s/it]\n"
     ]
    },
    {
     "name": "stdout",
     "output_type": "stream",
     "text": [
      "2019-09-29 22:08:11,288 - biomed_ie - INFO - Performance: {'f1_entity_level': 0.2860557768924302}\n",
      "2019-09-29 22:08:11,288 Performance: {'f1_entity_level': 0.2860557768924302}\n",
      "2019-09-29 22:08:11,290 - biomed_ie - INFO - Active learning iteration: #18\n",
      "2019-09-29 22:08:11,290 Active learning iteration: #18\n"
     ]
    },
    {
     "name": "stderr",
     "output_type": "stream",
     "text": [
      "Epoch:  50%|█████     | 15/30 [01:12<01:11,  4.79s/it]\n"
     ]
    },
    {
     "name": "stdout",
     "output_type": "stream",
     "text": [
      "2019-09-29 22:11:55,327 - biomed_ie - INFO - Performance: {'f1_entity_level': 0.3348623853211009}\n",
      "2019-09-29 22:11:55,327 Performance: {'f1_entity_level': 0.3348623853211009}\n",
      "2019-09-29 22:11:55,328 - biomed_ie - INFO - Active learning iteration: #19\n",
      "2019-09-29 22:11:55,328 Active learning iteration: #19\n"
     ]
    },
    {
     "name": "stderr",
     "output_type": "stream",
     "text": [
      "Epoch:  47%|████▋     | 14/30 [01:11<01:21,  5.12s/it]\n"
     ]
    },
    {
     "name": "stdout",
     "output_type": "stream",
     "text": [
      "2019-09-29 22:15:39,599 - biomed_ie - INFO - Performance: {'f1_entity_level': 0.33568281938325994}\n",
      "2019-09-29 22:15:39,599 Performance: {'f1_entity_level': 0.33568281938325994}\n",
      "2019-09-29 22:15:39,601 - biomed_ie - INFO - Active learning iteration: #20\n",
      "2019-09-29 22:15:39,601 Active learning iteration: #20\n"
     ]
    },
    {
     "name": "stderr",
     "output_type": "stream",
     "text": [
      "Epoch:  47%|████▋     | 14/30 [01:13<01:24,  5.26s/it]\n"
     ]
    },
    {
     "name": "stdout",
     "output_type": "stream",
     "text": [
      "2019-09-29 22:19:26,293 - biomed_ie - INFO - Performance: {'f1_entity_level': 0.32578397212543553}\n",
      "2019-09-29 22:19:26,293 Performance: {'f1_entity_level': 0.32578397212543553}\n",
      "2019-09-29 22:19:26,295 - biomed_ie - INFO - Active learning iteration: #21\n",
      "2019-09-29 22:19:26,295 Active learning iteration: #21\n"
     ]
    },
    {
     "name": "stderr",
     "output_type": "stream",
     "text": [
      "Epoch:  47%|████▋     | 14/30 [01:19<01:28,  5.55s/it]\n"
     ]
    },
    {
     "name": "stdout",
     "output_type": "stream",
     "text": [
      "2019-09-29 22:23:17,875 - biomed_ie - INFO - Performance: {'f1_entity_level': 0.3162426614481409}\n",
      "2019-09-29 22:23:17,875 Performance: {'f1_entity_level': 0.3162426614481409}\n",
      "2019-09-29 22:23:17,876 - biomed_ie - INFO - Active learning iteration: #22\n",
      "2019-09-29 22:23:17,876 Active learning iteration: #22\n"
     ]
    },
    {
     "name": "stderr",
     "output_type": "stream",
     "text": [
      "Epoch:  50%|█████     | 15/30 [01:26<01:25,  5.73s/it]\n"
     ]
    },
    {
     "name": "stdout",
     "output_type": "stream",
     "text": [
      "2019-09-29 22:27:18,090 - biomed_ie - INFO - Performance: {'f1_entity_level': 0.34445817882159047}\n",
      "2019-09-29 22:27:18,090 Performance: {'f1_entity_level': 0.34445817882159047}\n",
      "2019-09-29 22:27:18,092 - biomed_ie - INFO - Active learning iteration: #23\n",
      "2019-09-29 22:27:18,092 Active learning iteration: #23\n"
     ]
    },
    {
     "name": "stderr",
     "output_type": "stream",
     "text": [
      "Epoch:  47%|████▋     | 14/30 [01:25<01:37,  6.10s/it]\n"
     ]
    },
    {
     "name": "stdout",
     "output_type": "stream",
     "text": [
      "2019-09-29 22:31:16,656 - biomed_ie - INFO - Performance: {'f1_entity_level': 0.3069053708439897}\n",
      "2019-09-29 22:31:16,656 Performance: {'f1_entity_level': 0.3069053708439897}\n",
      "2019-09-29 22:31:16,658 - biomed_ie - INFO - Active learning iteration: #24\n",
      "2019-09-29 22:31:16,658 Active learning iteration: #24\n"
     ]
    },
    {
     "name": "stderr",
     "output_type": "stream",
     "text": [
      "Epoch:  47%|████▋     | 14/30 [01:29<01:43,  6.45s/it]\n"
     ]
    },
    {
     "name": "stdout",
     "output_type": "stream",
     "text": [
      "2019-09-29 22:35:18,692 - biomed_ie - INFO - Performance: {'f1_entity_level': 0.36196319018404916}\n",
      "2019-09-29 22:35:18,692 Performance: {'f1_entity_level': 0.36196319018404916}\n",
      "2019-09-29 22:35:18,698 - biomed_ie - INFO - =============== Pass: 1 =============\n",
      "2019-09-29 22:35:18,698 =============== Pass: 1 =============\n",
      "2019-09-29 22:35:18,856 - biomed_ie - INFO - Number of seeding examples: 60\n",
      "2019-09-29 22:35:18,856 Number of seeding examples: 60\n",
      "2019-09-29 22:35:18,865 - biomed_ie - INFO - Start emulating active learning.\n",
      "2019-09-29 22:35:18,865 Start emulating active learning.\n"
     ]
    },
    {
     "name": "stderr",
     "output_type": "stream",
     "text": [
      "Epoch:  63%|██████▎   | 19/30 [00:12<00:07,  1.51it/s]\n"
     ]
    },
    {
     "name": "stdout",
     "output_type": "stream",
     "text": [
      "2019-09-29 22:36:35,154 - biomed_ie - INFO - Performance on seed examples: {'f1_entity_level': 0.046276211135213303}\n",
      "2019-09-29 22:36:35,154 Performance on seed examples: {'f1_entity_level': 0.046276211135213303}\n",
      "2019-09-29 22:36:35,156 - biomed_ie - INFO - Active learning iteration: #0\n",
      "2019-09-29 22:36:35,156 Active learning iteration: #0\n"
     ]
    },
    {
     "name": "stderr",
     "output_type": "stream",
     "text": [
      "Epoch:  57%|█████▋    | 17/30 [00:11<00:08,  1.53it/s]\n"
     ]
    },
    {
     "name": "stdout",
     "output_type": "stream",
     "text": [
      "2019-09-29 22:39:16,160 - biomed_ie - INFO - Performance: {'f1_entity_level': 0.00340522133938706}\n",
      "2019-09-29 22:39:16,160 Performance: {'f1_entity_level': 0.00340522133938706}\n",
      "2019-09-29 22:39:16,161 - biomed_ie - INFO - Active learning iteration: #1\n",
      "2019-09-29 22:39:16,161 Active learning iteration: #1\n"
     ]
    },
    {
     "name": "stderr",
     "output_type": "stream",
     "text": [
      "Epoch:  67%|██████▋   | 20/30 [00:19<00:09,  1.03it/s]\n"
     ]
    },
    {
     "name": "stdout",
     "output_type": "stream",
     "text": [
      "2019-09-29 22:42:06,062 - biomed_ie - INFO - Performance: {'f1_entity_level': 0.09652173913043478}\n",
      "2019-09-29 22:42:06,062 Performance: {'f1_entity_level': 0.09652173913043478}\n",
      "2019-09-29 22:42:06,063 - biomed_ie - INFO - Active learning iteration: #2\n",
      "2019-09-29 22:42:06,063 Active learning iteration: #2\n"
     ]
    },
    {
     "name": "stderr",
     "output_type": "stream",
     "text": [
      "Epoch:  57%|█████▋    | 17/30 [00:19<00:14,  1.12s/it]\n"
     ]
    }
   ],
   "source": [
    "for exp in experiments[2:4]:\n",
    "    logger.info('#################### Experiment ######################')\n",
    "    logger.info(exp)\n",
    "    \n",
    "    run_experiment_al(**exp)\n",
    "    \n",
    "    logger.info('################### Experiment finished ##############')"
   ]
  },
  {
   "cell_type": "markdown",
   "metadata": {},
   "source": [
    "# Analyze results"
   ]
  },
  {
   "cell_type": "code",
   "execution_count": 17,
   "metadata": {},
   "outputs": [],
   "source": [
    "from exp_utils import print_al_stats"
   ]
  },
  {
   "cell_type": "code",
   "execution_count": 18,
   "metadata": {},
   "outputs": [
    {
     "name": "stdout",
     "output_type": "stream",
     "text": [
      "(10,)\n",
      "Al score:  0.6513872668796481\n",
      "Entire data score: 0.718\n",
      "Score ratio: 0.9072246056819612\n"
     ]
    }
   ],
   "source": [
    "data_path = '../workdir/experiments_draw/diabetes_MNLP-mod.npy'\n",
    "entire_dat_score = 0.718\n",
    "print_al_stats(data_path, entire_dat_score)"
   ]
  },
  {
   "cell_type": "code",
   "execution_count": 19,
   "metadata": {},
   "outputs": [
    {
     "name": "stdout",
     "output_type": "stream",
     "text": [
      "(10,)\n",
      "Al score:  0.2841254596866301\n",
      "Entire data score: 0.401\n",
      "Score ratio: 0.708542293482868\n"
     ]
    }
   ],
   "source": [
    "data_path = '../workdir/experiments_draw/cad_MNLP-mod.npy'\n",
    "entire_dat_score = 0.401\n",
    "print_al_stats(data_path, entire_dat_score)"
   ]
  },
  {
   "cell_type": "code",
   "execution_count": 20,
   "metadata": {},
   "outputs": [
    {
     "name": "stdout",
     "output_type": "stream",
     "text": [
      "(10,)\n",
      "Al score:  0.6053099221998488\n",
      "Entire data score: 0.739\n",
      "Score ratio: 0.8190932641405261\n"
     ]
    }
   ],
   "source": [
    "data_path = '../workdir/experiments_draw/hypertension_MNLP-mod.npy'\n",
    "entire_dat_score = 0.739\n",
    "print_al_stats(data_path, entire_dat_score)"
   ]
  },
  {
   "cell_type": "code",
   "execution_count": null,
   "metadata": {},
   "outputs": [],
   "source": [
    "import numpy as np\n",
    "\n",
    "data_path = '../workdir/experiments_draw/diabetes_MNLP-mod.npy'\n",
    "stats = np.load(data_path)\n",
    "\n",
    "stats.mean()"
   ]
  }
 ],
 "metadata": {
  "kernelspec": {
   "display_name": "Python 3",
   "language": "python",
   "name": "python3"
  },
  "language_info": {
   "codemirror_mode": {
    "name": "ipython",
    "version": 3
   },
   "file_extension": ".py",
   "mimetype": "text/x-python",
   "name": "python",
   "nbconvert_exporter": "python",
   "pygments_lexer": "ipython3",
   "version": "3.7.4"
  }
 },
 "nbformat": 4,
 "nbformat_minor": 4
}
