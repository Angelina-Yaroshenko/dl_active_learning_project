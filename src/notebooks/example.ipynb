{
 "cells": [
  {
   "cell_type": "code",
   "execution_count": null,
   "metadata": {},
   "outputs": [],
   "source": [
    "!pip uninstall -y libact\n",
    "!pip install git+https://github.com/IINemo/libact.git@seq"
   ]
  },
  {
   "cell_type": "code",
   "execution_count": 1,
   "metadata": {},
   "outputs": [
    {
     "name": "stdout",
     "output_type": "stream",
     "text": [
      "Uninstalling actleto-0.1.0:\n",
      "  Successfully uninstalled actleto-0.1.0\n",
      "Obtaining file:///notebook/projects/biomed_ie/packages/active_learning_toolbox\n",
      "Requirement already satisfied: cython in /opt/.pyenv/versions/3.7.4/lib/python3.7/site-packages (from actleto==0.1.0) (0.29.12)\n",
      "Requirement already satisfied: numpy>=1.12.1 in /opt/.pyenv/versions/3.7.4/lib/python3.7/site-packages (from actleto==0.1.0) (1.17.2)\n",
      "Requirement already satisfied: pandas>=0.20.1 in /opt/.pyenv/versions/3.7.4/lib/python3.7/site-packages (from actleto==0.1.0) (0.24.2)\n",
      "Requirement already satisfied: scikit-learn>=0.18 in /opt/.pyenv/versions/3.7.4/lib/python3.7/site-packages (from actleto==0.1.0) (0.21.3)\n",
      "Requirement already satisfied: scipy>=0.19.0 in /opt/.pyenv/versions/3.7.4/lib/python3.7/site-packages (from actleto==0.1.0) (1.3.1)\n",
      "Requirement already satisfied: Pillow>=4.2.1 in /opt/.pyenv/versions/3.7.4/lib/python3.7/site-packages (from actleto==0.1.0) (6.2.0)\n",
      "Requirement already satisfied: ipywidgets>=4 in /opt/.pyenv/versions/3.7.4/lib/python3.7/site-packages (from actleto==0.1.0) (7.5.1)\n",
      "Requirement already satisfied: annoy in /opt/.pyenv/versions/3.7.4/lib/python3.7/site-packages (from actleto==0.1.0) (1.16.0)\n",
      "Requirement already satisfied: pytz>=2011k in /opt/.pyenv/versions/3.7.4/lib/python3.7/site-packages (from pandas>=0.20.1->actleto==0.1.0) (2019.2)\n",
      "Requirement already satisfied: python-dateutil>=2.5.0 in /opt/.pyenv/versions/3.7.4/lib/python3.7/site-packages (from pandas>=0.20.1->actleto==0.1.0) (2.8.0)\n",
      "Requirement already satisfied: joblib>=0.11 in /opt/.pyenv/versions/3.7.4/lib/python3.7/site-packages (from scikit-learn>=0.18->actleto==0.1.0) (0.14.0)\n",
      "Requirement already satisfied: ipython>=4.0.0; python_version >= \"3.3\" in /opt/.pyenv/versions/3.7.4/lib/python3.7/site-packages (from ipywidgets>=4->actleto==0.1.0) (7.6.1)\n",
      "Requirement already satisfied: traitlets>=4.3.1 in /opt/.pyenv/versions/3.7.4/lib/python3.7/site-packages (from ipywidgets>=4->actleto==0.1.0) (4.3.3)\n",
      "Requirement already satisfied: ipykernel>=4.5.1 in /opt/.pyenv/versions/3.7.4/lib/python3.7/site-packages (from ipywidgets>=4->actleto==0.1.0) (5.1.2)\n",
      "Requirement already satisfied: nbformat>=4.2.0 in /opt/.pyenv/versions/3.7.4/lib/python3.7/site-packages (from ipywidgets>=4->actleto==0.1.0) (4.4.0)\n",
      "Requirement already satisfied: widgetsnbextension~=3.5.0 in /opt/.pyenv/versions/3.7.4/lib/python3.7/site-packages (from ipywidgets>=4->actleto==0.1.0) (3.5.1)\n",
      "Requirement already satisfied: six>=1.5 in /opt/.pyenv/versions/3.7.4/lib/python3.7/site-packages (from python-dateutil>=2.5.0->pandas>=0.20.1->actleto==0.1.0) (1.12.0)\n",
      "Requirement already satisfied: pygments in /opt/.pyenv/versions/3.7.4/lib/python3.7/site-packages (from ipython>=4.0.0; python_version >= \"3.3\"->ipywidgets>=4->actleto==0.1.0) (2.4.2)\n",
      "Requirement already satisfied: decorator in /opt/.pyenv/versions/3.7.4/lib/python3.7/site-packages (from ipython>=4.0.0; python_version >= \"3.3\"->ipywidgets>=4->actleto==0.1.0) (4.4.0)\n",
      "Requirement already satisfied: prompt-toolkit<2.1.0,>=2.0.0 in /opt/.pyenv/versions/3.7.4/lib/python3.7/site-packages (from ipython>=4.0.0; python_version >= \"3.3\"->ipywidgets>=4->actleto==0.1.0) (2.0.10)\n",
      "Requirement already satisfied: pickleshare in /opt/.pyenv/versions/3.7.4/lib/python3.7/site-packages (from ipython>=4.0.0; python_version >= \"3.3\"->ipywidgets>=4->actleto==0.1.0) (0.7.5)\n",
      "Requirement already satisfied: jedi>=0.10 in /opt/.pyenv/versions/3.7.4/lib/python3.7/site-packages (from ipython>=4.0.0; python_version >= \"3.3\"->ipywidgets>=4->actleto==0.1.0) (0.15.1)\n",
      "Requirement already satisfied: setuptools>=18.5 in /opt/.pyenv/versions/3.7.4/lib/python3.7/site-packages (from ipython>=4.0.0; python_version >= \"3.3\"->ipywidgets>=4->actleto==0.1.0) (40.8.0)\n",
      "Requirement already satisfied: pexpect; sys_platform != \"win32\" in /opt/.pyenv/versions/3.7.4/lib/python3.7/site-packages (from ipython>=4.0.0; python_version >= \"3.3\"->ipywidgets>=4->actleto==0.1.0) (4.7.0)\n",
      "Requirement already satisfied: backcall in /opt/.pyenv/versions/3.7.4/lib/python3.7/site-packages (from ipython>=4.0.0; python_version >= \"3.3\"->ipywidgets>=4->actleto==0.1.0) (0.1.0)\n",
      "Requirement already satisfied: ipython-genutils in /opt/.pyenv/versions/3.7.4/lib/python3.7/site-packages (from traitlets>=4.3.1->ipywidgets>=4->actleto==0.1.0) (0.2.0)\n",
      "Requirement already satisfied: jupyter-client in /opt/.pyenv/versions/3.7.4/lib/python3.7/site-packages (from ipykernel>=4.5.1->ipywidgets>=4->actleto==0.1.0) (5.3.3)\n",
      "Requirement already satisfied: tornado>=4.2 in /opt/.pyenv/versions/3.7.4/lib/python3.7/site-packages (from ipykernel>=4.5.1->ipywidgets>=4->actleto==0.1.0) (6.0.3)\n",
      "Requirement already satisfied: jsonschema!=2.5.0,>=2.4 in /opt/.pyenv/versions/3.7.4/lib/python3.7/site-packages (from nbformat>=4.2.0->ipywidgets>=4->actleto==0.1.0) (3.0.2)\n",
      "Requirement already satisfied: jupyter-core in /opt/.pyenv/versions/3.7.4/lib/python3.7/site-packages (from nbformat>=4.2.0->ipywidgets>=4->actleto==0.1.0) (4.5.0)\n",
      "Requirement already satisfied: notebook>=4.4.1 in /opt/.pyenv/versions/3.7.4/lib/python3.7/site-packages (from widgetsnbextension~=3.5.0->ipywidgets>=4->actleto==0.1.0) (6.0.1)\n",
      "Requirement already satisfied: wcwidth in /opt/.pyenv/versions/3.7.4/lib/python3.7/site-packages (from prompt-toolkit<2.1.0,>=2.0.0->ipython>=4.0.0; python_version >= \"3.3\"->ipywidgets>=4->actleto==0.1.0) (0.1.7)\n",
      "Requirement already satisfied: parso>=0.5.0 in /opt/.pyenv/versions/3.7.4/lib/python3.7/site-packages (from jedi>=0.10->ipython>=4.0.0; python_version >= \"3.3\"->ipywidgets>=4->actleto==0.1.0) (0.5.1)\n",
      "Requirement already satisfied: ptyprocess>=0.5 in /opt/.pyenv/versions/3.7.4/lib/python3.7/site-packages (from pexpect; sys_platform != \"win32\"->ipython>=4.0.0; python_version >= \"3.3\"->ipywidgets>=4->actleto==0.1.0) (0.6.0)\n",
      "Requirement already satisfied: pyzmq>=13 in /opt/.pyenv/versions/3.7.4/lib/python3.7/site-packages (from jupyter-client->ipykernel>=4.5.1->ipywidgets>=4->actleto==0.1.0) (18.1.0)\n",
      "Requirement already satisfied: attrs>=17.4.0 in /opt/.pyenv/versions/3.7.4/lib/python3.7/site-packages (from jsonschema!=2.5.0,>=2.4->nbformat>=4.2.0->ipywidgets>=4->actleto==0.1.0) (19.2.0)\n",
      "Requirement already satisfied: pyrsistent>=0.14.0 in /opt/.pyenv/versions/3.7.4/lib/python3.7/site-packages (from jsonschema!=2.5.0,>=2.4->nbformat>=4.2.0->ipywidgets>=4->actleto==0.1.0) (0.15.4)\n",
      "Requirement already satisfied: Send2Trash in /opt/.pyenv/versions/3.7.4/lib/python3.7/site-packages (from notebook>=4.4.1->widgetsnbextension~=3.5.0->ipywidgets>=4->actleto==0.1.0) (1.5.0)\n",
      "Requirement already satisfied: terminado>=0.8.1 in /opt/.pyenv/versions/3.7.4/lib/python3.7/site-packages (from notebook>=4.4.1->widgetsnbextension~=3.5.0->ipywidgets>=4->actleto==0.1.0) (0.8.2)\n",
      "Requirement already satisfied: prometheus-client in /opt/.pyenv/versions/3.7.4/lib/python3.7/site-packages (from notebook>=4.4.1->widgetsnbextension~=3.5.0->ipywidgets>=4->actleto==0.1.0) (0.7.1)\n",
      "Requirement already satisfied: jinja2 in /opt/.pyenv/versions/3.7.4/lib/python3.7/site-packages (from notebook>=4.4.1->widgetsnbextension~=3.5.0->ipywidgets>=4->actleto==0.1.0) (2.10.3)\n",
      "Requirement already satisfied: nbconvert in /opt/.pyenv/versions/3.7.4/lib/python3.7/site-packages (from notebook>=4.4.1->widgetsnbextension~=3.5.0->ipywidgets>=4->actleto==0.1.0) (5.6.0)\n",
      "Requirement already satisfied: MarkupSafe>=0.23 in /opt/.pyenv/versions/3.7.4/lib/python3.7/site-packages (from jinja2->notebook>=4.4.1->widgetsnbextension~=3.5.0->ipywidgets>=4->actleto==0.1.0) (1.1.1)\n",
      "Requirement already satisfied: testpath in /opt/.pyenv/versions/3.7.4/lib/python3.7/site-packages (from nbconvert->notebook>=4.4.1->widgetsnbextension~=3.5.0->ipywidgets>=4->actleto==0.1.0) (0.4.2)\n",
      "Requirement already satisfied: defusedxml in /opt/.pyenv/versions/3.7.4/lib/python3.7/site-packages (from nbconvert->notebook>=4.4.1->widgetsnbextension~=3.5.0->ipywidgets>=4->actleto==0.1.0) (0.6.0)\n",
      "Requirement already satisfied: bleach in /opt/.pyenv/versions/3.7.4/lib/python3.7/site-packages (from nbconvert->notebook>=4.4.1->widgetsnbextension~=3.5.0->ipywidgets>=4->actleto==0.1.0) (3.1.0)\n",
      "Requirement already satisfied: mistune<2,>=0.8.1 in /opt/.pyenv/versions/3.7.4/lib/python3.7/site-packages (from nbconvert->notebook>=4.4.1->widgetsnbextension~=3.5.0->ipywidgets>=4->actleto==0.1.0) (0.8.4)\n"
     ]
    },
    {
     "name": "stdout",
     "output_type": "stream",
     "text": [
      "Requirement already satisfied: entrypoints>=0.2.2 in /opt/.pyenv/versions/3.7.4/lib/python3.7/site-packages (from nbconvert->notebook>=4.4.1->widgetsnbextension~=3.5.0->ipywidgets>=4->actleto==0.1.0) (0.3)\n",
      "Requirement already satisfied: pandocfilters>=1.4.1 in /opt/.pyenv/versions/3.7.4/lib/python3.7/site-packages (from nbconvert->notebook>=4.4.1->widgetsnbextension~=3.5.0->ipywidgets>=4->actleto==0.1.0) (1.4.2)\n",
      "Requirement already satisfied: webencodings in /opt/.pyenv/versions/3.7.4/lib/python3.7/site-packages (from bleach->nbconvert->notebook>=4.4.1->widgetsnbextension~=3.5.0->ipywidgets>=4->actleto==0.1.0) (0.5.1)\n",
      "Installing collected packages: actleto\n",
      "  Running setup.py develop for actleto\n",
      "Successfully installed actleto\n",
      "\u001b[33mWARNING: You are using pip version 19.3; however, version 19.3.1 is available.\n",
      "You should consider upgrading via the 'pip install --upgrade pip' command.\u001b[0m\n"
     ]
    }
   ],
   "source": [
    "!pip uninstall -y actleto\n",
    "!pip install -e ../../packages/active_learning_toolbox/\n",
    "#!pip install git+https://github.com/IINemo/active_learning_toolbox.git"
   ]
  },
  {
   "cell_type": "code",
   "execution_count": 1,
   "metadata": {},
   "outputs": [
    {
     "name": "stdout",
     "output_type": "stream",
     "text": [
      "Uninstalling text-selector-0.1.0a0:\n",
      "  Successfully uninstalled text-selector-0.1.0a0\n"
     ]
    }
   ],
   "source": [
    "!pip uninstall -y text_selector\n",
    "!pip install -e ../text_selector/"
   ]
  },
  {
   "cell_type": "code",
   "execution_count": 3,
   "metadata": {},
   "outputs": [
    {
     "name": "stdout",
     "output_type": "stream",
     "text": [
      "Installing /notebook/projects/biomed_ie/packages/text_selector/text_selector/static -> text_selector\r\n",
      "- Validating: \u001b[32mOK\u001b[0m\r\n",
      "\r\n",
      "    To initialize this nbextension in the browser every time the notebook (or other app) loads:\r\n",
      "    \r\n",
      "          jupyter nbextension enable text_selector --py --sys-prefix\r\n",
      "    \r\n"
     ]
    }
   ],
   "source": [
    "!jupyter nbextension install --py --symlink --sys-prefix text_selector"
   ]
  },
  {
   "cell_type": "code",
   "execution_count": 4,
   "metadata": {},
   "outputs": [
    {
     "name": "stdout",
     "output_type": "stream",
     "text": [
      "Enabling notebook extension text_selector/extension...\r\n",
      "      - Validating: \u001b[32mOK\u001b[0m\r\n"
     ]
    }
   ],
   "source": [
    "!jupyter nbextension enable --py --sys-prefix text_selector"
   ]
  },
  {
   "cell_type": "code",
   "execution_count": 1,
   "metadata": {},
   "outputs": [],
   "source": [
    "import sys\n",
    "\n",
    "\n",
    "sys.path.append('../../../bert_sequence_tagger/src/')"
   ]
  },
  {
   "cell_type": "markdown",
   "metadata": {},
   "source": [
    "# Initializer"
   ]
  },
  {
   "cell_type": "code",
   "execution_count": 2,
   "metadata": {},
   "outputs": [],
   "source": [
    "import collections, pandas as pd, numpy as np\n",
    "\n",
    "from sklearn.linear_model import LogisticRegression\n",
    "from sklearn.datasets import fetch_20newsgroups\n",
    "from sklearn.feature_extraction.text import TfidfVectorizer\n",
    "from sklearn.metrics import accuracy_score, f1_score, roc_auc_score\n",
    "\n",
    "from libact.models import LogisticRegression as LibActLogReg\n",
    "from libact.query_strategies import UncertaintySampling\n",
    "\n",
    "from actleto import ActiveLearner, ActiveLearnerUiWidget, make_libact_strategy_ctor"
   ]
  },
  {
   "cell_type": "markdown",
   "metadata": {},
   "source": [
    "# OLD"
   ]
  },
  {
   "cell_type": "code",
   "execution_count": 2,
   "metadata": {},
   "outputs": [],
   "source": [
    "# Loading the 20newsgroups dataset\n",
    "train_dataset = fetch_20newsgroups(subset='train')\n",
    "test_dataset = fetch_20newsgroups(subset='test')"
   ]
  },
  {
   "cell_type": "code",
   "execution_count": 3,
   "metadata": {},
   "outputs": [],
   "source": [
    "# Preparing features\n",
    "vectorizer = TfidfVectorizer(min_df=3, max_df=0.5, sublinear_tf=True)\n",
    "\n",
    "X_train = vectorizer.fit_transform(train_dataset.data)\n",
    "Y_train = train_dataset.target\n",
    "\n",
    "X_test = vectorizer.transform(test_dataset.data)\n",
    "Y_test = test_dataset.target"
   ]
  },
  {
   "cell_type": "code",
   "execution_count": null,
   "metadata": {},
   "outputs": [],
   "source": [
    "clf = LogisticRegression(solver='lbfgs')\n",
    "clf.fit(X_train, Y_train)\n",
    "Y_pred = clf.predict(X_test)\n",
    "Y_pred_proba = clf.predict_proba(X_test)\n",
    "print('Accuracy', accuracy_score(Y_test, Y_pred))\n",
    "print('F1 macro', f1_score(Y_test, Y_pred, average='macro'))"
   ]
  },
  {
   "cell_type": "code",
   "execution_count": null,
   "metadata": {},
   "outputs": [],
   "source": [
    "# We choose 20 random examples as seed set for active learning.\n",
    "Y_seed = Y_train.copy().astype('O')\n",
    "unknown_indexes = np.random.randint(Y_seed.shape[0], size = Y_seed.shape[0] - 20)\n",
    "Y_seed[unknown_indexes] = None"
   ]
  },
  {
   "cell_type": "code",
   "execution_count": 6,
   "metadata": {},
   "outputs": [
    {
     "name": "stderr",
     "output_type": "stream",
     "text": [
      "/opt/.pyenv/versions/3.7.4/lib/python3.7/site-packages/sklearn/linear_model/logistic.py:432: FutureWarning: Default solver will be changed to 'lbfgs' in 0.22. Specify a solver to silence this warning.\n",
      "  FutureWarning)\n",
      "/opt/.pyenv/versions/3.7.4/lib/python3.7/site-packages/sklearn/linear_model/logistic.py:469: FutureWarning: Default multi_class will be changed to 'auto' in 0.22. Specify the multi_class option to silence this warning.\n",
      "  \"this warning.\", FutureWarning)\n"
     ]
    }
   ],
   "source": [
    "# Creating query strategy. The strategy selects examples for annotations from unlabeled dataset.\n",
    "# We use standard uncertainty sampling strategy from libact and wrap it into adaptor.\n",
    "active_learn_alg_ctor = make_libact_strategy_ctor(lambda trn_ds:\n",
    "                                                  UncertaintySampling(trn_ds,\n",
    "                                                                      model = LibActLogReg()))\n",
    "\n",
    "# Creating ActiveLearning object that implements AL logic.\n",
    "active_learner = ActiveLearner(active_learn_alg_ctor = active_learn_alg_ctor,\n",
    "                               y_dtype = 'int',\n",
    "                               X_full_dataset = X_train, \n",
    "                               y_full_dataset = Y_seed,\n",
    "                               X_test_dataset = X_test,\n",
    "                               y_test_dataset = Y_test,\n",
    "                               model_evaluate = LibActLogReg(), # We use logreg from libact for choosing samples.\n",
    "                               eval_metrics = [accuracy_score, f1_score],\n",
    "                               rnd_start_steps = 0)\n",
    "\n",
    "# Creaing X_helper object for visualization dataset for humans.\n",
    "X_helper = pd.DataFrame(data={ 'text' : train_dataset.data })"
   ]
  },
  {
   "cell_type": "code",
   "execution_count": null,
   "metadata": {},
   "outputs": [],
   "source": [
    "# This try-catch block is needed to stop autosave thread in case we invoke the cell multiple times.\n",
    "try:\n",
    "    if active_learn_ui:\n",
    "        active_learn_ui.stop()\n",
    "except NameError:\n",
    "    pass\n",
    "\n",
    "# Creaing the active learner widget itself and configure it with active_learner, X_helper.\n",
    "# The default visualizer will preview the visualize_columns with VisualizerTextArea.\n",
    "active_learn_ui = ActiveLearnerUiWidget(active_learner = active_learner, \n",
    "                                        X_helper = X_helper,\n",
    "                                        display_feature_table = False,\n",
    "                                        drop_labels = [],\n",
    "                                        visualize_columns = ['text'],\n",
    "                                        y_labels = { label : i for i, label in enumerate(train_dataset.target_names) },\n",
    "                                        save_path = './20ng_active_dump.npy',\n",
    "                                        save_time = 120)\n",
    "\n",
    "active_learn_ui"
   ]
  },
  {
   "cell_type": "markdown",
   "metadata": {},
   "source": [
    "# New"
   ]
  },
  {
   "cell_type": "code",
   "execution_count": 3,
   "metadata": {},
   "outputs": [],
   "source": [
    "txts = [\n",
    "    \"The human TCF-1 gene encodes a nuclear DNA-binding protein uniquely expressed in normal and neoplastic T-lineage lymphocytes .\",\n",
    "    \"The anti-inflammatory drugs sodium salicylate and aspirin inhibited the activation of NF-kappa B, which further explains the mechanism of action of these drugs .\",\n",
    "    \"Expression of IL-1alpha by HTLV-I productively infected cells may be important in the hypercalcemia , osteolytic bone lesions , neutrophilia , elevation of C-reactive protein, and fever frequently seen in patients with HTLV-I-induced adult T-cell leukemia/lymphoma .\",\n",
    "    \"These data may have implications for the stringent control of IL-4 expression in T cells .\",\n",
    "    \"PI3-kinase activity was an upstream activator of PKB/Akt because the PI3-kinase inhibitor LY294002 blocked both constitutive PKB/Akt and factor-dependent PKB/Akt activity .\",\n",
    "    \"Cell-type-specific regulation of the human <B-DNA> tumor <I-DNA> necrosis <I-DNA> factor <I-DNA> alpha <I-DNA> gene <I-DNA> in B <B-cell_type> cells <I-cell_type> and T <B-cell_type> cells <I-cell_type> by NFATp <B-protein> and ATF-2/JUN <B-protein> .\",\n",
    "    \"The IL-2 <B-protein> enhancer contains a functional motif named CD28 <B-DNA> response <I-DNA> element <I-DNA> ( CD28RE <B-DNA> ) that serves a role as a target for mitogenic T cell activation signals .\",\n",
    "    \"Here , we describe the effect of 383-bp <B-DNA> ( <I-DNA> delta383 <I-DNA> ) <I-DNA> and <I-DNA> 99-bp <I-DNA> ( <I-DNA> delta99 <I-DNA> ) <I-DNA> sequences <I-DNA> containing the PYBF-binding <B-DNA> site <I-DNA> on transcription from various globin and non-globin promoters , using a transient assay with the cat <B-DNA> reporter <I-DNA> gene <I-DNA> in murine <B-cell_line> erythroleukemia <I-cell_line> ( <I-cell_line> MEL <I-cell_line> ) <I-cell_line> cells <I-cell_line> , a cell line with abundant PYBF <B-protein> activity .\",\n",
    "    \"Since the co-expression with a dominant negative c-Fos <B-protein> abolished the responsiveness to TPA , we conclude that activated transcription of the DRA <B-DNA> gene <I-DNA> depends on interactions between the X2 <B-DNA> box <I-DNA> and NF-X2 <B-DNA> , which contains c-Fos <B-protein> .\",\n",
    "    \"To test this hypothesis , 4-h NK cytolysis assays were performed on IFN-gamma-treated <B-cell_line> human <I-cell_line> cells <I-cell_line> infected with an Ad5 E1A <B-DNA> deletion mutant , dl343 , or transfected with the Ad5 <B-DNA> E1A <I-DNA> gene <I-DNA> .\",\n",
    "    \"Taken together , these findings suggest that PWM <B-protein> is able to initiate an intracytoplasmic signalling cascade and EGR-1 <B-DNA> induction in normal <B-cell_type> human <I-cell_type> B <I-cell_type> cells <I-cell_type> .\",\n",
    "    \"As several inflammatory <B-protein> cytokines <I-protein> and oxidative stresses are involved in the pathogenesis of HIV-1 infection , we investigated the inhibitory effects of cepharanthine on tumor necrosis factor alpha ( TNF-alpha <B-protein> ) - and phorbol 12-myristate 13-acetate ( PMA ) -induced HIV-1 replication in chronically <B-cell_line> infected <I-cell_line> cell <I-cell_line> lines <I-cell_line> .\",\n",
    "    \"The authors provide the results of studying 1 , 25-dihydroxyvitamin D3 ( calcitriol ) in lymphocytes <B-cell_type> of children with rickets and rickets-like diseases .\",\n",
    "    \"These results suggest that HIV-TF1 <B-protein> is involved in transcriptional regulation of HIV-1 .\",\n",
    "    \"Associated with these findings , the levels of p21 <B-protein> ( <I-protein> WAF1/CIP1 <I-protein> ) <I-protein> and p27 <B-RNA> ( <I-RNA> KIP1 <I-RNA> ) <I-RNA> mRNA <I-RNA> and protein increased in these cells .\",\n",
    "    \"The gene encoding the Epstein-Barr <B-protein> virus <I-protein> ( <I-protein> EBV <I-protein> ) <I-protein> -specific <I-protein> dUTPase <I-protein> was amplified from virus <B-DNA> DNA <I-DNA> by PCR .\",\n",
    "    \"In vivo studies in rats utilized 2 mg/kg IV bolus doses of liposomal MPL compared to drug in solution .\",\n",
    "    \"Only through considered evaluation of clinical evidence may clinicians determine which therapies should remain novelties and which should become an accepted part of the armamentarium .\",\n",
    "    \"The levels of cAMP-dependent <B-protein> protein <I-protein> kinase <I-protein> and Rap1 <B-protein> were assessed by Western blot analysis , immunostaining , and computer-assisted imaging .\",\n",
    "    \"Oncogenicity of human <B-cell_line> papillomavirus- <I-cell_line> or <I-cell_line> adenovirus-transformed <I-cell_line> cells <I-cell_line> correlates with resistance to lysis by natural <B-cell_type> killer <I-cell_type> cells <I-cell_type> .\",\n",
    "    \"Because the primed <B-cell_line> T <I-cell_line> cells <I-cell_line> contain higher levels of nuclear <B-protein> NF-ATp <I-protein> , capable of binding to P <B-DNA> elements <I-DNA> of the IL-4 <B-DNA> and <I-DNA> IL-13 <I-DNA> promoters <I-DNA> , than do freshly-isolated <B-cell_type> T <I-cell_type> cells <I-cell_type> , the NF-AT-binding <B-DNA> P <I-DNA> elements <I-DNA> are attractive candidates to mediate the coordinate expression of these two cytokine <B-DNA> genes <I-DNA> .\",\n",
    "    \"While the maternally <B-DNA> derived <I-DNA> X <I-DNA> chromosome <I-DNA> was preferentially active in the asymptomatic twin , the paternal <B-DNA> X <I-DNA> chromosome <I-DNA> was active in the other , affected twin and was found in her hemizygotic nephew .\",\n",
    "    \"Studies of the actions of platelet-activating <B-protein> factor <I-protein> have centered mainly around neutrophils <B-cell_type> , monocytes <B-cell_type> , and platelets <B-cell_type> .\",\n",
    "    \"Stat3gamma <B-protein> is derived from Stat3alpha <B-protein> by limited proteolysis and lacks the carboxyl-terminal <B-protein> portion <I-protein> of Stat3alpha <B-protein> .\",\n",
    "    \"Examination of IkappaB <B-protein> alpha <I-protein> regulation revealed that TNF-alpha <B-protein> -mediated degradation of IkappaB <B-protein> alpha <I-protein> in both memory <B-cell_type> and <I-cell_type> naive <I-cell_type> T <I-cell_type> cells <I-cell_type> from the elderly was severely impaired , thus contributing to the lowered induction of the observed NFkappaB <B-protein> .\",\n",
    "    \"This provides the hormone with an interesting therapeutic potential .\",\n",
    "    \"We now demonstrate that v-src <B-DNA> expression correlates with nuclear expression of a kappa <B-protein> B <I-protein> binding <I-protein> complex <I-protein> similar to that induced by phorbol ester and ionomycin , as detected by electrophoretic mobility shift assay using a variety of kappa <B-DNA> B <I-DNA> sites <I-DNA> .\",\n",
    "    \"We therefore examined the effects of EC <B-cell_type> on T <B-protein> cell <I-protein> nuclear <I-protein> factors <I-protein> known to regulate IL-2 <B-protein> transcription , including c-jun <B-protein> and c-fos-two <B-protein> components <I-protein> of the transcription <B-protein> factor <I-protein> AP-1 <B-protein> , NFAT <B-protein> , and others .\",\n",
    "    \"Contrary to the results in Jurkat <B-cell_line> cells <I-cell_line> , PDTC did not inhibit tumor <B-protein> necrosis <I-protein> factor-alpha <I-protein> -induced NF <B-protein> kappaB <I-protein> activation in astrocytes <B-cell_type> ; instead PDTC itself induces NF <B-protein> kappaB <I-protein> activation in astrocytes <B-cell_type> , and this may be related to scavenging of endogenously produced NO by the PDTC iron complex .\",\n",
    "    \"To identify the molecular basis for specificity and inducibility , the chromatin <B-DNA> configuration of the human <B-DNA> B7.1 <I-DNA> gene <I-DNA> was examined in intact nuclei from various cell types .\",\n",
    "    \"Human umbilical vein ECs <B-cell_type> were pretreated with alpha-tcp before stimulation with known agonists of monocyte adhesion : IL-1 <B-protein> ( 10 ng/ml ) , LPS ( 10 ng/ml ) , thrombin <B-protein> ( 30 U/ml ) , or PMA ( 10 nM ) .\",\n",
    "    \"The 5 <B-DNA> ' <I-DNA> sequences <I-DNA> up to nucleotide -120 of the human and murine IL-16 <B-protein> genes share > 84 % sequence homology and harbor <B-DNA> promoter <I-DNA> elements <I-DNA> for constitutive and inducible transcription in T <B-cell_type> cells <I-cell_type> .\",\n",
    "    \"C3 transferase and cytochalasin D did not alter the expression levels of monocyte-binding <B-protein> receptors <I-protein> on endothelial <B-cell_type> cells <I-cell_type> , but did inhibit clustering of E-selectin <B-protein> , ICAM-1 <B-protein> , and VCAM-1 <B-protein> on the cell surface induced by monocyte adhesion or cross-linking <B-protein> antibodies <I-protein> .\",\n",
    "    \"In this study , we isolated the genomic <B-DNA> DNA <I-DNA> for human <B-DNA> IRF-2 <I-DNA> gene <I-DNA> , determined the intron-exon structure of the human <B-DNA> IRF-2 <I-DNA> gene <I-DNA> , mapped the major <B-DNA> transcription <I-DNA> initiation <I-DNA> site <I-DNA> , identified a number of potential regulatory elements in the 5'-flanking <B-DNA> region <I-DNA> , and localized the IRF-2 <B-DNA> gene <I-DNA> on human <B-DNA> chromosome <I-DNA> 4 <I-DNA> .\",\n",
    "    \"CD30 <B-protein> is a cell-surface <B-protein> receptor <I-protein> that can augment lymphocyte activation and survival through its ability to induce the transcription <B-protein> factor <I-protein> NF-kappaB <B-protein> .\",\n",
    "    \"Despite the dual specificity of HTLV-1 Tax <B-protein> for IkappaBalpha <B-protein> and IkappaBbeta <B-protein> at the protein level , Tax <B-protein> selectively stimulates NF-kappaB <B-protein> -directed transcription of the IkappaBalpha <B-DNA> gene <I-DNA> .\",\n",
    "    \"The agent , 17 beta-estradiol , but not 17 alpha-estradiol , significantly reduced PMNs <B-cell_type> chemotaxis to FMLP in a dose-dependent manner ( control vs estrogen 10 ( -10 ) - ( -6 ) M , P < 0.05 ) .\",\n",
    "    \"In PHA-activated <B-cell_line> PBL <I-cell_line> , no age-related differences were observed in c-fos or jun B mRNA expression .\",\n",
    "    \"Control of IL-5 <B-protein> production may be effective for the management of allergic diseases .\",\n",
    "    \"NFAT1 <B-protein> possesses two transactivation <B-DNA> domains <I-DNA> whose sequences are not conserved in the other NFAT-family <B-protein> proteins <I-protein> , and a conserved DNA-binding <B-DNA> domain <I-DNA> that mediates the recruitment of cooperating nuclear <B-protein> transcription <I-protein> factors <I-protein> even when it is expressed in the absence of other regions of the protein .\",\n",
    "    \"Expression of Spi-1 <B-protein> in these cells inhibited this ability to differentiate and rescued the cells from the apoptotic cell death program normally induced upon hEpo <B-protein> withdrawal .\",\n",
    "    \"Pretreatment of cultured <B-cell_type> human <I-cell_type> ECs <I-cell_type> with the PPARalpha <B-protein> activators fenofibrate or WY14643 inhibited TNF-alpha-induced <B-protein> VCAM-1 <I-protein> in a time- and concentration-dependent manner , an effect not seen with PPARgamma <B-protein> activators .\",\n",
    "    \"The molecular mechanism ( s ) responsible for this phenomenon have not been clearly elucidated .\",\n",
    "    \"GC efficiently suppressed IL-5 <B-protein> synthesis of T-cell clones activated via either T-cell <B-protein> receptor <I-protein> ( TCR <B-protein> ) or IL-2 <B-protein> receptor <I-protein> ( IL-2R <B-protein> ) .\",\n",
    "    \"Alveolar macrophages play an important role in host defense and in other types of inflammatory processes in the lung .\",\n",
    "    \"To limit expression of a transduced HIV-1 <B-DNA> long <I-DNA> terminal <I-DNA> repeat <I-DNA> ( <I-DNA> LTR <I-DNA> ) <I-DNA> -IFNA2 <I-DNA> ( the new approved nomenclature for IFN <B-DNA> genes <I-DNA> is used throughout this article ) hybrid <B-DNA> gene <I-DNA> to the HIV-1-infected <B-cell_line> cells <I-cell_line> , HIV-1 <B-DNA> LTR <I-DNA> was modified .\",\n",
    "    \"Characterization of the CD48 <B-DNA> gene <I-DNA> demonstrates a positive element that is specific to Epstein-Barr <B-cell_type> virus-immortalized <I-cell_type> B-cell <I-cell_type> lines <I-cell_type> and contains an essential NF-kappa <B-DNA> B <I-DNA> site <I-DNA> .\",\n",
    "    \"Such observations indicate that IL-4 <B-protein> Stat <I-protein> has the same functional <B-protein> domain <I-protein> for both receptor coupling and dimerization .\",\n",
    "    \"Double-stimulation was used to demonstrate that , in a T <B-cell_line> lymphocytic <I-cell_line> cell <I-cell_line> line <I-cell_line> ( CEM <B-cell_line> ) , phorbol myristate acetate ( PMA ) rapidly induced NF-kappa <B-protein> B <I-protein> through a signaling pathway which did not involve reactive oxygen species ( ROS ) and was different from the activation triggered by either H2O2 or tumor <B-protein> necrosis <I-protein> factor-alpha <I-protein> ( TNF-alpha <B-protein> ) .\",\n",
    "    \"Mutations in the TSC2 <B-DNA> gene <I-DNA> : analysis of the complete coding sequence using the protein truncation test ( PTT ) .\",\n",
    "]\n",
    "\n",
    "tags = [\n",
    "    'protein',\n",
    "    'DNA',\n",
    "    'cell_type',\n",
    "    'cell_line',\n",
    "    'RNA'\n",
    "]\n",
    "\n",
    "\n",
    "import pandas as pd\n",
    "\n",
    "df = pd.DataFrame([[e] for e in txts], columns=['texts'])"
   ]
  },
  {
   "cell_type": "code",
   "execution_count": 4,
   "metadata": {},
   "outputs": [],
   "source": [
    "class SeqAnnotationVisualizer:\n",
    "    def __init__(self, tags):\n",
    "        self._tags = tags\n",
    "        self._widgets = {}\n",
    "        \n",
    "    def _callback(self, index):\n",
    "        self._answers[index] = self._widgets[index].res\n",
    "        \n",
    "    def init(self, dataframe, answers):\n",
    "        self._dataframe = dataframe\n",
    "        self._answers = answers\n",
    "        \n",
    "    def __call__(self, index):\n",
    "        widget = TextSelectorWidget(txt=self._dataframe.iloc[index, 0], tags=self._tags, \n",
    "                                    callback=lambda *args,**kwargs: self._callback(index), \n",
    "                                    colors=['#33ff99', '#66b2ff', '#ff9999', '#ffff66', '#C0C0C0'])\n",
    "        if self._answers[index] is not None:\n",
    "            widget.res = self._answers[index]\n",
    "            \n",
    "        self._widgets[index] = widget\n",
    "        return (widget,)"
   ]
  },
  {
   "cell_type": "code",
   "execution_count": 5,
   "metadata": {},
   "outputs": [
    {
     "data": {
      "text/plain": [
       "{'#33ff99', '#66b2ff', '#C0C0C0', '#ff9999', '#ffff66'}"
      ]
     },
     "execution_count": 5,
     "metadata": {},
     "output_type": "execute_result"
    }
   ],
   "source": [
    "set(['#33ff99', '#66b2ff', '#ff9999', '#ffff66', '#C0C0C0'])"
   ]
  },
  {
   "cell_type": "code",
   "execution_count": 6,
   "metadata": {},
   "outputs": [],
   "source": [
    "tags = ['cell_type', 'DNA', 'cell_line', 'RNA', 'protein']"
   ]
  },
  {
   "cell_type": "code",
   "execution_count": 7,
   "metadata": {},
   "outputs": [],
   "source": [
    "from text_selector.widget import Widget as TextSelectorWidget\n",
    "from ipywidgets import HBox, Button, Label, VBox\n",
    "\n",
    "\n",
    "from actleto.annotator.annotator_widget import AnnotatorWidget\n",
    "\n",
    "\n",
    "ann_widget = AnnotatorWidget(df, \n",
    "                             answers=None,\n",
    "                             max_examples=5,\n",
    "                             current_position=0,\n",
    "                             visualize_columns=[], \n",
    "                             drop_labels=[],\n",
    "                             y_labels=None,\n",
    "                             #y_labels={i : e for i, e in enumerate(tags)},\n",
    "                             visualizer=SeqAnnotationVisualizer(tags=tags),\n",
    "                             display_feature_table=False)"
   ]
  },
  {
   "cell_type": "code",
   "execution_count": null,
   "metadata": {},
   "outputs": [],
   "source": [
    "# TODO:\n",
    "# +0. Где callback?\n",
    "# 1. Убрать prev-next\n",
    "# 2. Пофиксить аннотацию в разных аннотаторах \n",
    "# 3. В разметку добавляется NaN:NaN если просто кликнуть на кноку Add\n",
    "# 4. Почему разными цветами всегда светится ?\n",
    "# 5. Почему кнопка reset не работает?\n",
    "# +6. Как создать виджет с уже имеющейся разметкой?"
   ]
  },
  {
   "cell_type": "code",
   "execution_count": 8,
   "metadata": {
    "scrolled": false
   },
   "outputs": [
    {
     "data": {
      "application/vnd.jupyter.widget-view+json": {
       "model_id": "a41021c4e8f64ef8b5d1cccb7e4d8c70",
       "version_major": 2,
       "version_minor": 0
      },
      "text/plain": [
       "AnnotatorWidget(children=(VBox(children=(HBox(children=(Button(description='Prev', style=ButtonStyle()), Butto…"
      ]
     },
     "metadata": {},
     "output_type": "display_data"
    }
   ],
   "source": [
    "ann_widget"
   ]
  },
  {
   "cell_type": "code",
   "execution_count": 22,
   "metadata": {},
   "outputs": [
    {
     "data": {
      "text/plain": [
       "array([list([{'start': 4, 'end': 19, 'tag': 'DNA'}, {'start': 39, 'end': 57, 'tag': 'protein'}, {'start': 103, 'end': 123, 'tag': 'protein'}]),\n",
       "       None, None, None, None, None, None, None, None, None, None, None,\n",
       "       None, None, None, None, None, None, None, None, None, None, None,\n",
       "       None, None, None, None, None, None, None, None, None, None, None,\n",
       "       None, None, None, None, None, None, None, None, None, None, None,\n",
       "       None, None, None, None, None], dtype=object)"
      ]
     },
     "execution_count": 22,
     "metadata": {},
     "output_type": "execute_result"
    }
   ],
   "source": [
    "answ = ann_widget.get_answers()\n",
    "answ"
   ]
  },
  {
   "cell_type": "code",
   "execution_count": 14,
   "metadata": {},
   "outputs": [],
   "source": [
    "answ = ann_widget.get_answers()\n",
    "import pickle \n",
    "\n",
    "with open('my_answers', 'wb') as f:\n",
    "    pickle.dump(answ, f)"
   ]
  },
  {
   "cell_type": "code",
   "execution_count": 38,
   "metadata": {},
   "outputs": [],
   "source": [
    "X_train = pd.DataFrame([[e] for e in txts], columns=['texts'])\n",
    "y_seed = [None] * len(txts)\n",
    "y_seed[0] = {'0' : {(0, 5) : 'protein'}}"
   ]
  },
  {
   "cell_type": "code",
   "execution_count": 9,
   "metadata": {},
   "outputs": [],
   "source": [
    "import sys\n",
    "\n",
    "sys.path.append('../../../bert_sequence_tagger/src/')"
   ]
  },
  {
   "cell_type": "code",
   "execution_count": 10,
   "metadata": {},
   "outputs": [],
   "source": [
    "def find_in_between(offsets, start, end):\n",
    "    res = []\n",
    "    for i, offset in enumerate(offsets):\n",
    "        if start <= offset and offset <= end:\n",
    "            res.append(i)\n",
    "    return res\n",
    "\n",
    "\n",
    "def convert_y_to_bio_format(X, y):\n",
    "    final_res = []\n",
    "    for i, sent_y in enumerate(y):\n",
    "        sent = X[i]\n",
    "        offsets = []\n",
    "        curr_offset = 0\n",
    "        for index, word in enumerate(sent.split(' ')):\n",
    "            offsets.append(curr_offset)\n",
    "            curr_offset += len(word) + 1\n",
    "        \n",
    "        good_ys = ['O'] * len(sent)\n",
    "        for w_y in sent_y:\n",
    "            positions = find_in_between(offsets, w_y['start'], w_y['end'])\n",
    "            good_ys[positions[0]] = 'B-' + w_y['tag']\n",
    "            \n",
    "            for pos in positions[1:]:\n",
    "                good_ys[pos] = 'I-' + w_y['tag']\n",
    "        \n",
    "        final_res.append(good_ys)\n",
    "    \n",
    "    return final_res\n",
    "\n",
    "\n",
    "def create_helper(X_train):\n",
    "    X_helper = pd.DataFrame([' '.join(e) for e in X_train], columns=['texts'])\n",
    "    return X_helper\n",
    "\n",
    "\n",
    "def convert_y_to_dict_format(X, y):\n",
    "    dict_annots = []\n",
    "    for sent_x, sent_y in zip(X, y):\n",
    "        offsets = []\n",
    "        curr_offset = 0\n",
    "        for index, word in enumerate(sent_x):\n",
    "            offsets.append(curr_offset)\n",
    "            curr_offset += len(word) + 1\n",
    "\n",
    "        sent_dict_annots = []\n",
    "        start_offset = -1\n",
    "        last_offset = -1\n",
    "        entity_tag = ''\n",
    "        for i, tag in enumerate(sent_y):\n",
    "            if tag.split('-')[0] == 'O':\n",
    "                if start_offset != -1:\n",
    "                    sent_dict_annots.append({'tag' : entity_tag, \n",
    "                                            'start' : start_offset, \n",
    "                                            'end' : last_offset})\n",
    "                start_offset = -1\n",
    "                \n",
    "            if tag.split('-')[0] == 'B':\n",
    "                if start_offset != -1:\n",
    "                    sent_dict_annots.append({'tag' : entity_tag, \n",
    "                                            'start' : start_offset, \n",
    "                                            'end' : last_offset})\n",
    "                \n",
    "                start_offset = offsets[i]\n",
    "                entity_tag = tag.split('-')[1]\n",
    "                last_offset = offsets[i] + len(sent_x[i])\n",
    "            elif tag.split('-')[0] == 'I':\n",
    "                last_offset = offsets[i] + len(sent_x[i])\n",
    "        \n",
    "        if start_offset != -1:\n",
    "            sent_dict_annots.append({'tag' : entity_tag,\n",
    "                             'start' : start_offset,\n",
    "                             'end' : last_offset})\n",
    "        \n",
    "        dict_annots.append(sent_dict_annots)\n",
    "    \n",
    "    return dict_annots"
   ]
  },
  {
   "cell_type": "code",
   "execution_count": 10,
   "metadata": {},
   "outputs": [
    {
     "ename": "NameError",
     "evalue": "name 'answ' is not defined",
     "output_type": "error",
     "traceback": [
      "\u001b[0;31m\u001b[0m",
      "\u001b[0;31mNameError\u001b[0mTraceback (most recent call last)",
      "\u001b[0;32m<ipython-input-10-1db5e6913817>\u001b[0m in \u001b[0;36m<module>\u001b[0;34m\u001b[0m\n\u001b[0;32m----> 1\u001b[0;31m \u001b[0mbio_format\u001b[0m \u001b[0;34m=\u001b[0m \u001b[0mconvert_y_to_bio_format\u001b[0m\u001b[0;34m(\u001b[0m\u001b[0;34m[\u001b[0m\u001b[0mdf\u001b[0m\u001b[0;34m.\u001b[0m\u001b[0miloc\u001b[0m\u001b[0;34m[\u001b[0m\u001b[0;36m0\u001b[0m\u001b[0;34m,\u001b[0m \u001b[0;36m0\u001b[0m\u001b[0;34m]\u001b[0m\u001b[0;34m]\u001b[0m\u001b[0;34m,\u001b[0m \u001b[0;34m[\u001b[0m\u001b[0mansw\u001b[0m\u001b[0;34m[\u001b[0m\u001b[0;36m0\u001b[0m\u001b[0;34m]\u001b[0m\u001b[0;34m]\u001b[0m\u001b[0;34m)\u001b[0m\u001b[0;34m\u001b[0m\u001b[0;34m\u001b[0m\u001b[0m\n\u001b[0m",
      "\u001b[0;31mNameError\u001b[0m: name 'answ' is not defined"
     ]
    }
   ],
   "source": [
    "bio_format = convert_y_to_bio_format([df.iloc[0, 0]], [answ[0]])"
   ]
  },
  {
   "cell_type": "code",
   "execution_count": 76,
   "metadata": {},
   "outputs": [
    {
     "data": {
      "text/plain": [
       "[('The', 'O'),\n",
       " ('human', 'B-DNA'),\n",
       " ('TCF-1', 'I-DNA'),\n",
       " ('gene', 'I-DNA'),\n",
       " ('encodes', 'O'),\n",
       " ('a', 'O'),\n",
       " ('nuclear', 'O'),\n",
       " ('DNA-binding', 'B-protein'),\n",
       " ('protein', 'I-protein'),\n",
       " ('uniquely', 'O'),\n",
       " ('expressed', 'O'),\n",
       " ('in', 'O'),\n",
       " ('normal', 'O'),\n",
       " ('and', 'O'),\n",
       " ('neoplastic', 'O'),\n",
       " ('T-lineage', 'B-protein'),\n",
       " ('lymphocytes', 'I-protein'),\n",
       " ('.', 'O')]"
      ]
     },
     "execution_count": 76,
     "metadata": {},
     "output_type": "execute_result"
    }
   ],
   "source": [
    "list(zip(df.iloc[0, 0].split(' '), bio_format[0]))"
   ]
  },
  {
   "cell_type": "code",
   "execution_count": 11,
   "metadata": {},
   "outputs": [
    {
     "name": "stderr",
     "output_type": "stream",
     "text": [
      "/opt/.pyenv/versions/3.7.4/lib/python3.7/site-packages/tensorflow/python/framework/dtypes.py:516: FutureWarning: Passing (type, 1) or '1type' as a synonym of type is deprecated; in a future version of numpy, it will be understood as (type, (1,)) / '(1,)type'.\n",
      "  _np_qint8 = np.dtype([(\"qint8\", np.int8, 1)])\n",
      "/opt/.pyenv/versions/3.7.4/lib/python3.7/site-packages/tensorflow/python/framework/dtypes.py:517: FutureWarning: Passing (type, 1) or '1type' as a synonym of type is deprecated; in a future version of numpy, it will be understood as (type, (1,)) / '(1,)type'.\n",
      "  _np_quint8 = np.dtype([(\"quint8\", np.uint8, 1)])\n",
      "/opt/.pyenv/versions/3.7.4/lib/python3.7/site-packages/tensorflow/python/framework/dtypes.py:518: FutureWarning: Passing (type, 1) or '1type' as a synonym of type is deprecated; in a future version of numpy, it will be understood as (type, (1,)) / '(1,)type'.\n",
      "  _np_qint16 = np.dtype([(\"qint16\", np.int16, 1)])\n",
      "/opt/.pyenv/versions/3.7.4/lib/python3.7/site-packages/tensorflow/python/framework/dtypes.py:519: FutureWarning: Passing (type, 1) or '1type' as a synonym of type is deprecated; in a future version of numpy, it will be understood as (type, (1,)) / '(1,)type'.\n",
      "  _np_quint16 = np.dtype([(\"quint16\", np.uint16, 1)])\n",
      "/opt/.pyenv/versions/3.7.4/lib/python3.7/site-packages/tensorflow/python/framework/dtypes.py:520: FutureWarning: Passing (type, 1) or '1type' as a synonym of type is deprecated; in a future version of numpy, it will be understood as (type, (1,)) / '(1,)type'.\n",
      "  _np_qint32 = np.dtype([(\"qint32\", np.int32, 1)])\n",
      "/opt/.pyenv/versions/3.7.4/lib/python3.7/site-packages/tensorflow/python/framework/dtypes.py:525: FutureWarning: Passing (type, 1) or '1type' as a synonym of type is deprecated; in a future version of numpy, it will be understood as (type, (1,)) / '(1,)type'.\n",
      "  np_resource = np.dtype([(\"resource\", np.ubyte, 1)])\n",
      "/opt/.pyenv/versions/3.7.4/lib/python3.7/site-packages/tensorboard/compat/tensorflow_stub/dtypes.py:541: FutureWarning: Passing (type, 1) or '1type' as a synonym of type is deprecated; in a future version of numpy, it will be understood as (type, (1,)) / '(1,)type'.\n",
      "  _np_qint8 = np.dtype([(\"qint8\", np.int8, 1)])\n",
      "/opt/.pyenv/versions/3.7.4/lib/python3.7/site-packages/tensorboard/compat/tensorflow_stub/dtypes.py:542: FutureWarning: Passing (type, 1) or '1type' as a synonym of type is deprecated; in a future version of numpy, it will be understood as (type, (1,)) / '(1,)type'.\n",
      "  _np_quint8 = np.dtype([(\"quint8\", np.uint8, 1)])\n",
      "/opt/.pyenv/versions/3.7.4/lib/python3.7/site-packages/tensorboard/compat/tensorflow_stub/dtypes.py:543: FutureWarning: Passing (type, 1) or '1type' as a synonym of type is deprecated; in a future version of numpy, it will be understood as (type, (1,)) / '(1,)type'.\n",
      "  _np_qint16 = np.dtype([(\"qint16\", np.int16, 1)])\n",
      "/opt/.pyenv/versions/3.7.4/lib/python3.7/site-packages/tensorboard/compat/tensorflow_stub/dtypes.py:544: FutureWarning: Passing (type, 1) or '1type' as a synonym of type is deprecated; in a future version of numpy, it will be understood as (type, (1,)) / '(1,)type'.\n",
      "  _np_quint16 = np.dtype([(\"quint16\", np.uint16, 1)])\n",
      "/opt/.pyenv/versions/3.7.4/lib/python3.7/site-packages/tensorboard/compat/tensorflow_stub/dtypes.py:545: FutureWarning: Passing (type, 1) or '1type' as a synonym of type is deprecated; in a future version of numpy, it will be understood as (type, (1,)) / '(1,)type'.\n",
      "  _np_qint32 = np.dtype([(\"qint32\", np.int32, 1)])\n",
      "/opt/.pyenv/versions/3.7.4/lib/python3.7/site-packages/tensorboard/compat/tensorflow_stub/dtypes.py:550: FutureWarning: Passing (type, 1) or '1type' as a synonym of type is deprecated; in a future version of numpy, it will be understood as (type, (1,)) / '(1,)type'.\n",
      "  np_resource = np.dtype([(\"resource\", np.ubyte, 1)])\n"
     ]
    }
   ],
   "source": [
    "from libact.base.interfaces import ProbabilisticModel\n",
    "from libact.base.dataset import Dataset\n",
    "from libact.query_strategies import RandomSampling\n",
    "\n",
    "import torch\n",
    "from torch.utils.data import RandomSampler, SequentialSampler, DataLoader\n",
    "\n",
    "from bert_sequence_tagger.bert_utils import create_loader_from_flair_corpus\n",
    "\n",
    "import numpy as np\n",
    "from sklearn.model_selection import train_test_split\n",
    "from collections.abc import Iterable  \n",
    "\n",
    "\n",
    "\n",
    "class LibActNN(ProbabilisticModel):\n",
    "    def __init__(self, \n",
    "                 model_ctor, \n",
    "                 trainer_ctor,\n",
    "                 batch_size=16,\n",
    "                 bs_pred=256, \n",
    "                 retrain_epochs=3, \n",
    "                 iter_retrain=1,\n",
    "                 train_from_scratch=True, \n",
    "                 valid_ratio=0.25,\n",
    "                 string_input=True):\n",
    "        self._model_ctor = model_ctor\n",
    "        self._trainer_ctor = trainer_ctor\n",
    "        self._model = None\n",
    "        self._trainer = None\n",
    "        self._batch_size = batch_size\n",
    "        self._bs_pred = bs_pred\n",
    "        self._retrain_epochs = retrain_epochs\n",
    "        self._batch_size = batch_size\n",
    "        self._iter_retrain = iter_retrain\n",
    "        self._train_from_scratch = train_from_scratch\n",
    "        self._valid_ratio = valid_ratio\n",
    "        self._string_input = string_input\n",
    "        \n",
    "        self._iter = 0\n",
    "        \n",
    "    def _predict_core(self, X):\n",
    "        if self._string_input:\n",
    "            X = [sent.split(' ') for sent in X]\n",
    "            \n",
    "        torch.cuda.empty_cache()\n",
    "        valid_sampler = SequentialSampler(X)\n",
    "        valid_dataloader = DataLoader(X, sampler=valid_sampler, \n",
    "                                      batch_size=self._bs_pred, \n",
    "                                      collate_fn=lambda inpt: inpt)\n",
    "        return self._model.predict(valid_dataloader)\n",
    "    \n",
    "    def predict_proba(self, X):\n",
    "        return np.asarray(self._predict_core(X)[1]).reshape(-1, 1)\n",
    "    \n",
    "    def predict(self, X):\n",
    "        return self._predict_core(X)[0]\n",
    "    \n",
    "    def train(self, libact_dataset, new_indexes=None):\n",
    "        torch.cuda.empty_cache()\n",
    "        collate_fn = lambda inpt: tuple(zip(*inpt))\n",
    "        \n",
    "        if (new_indexes is not None) and (self._iter % self._iter_retrain) != 0:\n",
    "            libact_dataset = Dataset([libact_dataset.data[i][0] for i in new_indexes], \n",
    "                                     [libact_dataset.data[i][1] for i in new_indexes])\n",
    "            n_epochs = 1\n",
    "        else:\n",
    "            n_epochs = self._retrain_epochs\n",
    "            \n",
    "        X, y = libact_dataset.format_sklearn()\n",
    "        if self._string_input:\n",
    "            y = convert_y_to_bio_format(X, y)\n",
    "        \n",
    "        if self._valid_ratio > 0.:\n",
    "            X_train, X_valid, y_train, y_valid = train_test_split(X, y, test_size=self._valid_ratio)\n",
    "            \n",
    "            valid_data = list(zip(X_valid, y_valid))\n",
    "            valid_sampler = SequentialSampler(valid_data)\n",
    "            valid_dataloader = DataLoader(valid_data, \n",
    "                                           sampler=valid_sampler, \n",
    "                                           batch_size=self._bs_pred,\n",
    "                                           collate_fn=collate_fn)\n",
    "        else:\n",
    "            X_train, y_train = X, y\n",
    "            valid_dataloader = None\n",
    "        \n",
    "        train_data = list(zip(X_train, y_train))\n",
    "        #print(train_data)\n",
    "        train_sampler = RandomSampler(train_data)\n",
    "        train_dataloader = DataLoader(train_data, \n",
    "                                      sampler=train_sampler, \n",
    "                                      batch_size=self._batch_size,\n",
    "                                      collate_fn=collate_fn)\n",
    "\n",
    "        \n",
    "        if (self._model is None) or self._train_from_scratch:\n",
    "            self._model = self._model_ctor()\n",
    "            self._trainer = self._trainer_ctor(self._model, len(X_train), \n",
    "                                               train_dataloader, valid_dataloader)\n",
    "            import gc\n",
    "            gc.collect()\n",
    "            torch.cuda.empty_cache()\n",
    "            \n",
    "        self._trainer.train(self._retrain_epochs)\n",
    "        \n",
    "        self._iter += 1\n",
    "        \n",
    "    def score(self):\n",
    "        pass\n",
    "    \n",
    "    \n",
    "# def prepare_X_for_adapter(X):\n",
    "#     return [sent.split(' ') for sent in X]\n",
    "\n",
    "    \n",
    "# class AdaptorForALWidget:\n",
    "#     def __init__(self, *args, **kwargs):\n",
    "#         super().__init__(*args, **kwargs)\n",
    "        \n",
    "#     def predict_proba(self, X):\n",
    "#         return super().predict_proba(prepare_X_for_adapter(X))\n",
    "    \n",
    "#     def predict(self, X):\n",
    "#         return super(self, X).predict(prepare_X_for_adapter(X))\n",
    "    \n",
    "#     def train(self, libact_dataset, new_indexes=None):\n",
    "        \n",
    "#         return super().train(libact_dataset, new_indexes):"
   ]
  },
  {
   "cell_type": "code",
   "execution_count": null,
   "metadata": {},
   "outputs": [],
   "source": [
    "import pickle \n",
    "\n",
    "with open('my_answers', 'rb') as f:\n",
    "    my_answ = pickle.load(f)\n",
    "    \n",
    "my_answ"
   ]
  },
  {
   "cell_type": "code",
   "execution_count": 12,
   "metadata": {},
   "outputs": [],
   "source": [
    "from libact.base.dataset import Dataset\n",
    "\n",
    "\n",
    "class LibActNNWrapper:\n",
    "    def __init__(self, *args, **kwargs):\n",
    "        super.__init__(*args, **kwargs)\n",
    "        \n",
    "    def train(self, libact_dataset, new_indexes=None):\n",
    "        new_dataset = Dataset()\n",
    "        for entry in libact_dataset.get_entries():\n",
    "            if entry[1] is not None:\n",
    "                new_dataset\n",
    "            else:\n",
    "                new_dataset.data.append(entry)"
   ]
  },
  {
   "cell_type": "code",
   "execution_count": 13,
   "metadata": {},
   "outputs": [
    {
     "name": "stdout",
     "output_type": "stream",
     "text": [
      "2019-11-17 22:24:16,844 Reading data from ../../workdir/genia/conll\n",
      "2019-11-17 22:24:16,845 Train: ../../workdir/genia/conll/Genia4ERtask1.iob2\n",
      "2019-11-17 22:24:16,846 Dev: ../../workdir/genia/conll/Genia4EReval1.iob2\n",
      "2019-11-17 22:24:16,847 Test: ../../workdir/genia/conll/Genia4EReval1.iob2\n"
     ]
    }
   ],
   "source": [
    "from bert_sequence_tagger.bert_utils import make_bert_tag_dict_from_flair_corpus, prepare_flair_corpus\n",
    "\n",
    "\n",
    "def prepare_corpus(corpus):\n",
    "    X, y = [], []\n",
    "    for X_i, y_i in prepare_flair_corpus(corpus):\n",
    "        X.append(X_i)\n",
    "        y.append(y_i)\n",
    "    \n",
    "    return X, y\n",
    "\n",
    "\n",
    "from flair.datasets import ColumnCorpus\n",
    "\n",
    "\n",
    "data_folder = '../../workdir/genia/conll/'\n",
    "corpus = ColumnCorpus(data_folder, {0 : 'text', 1 : 'ner'},\n",
    "                                train_file='Genia4ERtask1.iob2',\n",
    "                                test_file='Genia4EReval1.iob2',\n",
    "                                dev_file='Genia4EReval1.iob2')\n",
    "\n",
    "tags_vals, tag2idx = make_bert_tag_dict_from_flair_corpus(corpus)\n",
    "    \n",
    "X_train, y_train = prepare_corpus(corpus.train)\n",
    "X_test, y_test = prepare_corpus(corpus.test)"
   ]
  },
  {
   "cell_type": "code",
   "execution_count": 14,
   "metadata": {},
   "outputs": [],
   "source": [
    "from bert_sequence_tagger import BertForTokenClassificationCustom, SequenceTaggerBert, ModelTrainerBert\n",
    "from bert_sequence_tagger.bert_utils import get_parameters_without_decay\n",
    "from bert_sequence_tagger.metrics import f1_entity_level\n",
    "\n",
    "from pytorch_transformers import BertTokenizer, AdamW\n",
    "\n",
    "from torch.optim.lr_scheduler import ReduceLROnPlateau\n",
    "\n",
    "CACHE_DIR = '../../workdir/cache'\n",
    "\n",
    "# MAX_LEN = 150\n",
    "BATCH_SIZE = 32\n",
    "#BATCH_SIZE = 16\n",
    "MAX_LEN = 100\n",
    "#BATCH_SIZE = 100\n",
    "#BATCH_SIZE_PRED = 1200 # 1600\n",
    "#BATCH_SIZE_PRED = 1200 # 1600\n",
    "BATCH_SIZE_PRED = 1500\n",
    "PRED_BATCH_SIZE = BATCH_SIZE_PRED\n",
    "random_state = 2019\n",
    "\n",
    "EARLY_STOPPING = 1\n",
    "MAX_RETRAIN_EPOCHS = 30\n",
    "#MAX_RETRAIN_EPOCHS = 15\n",
    "MAX_N_EPOCHS = MAX_RETRAIN_EPOCHS\n",
    "\n",
    "N_SAMPLES_PER_AL_ITER = 30\n",
    "N_AL_PASSES = 5\n",
    "N_AL_ITERATIONS = 25\n",
    "# N_AL_PASSES = 1\n",
    "# N_AL_ITERATIONS = 1\n",
    "\n",
    "BASE_LR = 5e-5\n",
    "LEARNING_RATE = BASE_LR\n",
    "\n",
    "VALIDATION_RATIO = 0.25\n",
    "\n",
    "MAX_TO_ANNEAL = 3\n",
    "ANNEAL_FACTOR = 0.5\n",
    "PATIENCE = 2\n",
    "WEIGHT_DECAY = 0.01\n",
    "\n",
    "SEED_POSITIVE = 10\n",
    "SEED_RANDOM = 40\n",
    "\n",
    "BIO_BERT = '../../workdir/bio_bert/torch2/'\n",
    "OUTPUT_FILE_PATH = '../../workdir/experiments/19_biobert/'\n",
    "#OUTPUT_FILE_PATH = '../workdir/experiments/debug'\n",
    "\n",
    "# index2tag = ['[PAD]', 'O', 'B-protein', 'I-protein']\n",
    "# tag2index = {t : i for i, t in enumerate(index2tag)}\n",
    "\n",
    "\n",
    "BERT_TOKENIZER = BertTokenizer.from_pretrained('bert-base-cased', \n",
    "                                               cache_dir=CACHE_DIR, \n",
    "                                               do_lower_case=False)\n",
    "\n",
    "\n",
    "def model_ctor():\n",
    "    model = BertForTokenClassificationCustom.from_pretrained(BIO_BERT,\n",
    "                                                             cache_dir=CACHE_DIR, \n",
    "                                                             num_labels=len(tag2idx)).cuda()\n",
    "\n",
    "    seq_tagger = SequenceTaggerBert(model, BERT_TOKENIZER, idx2tag=tags_vals, tag2idx=tag2idx)\n",
    "\n",
    "    return seq_tagger\n",
    "\n",
    "def trainer_ctor(seq_tagger, corpus_len, train_dataloader, val_dataloader):\n",
    "    optimizer = AdamW(get_parameters_without_decay(seq_tagger._bert_model),\n",
    "                      lr=LEARNING_RATE, betas=(0.9, 0.999), \n",
    "                      eps=1e-6, weight_decay=0.01, correct_bias=True)\n",
    "\n",
    "    lr_scheduler = ReduceLROnPlateau(optimizer, mode='min', factor=ANNEAL_FACTOR, patience=PATIENCE)\n",
    "\n",
    "    trainer = ModelTrainerBert(seq_tagger, \n",
    "                               optimizer, \n",
    "                               lr_scheduler,\n",
    "                               train_dataloader, \n",
    "                               val_dataloader,\n",
    "                               update_scheduler='ee',\n",
    "                               keep_best_model=True,\n",
    "                               restore_bm_on_lr_change=True,\n",
    "                               max_grad_norm=1.,\n",
    "                               validation_metrics=[f1_entity_level],\n",
    "                               decision_metric=lambda metrics: metrics[0],\n",
    "                               smallest_lr=LEARNING_RATE / (MAX_TO_ANNEAL**(1./ANNEAL_FACTOR) + 0.1))\n",
    "\n",
    "    return trainer"
   ]
  },
  {
   "cell_type": "code",
   "execution_count": 15,
   "metadata": {},
   "outputs": [],
   "source": [
    "y_train_dict = convert_y_to_dict_format(X_train, y_train)\n",
    "X_helper = create_helper(X_train)"
   ]
  },
  {
   "cell_type": "code",
   "execution_count": 16,
   "metadata": {},
   "outputs": [],
   "source": [
    "import random\n",
    "\n",
    "sample_size = 100\n",
    "random_sample = random.sample(list(range(len(y_train))), sample_size)\n",
    "\n",
    "y_seed_dict = [None for _ in range(len(y_train_dict))]\n",
    "\n",
    "for elem in random_sample:\n",
    "    y_seed_dict[elem] = y_train_dict[elem]"
   ]
  },
  {
   "cell_type": "code",
   "execution_count": 22,
   "metadata": {},
   "outputs": [],
   "source": [
    "# X_helper = create_helper(X_train)\n",
    "# y_dict = convert_y_to_dict_format([X_train[0]], [y_train[0]])"
   ]
  },
  {
   "cell_type": "code",
   "execution_count": 126,
   "metadata": {},
   "outputs": [
    {
     "name": "stdout",
     "output_type": "stream",
     "text": [
      "IL-2 gene expression and NF-kappa B activation through CD28 requires reactive oxygen production by 5-lipoxygenase .\n"
     ]
    },
    {
     "data": {
      "text/plain": [
       "[[{'tag': 'DNA', 'start': 0, 'end': 9},\n",
       "  {'tag': 'protein', 'start': 25, 'end': 35},\n",
       "  {'tag': 'protein', 'start': 55, 'end': 59},\n",
       "  {'tag': 'protein', 'start': 99, 'end': 113}]]"
      ]
     },
     "execution_count": 126,
     "metadata": {},
     "output_type": "execute_result"
    }
   ],
   "source": [
    "# print(X_helper.iloc[0, 0])\n",
    "# y_dict"
   ]
  },
  {
   "cell_type": "code",
   "execution_count": 127,
   "metadata": {},
   "outputs": [
    {
     "name": "stdout",
     "output_type": "stream",
     "text": [
      "{'tag': 'DNA', 'start': 0, 'end': 9}\n",
      "{'tag': 'protein', 'start': 25, 'end': 35}\n",
      "{'tag': 'protein', 'start': 55, 'end': 59}\n",
      "{'tag': 'protein', 'start': 99, 'end': 113}\n"
     ]
    },
    {
     "data": {
      "text/plain": [
       "[('IL-2', 'B-DNA'),\n",
       " ('gene', 'I-DNA'),\n",
       " ('expression', 'O'),\n",
       " ('and', 'O'),\n",
       " ('NF-kappa', 'B-protein'),\n",
       " ('B', 'I-protein'),\n",
       " ('activation', 'O'),\n",
       " ('through', 'O'),\n",
       " ('CD28', 'B-protein'),\n",
       " ('requires', 'O'),\n",
       " ('reactive', 'O'),\n",
       " ('oxygen', 'O'),\n",
       " ('production', 'O'),\n",
       " ('by', 'O'),\n",
       " ('5-lipoxygenase', 'B-protein'),\n",
       " ('.', 'O')]"
      ]
     },
     "execution_count": 127,
     "metadata": {},
     "output_type": "execute_result"
    }
   ],
   "source": [
    "# bio_format = convert_y_to_bio_format([X_helper.iloc[0, 0]], [y_dict[0]])\n",
    "# list(zip(X_train[0], bio_format[0]))"
   ]
  },
  {
   "cell_type": "code",
   "execution_count": 17,
   "metadata": {},
   "outputs": [
    {
     "name": "stderr",
     "output_type": "stream",
     "text": [
      "Epoch: 100%|██████████| 3/3 [00:05<00:00,  1.84s/it]\n"
     ]
    }
   ],
   "source": [
    "active_learn_alg_ctor = make_libact_strategy_ctor(lambda trn_ds:\n",
    "                                                  UncertaintySampling(trn_ds,\n",
    "                                                                      model = LibActNN(model_ctor=model_ctor, \n",
    "                                                                                       trainer_ctor=trainer_ctor,\n",
    "                                                                                       valid_ratio=0.)),\n",
    "                                                  max_samples_number=40)\n",
    "\n",
    "# Creating ActiveLearning object that implements AL logic.\n",
    "active_learner = ActiveLearner(active_learn_alg_ctor = active_learn_alg_ctor,\n",
    "                               y_dtype = 'int',\n",
    "                               #X_full_dataset = X_train, \n",
    "                               #y_full_dataset = y_seed,\n",
    "                               X_full_dataset = X_helper.texts.tolist(),\n",
    "                               y_full_dataset = y_seed_dict,\n",
    "                               #eval_metrics = [accuracy_score, f1_score],\n",
    "                               rnd_start_steps = 1)\n",
    "\n",
    "# Creaing X_helper object for visualization dataset for humans.\n",
    "#X_helper = pd.DataFrame(data={ 'text' : train_dataset.data })\n",
    "\n",
    "# Todo convert y_seed to format that can be handled by Widget\n",
    "# Todo convert results to format that can be used for training\n",
    "\n",
    "active_learner.start()"
   ]
  },
  {
   "cell_type": "code",
   "execution_count": 18,
   "metadata": {
    "scrolled": false
   },
   "outputs": [
    {
     "data": {
      "application/vnd.jupyter.widget-view+json": {
       "model_id": "3689b95320c9493191263684875ce7de",
       "version_major": 2,
       "version_minor": 0
      },
      "text/plain": [
       "ActiveLearnerUiWidget(children=(HBox(children=(Button(description='Next iteration', style=ButtonStyle()), Labe…"
      ]
     },
     "metadata": {},
     "output_type": "display_data"
    },
    {
     "name": "stderr",
     "output_type": "stream",
     "text": [
      "Epoch: 100%|██████████| 3/3 [00:05<00:00,  1.86s/it]\n"
     ]
    }
   ],
   "source": [
    "# This try-catch block is needed to stop autosave thread in \n",
    "#case we invoke the cell multiple times.\n",
    "try:\n",
    "    if active_learn_ui:\n",
    "        active_learn_ui.stop()\n",
    "except NameError:\n",
    "    pass\n",
    "\n",
    "# Creaing the active learner widget itself and configure \n",
    "#it with active_learner, X_helper.\n",
    "# The default visualizer will preview \n",
    "#№the visualize_columns with VisualizerTextArea.\n",
    "active_learn_ui = ActiveLearnerUiWidget(active_learner=active_learner,\n",
    "                                        X_helper=X_helper,\n",
    "                                        display_feature_table=False,\n",
    "                                        drop_labels = [],\n",
    "                                        y_labels=None,\n",
    "                                        save_path='./20ng_active_dump.npy',\n",
    "                                        save_time=120, \n",
    "                                        visualizer=SeqAnnotationVisualizer(tags=tags))\n",
    "\n",
    "active_learn_ui"
   ]
  }
 ],
 "metadata": {
  "kernelspec": {
   "display_name": "Python 3",
   "language": "python",
   "name": "python3"
  },
  "language_info": {
   "codemirror_mode": {
    "name": "ipython",
    "version": 3
   },
   "file_extension": ".py",
   "mimetype": "text/x-python",
   "name": "python",
   "nbconvert_exporter": "python",
   "pygments_lexer": "ipython3",
   "version": "3.7.4"
  },
  "widgets": {
   "application/vnd.jupyter.widget-state+json": {
    "state": {
     "012b7ff2636e4ff2929afd8230a6b225": {
      "model_module": "@jupyter-widgets/controls",
      "model_module_version": "1.5.0",
      "model_name": "DescriptionStyleModel",
      "state": {
       "description_width": ""
      }
     },
     "02b7a355ee7445af818aa6a56f7ede0e": {
      "model_module": "@jupyter-widgets/base",
      "model_module_version": "1.2.0",
      "model_name": "LayoutModel",
      "state": {}
     },
     "2bddb62c7d014abe9a06da44227b9bc8": {
      "model_module": "@jupyter-widgets/controls",
      "model_module_version": "1.5.0",
      "model_name": "ButtonModel",
      "state": {
       "description": "Save",
       "layout": "IPY_MODEL_fc95a1be1ebc4a56bca855d00efc2169",
       "style": "IPY_MODEL_7c2c262a63f5492c8fe5a2e2c442ad07"
      }
     },
     "2d171063d6af4a87a8b00ff7c33f2fbf": {
      "model_module": "@jupyter-widgets/base",
      "model_module_version": "1.2.0",
      "model_name": "LayoutModel",
      "state": {}
     },
     "33a300b6e38e47ea9869bc8309162378": {
      "model_module": "@jupyter-widgets/controls",
      "model_module_version": "1.5.0",
      "model_name": "HBoxModel",
      "state": {
       "children": [
        "IPY_MODEL_8271b9901a88424c9c29da89bcdcc866",
        "IPY_MODEL_db7c1844ff3946e29b51d200ab72a49c",
        "IPY_MODEL_ea3105f5013a4240abc562f92119415d"
       ],
       "layout": "IPY_MODEL_9841d6098a844ed8a14e1d42a0264a56"
      }
     },
     "3de00db997a343c1964215bd8c43de37": {
      "model_module": "text_selector",
      "model_module_version": "^0.0.0",
      "model_name": "TSWidgetModel",
      "state": {
       "_model_module_version": "^0.0.0",
       "_view_module_version": "^0.0.0",
       "layout": "IPY_MODEL_873d27630ace4c19bc4a04968fe137fd",
       "res": [
        "aaa"
       ],
       "tags": [
        "protein",
        "DNA",
        "cell_type",
        "cell_line",
        "RNA"
       ],
       "txts": [
        "As detected by in vivo footprinting , priming markedly increases the activation-dependent engagement of the P0 and P1 NFAT-binding elements of the IL-4 promoter .",
        "Binding parameters of [ 3H ] pyrilamine binding were Kd = 5.53 nM and Bmax = 2 , 647 sites/cell .",
        "PDBu-treated HL-60 cells remained viable for 7 days and thereafter began to die via apoptosis , with a concomitant down-regulation of Bcl-xL .",
        "Human RAR alpha was expressed in H9 , U937 and THP-1 cells , but almost undetectable in CEM cells .",
        "No increase in TGF-beta mRNA was observed ."
       ]
      }
     },
     "56a8c82dbbd04f2bba722806c440b1ef": {
      "model_module": "@jupyter-widgets/controls",
      "model_module_version": "1.5.0",
      "model_name": "VBoxModel",
      "state": {
       "children": [
        "IPY_MODEL_9cb589e8535b402ab4d031a1b1b68537",
        "IPY_MODEL_62c09e2fbc894017ad2f897bdac69f5a"
       ],
       "layout": "IPY_MODEL_02b7a355ee7445af818aa6a56f7ede0e"
      }
     },
     "6016917868fe4cfca53920851c30bcb7": {
      "model_module": "@jupyter-widgets/controls",
      "model_module_version": "1.5.0",
      "model_name": "DescriptionStyleModel",
      "state": {
       "description_width": ""
      }
     },
     "62c09e2fbc894017ad2f897bdac69f5a": {
      "model_module": "text_selector",
      "model_module_version": "^0.0.0",
      "model_name": "TSWidgetModel",
      "state": {
       "_model_module_version": "^0.0.0",
       "_view_module_version": "^0.0.0",
       "layout": "IPY_MODEL_2d171063d6af4a87a8b00ff7c33f2fbf",
       "res": [
        "aaa"
       ],
       "tags": [
        "protein",
        "DNA",
        "cell_type",
        "cell_line",
        "RNA"
       ],
       "txts": [
        "As detected by in vivo footprinting , priming markedly increases the activation-dependent engagement of the P0 and P1 NFAT-binding elements of the IL-4 promoter .",
        "Binding parameters of [ 3H ] pyrilamine binding were Kd = 5.53 nM and Bmax = 2 , 647 sites/cell .",
        "PDBu-treated HL-60 cells remained viable for 7 days and thereafter began to die via apoptosis , with a concomitant down-regulation of Bcl-xL .",
        "Human RAR alpha was expressed in H9 , U937 and THP-1 cells , but almost undetectable in CEM cells .",
        "No increase in TGF-beta mRNA was observed ."
       ]
      }
     },
     "65e267fca04f48b2ae0463051495c272": {
      "model_module": "@jupyter-widgets/controls",
      "model_module_version": "1.5.0",
      "model_name": "LabelModel",
      "state": {
       "layout": "IPY_MODEL_ba06e045de7c49e99e82394a074f3c70",
       "style": "IPY_MODEL_012b7ff2636e4ff2929afd8230a6b225",
       "value": "Iteration#..."
      }
     },
     "6d20dd66e4c54515bd8630a4b5628255": {
      "model_module": "@jupyter-widgets/controls",
      "model_module_version": "1.5.0",
      "model_name": "VBoxModel",
      "state": {
       "children": [
        "IPY_MODEL_33a300b6e38e47ea9869bc8309162378",
        "IPY_MODEL_3de00db997a343c1964215bd8c43de37"
       ],
       "layout": "IPY_MODEL_827111bd3e5f4004be5c8cdae33ec8ac"
      }
     },
     "7c2c262a63f5492c8fe5a2e2c442ad07": {
      "model_module": "@jupyter-widgets/controls",
      "model_module_version": "1.5.0",
      "model_name": "ButtonStyleModel",
      "state": {}
     },
     "827111bd3e5f4004be5c8cdae33ec8ac": {
      "model_module": "@jupyter-widgets/base",
      "model_module_version": "1.2.0",
      "model_name": "LayoutModel",
      "state": {}
     },
     "8271b9901a88424c9c29da89bcdcc866": {
      "model_module": "@jupyter-widgets/controls",
      "model_module_version": "1.5.0",
      "model_name": "ButtonModel",
      "state": {
       "description": "Next Iteration",
       "icon": "clock-o",
       "layout": "IPY_MODEL_eb638749231647e494aa80cf28b0c35a",
       "style": "IPY_MODEL_fcbfcb7a62ff44f1b44b6d6fd38075a8"
      }
     },
     "873d27630ace4c19bc4a04968fe137fd": {
      "model_module": "@jupyter-widgets/base",
      "model_module_version": "1.2.0",
      "model_name": "LayoutModel",
      "state": {}
     },
     "87e6c275162b4a53bc940dba9c0044a5": {
      "model_module": "@jupyter-widgets/base",
      "model_module_version": "1.2.0",
      "model_name": "LayoutModel",
      "state": {}
     },
     "9841d6098a844ed8a14e1d42a0264a56": {
      "model_module": "@jupyter-widgets/base",
      "model_module_version": "1.2.0",
      "model_name": "LayoutModel",
      "state": {}
     },
     "9cb589e8535b402ab4d031a1b1b68537": {
      "model_module": "@jupyter-widgets/controls",
      "model_module_version": "1.5.0",
      "model_name": "HBoxModel",
      "state": {
       "children": [
        "IPY_MODEL_be788141dae8484bae65354f63c3c82b",
        "IPY_MODEL_65e267fca04f48b2ae0463051495c272",
        "IPY_MODEL_2bddb62c7d014abe9a06da44227b9bc8"
       ],
       "layout": "IPY_MODEL_87e6c275162b4a53bc940dba9c0044a5"
      }
     },
     "a42e2142f28a441bb37db5cc94ebaa24": {
      "model_module": "@jupyter-widgets/controls",
      "model_module_version": "1.5.0",
      "model_name": "ButtonStyleModel",
      "state": {}
     },
     "ab5d55e09f8c4e669ad89bd0cdaf2bfe": {
      "model_module": "@jupyter-widgets/controls",
      "model_module_version": "1.5.0",
      "model_name": "ButtonStyleModel",
      "state": {}
     },
     "ba06e045de7c49e99e82394a074f3c70": {
      "model_module": "@jupyter-widgets/base",
      "model_module_version": "1.2.0",
      "model_name": "LayoutModel",
      "state": {}
     },
     "bd4a12b7f207479297f136238950aba6": {
      "model_module": "@jupyter-widgets/base",
      "model_module_version": "1.2.0",
      "model_name": "LayoutModel",
      "state": {}
     },
     "be788141dae8484bae65354f63c3c82b": {
      "model_module": "@jupyter-widgets/controls",
      "model_module_version": "1.5.0",
      "model_name": "ButtonModel",
      "state": {
       "description": "Next Iteration",
       "icon": "clock-o",
       "layout": "IPY_MODEL_fd4f46c9ddcd4084a024a34ee6217894",
       "style": "IPY_MODEL_ab5d55e09f8c4e669ad89bd0cdaf2bfe"
      }
     },
     "d30506af0b0a48adbfef87387a9fc956": {
      "model_module": "@jupyter-widgets/base",
      "model_module_version": "1.2.0",
      "model_name": "LayoutModel",
      "state": {}
     },
     "db7c1844ff3946e29b51d200ab72a49c": {
      "model_module": "@jupyter-widgets/controls",
      "model_module_version": "1.5.0",
      "model_name": "LabelModel",
      "state": {
       "layout": "IPY_MODEL_bd4a12b7f207479297f136238950aba6",
       "style": "IPY_MODEL_6016917868fe4cfca53920851c30bcb7",
       "value": "Iteration#..."
      }
     },
     "ea3105f5013a4240abc562f92119415d": {
      "model_module": "@jupyter-widgets/controls",
      "model_module_version": "1.5.0",
      "model_name": "ButtonModel",
      "state": {
       "description": "Save",
       "layout": "IPY_MODEL_d30506af0b0a48adbfef87387a9fc956",
       "style": "IPY_MODEL_a42e2142f28a441bb37db5cc94ebaa24"
      }
     },
     "eb638749231647e494aa80cf28b0c35a": {
      "model_module": "@jupyter-widgets/base",
      "model_module_version": "1.2.0",
      "model_name": "LayoutModel",
      "state": {}
     },
     "fc95a1be1ebc4a56bca855d00efc2169": {
      "model_module": "@jupyter-widgets/base",
      "model_module_version": "1.2.0",
      "model_name": "LayoutModel",
      "state": {}
     },
     "fcbfcb7a62ff44f1b44b6d6fd38075a8": {
      "model_module": "@jupyter-widgets/controls",
      "model_module_version": "1.5.0",
      "model_name": "ButtonStyleModel",
      "state": {}
     },
     "fd4f46c9ddcd4084a024a34ee6217894": {
      "model_module": "@jupyter-widgets/base",
      "model_module_version": "1.2.0",
      "model_name": "LayoutModel",
      "state": {}
     }
    },
    "version_major": 2,
    "version_minor": 0
   }
  }
 },
 "nbformat": 4,
 "nbformat_minor": 2
}
